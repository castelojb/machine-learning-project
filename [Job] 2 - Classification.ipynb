{
 "cells": [
  {
   "cell_type": "markdown",
   "id": "e9ee5fab",
   "metadata": {},
   "source": [
    "# Bibliotecas"
   ]
  },
  {
   "cell_type": "code",
   "execution_count": 1,
   "id": "45a5f2f5",
   "metadata": {},
   "outputs": [],
   "source": [
    "import pandas as pd\n",
    "import numpy as np\n",
    "import plotly.express as px\n",
    "import plotly.graph_objs as go\n",
    "from ml_core.normalization import z_score_normalization\n",
    "from ml_core.data_process import *\n",
    "from ml_core.regression import GradientDescent, OrdinaryLeastSquares, StochasticGradientDescent\n",
    "from sklearn.model_selection import train_test_split\n",
    "from ml_core.metrics.error_metrics import *\n",
    "from ml_core.metrics import error_metric_in_history_models\n",
    "from ml_core.metrics.error_metrics import *\n",
    "from ml_core.classification import LogisticBinaryModel,LinearRegressionMulticlass\n",
    "from ml_core.classification import StatisticalClassifiers, GaussianDiscriminant, NaiveBayesGaussian\n",
    "from sklearn.naive_bayes import GaussianNB"
   ]
  },
  {
   "cell_type": "markdown",
   "id": "d76b60c1",
   "metadata": {},
   "source": [
    "# Leitura dos Dados"
   ]
  },
  {
   "cell_type": "code",
   "execution_count": 2,
   "id": "f0c29be1",
   "metadata": {},
   "outputs": [],
   "source": [
    "df = pd.read_csv('data/breastcancer.csv', header=None)"
   ]
  },
  {
   "cell_type": "code",
   "execution_count": 3,
   "id": "4de2b316",
   "metadata": {},
   "outputs": [
    {
     "data": {
      "text/html": [
       "<div>\n",
       "<style scoped>\n",
       "    .dataframe tbody tr th:only-of-type {\n",
       "        vertical-align: middle;\n",
       "    }\n",
       "\n",
       "    .dataframe tbody tr th {\n",
       "        vertical-align: top;\n",
       "    }\n",
       "\n",
       "    .dataframe thead th {\n",
       "        text-align: right;\n",
       "    }\n",
       "</style>\n",
       "<table border=\"1\" class=\"dataframe\">\n",
       "  <thead>\n",
       "    <tr style=\"text-align: right;\">\n",
       "      <th></th>\n",
       "      <th>0</th>\n",
       "      <th>1</th>\n",
       "      <th>2</th>\n",
       "      <th>3</th>\n",
       "      <th>4</th>\n",
       "      <th>5</th>\n",
       "      <th>6</th>\n",
       "      <th>7</th>\n",
       "      <th>8</th>\n",
       "      <th>9</th>\n",
       "      <th>...</th>\n",
       "      <th>21</th>\n",
       "      <th>22</th>\n",
       "      <th>23</th>\n",
       "      <th>24</th>\n",
       "      <th>25</th>\n",
       "      <th>26</th>\n",
       "      <th>27</th>\n",
       "      <th>28</th>\n",
       "      <th>29</th>\n",
       "      <th>30</th>\n",
       "    </tr>\n",
       "  </thead>\n",
       "  <tbody>\n",
       "    <tr>\n",
       "      <th>0</th>\n",
       "      <td>17.99</td>\n",
       "      <td>10.38</td>\n",
       "      <td>122.80</td>\n",
       "      <td>1001.0</td>\n",
       "      <td>0.11840</td>\n",
       "      <td>0.27760</td>\n",
       "      <td>0.3001</td>\n",
       "      <td>0.14710</td>\n",
       "      <td>0.2419</td>\n",
       "      <td>0.07871</td>\n",
       "      <td>...</td>\n",
       "      <td>17.33</td>\n",
       "      <td>184.60</td>\n",
       "      <td>2019.0</td>\n",
       "      <td>0.1622</td>\n",
       "      <td>0.6656</td>\n",
       "      <td>0.7119</td>\n",
       "      <td>0.2654</td>\n",
       "      <td>0.4601</td>\n",
       "      <td>0.11890</td>\n",
       "      <td>0.0</td>\n",
       "    </tr>\n",
       "    <tr>\n",
       "      <th>1</th>\n",
       "      <td>20.57</td>\n",
       "      <td>17.77</td>\n",
       "      <td>132.90</td>\n",
       "      <td>1326.0</td>\n",
       "      <td>0.08474</td>\n",
       "      <td>0.07864</td>\n",
       "      <td>0.0869</td>\n",
       "      <td>0.07017</td>\n",
       "      <td>0.1812</td>\n",
       "      <td>0.05667</td>\n",
       "      <td>...</td>\n",
       "      <td>23.41</td>\n",
       "      <td>158.80</td>\n",
       "      <td>1956.0</td>\n",
       "      <td>0.1238</td>\n",
       "      <td>0.1866</td>\n",
       "      <td>0.2416</td>\n",
       "      <td>0.1860</td>\n",
       "      <td>0.2750</td>\n",
       "      <td>0.08902</td>\n",
       "      <td>0.0</td>\n",
       "    </tr>\n",
       "    <tr>\n",
       "      <th>2</th>\n",
       "      <td>19.69</td>\n",
       "      <td>21.25</td>\n",
       "      <td>130.00</td>\n",
       "      <td>1203.0</td>\n",
       "      <td>0.10960</td>\n",
       "      <td>0.15990</td>\n",
       "      <td>0.1974</td>\n",
       "      <td>0.12790</td>\n",
       "      <td>0.2069</td>\n",
       "      <td>0.05999</td>\n",
       "      <td>...</td>\n",
       "      <td>25.53</td>\n",
       "      <td>152.50</td>\n",
       "      <td>1709.0</td>\n",
       "      <td>0.1444</td>\n",
       "      <td>0.4245</td>\n",
       "      <td>0.4504</td>\n",
       "      <td>0.2430</td>\n",
       "      <td>0.3613</td>\n",
       "      <td>0.08758</td>\n",
       "      <td>0.0</td>\n",
       "    </tr>\n",
       "    <tr>\n",
       "      <th>3</th>\n",
       "      <td>11.42</td>\n",
       "      <td>20.38</td>\n",
       "      <td>77.58</td>\n",
       "      <td>386.1</td>\n",
       "      <td>0.14250</td>\n",
       "      <td>0.28390</td>\n",
       "      <td>0.2414</td>\n",
       "      <td>0.10520</td>\n",
       "      <td>0.2597</td>\n",
       "      <td>0.09744</td>\n",
       "      <td>...</td>\n",
       "      <td>26.50</td>\n",
       "      <td>98.87</td>\n",
       "      <td>567.7</td>\n",
       "      <td>0.2098</td>\n",
       "      <td>0.8663</td>\n",
       "      <td>0.6869</td>\n",
       "      <td>0.2575</td>\n",
       "      <td>0.6638</td>\n",
       "      <td>0.17300</td>\n",
       "      <td>0.0</td>\n",
       "    </tr>\n",
       "    <tr>\n",
       "      <th>4</th>\n",
       "      <td>20.29</td>\n",
       "      <td>14.34</td>\n",
       "      <td>135.10</td>\n",
       "      <td>1297.0</td>\n",
       "      <td>0.10030</td>\n",
       "      <td>0.13280</td>\n",
       "      <td>0.1980</td>\n",
       "      <td>0.10430</td>\n",
       "      <td>0.1809</td>\n",
       "      <td>0.05883</td>\n",
       "      <td>...</td>\n",
       "      <td>16.67</td>\n",
       "      <td>152.20</td>\n",
       "      <td>1575.0</td>\n",
       "      <td>0.1374</td>\n",
       "      <td>0.2050</td>\n",
       "      <td>0.4000</td>\n",
       "      <td>0.1625</td>\n",
       "      <td>0.2364</td>\n",
       "      <td>0.07678</td>\n",
       "      <td>0.0</td>\n",
       "    </tr>\n",
       "  </tbody>\n",
       "</table>\n",
       "<p>5 rows × 31 columns</p>\n",
       "</div>"
      ],
      "text/plain": [
       "      0      1       2       3        4        5       6        7       8   \\\n",
       "0  17.99  10.38  122.80  1001.0  0.11840  0.27760  0.3001  0.14710  0.2419   \n",
       "1  20.57  17.77  132.90  1326.0  0.08474  0.07864  0.0869  0.07017  0.1812   \n",
       "2  19.69  21.25  130.00  1203.0  0.10960  0.15990  0.1974  0.12790  0.2069   \n",
       "3  11.42  20.38   77.58   386.1  0.14250  0.28390  0.2414  0.10520  0.2597   \n",
       "4  20.29  14.34  135.10  1297.0  0.10030  0.13280  0.1980  0.10430  0.1809   \n",
       "\n",
       "        9   ...     21      22      23      24      25      26      27  \\\n",
       "0  0.07871  ...  17.33  184.60  2019.0  0.1622  0.6656  0.7119  0.2654   \n",
       "1  0.05667  ...  23.41  158.80  1956.0  0.1238  0.1866  0.2416  0.1860   \n",
       "2  0.05999  ...  25.53  152.50  1709.0  0.1444  0.4245  0.4504  0.2430   \n",
       "3  0.09744  ...  26.50   98.87   567.7  0.2098  0.8663  0.6869  0.2575   \n",
       "4  0.05883  ...  16.67  152.20  1575.0  0.1374  0.2050  0.4000  0.1625   \n",
       "\n",
       "       28       29   30  \n",
       "0  0.4601  0.11890  0.0  \n",
       "1  0.2750  0.08902  0.0  \n",
       "2  0.3613  0.08758  0.0  \n",
       "3  0.6638  0.17300  0.0  \n",
       "4  0.2364  0.07678  0.0  \n",
       "\n",
       "[5 rows x 31 columns]"
      ]
     },
     "execution_count": 3,
     "metadata": {},
     "output_type": "execute_result"
    }
   ],
   "source": [
    "df.head()"
   ]
  },
  {
   "cell_type": "markdown",
   "id": "9f081240",
   "metadata": {},
   "source": [
    "# Preparar os dados para experimentos\n"
   ]
  },
  {
   "cell_type": "code",
   "execution_count": 4,
   "id": "9f1328e3",
   "metadata": {},
   "outputs": [],
   "source": [
    "arr = df.to_numpy()"
   ]
  },
  {
   "cell_type": "code",
   "execution_count": 5,
   "id": "d27bbc99",
   "metadata": {},
   "outputs": [],
   "source": [
    "X = arr[:, :30]\n",
    "Y = arr[:, -1]"
   ]
  },
  {
   "cell_type": "code",
   "execution_count": 6,
   "id": "6d4c0018",
   "metadata": {},
   "outputs": [],
   "source": [
    "X_norm = np.empty_like(X)\n",
    "\n",
    "for idx, col in enumerate(X.T):\n",
    "    \n",
    "    norm = z_score_normalization(col)\n",
    "    \n",
    "    X_norm[:, idx] = norm"
   ]
  },
  {
   "cell_type": "code",
   "execution_count": 7,
   "id": "6f385f0a",
   "metadata": {},
   "outputs": [],
   "source": [
    "y_norm = Y.reshape([-1, 1])"
   ]
  },
  {
   "cell_type": "code",
   "execution_count": 8,
   "id": "5f4aad0b",
   "metadata": {},
   "outputs": [],
   "source": [
    "X_ones = add_ones_column(X_norm)"
   ]
  },
  {
   "cell_type": "code",
   "execution_count": 9,
   "id": "0e62f6bb",
   "metadata": {},
   "outputs": [],
   "source": [
    "X_trn, X_tst, y_trn, y_tst = train_test_split(X_ones, y_norm, test_size=0.2, random_state=42)"
   ]
  },
  {
   "cell_type": "markdown",
   "id": "465172b7",
   "metadata": {},
   "source": [
    "# Classificação Binária"
   ]
  },
  {
   "cell_type": "markdown",
   "id": "3242366a",
   "metadata": {},
   "source": [
    "## Regressão Logistica"
   ]
  },
  {
   "cell_type": "code",
   "execution_count": 10,
   "id": "13f6b68f",
   "metadata": {},
   "outputs": [],
   "source": [
    "first_model = LogisticBinaryModel.first_model(\n",
    "    lenght=X_trn.shape[1],\n",
    "    fill_value=1\n",
    ")"
   ]
  },
  {
   "cell_type": "code",
   "execution_count": 11,
   "id": "596ed3f7",
   "metadata": {},
   "outputs": [],
   "source": [
    "gd = GradientDescent(ephocs=1000)"
   ]
  },
  {
   "cell_type": "code",
   "execution_count": 12,
   "id": "46efbeae",
   "metadata": {},
   "outputs": [
    {
     "data": {
      "application/vnd.jupyter.widget-view+json": {
       "model_id": "16b98670f86f45b58a81b4a1f6a9c691",
       "version_major": 2,
       "version_minor": 0
      },
      "text/plain": [
       "  0%|          | 0/1000 [00:00<?, ?it/s]"
      ]
     },
     "metadata": {},
     "output_type": "display_data"
    }
   ],
   "source": [
    "gd_model = gd.fit(X_trn, y_trn, first_model=first_model.__copy__())"
   ]
  },
  {
   "cell_type": "code",
   "execution_count": 13,
   "id": "f8a7fa98",
   "metadata": {},
   "outputs": [],
   "source": [
    "preds = gd_model.predict_ajust(X_tst)"
   ]
  },
  {
   "cell_type": "code",
   "execution_count": 14,
   "id": "711f2824",
   "metadata": {},
   "outputs": [
    {
     "data": {
      "text/plain": [
       "(0.956140350877193, 0.7777777777777777, 0.6422018348623854)"
      ]
     },
     "execution_count": 14,
     "metadata": {},
     "output_type": "execute_result"
    }
   ],
   "source": [
    "acuracy(y_tst, preds), f1_score(y_tst, preds), precision(y_tst, preds)"
   ]
  },
  {
   "cell_type": "markdown",
   "id": "13f948eb",
   "metadata": {},
   "source": [
    "## Analise Discriminante Gaussiano"
   ]
  },
  {
   "cell_type": "code",
   "execution_count": 15,
   "id": "7cfa8d81",
   "metadata": {},
   "outputs": [
    {
     "data": {
      "text/plain": [
       "dtype('float64')"
      ]
     },
     "execution_count": 15,
     "metadata": {},
     "output_type": "execute_result"
    }
   ],
   "source": [
    "y_trn.T.dtype"
   ]
  },
  {
   "cell_type": "code",
   "execution_count": 16,
   "id": "3a049559",
   "metadata": {},
   "outputs": [],
   "source": [
    "X_trn_ = X_trn[:, 1:]  \n",
    "y_trn_dummies = get_dummies(y_trn.reshape([-1]))"
   ]
  },
  {
   "cell_type": "code",
   "execution_count": 17,
   "id": "89bc935d",
   "metadata": {},
   "outputs": [],
   "source": [
    "gaussian_discriminant = StatisticalClassifiers(model=GaussianDiscriminant)"
   ]
  },
  {
   "cell_type": "code",
   "execution_count": 18,
   "id": "3d6b52b4",
   "metadata": {},
   "outputs": [],
   "source": [
    "model_gaussian = gaussian_discriminant.fit(X_trn_, y_trn_dummies)"
   ]
  },
  {
   "cell_type": "code",
   "execution_count": 19,
   "id": "774e6854",
   "metadata": {},
   "outputs": [],
   "source": [
    "preds = model_gaussian.predict(X_tst[:, 1:])"
   ]
  },
  {
   "cell_type": "code",
   "execution_count": 20,
   "id": "bc8661e4",
   "metadata": {},
   "outputs": [
    {
     "data": {
      "text/plain": [
       "328522171000000.0"
      ]
     },
     "execution_count": 20,
     "metadata": {},
     "output_type": "execute_result"
    }
   ],
   "source": [
    "3.28522171e+14"
   ]
  },
  {
   "cell_type": "code",
   "execution_count": 21,
   "id": "80638562",
   "metadata": {},
   "outputs": [
    {
     "data": {
      "text/plain": [
       "array([[-1.01832404e+14, -2.16734842e+13, -4.93636286e+13,\n",
       "        -9.39388084e+13, -1.10418172e+14, -4.41424783e+12,\n",
       "        -2.33424717e+11, -4.32920120e+13, -8.94830505e+13,\n",
       "        -1.13556892e+14, -8.72977975e+13, -5.07993465e+13,\n",
       "        -1.06365803e+14, -4.58744057e+13, -1.51261503e+14,\n",
       "        -2.64994674e+13, -1.18758893e+14, -1.90704464e+14,\n",
       "        -2.66819856e+14, -4.89544792e+12, -9.88941352e+13,\n",
       "        -1.16075714e+14, -1.52438730e+11, -1.68199591e+14,\n",
       "        -1.34937923e+14, -1.35364976e+14, -1.20706406e+14,\n",
       "        -1.02032801e+14, -1.26449120e+14, -1.22691799e+13,\n",
       "        -1.31172818e+14, -1.67149993e+14, -1.70460184e+14,\n",
       "        -1.19828418e+14, -1.89844983e+14, -1.68295827e+14,\n",
       "        -5.61285640e+13, -1.80380209e+14, -2.74541165e+13,\n",
       "        -8.95097753e+13, -1.43851253e+14, -3.65994058e+13,\n",
       "        -1.43485182e+14, -1.32816040e+14, -1.54373544e+14,\n",
       "        -1.15565834e+14, -2.21584216e+14, -1.53364324e+14,\n",
       "        -1.11118230e+14, -7.87509970e+13, -3.38714420e+13,\n",
       "        -1.56135107e+12, -9.00687215e+13, -1.00535963e+14,\n",
       "        -1.57699876e+14, -1.17485667e+14, -1.67927255e+14,\n",
       "        -2.01729644e+13, -8.34380242e+13, -1.81266774e+14,\n",
       "        -1.12810014e+14, -1.54173865e+13, -3.74644491e+11,\n",
       "        -7.02961383e+13, -1.39677131e+14, -8.81869513e+13,\n",
       "        -1.55013757e+13,  8.69771861e+08, -1.56044425e+14,\n",
       "        -1.01057371e+14, -5.25113246e+13, -5.14200720e+13,\n",
       "        -1.12644880e+14, -3.17615654e+13, -2.00526498e+14,\n",
       "        -1.28190758e+14, -9.85159320e+13, -8.99378161e+13,\n",
       "        -1.68225612e+14, -1.50888640e+14, -3.74337968e+13,\n",
       "        -1.71817309e+14, -5.08950628e+13, -1.30617980e+12,\n",
       "        -3.00517770e+13, -3.95116049e+13, -2.11160764e+13,\n",
       "        -1.27297233e+13, -1.28563666e+14, -1.27090428e+14,\n",
       "        -1.25987428e+14, -9.96519719e+13, -7.88141364e+13,\n",
       "        -1.24826877e+14, -1.82828231e+14, -1.86625200e+14,\n",
       "        -2.88861525e+12, -3.03402841e+13, -1.92606837e+14,\n",
       "        -2.05981572e+13, -5.31348178e+13, -2.37358622e+14,\n",
       "        -2.57739615e+13, -3.06724102e+13, -1.22551921e+14,\n",
       "        -1.26130602e+14, -9.95485295e+13, -8.25923383e+11,\n",
       "        -9.28421317e+13, -9.11461113e+13, -4.42096557e+13,\n",
       "        -1.44063847e+14, -4.14818888e+13, -7.86738526e+11],\n",
       "       [ 2.53571667e+14,  6.36071997e+13,  1.31111485e+14,\n",
       "         2.88218404e+14,  3.06862283e+14,  7.97172875e+11,\n",
       "         1.00232474e+11,  8.63383321e+13,  1.54410367e+14,\n",
       "         2.97926634e+14,  4.22221194e+14,  1.30644979e+14,\n",
       "         3.47988902e+14,  1.42677478e+14,  3.05628528e+14,\n",
       "         1.12954283e+14,  2.97588417e+14,  5.92488695e+14,\n",
       "         5.99974339e+14,  1.68852791e+13,  1.92661101e+14,\n",
       "         3.54673120e+14,  8.78107335e+11,  5.51505503e+14,\n",
       "         4.53801337e+14,  2.55152642e+14,  2.40773217e+14,\n",
       "         4.73819033e+14,  3.58581106e+14,  3.39121521e+13,\n",
       "         3.27048730e+14,  3.61684338e+14,  4.28885375e+14,\n",
       "         3.01080611e+14,  4.38326625e+14,  3.94857408e+14,\n",
       "         2.56812741e+14,  3.22429349e+14,  8.92360819e+13,\n",
       "         3.13761030e+14,  3.72394532e+14,  1.78757383e+14,\n",
       "         2.78490617e+14,  3.67638273e+14,  3.62154661e+14,\n",
       "         4.16286413e+14,  4.14286408e+14,  6.95453467e+14,\n",
       "         3.28545300e+14,  1.95637047e+14,  1.23430600e+14,\n",
       "         2.00786267e+13,  2.40484031e+14,  1.94837937e+14,\n",
       "         2.69777085e+14,  3.31108185e+14,  3.20851691e+14,\n",
       "         6.91558416e+12,  1.81861268e+14,  3.41404305e+14,\n",
       "         3.06512462e+14,  1.73397123e+13,  1.10913852e+13,\n",
       "         3.66827900e+14,  4.87846266e+14,  3.10975574e+14,\n",
       "         5.82579253e+13,  5.56185124e+12,  4.48987308e+14,\n",
       "         2.18897335e+14,  2.19922648e+14,  8.58886001e+13,\n",
       "         3.57209382e+14,  9.55765619e+13,  6.83480796e+14,\n",
       "         2.35070936e+14,  3.94744884e+14,  1.71564430e+14,\n",
       "         4.29157421e+14,  2.53845649e+14,  1.48845893e+14,\n",
       "         4.40828891e+14,  2.09269687e+14,  9.65925432e+11,\n",
       "         2.12124160e+14,  4.51184745e+13,  5.61805098e+13,\n",
       "         2.37366990e+13,  3.23806809e+14,  2.87512236e+14,\n",
       "         3.14398990e+14,  2.56466882e+14,  1.94377686e+14,\n",
       "         7.44830580e+14,  5.54307657e+14,  4.64325451e+14,\n",
       "         8.64531776e+13,  1.21165423e+14,  4.09592297e+14,\n",
       "         1.38394752e+14,  1.67523098e+14,  4.56068491e+14,\n",
       "         5.26367387e+12,  9.19959519e+13,  4.48035218e+14,\n",
       "         3.40335258e+14,  3.82803466e+14,  5.34820032e+10,\n",
       "         1.86467456e+14,  2.79451021e+14,  1.44659104e+14,\n",
       "         3.22798379e+14,  3.28522171e+14,  1.22858916e+13]])"
      ]
     },
     "execution_count": 21,
     "metadata": {},
     "output_type": "execute_result"
    }
   ],
   "source": [
    "preds"
   ]
  },
  {
   "cell_type": "code",
   "execution_count": 22,
   "id": "39d5cfdd",
   "metadata": {},
   "outputs": [
    {
     "ename": "AttributeError",
     "evalue": "'bool' object has no attribute 'sum'",
     "output_type": "error",
     "traceback": [
      "\u001b[0;31m---------------------------------------------------------------------------\u001b[0m",
      "\u001b[0;31mAttributeError\u001b[0m                            Traceback (most recent call last)",
      "Input \u001b[0;32mIn [22]\u001b[0m, in \u001b[0;36m<cell line: 1>\u001b[0;34m()\u001b[0m\n\u001b[0;32m----> 1\u001b[0m \u001b[43macuracy\u001b[49m\u001b[43m(\u001b[49m\u001b[43my_tst\u001b[49m\u001b[43m,\u001b[49m\u001b[43m \u001b[49m\u001b[43mpreds\u001b[49m\u001b[43m)\u001b[49m, f1_score(y_tst, preds), precision(y_tst, preds)\n",
      "File \u001b[0;32m~/WorkSpacePython/personal_projects/machine-learning-project/ml_core/metrics/error_metrics.py:10\u001b[0m, in \u001b[0;36macuracy\u001b[0;34m(real_arr, predicted_arr)\u001b[0m\n\u001b[1;32m      8\u001b[0m \u001b[38;5;28;01mdef\u001b[39;00m \u001b[38;5;21macuracy\u001b[39m(real_arr: np\u001b[38;5;241m.\u001b[39mndarray, predicted_arr: np\u001b[38;5;241m.\u001b[39mndarray) \u001b[38;5;241m-\u001b[39m\u001b[38;5;241m>\u001b[39m \u001b[38;5;28mfloat\u001b[39m:\n\u001b[0;32m---> 10\u001b[0m     \u001b[38;5;28;01mreturn\u001b[39;00m  \u001b[43m(\u001b[49m\u001b[43mreal_arr\u001b[49m\u001b[43m[\u001b[49m\u001b[43m:\u001b[49m\u001b[43m,\u001b[49m\u001b[43m \u001b[49m\u001b[38;5;241;43m0\u001b[39;49m\u001b[43m]\u001b[49m\u001b[43m \u001b[49m\u001b[38;5;241;43m==\u001b[39;49m\u001b[43m \u001b[49m\u001b[43mpredicted_arr\u001b[49m\u001b[43m[\u001b[49m\u001b[43m:\u001b[49m\u001b[43m,\u001b[49m\u001b[43m \u001b[49m\u001b[38;5;241;43m0\u001b[39;49m\u001b[43m]\u001b[49m\u001b[43m)\u001b[49m\u001b[38;5;241;43m.\u001b[39;49m\u001b[43msum\u001b[49m() \u001b[38;5;241m/\u001b[39m real_arr\u001b[38;5;241m.\u001b[39mshape[\u001b[38;5;241m0\u001b[39m]\n",
      "\u001b[0;31mAttributeError\u001b[0m: 'bool' object has no attribute 'sum'"
     ]
    }
   ],
   "source": [
    "acuracy(y_tst, preds), f1_score(y_tst, preds), precision(y_tst, preds)"
   ]
  },
  {
   "cell_type": "code",
   "execution_count": null,
   "id": "b9d2a3f6",
   "metadata": {},
   "outputs": [],
   "source": [
    "preds.shape"
   ]
  },
  {
   "cell_type": "code",
   "execution_count": null,
   "id": "6b3a64d3",
   "metadata": {},
   "outputs": [],
   "source": [
    "preds.argmax(axis=0)"
   ]
  },
  {
   "cell_type": "markdown",
   "id": "e85b135b",
   "metadata": {},
   "source": [
    "## Naive Bayes"
   ]
  },
  {
   "cell_type": "code",
   "execution_count": 23,
   "id": "a96a4bc3",
   "metadata": {},
   "outputs": [],
   "source": [
    "naive_bayes = StatisticalClassifiers(model=NaiveBayesGaussian)"
   ]
  },
  {
   "cell_type": "code",
   "execution_count": 24,
   "id": "059f31b9",
   "metadata": {},
   "outputs": [],
   "source": [
    "model_naive = naive_bayes.fit(X_trn_, y_trn_dummies)"
   ]
  },
  {
   "cell_type": "code",
   "execution_count": 25,
   "id": "d2ad2dd9",
   "metadata": {},
   "outputs": [],
   "source": [
    "preds = model_naive.predict(X_tst[:, 1:])"
   ]
  },
  {
   "cell_type": "code",
   "execution_count": 26,
   "id": "bcae0c15",
   "metadata": {},
   "outputs": [
    {
     "data": {
      "text/plain": [
       "array([[  -363.86850449,  -2771.24518697,   -428.37380054,\n",
       "          -451.95076544,  -1069.61980443,   -770.68684292,\n",
       "         -1331.70955696,  -1774.1017649 ,   -180.3858893 ,\n",
       "         -8418.68091434,  -1596.86243192,  -3050.58744563,\n",
       "         -5654.56957521,   -443.75278719,  -1307.20805926,\n",
       "          -784.73721175,  -3818.93047192,  -1931.48104964,\n",
       "          -580.75884867,  -1497.82538802,   -556.32192925,\n",
       "          -382.72831663,    -75.50342531,  -4022.6009779 ,\n",
       "         -7775.24667237,   -445.44848213,  -3141.14900225,\n",
       "          -909.33516002,  -1341.25877702,   -408.52339381,\n",
       "         -4446.31080014,  -1687.53758263,   -459.14687004,\n",
       "         -1698.5949494 ,   -441.66276656,  -1734.22327844,\n",
       "         -2811.61216576,  -5678.97367924,   -325.4940742 ,\n",
       "         -4139.26184055,  -2243.13114093,  -1186.94223199,\n",
       "          -500.10504111,  -1617.21922562,  -1098.32286781,\n",
       "         -1573.7754618 ,  -3676.97188289,  -5110.16746566,\n",
       "          -341.25997402,  -7192.62688123,   -392.0578599 ,\n",
       "          -136.40037825,   -560.21404697,   -889.1469738 ,\n",
       "          -449.15761011,  -1788.90955541,   -578.96780732,\n",
       "          -698.23388923,   -725.73285227,   -836.06742118,\n",
       "         -1404.76036121,   -163.00266745,   -863.15143829,\n",
       "         -6465.05896504,  -2368.835761  ,  -2141.7009906 ,\n",
       "         -3749.15436099,   -930.27332579,   -750.84096188,\n",
       "         -1171.72699217,  -1914.72345327,   -308.03926622,\n",
       "         -5207.71515314,   -357.97893496,  -1699.26354147,\n",
       "          -443.51369532,  -1696.77739716,   -278.32372691,\n",
       "         -5100.02915714,   -592.05591632,   -393.70508165,\n",
       "         -3123.51039244,  -1170.19733694,  -2232.91590349,\n",
       "         -1286.27143899,  -2227.4130077 ,  -3754.31924517,\n",
       "         -2555.42171712, -10360.80666198,   -632.61632663,\n",
       "          -526.15840009,   -681.11742203,  -3859.79477756,\n",
       "         -9499.78595512,   -384.61750968,   -470.54237978,\n",
       "         -3199.04933391, -14587.69226355,   -943.94225168,\n",
       "          -574.69629202,   -333.71133784,  -1982.33857097,\n",
       "           -86.26856389,   -249.51201304,  -2427.91277779,\n",
       "          -990.2657609 ,   -601.88797764,  -2557.92751645,\n",
       "         -1161.75058831,  -3697.00026878,   -470.94042577,\n",
       "          -668.08630227,  -5163.07999632,   -580.25255975],\n",
       "       [  -363.8737538 ,  -2788.54493704,   -406.67621454,\n",
       "          -450.2146486 ,  -1082.73408757,   -737.9928583 ,\n",
       "         -1330.99954468,  -1789.4826271 ,   -170.81640948,\n",
       "         -8478.71010646,  -1611.53225986,  -3078.59439025,\n",
       "         -5701.54327055,   -442.41216412,  -1326.57149334,\n",
       "          -782.64964572,  -3852.24501331,  -1953.42121885,\n",
       "          -566.59984533,  -1508.85427169,   -551.94932432,\n",
       "          -385.34968842,    -60.53489769,  -4060.07017061,\n",
       "         -7841.91348076,   -439.69205777,  -3174.35859266,\n",
       "          -916.52205644,  -1357.66645348,   -379.59375164,\n",
       "         -4492.91537913,  -1705.35319818,   -464.99171517,\n",
       "         -1716.94258544,   -447.54798643,  -1761.54983942,\n",
       "         -2839.49314804,  -5733.18041831,   -317.33176461,\n",
       "         -4173.51699394,  -2270.58575249,  -1153.40530941,\n",
       "          -500.6069437 ,  -1634.68310529,  -1102.59372877,\n",
       "         -1543.460947  ,  -3632.28648984,  -5157.78345633,\n",
       "          -327.0022652 ,  -7247.41579304,   -370.90744531,\n",
       "          -121.4149713 ,   -578.16375312,   -890.42963573,\n",
       "          -448.74747029,  -1804.98698823,   -585.32102026,\n",
       "          -661.39949401,   -697.7322529 ,   -844.99216678,\n",
       "         -1420.62939959,   -155.64590995,   -846.93706219,\n",
       "         -6512.87746885,  -2396.9842537 ,  -2166.80357602,\n",
       "         -3691.12381639,   -915.98593231,   -767.49029242,\n",
       "         -1194.76027408,  -1876.3684767 ,   -312.10650021,\n",
       "         -5254.32717682,   -359.13805699,  -1727.81552084,\n",
       "          -448.08667271,  -1709.9792823 ,   -265.81566164,\n",
       "         -5145.89312494,   -571.08515555,   -396.38366244,\n",
       "         -3158.84158159,  -1188.8552927 ,  -2250.27812469,\n",
       "         -1292.81913168,  -2179.96007453,  -3703.46740863,\n",
       "         -2572.72948134, -10431.9063502 ,   -613.18256004,\n",
       "          -537.17886196,   -657.80218901,  -3887.95571319,\n",
       "         -9562.58163621,   -393.1037249 ,   -469.34979575,\n",
       "         -3222.45696048, -14492.29012219,   -958.23247106,\n",
       "          -569.55094676,   -334.54321365,  -2011.3379018 ,\n",
       "           -74.58934024,   -236.68755093,  -2459.75032067,\n",
       "          -998.0081648 ,   -597.26948698,  -2571.09033632,\n",
       "         -1173.15313502,  -3730.04860171,   -456.5176673 ,\n",
       "          -671.97751751,  -5202.07767675,   -564.49940965]])"
      ]
     },
     "execution_count": 26,
     "metadata": {},
     "output_type": "execute_result"
    }
   ],
   "source": [
    "preds"
   ]
  },
  {
   "cell_type": "code",
   "execution_count": null,
   "id": "fa24a82b",
   "metadata": {},
   "outputs": [],
   "source": [
    "acuracy(y_tst, preds), f1_score(y_tst, preds), precision(y_tst, preds)"
   ]
  },
  {
   "cell_type": "code",
   "execution_count": null,
   "id": "40051400",
   "metadata": {},
   "outputs": [],
   "source": [
    "clf = GaussianNB()"
   ]
  },
  {
   "cell_type": "code",
   "execution_count": null,
   "id": "621eb317",
   "metadata": {},
   "outputs": [],
   "source": [
    "y_trn_dummies[0]"
   ]
  },
  {
   "cell_type": "code",
   "execution_count": null,
   "id": "17198234",
   "metadata": {},
   "outputs": [],
   "source": [
    "clf.fit(X_trn_, y_trn_dummies[1])"
   ]
  },
  {
   "cell_type": "code",
   "execution_count": null,
   "id": "59c9a28a",
   "metadata": {},
   "outputs": [],
   "source": [
    "preds = clf.predict(X_tst[:, 1:]).reshape([-1, 1])"
   ]
  },
  {
   "cell_type": "code",
   "execution_count": null,
   "id": "3b2a23ba",
   "metadata": {},
   "outputs": [],
   "source": [
    "preds.shape"
   ]
  },
  {
   "cell_type": "code",
   "execution_count": null,
   "id": "4d2596d2",
   "metadata": {},
   "outputs": [],
   "source": [
    "acuracy(y_tst, preds), f1_score(y_tst, preds), precision(y_tst, preds)"
   ]
  },
  {
   "cell_type": "code",
   "execution_count": null,
   "id": "e58f0f22",
   "metadata": {},
   "outputs": [],
   "source": []
  }
 ],
 "metadata": {
  "kernelspec": {
   "display_name": "Python 3 (ipykernel)",
   "language": "python",
   "name": "python3"
  },
  "language_info": {
   "codemirror_mode": {
    "name": "ipython",
    "version": 3
   },
   "file_extension": ".py",
   "mimetype": "text/x-python",
   "name": "python",
   "nbconvert_exporter": "python",
   "pygments_lexer": "ipython3",
   "version": "3.10.4"
  }
 },
 "nbformat": 4,
 "nbformat_minor": 5
}
