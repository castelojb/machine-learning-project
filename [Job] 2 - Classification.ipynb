{
 "cells": [
  {
   "cell_type": "markdown",
   "id": "e9ee5fab",
   "metadata": {},
   "source": [
    "# Bibliotecas"
   ]
  },
  {
   "cell_type": "code",
   "execution_count": 1,
   "id": "45a5f2f5",
   "metadata": {},
   "outputs": [],
   "source": [
    "import pandas as pd\n",
    "import numpy as np\n",
    "import plotly.express as px\n",
    "import plotly.graph_objs as go\n",
    "from ml_core.normalization import z_score_normalization\n",
    "from ml_core.data_process import *\n",
    "from ml_core.regression import GradientDescent, OrdinaryLeastSquares, StochasticGradientDescent\n",
    "from sklearn.model_selection import train_test_split\n",
    "from ml_core.metrics.error_metrics import *\n",
    "from ml_core.metrics import error_metric_in_history_models\n",
    "from ml_core.metrics.error_metrics import *\n",
    "from ml_core.classification import LogisticBinaryModel,LinearRegressionMulticlass\n",
    "from ml_core.classification import StatisticalClassifiers, GaussianDiscriminant, NaiveBayesGaussian\n",
    "from sklearn.naive_bayes import GaussianNB"
   ]
  },
  {
   "cell_type": "markdown",
   "id": "d76b60c1",
   "metadata": {},
   "source": [
    "# Leitura dos Dados"
   ]
  },
  {
   "cell_type": "code",
   "execution_count": 2,
   "id": "f0c29be1",
   "metadata": {},
   "outputs": [],
   "source": [
    "df = pd.read_csv('data/breastcancer.csv', header=None)"
   ]
  },
  {
   "cell_type": "code",
   "execution_count": 3,
   "id": "4de2b316",
   "metadata": {},
   "outputs": [
    {
     "data": {
      "text/html": [
       "<div>\n",
       "<style scoped>\n",
       "    .dataframe tbody tr th:only-of-type {\n",
       "        vertical-align: middle;\n",
       "    }\n",
       "\n",
       "    .dataframe tbody tr th {\n",
       "        vertical-align: top;\n",
       "    }\n",
       "\n",
       "    .dataframe thead th {\n",
       "        text-align: right;\n",
       "    }\n",
       "</style>\n",
       "<table border=\"1\" class=\"dataframe\">\n",
       "  <thead>\n",
       "    <tr style=\"text-align: right;\">\n",
       "      <th></th>\n",
       "      <th>0</th>\n",
       "      <th>1</th>\n",
       "      <th>2</th>\n",
       "      <th>3</th>\n",
       "      <th>4</th>\n",
       "      <th>5</th>\n",
       "      <th>6</th>\n",
       "      <th>7</th>\n",
       "      <th>8</th>\n",
       "      <th>9</th>\n",
       "      <th>...</th>\n",
       "      <th>21</th>\n",
       "      <th>22</th>\n",
       "      <th>23</th>\n",
       "      <th>24</th>\n",
       "      <th>25</th>\n",
       "      <th>26</th>\n",
       "      <th>27</th>\n",
       "      <th>28</th>\n",
       "      <th>29</th>\n",
       "      <th>30</th>\n",
       "    </tr>\n",
       "  </thead>\n",
       "  <tbody>\n",
       "    <tr>\n",
       "      <th>0</th>\n",
       "      <td>17.99</td>\n",
       "      <td>10.38</td>\n",
       "      <td>122.80</td>\n",
       "      <td>1001.0</td>\n",
       "      <td>0.11840</td>\n",
       "      <td>0.27760</td>\n",
       "      <td>0.3001</td>\n",
       "      <td>0.14710</td>\n",
       "      <td>0.2419</td>\n",
       "      <td>0.07871</td>\n",
       "      <td>...</td>\n",
       "      <td>17.33</td>\n",
       "      <td>184.60</td>\n",
       "      <td>2019.0</td>\n",
       "      <td>0.1622</td>\n",
       "      <td>0.6656</td>\n",
       "      <td>0.7119</td>\n",
       "      <td>0.2654</td>\n",
       "      <td>0.4601</td>\n",
       "      <td>0.11890</td>\n",
       "      <td>0.0</td>\n",
       "    </tr>\n",
       "    <tr>\n",
       "      <th>1</th>\n",
       "      <td>20.57</td>\n",
       "      <td>17.77</td>\n",
       "      <td>132.90</td>\n",
       "      <td>1326.0</td>\n",
       "      <td>0.08474</td>\n",
       "      <td>0.07864</td>\n",
       "      <td>0.0869</td>\n",
       "      <td>0.07017</td>\n",
       "      <td>0.1812</td>\n",
       "      <td>0.05667</td>\n",
       "      <td>...</td>\n",
       "      <td>23.41</td>\n",
       "      <td>158.80</td>\n",
       "      <td>1956.0</td>\n",
       "      <td>0.1238</td>\n",
       "      <td>0.1866</td>\n",
       "      <td>0.2416</td>\n",
       "      <td>0.1860</td>\n",
       "      <td>0.2750</td>\n",
       "      <td>0.08902</td>\n",
       "      <td>0.0</td>\n",
       "    </tr>\n",
       "    <tr>\n",
       "      <th>2</th>\n",
       "      <td>19.69</td>\n",
       "      <td>21.25</td>\n",
       "      <td>130.00</td>\n",
       "      <td>1203.0</td>\n",
       "      <td>0.10960</td>\n",
       "      <td>0.15990</td>\n",
       "      <td>0.1974</td>\n",
       "      <td>0.12790</td>\n",
       "      <td>0.2069</td>\n",
       "      <td>0.05999</td>\n",
       "      <td>...</td>\n",
       "      <td>25.53</td>\n",
       "      <td>152.50</td>\n",
       "      <td>1709.0</td>\n",
       "      <td>0.1444</td>\n",
       "      <td>0.4245</td>\n",
       "      <td>0.4504</td>\n",
       "      <td>0.2430</td>\n",
       "      <td>0.3613</td>\n",
       "      <td>0.08758</td>\n",
       "      <td>0.0</td>\n",
       "    </tr>\n",
       "    <tr>\n",
       "      <th>3</th>\n",
       "      <td>11.42</td>\n",
       "      <td>20.38</td>\n",
       "      <td>77.58</td>\n",
       "      <td>386.1</td>\n",
       "      <td>0.14250</td>\n",
       "      <td>0.28390</td>\n",
       "      <td>0.2414</td>\n",
       "      <td>0.10520</td>\n",
       "      <td>0.2597</td>\n",
       "      <td>0.09744</td>\n",
       "      <td>...</td>\n",
       "      <td>26.50</td>\n",
       "      <td>98.87</td>\n",
       "      <td>567.7</td>\n",
       "      <td>0.2098</td>\n",
       "      <td>0.8663</td>\n",
       "      <td>0.6869</td>\n",
       "      <td>0.2575</td>\n",
       "      <td>0.6638</td>\n",
       "      <td>0.17300</td>\n",
       "      <td>0.0</td>\n",
       "    </tr>\n",
       "    <tr>\n",
       "      <th>4</th>\n",
       "      <td>20.29</td>\n",
       "      <td>14.34</td>\n",
       "      <td>135.10</td>\n",
       "      <td>1297.0</td>\n",
       "      <td>0.10030</td>\n",
       "      <td>0.13280</td>\n",
       "      <td>0.1980</td>\n",
       "      <td>0.10430</td>\n",
       "      <td>0.1809</td>\n",
       "      <td>0.05883</td>\n",
       "      <td>...</td>\n",
       "      <td>16.67</td>\n",
       "      <td>152.20</td>\n",
       "      <td>1575.0</td>\n",
       "      <td>0.1374</td>\n",
       "      <td>0.2050</td>\n",
       "      <td>0.4000</td>\n",
       "      <td>0.1625</td>\n",
       "      <td>0.2364</td>\n",
       "      <td>0.07678</td>\n",
       "      <td>0.0</td>\n",
       "    </tr>\n",
       "  </tbody>\n",
       "</table>\n",
       "<p>5 rows × 31 columns</p>\n",
       "</div>"
      ],
      "text/plain": [
       "      0      1       2       3        4        5       6        7       8   \\\n",
       "0  17.99  10.38  122.80  1001.0  0.11840  0.27760  0.3001  0.14710  0.2419   \n",
       "1  20.57  17.77  132.90  1326.0  0.08474  0.07864  0.0869  0.07017  0.1812   \n",
       "2  19.69  21.25  130.00  1203.0  0.10960  0.15990  0.1974  0.12790  0.2069   \n",
       "3  11.42  20.38   77.58   386.1  0.14250  0.28390  0.2414  0.10520  0.2597   \n",
       "4  20.29  14.34  135.10  1297.0  0.10030  0.13280  0.1980  0.10430  0.1809   \n",
       "\n",
       "        9   ...     21      22      23      24      25      26      27  \\\n",
       "0  0.07871  ...  17.33  184.60  2019.0  0.1622  0.6656  0.7119  0.2654   \n",
       "1  0.05667  ...  23.41  158.80  1956.0  0.1238  0.1866  0.2416  0.1860   \n",
       "2  0.05999  ...  25.53  152.50  1709.0  0.1444  0.4245  0.4504  0.2430   \n",
       "3  0.09744  ...  26.50   98.87   567.7  0.2098  0.8663  0.6869  0.2575   \n",
       "4  0.05883  ...  16.67  152.20  1575.0  0.1374  0.2050  0.4000  0.1625   \n",
       "\n",
       "       28       29   30  \n",
       "0  0.4601  0.11890  0.0  \n",
       "1  0.2750  0.08902  0.0  \n",
       "2  0.3613  0.08758  0.0  \n",
       "3  0.6638  0.17300  0.0  \n",
       "4  0.2364  0.07678  0.0  \n",
       "\n",
       "[5 rows x 31 columns]"
      ]
     },
     "execution_count": 3,
     "metadata": {},
     "output_type": "execute_result"
    }
   ],
   "source": [
    "df.head()"
   ]
  },
  {
   "cell_type": "markdown",
   "id": "9f081240",
   "metadata": {},
   "source": [
    "# Preparar os dados para experimentos\n"
   ]
  },
  {
   "cell_type": "code",
   "execution_count": 4,
   "id": "9f1328e3",
   "metadata": {},
   "outputs": [],
   "source": [
    "arr = df.to_numpy()"
   ]
  },
  {
   "cell_type": "code",
   "execution_count": 5,
   "id": "d27bbc99",
   "metadata": {},
   "outputs": [],
   "source": [
    "X = arr[:, :30]\n",
    "Y = arr[:, -1]"
   ]
  },
  {
   "cell_type": "code",
   "execution_count": 6,
   "id": "6d4c0018",
   "metadata": {},
   "outputs": [],
   "source": [
    "X_norm = np.empty_like(X)\n",
    "\n",
    "for idx, col in enumerate(X.T):\n",
    "    \n",
    "    norm = z_score_normalization(col)\n",
    "    \n",
    "    X_norm[:, idx] = norm"
   ]
  },
  {
   "cell_type": "code",
   "execution_count": 7,
   "id": "6f385f0a",
   "metadata": {},
   "outputs": [],
   "source": [
    "y_norm = Y.reshape([-1, 1])"
   ]
  },
  {
   "cell_type": "code",
   "execution_count": 8,
   "id": "5f4aad0b",
   "metadata": {},
   "outputs": [],
   "source": [
    "X_ones = add_ones_column(X_norm)"
   ]
  },
  {
   "cell_type": "code",
   "execution_count": 9,
   "id": "0e62f6bb",
   "metadata": {},
   "outputs": [],
   "source": [
    "X_trn, X_tst, y_trn, y_tst = train_test_split(X_ones, y_norm, test_size=0.2, random_state=42)"
   ]
  },
  {
   "cell_type": "markdown",
   "id": "465172b7",
   "metadata": {},
   "source": [
    "# Classificação Binária"
   ]
  },
  {
   "cell_type": "markdown",
   "id": "3242366a",
   "metadata": {},
   "source": [
    "## Regressão Logistica"
   ]
  },
  {
   "cell_type": "code",
   "execution_count": 10,
   "id": "13f6b68f",
   "metadata": {},
   "outputs": [],
   "source": [
    "first_model = LogisticBinaryModel.first_model(\n",
    "    lenght=X_trn.shape[1],\n",
    "    fill_value=1\n",
    ")"
   ]
  },
  {
   "cell_type": "code",
   "execution_count": 11,
   "id": "596ed3f7",
   "metadata": {},
   "outputs": [],
   "source": [
    "gd = GradientDescent(ephocs=1000)"
   ]
  },
  {
   "cell_type": "code",
   "execution_count": 12,
   "id": "46efbeae",
   "metadata": {},
   "outputs": [
    {
     "data": {
      "application/vnd.jupyter.widget-view+json": {
       "model_id": "f0e96c396d8145cbb2e74758118aa34a",
       "version_major": 2,
       "version_minor": 0
      },
      "text/plain": [
       "  0%|          | 0/1000 [00:00<?, ?it/s]"
      ]
     },
     "metadata": {},
     "output_type": "display_data"
    }
   ],
   "source": [
    "gd_model = gd.fit(X_trn, y_trn, first_model=first_model.__copy__())"
   ]
  },
  {
   "cell_type": "code",
   "execution_count": 13,
   "id": "f8a7fa98",
   "metadata": {},
   "outputs": [],
   "source": [
    "preds = gd_model.predict_ajust(X_tst)"
   ]
  },
  {
   "cell_type": "code",
   "execution_count": 14,
   "id": "711f2824",
   "metadata": {},
   "outputs": [
    {
     "data": {
      "text/plain": [
       "(0.956140350877193, 0.7777777777777777, 0.6422018348623854)"
      ]
     },
     "execution_count": 14,
     "metadata": {},
     "output_type": "execute_result"
    }
   ],
   "source": [
    "acuracy(y_tst, preds), f1_score(y_tst, preds), precision(y_tst, preds)"
   ]
  },
  {
   "cell_type": "markdown",
   "id": "13f948eb",
   "metadata": {},
   "source": [
    "## Analise Discriminante Gaussiano"
   ]
  },
  {
   "cell_type": "code",
   "execution_count": 16,
   "id": "3a049559",
   "metadata": {},
   "outputs": [],
   "source": [
    "X_trn_ = X_trn[:, 1:]  \n",
    "y_trn_dummies = get_dummies(y_trn.reshape([-1]))"
   ]
  },
  {
   "cell_type": "code",
   "execution_count": 17,
   "id": "89bc935d",
   "metadata": {},
   "outputs": [],
   "source": [
    "gaussian_discriminant = StatisticalClassifiers(model=GaussianDiscriminant)"
   ]
  },
  {
   "cell_type": "code",
   "execution_count": 18,
   "id": "3d6b52b4",
   "metadata": {},
   "outputs": [],
   "source": [
    "model_gaussian = gaussian_discriminant.fit(X_trn_, y_trn_dummies)"
   ]
  },
  {
   "cell_type": "code",
   "execution_count": 19,
   "id": "774e6854",
   "metadata": {},
   "outputs": [],
   "source": [
    "preds = model_gaussian.predict(X_tst[:, 1:])"
   ]
  },
  {
   "cell_type": "code",
   "execution_count": 22,
   "id": "39d5cfdd",
   "metadata": {},
   "outputs": [
    {
     "data": {
      "text/plain": [
       "(0.956140350877193, 0.7555555555555555, 0.6238532110091743)"
      ]
     },
     "execution_count": 22,
     "metadata": {},
     "output_type": "execute_result"
    }
   ],
   "source": [
    "acuracy(y_tst, preds), f1_score(y_tst, preds), precision(y_tst, preds)"
   ]
  },
  {
   "cell_type": "markdown",
   "id": "e85b135b",
   "metadata": {},
   "source": [
    "## Naive Bayes"
   ]
  },
  {
   "cell_type": "code",
   "execution_count": 25,
   "id": "a96a4bc3",
   "metadata": {},
   "outputs": [],
   "source": [
    "naive_bayes = StatisticalClassifiers(model=NaiveBayesGaussian)"
   ]
  },
  {
   "cell_type": "code",
   "execution_count": 26,
   "id": "059f31b9",
   "metadata": {},
   "outputs": [],
   "source": [
    "model_naive = naive_bayes.fit(X_trn_, y_trn_dummies)"
   ]
  },
  {
   "cell_type": "code",
   "execution_count": 27,
   "id": "d2ad2dd9",
   "metadata": {},
   "outputs": [],
   "source": [
    "preds = model_naive.predict(X_tst[:, 1:])"
   ]
  },
  {
   "cell_type": "code",
   "execution_count": 29,
   "id": "fa24a82b",
   "metadata": {},
   "outputs": [
    {
     "data": {
      "text/plain": [
       "(0.9649122807017544, 0.7734806629834254, 0.6363636363636364)"
      ]
     },
     "execution_count": 29,
     "metadata": {},
     "output_type": "execute_result"
    }
   ],
   "source": [
    "acuracy(y_tst, preds), f1_score(y_tst, preds), precision(y_tst, preds)"
   ]
  },
  {
   "cell_type": "code",
   "execution_count": null,
   "id": "01ec4985",
   "metadata": {},
   "outputs": [],
   "source": []
  }
 ],
 "metadata": {
  "kernelspec": {
   "display_name": "Python 3 (ipykernel)",
   "language": "python",
   "name": "python3"
  },
  "language_info": {
   "codemirror_mode": {
    "name": "ipython",
    "version": 3
   },
   "file_extension": ".py",
   "mimetype": "text/x-python",
   "name": "python",
   "nbconvert_exporter": "python",
   "pygments_lexer": "ipython3",
   "version": "3.10.4"
  }
 },
 "nbformat": 4,
 "nbformat_minor": 5
}
