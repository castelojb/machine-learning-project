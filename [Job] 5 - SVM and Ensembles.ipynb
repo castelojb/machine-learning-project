{
 "cells": [
  {
   "cell_type": "markdown",
   "metadata": {},
   "source": [
    "# Bibliotecas"
   ]
  },
  {
   "cell_type": "code",
   "execution_count": 19,
   "metadata": {},
   "outputs": [],
   "source": [
    "import pandas as pd\n",
    "import numpy as np\n",
    "from sklearn.model_selection import train_test_split, KFold\n",
    "from sklearn.svm import SVC\n",
    "from sklearn.ensemble import RandomForestClassifier\n",
    "from sklearn.model_selection import GridSearchCV\n",
    "from sklearn.metrics import plot_roc_curve, plot_precision_recall_curve\n",
    "from ml_core.data_process import normalize_data\n",
    "from ml_core.metrics.error_metrics import acuracy, precision, f1_score, recall\n",
    "from ml_core.normalization import max_min_normalization\n"
   ]
  },
  {
   "cell_type": "markdown",
   "metadata": {},
   "source": [
    "# Leitura dos Dados"
   ]
  },
  {
   "cell_type": "code",
   "execution_count": 2,
   "metadata": {
    "pycharm": {
     "name": "#%%\n"
    }
   },
   "outputs": [],
   "source": [
    "df = pd.read_csv('data/californiabin.csv', header=None)"
   ]
  },
  {
   "cell_type": "code",
   "execution_count": 3,
   "metadata": {
    "pycharm": {
     "name": "#%%\n"
    }
   },
   "outputs": [
    {
     "data": {
      "text/plain": "           0     1         2         3       4         5      6       7    8\n0     4.1685  20.0  6.700637  1.178344   745.0  2.372611  38.80 -121.15  1.0\n1     2.8194  24.0  4.762500  1.020833   608.0  2.533333  36.75 -119.85  0.0\n2     2.4250  46.0  4.927711  1.018072   772.0  2.325301  36.33 -119.31  0.0\n3     3.1205  16.0  3.728477  1.101545  1260.0  2.781457  33.87 -117.99  0.0\n4     4.3889  41.0  5.741007  1.199041   837.0  2.007194  34.15 -118.40  1.0\n...      ...   ...       ...       ...     ...       ...    ...     ...  ...\n2995  4.0050   7.0  4.966767  1.021148  1143.0  3.453172  36.84 -121.44  1.0\n2996  1.0560  24.0  4.462069  1.112644  1277.0  2.935632  35.36 -119.01  0.0\n2997  3.2824  52.0  4.356984  1.064302   794.0  1.760532  34.08 -118.36  1.0\n2998  2.3056  36.0  5.268657  0.970149   792.0  2.955224  38.14 -122.23  0.0\n2999  5.6683  24.0  6.080882  1.007353  1891.0  3.476103  37.41 -121.87  1.0\n\n[3000 rows x 9 columns]",
      "text/html": "<div>\n<style scoped>\n    .dataframe tbody tr th:only-of-type {\n        vertical-align: middle;\n    }\n\n    .dataframe tbody tr th {\n        vertical-align: top;\n    }\n\n    .dataframe thead th {\n        text-align: right;\n    }\n</style>\n<table border=\"1\" class=\"dataframe\">\n  <thead>\n    <tr style=\"text-align: right;\">\n      <th></th>\n      <th>0</th>\n      <th>1</th>\n      <th>2</th>\n      <th>3</th>\n      <th>4</th>\n      <th>5</th>\n      <th>6</th>\n      <th>7</th>\n      <th>8</th>\n    </tr>\n  </thead>\n  <tbody>\n    <tr>\n      <th>0</th>\n      <td>4.1685</td>\n      <td>20.0</td>\n      <td>6.700637</td>\n      <td>1.178344</td>\n      <td>745.0</td>\n      <td>2.372611</td>\n      <td>38.80</td>\n      <td>-121.15</td>\n      <td>1.0</td>\n    </tr>\n    <tr>\n      <th>1</th>\n      <td>2.8194</td>\n      <td>24.0</td>\n      <td>4.762500</td>\n      <td>1.020833</td>\n      <td>608.0</td>\n      <td>2.533333</td>\n      <td>36.75</td>\n      <td>-119.85</td>\n      <td>0.0</td>\n    </tr>\n    <tr>\n      <th>2</th>\n      <td>2.4250</td>\n      <td>46.0</td>\n      <td>4.927711</td>\n      <td>1.018072</td>\n      <td>772.0</td>\n      <td>2.325301</td>\n      <td>36.33</td>\n      <td>-119.31</td>\n      <td>0.0</td>\n    </tr>\n    <tr>\n      <th>3</th>\n      <td>3.1205</td>\n      <td>16.0</td>\n      <td>3.728477</td>\n      <td>1.101545</td>\n      <td>1260.0</td>\n      <td>2.781457</td>\n      <td>33.87</td>\n      <td>-117.99</td>\n      <td>0.0</td>\n    </tr>\n    <tr>\n      <th>4</th>\n      <td>4.3889</td>\n      <td>41.0</td>\n      <td>5.741007</td>\n      <td>1.199041</td>\n      <td>837.0</td>\n      <td>2.007194</td>\n      <td>34.15</td>\n      <td>-118.40</td>\n      <td>1.0</td>\n    </tr>\n    <tr>\n      <th>...</th>\n      <td>...</td>\n      <td>...</td>\n      <td>...</td>\n      <td>...</td>\n      <td>...</td>\n      <td>...</td>\n      <td>...</td>\n      <td>...</td>\n      <td>...</td>\n    </tr>\n    <tr>\n      <th>2995</th>\n      <td>4.0050</td>\n      <td>7.0</td>\n      <td>4.966767</td>\n      <td>1.021148</td>\n      <td>1143.0</td>\n      <td>3.453172</td>\n      <td>36.84</td>\n      <td>-121.44</td>\n      <td>1.0</td>\n    </tr>\n    <tr>\n      <th>2996</th>\n      <td>1.0560</td>\n      <td>24.0</td>\n      <td>4.462069</td>\n      <td>1.112644</td>\n      <td>1277.0</td>\n      <td>2.935632</td>\n      <td>35.36</td>\n      <td>-119.01</td>\n      <td>0.0</td>\n    </tr>\n    <tr>\n      <th>2997</th>\n      <td>3.2824</td>\n      <td>52.0</td>\n      <td>4.356984</td>\n      <td>1.064302</td>\n      <td>794.0</td>\n      <td>1.760532</td>\n      <td>34.08</td>\n      <td>-118.36</td>\n      <td>1.0</td>\n    </tr>\n    <tr>\n      <th>2998</th>\n      <td>2.3056</td>\n      <td>36.0</td>\n      <td>5.268657</td>\n      <td>0.970149</td>\n      <td>792.0</td>\n      <td>2.955224</td>\n      <td>38.14</td>\n      <td>-122.23</td>\n      <td>0.0</td>\n    </tr>\n    <tr>\n      <th>2999</th>\n      <td>5.6683</td>\n      <td>24.0</td>\n      <td>6.080882</td>\n      <td>1.007353</td>\n      <td>1891.0</td>\n      <td>3.476103</td>\n      <td>37.41</td>\n      <td>-121.87</td>\n      <td>1.0</td>\n    </tr>\n  </tbody>\n</table>\n<p>3000 rows × 9 columns</p>\n</div>"
     },
     "execution_count": 3,
     "metadata": {},
     "output_type": "execute_result"
    }
   ],
   "source": [
    "df"
   ]
  },
  {
   "cell_type": "markdown",
   "metadata": {},
   "source": [
    "# Preparando os Dados"
   ]
  },
  {
   "cell_type": "code",
   "execution_count": 4,
   "metadata": {
    "pycharm": {
     "name": "#%%\n"
    }
   },
   "outputs": [],
   "source": [
    "arr = df.to_numpy()"
   ]
  },
  {
   "cell_type": "code",
   "execution_count": 5,
   "metadata": {
    "pycharm": {
     "name": "#%%\n"
    }
   },
   "outputs": [],
   "source": [
    "x = arr[:, :-1]\n",
    "y = arr[:, -1]"
   ]
  },
  {
   "cell_type": "code",
   "execution_count": 6,
   "metadata": {
    "pycharm": {
     "name": "#%%\n"
    }
   },
   "outputs": [],
   "source": [
    "x_trn, x_tst, y_trn, y_tst = train_test_split(x, y, test_size=0.3, random_state=42)"
   ]
  },
  {
   "cell_type": "code",
   "execution_count": 7,
   "metadata": {
    "pycharm": {
     "name": "#%%\n"
    }
   },
   "outputs": [],
   "source": [
    "x_trn_norm = normalize_data(x_trn, max_min_normalization)\n",
    "x_tst_norm = normalize_data(x_tst, max_min_normalization)"
   ]
  },
  {
   "cell_type": "markdown",
   "metadata": {},
   "source": [
    "# Definindo o K-Fold"
   ]
  },
  {
   "cell_type": "code",
   "execution_count": 8,
   "metadata": {
    "pycharm": {
     "name": "#%%\n"
    }
   },
   "outputs": [],
   "source": [
    "cv_kfold = KFold(n_splits=10, shuffle=True, random_state=42)"
   ]
  },
  {
   "cell_type": "markdown",
   "metadata": {},
   "source": [
    "# Definindo as grids"
   ]
  },
  {
   "cell_type": "code",
   "execution_count": 9,
   "metadata": {
    "pycharm": {
     "name": "#%%\n"
    }
   },
   "outputs": [],
   "source": [
    "svc_grid = {\n",
    "    'gamma': 2 ** np.arange(-15, 4, 2, dtype=float),\n",
    "    'C': 2 ** np.arange(-5, 16, 2, dtype=float)\n",
    "}"
   ]
  },
  {
   "cell_type": "code",
   "execution_count": 10,
   "metadata": {
    "pycharm": {
     "name": "#%%\n"
    }
   },
   "outputs": [],
   "source": [
    "random_forest_grid = {\n",
    "\t'n_estimators': np.arange(10, 210, 10),\n",
    "\t'max_depth': [2, 4, 6, 8, None]\n",
    "}"
   ]
  },
  {
   "cell_type": "markdown",
   "metadata": {},
   "source": [
    "# Definindo os Modelos"
   ]
  },
  {
   "cell_type": "code",
   "execution_count": 11,
   "metadata": {
    "pycharm": {
     "name": "#%%\n"
    }
   },
   "outputs": [],
   "source": [
    "svc = SVC(kernel='rbf')\n",
    "\n",
    "random_forest = RandomForestClassifier()"
   ]
  },
  {
   "cell_type": "markdown",
   "metadata": {},
   "source": [
    "# Executando a Grid com K-Fold"
   ]
  },
  {
   "cell_type": "code",
   "execution_count": 12,
   "metadata": {
    "pycharm": {
     "name": "#%%\n"
    }
   },
   "outputs": [
    {
     "data": {
      "text/plain": "GridSearchCV(cv=KFold(n_splits=10, random_state=42, shuffle=True),\n             estimator=SVC(), n_jobs=-1,\n             param_grid={'C': array([3.1250e-02, 1.2500e-01, 5.0000e-01, 2.0000e+00, 8.0000e+00,\n       3.2000e+01, 1.2800e+02, 5.1200e+02, 2.0480e+03, 8.1920e+03,\n       3.2768e+04]),\n                         'gamma': array([3.05175781e-05, 1.22070312e-04, 4.88281250e-04, 1.95312500e-03,\n       7.81250000e-03, 3.12500000e-02, 1.25000000e-01, 5.00000000e-01,\n       2.00000000e+00, 8.00000000e+00])},\n             return_train_score=True)"
     },
     "execution_count": 12,
     "metadata": {},
     "output_type": "execute_result"
    }
   ],
   "source": [
    "svc_tunned = GridSearchCV(svc, svc_grid, cv=cv_kfold, return_train_score=True, n_jobs=-1)\n",
    "svc_tunned.fit(x_trn_norm, y_trn)"
   ]
  },
  {
   "cell_type": "code",
   "execution_count": 13,
   "metadata": {
    "pycharm": {
     "name": "#%%\n"
    }
   },
   "outputs": [
    {
     "data": {
      "text/plain": "GridSearchCV(cv=KFold(n_splits=10, random_state=42, shuffle=True),\n             estimator=RandomForestClassifier(), n_jobs=-1,\n             param_grid={'max_depth': [2, 4, 6, 8, None],\n                         'n_estimators': array([ 10,  20,  30,  40,  50,  60,  70,  80,  90, 100, 110, 120, 130,\n       140, 150, 160, 170, 180, 190, 200])},\n             return_train_score=True)"
     },
     "execution_count": 13,
     "metadata": {},
     "output_type": "execute_result"
    }
   ],
   "source": [
    "rf_tunned = GridSearchCV(random_forest, random_forest_grid, cv=cv_kfold, return_train_score=True, n_jobs=-1)\n",
    "rf_tunned.fit(x_trn_norm, y_trn)"
   ]
  },
  {
   "cell_type": "markdown",
   "metadata": {},
   "source": [
    "# Fazendo as Melhores Predições"
   ]
  },
  {
   "cell_type": "code",
   "execution_count": 14,
   "metadata": {
    "pycharm": {
     "name": "#%%\n"
    }
   },
   "outputs": [],
   "source": [
    "preds_svc = svc_tunned.best_estimator_.predict(x_tst_norm)\n",
    "preds_rf = rf_tunned.best_estimator_.predict(x_tst_norm)"
   ]
  },
  {
   "cell_type": "markdown",
   "source": [
    "# Vendo os Resultados"
   ],
   "metadata": {
    "collapsed": false
   }
  },
  {
   "cell_type": "markdown",
   "source": [
    "## SVC"
   ],
   "metadata": {
    "collapsed": false
   }
  },
  {
   "cell_type": "code",
   "execution_count": 17,
   "outputs": [
    {
     "data": {
      "text/plain": "{'Acuracia': 0.7155555555555555,\n 'F1-Score': 0.5503597122302157,\n 'Precisão': 0.4751552795031056,\n 'Revocação': 0.6538461538461539}"
     },
     "execution_count": 17,
     "metadata": {},
     "output_type": "execute_result"
    }
   ],
   "source": [
    "{\n",
    "    'Acuracia': acuracy(y_tst.reshape([-1, 1]), preds_svc.reshape([-1, 1])),\n",
    "    'F1-Score': f1_score(y_tst.reshape([-1, 1]), preds_svc.reshape([-1, 1])),\n",
    "    'Precisão': precision(y_tst.reshape([-1, 1]), preds_svc.reshape([-1, 1])),\n",
    "    'Revocação': recall(y_tst.reshape([-1, 1]), preds_svc.reshape([-1, 1]))\n",
    "}"
   ],
   "metadata": {
    "collapsed": false,
    "pycharm": {
     "name": "#%%\n"
    }
   }
  },
  {
   "cell_type": "markdown",
   "source": [
    "## Random Florest"
   ],
   "metadata": {
    "collapsed": false
   }
  },
  {
   "cell_type": "code",
   "execution_count": 18,
   "outputs": [
    {
     "data": {
      "text/plain": "{'Acuracia': 0.7944444444444444,\n 'F1-Score': 0.6035502958579881,\n 'Precisão': 0.4993006993006993,\n 'Revocação': 0.7628205128205128}"
     },
     "execution_count": 18,
     "metadata": {},
     "output_type": "execute_result"
    }
   ],
   "source": [
    "{\n",
    "    'Acuracia': acuracy(y_tst.reshape([-1, 1]), preds_rf.reshape([-1, 1])),\n",
    "    'F1-Score': f1_score(y_tst.reshape([-1, 1]), preds_rf.reshape([-1, 1])),\n",
    "    'Precisão': precision(y_tst.reshape([-1, 1]), preds_rf.reshape([-1, 1])),\n",
    "    'Revocação': recall(y_tst.reshape([-1, 1]), preds_rf.reshape([-1, 1]))\n",
    "}"
   ],
   "metadata": {
    "collapsed": false,
    "pycharm": {
     "name": "#%%\n"
    }
   }
  },
  {
   "cell_type": "markdown",
   "source": [
    "# Curva ROC"
   ],
   "metadata": {
    "collapsed": false
   }
  },
  {
   "cell_type": "markdown",
   "source": [
    "## SVC"
   ],
   "metadata": {
    "collapsed": false
   }
  },
  {
   "cell_type": "code",
   "execution_count": 28,
   "outputs": [
    {
     "name": "stderr",
     "output_type": "stream",
     "text": [
      "C:\\Users\\Pichau\\miniconda3\\envs\\machine-learning-project\\lib\\site-packages\\sklearn\\utils\\deprecation.py:87: FutureWarning: Function plot_roc_curve is deprecated; Function :func:`plot_roc_curve` is deprecated in 1.0 and will be removed in 1.2. Use one of the class methods: :meth:`sklearn.metric.RocCurveDisplay.from_predictions` or :meth:`sklearn.metric.RocCurveDisplay.from_estimator`.\n",
      "  warnings.warn(msg, category=FutureWarning)\n",
      "C:\\Users\\Pichau\\miniconda3\\envs\\machine-learning-project\\lib\\site-packages\\sklearn\\utils\\deprecation.py:87: FutureWarning: Function plot_precision_recall_curve is deprecated; Function `plot_precision_recall_curve` is deprecated in 1.0 and will be removed in 1.2. Use one of the class methods: PrecisionRecallDisplay.from_predictions or PrecisionRecallDisplay.from_estimator.\n",
      "  warnings.warn(msg, category=FutureWarning)\n"
     ]
    },
    {
     "data": {
      "text/plain": "(<sklearn.metrics._plot.roc_curve.RocCurveDisplay at 0x1e6c691fdc0>,\n <sklearn.metrics._plot.precision_recall_curve.PrecisionRecallDisplay at 0x1e6c6db9690>)"
     },
     "execution_count": 28,
     "metadata": {},
     "output_type": "execute_result"
    },
    {
     "data": {
      "text/plain": "<Figure size 432x288 with 1 Axes>",
      "image/png": "[encoded data removed]"
     },
     "metadata": {
      "needs_background": "light"
     },
     "output_type": "display_data"
    },
    {
     "data": {
      "text/plain": "<Figure size 432x288 with 1 Axes>",
      "image/png": "[encoded data removed]"
     },
     "metadata": {
      "needs_background": "light"
     },
     "output_type": "display_data"
    }
   ],
   "source": [
    "plot_roc_curve(svc_tunned.best_estimator_, x_tst_norm, y_tst), plot_precision_recall_curve(svc_tunned.best_estimator_, x_tst_norm, y_tst)"
   ],
   "metadata": {
    "collapsed": false,
    "pycharm": {
     "name": "#%%\n"
    }
   }
  },
  {
   "cell_type": "markdown",
   "source": [
    "## Random Florest"
   ],
   "metadata": {
    "collapsed": false
   }
  },
  {
   "cell_type": "code",
   "execution_count": 27,
   "outputs": [
    {
     "name": "stderr",
     "output_type": "stream",
     "text": [
      "C:\\Users\\Pichau\\miniconda3\\envs\\machine-learning-project\\lib\\site-packages\\sklearn\\utils\\deprecation.py:87: FutureWarning: Function plot_roc_curve is deprecated; Function :func:`plot_roc_curve` is deprecated in 1.0 and will be removed in 1.2. Use one of the class methods: :meth:`sklearn.metric.RocCurveDisplay.from_predictions` or :meth:`sklearn.metric.RocCurveDisplay.from_estimator`.\n",
      "  warnings.warn(msg, category=FutureWarning)\n",
      "C:\\Users\\Pichau\\miniconda3\\envs\\machine-learning-project\\lib\\site-packages\\sklearn\\utils\\deprecation.py:87: FutureWarning: Function plot_precision_recall_curve is deprecated; Function `plot_precision_recall_curve` is deprecated in 1.0 and will be removed in 1.2. Use one of the class methods: PrecisionRecallDisplay.from_predictions or PrecisionRecallDisplay.from_estimator.\n",
      "  warnings.warn(msg, category=FutureWarning)\n"
     ]
    },
    {
     "data": {
      "text/plain": "(<sklearn.metrics._plot.roc_curve.RocCurveDisplay at 0x1e6c697cac0>,\n <sklearn.metrics._plot.precision_recall_curve.PrecisionRecallDisplay at 0x1e6c6cea620>)"
     },
     "execution_count": 27,
     "metadata": {},
     "output_type": "execute_result"
    },
    {
     "data": {
      "text/plain": "<Figure size 432x288 with 1 Axes>",
      "image/png": "[encoded data removed]"
     },
     "metadata": {
      "needs_background": "light"
     },
     "output_type": "display_data"
    },
    {
     "data": {
      "text/plain": "<Figure size 432x288 with 1 Axes>",
      "image/png": "[encoded data removed]"
     },
     "metadata": {
      "needs_background": "light"
     },
     "output_type": "display_data"
    }
   ],
   "source": [
    "plot_roc_curve(rf_tunned.best_estimator_, x_tst_norm, y_tst), plot_precision_recall_curve(rf_tunned.best_estimator_, x_tst_norm, y_tst)"
   ],
   "metadata": {
    "collapsed": false,
    "pycharm": {
     "name": "#%%\n"
    }
   }
  }
 ],
 "metadata": {
  "kernelspec": {
   "display_name": "Python 3 (ipykernel)",
   "language": "python",
   "name": "python3"
  },
  "language_info": {
   "codemirror_mode": {
    "name": "ipython",
    "version": 3
   },
   "file_extension": ".py",
   "mimetype": "text/x-python",
   "name": "python",
   "nbconvert_exporter": "python",
   "pygments_lexer": "ipython3",
   "version": "3.10.4"
  }
 },
 "nbformat": 4,
 "nbformat_minor": 1
}