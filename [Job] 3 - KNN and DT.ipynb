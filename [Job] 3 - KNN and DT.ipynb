{
 "cells": [
  {
   "cell_type": "markdown",
   "source": [
    "# Bibliotecas"
   ],
   "metadata": {
    "collapsed": false,
    "pycharm": {
     "name": "#%% md\n"
    }
   }
  },
  {
   "cell_type": "code",
   "execution_count": 1,
   "outputs": [],
   "source": [
    "import numpy as np\n",
    "\n",
    "from ml_core.cross_validation import Kfold\n",
    "from ml_core.classification.non_parametric.base_class import NonParametricAlg\n",
    "from ml_core.metrics.distance_metrics import euclidian, Mahalanobis\n",
    "from ml_core.classification.non_parametric.knn import Knn\n",
    "import pandas as pd\n",
    "from ml_core.data_process import *\n",
    "from sklearn.tree import DecisionTreeClassifier\n",
    "import pandas_profiling as pp\n",
    "from ml_core.normalization import z_score_normalization\n",
    "from sklearn.model_selection import train_test_split\n",
    "from ml_core.metrics.error_metrics import acuracy, f1_score, precision"
   ],
   "metadata": {
    "collapsed": false,
    "pycharm": {
     "name": "#%%\n"
    }
   }
  },
  {
   "cell_type": "markdown",
   "source": [
    "# Dados"
   ],
   "metadata": {
    "collapsed": false,
    "pycharm": {
     "name": "#%% md\n"
    }
   }
  },
  {
   "cell_type": "code",
   "execution_count": 2,
   "outputs": [],
   "source": [
    "df = pd.read_csv('data/kc2.csv', header=None)"
   ],
   "metadata": {
    "collapsed": false,
    "pycharm": {
     "name": "#%%\n"
    }
   }
  },
  {
   "cell_type": "code",
   "execution_count": 3,
   "outputs": [
    {
     "data": {
      "text/plain": "        0     1     2     3       4        5     6       7       8   \\\n0      1.1   1.4   1.4   1.4     1.3     1.30  1.30    1.30    1.30   \n1      1.0   1.0   1.0   1.0     1.0     1.00  1.00    1.00    1.00   \n2    415.0  59.0  50.0  51.0  1159.0  8411.31  0.01  103.53   81.24   \n3    230.0  33.0  10.0  16.0   575.0  3732.82  0.03   39.82   93.74   \n4    175.0  26.0  12.0  13.0   500.0  3123.96  0.03   29.48  105.96   \n..     ...   ...   ...   ...     ...      ...   ...     ...     ...   \n517    4.0   1.0   1.0   1.0     5.0    11.61  0.50    2.00    5.80   \n518    4.0   1.0   1.0   1.0     4.0     8.00  0.67    1.50    5.33   \n519    4.0   1.0   1.0   1.0     4.0     8.00  0.67    1.50    5.33   \n520    4.0   1.0   1.0   1.0     5.0    11.61  0.67    1.50    7.74   \n521    3.0   1.0   1.0   1.0     1.0     0.00  0.00    0.00    0.00   \n\n            9   ...     12    13    14    15    16     17     18     19  \\\n0         1.30  ...    2.0   2.0   2.0   2.0   1.2    1.2    1.2    1.2   \n1         1.00  ...    1.0   1.0   1.0   1.0   1.0    1.0    1.0    1.0   \n2    870848.58  ...  359.0  35.0   9.0  10.0  47.0  106.0  692.0  467.0   \n3    148644.06  ...  174.0  15.0  34.0   5.0  23.0   67.0  343.0  232.0   \n4     92103.07  ...  142.0   7.0  19.0   4.0  18.0   58.0  310.0  190.0   \n..         ...  ...    ...   ...   ...   ...   ...    ...    ...    ...   \n517      23.22  ...    2.0   0.0   0.0   0.0   4.0    1.0    4.0    1.0   \n518      12.00  ...    2.0   0.0   0.0   0.0   3.0    1.0    3.0    1.0   \n519      12.00  ...    2.0   0.0   0.0   0.0   3.0    1.0    3.0    1.0   \n520      17.41  ...    2.0   0.0   0.0   0.0   3.0    2.0    3.0    2.0   \n521       0.00  ...    1.0   0.0   0.0   0.0   1.0    0.0    1.0    0.0   \n\n        20   21  \n0      1.4  0.0  \n1      1.0  1.0  \n2    106.0  1.0  \n3     65.0  1.0  \n4     51.0  1.0  \n..     ...  ...  \n517    1.0  1.0  \n518    1.0  1.0  \n519    1.0  1.0  \n520    1.0  1.0  \n521    1.0  1.0  \n\n[522 rows x 22 columns]",
      "text/html": "<div>\n<style scoped>\n    .dataframe tbody tr th:only-of-type {\n        vertical-align: middle;\n    }\n\n    .dataframe tbody tr th {\n        vertical-align: top;\n    }\n\n    .dataframe thead th {\n        text-align: right;\n    }\n</style>\n<table border=\"1\" class=\"dataframe\">\n  <thead>\n    <tr style=\"text-align: right;\">\n      <th></th>\n      <th>0</th>\n      <th>1</th>\n      <th>2</th>\n      <th>3</th>\n      <th>4</th>\n      <th>5</th>\n      <th>6</th>\n      <th>7</th>\n      <th>8</th>\n      <th>9</th>\n      <th>...</th>\n      <th>12</th>\n      <th>13</th>\n      <th>14</th>\n      <th>15</th>\n      <th>16</th>\n      <th>17</th>\n      <th>18</th>\n      <th>19</th>\n      <th>20</th>\n      <th>21</th>\n    </tr>\n  </thead>\n  <tbody>\n    <tr>\n      <th>0</th>\n      <td>1.1</td>\n      <td>1.4</td>\n      <td>1.4</td>\n      <td>1.4</td>\n      <td>1.3</td>\n      <td>1.30</td>\n      <td>1.30</td>\n      <td>1.30</td>\n      <td>1.30</td>\n      <td>1.30</td>\n      <td>...</td>\n      <td>2.0</td>\n      <td>2.0</td>\n      <td>2.0</td>\n      <td>2.0</td>\n      <td>1.2</td>\n      <td>1.2</td>\n      <td>1.2</td>\n      <td>1.2</td>\n      <td>1.4</td>\n      <td>0.0</td>\n    </tr>\n    <tr>\n      <th>1</th>\n      <td>1.0</td>\n      <td>1.0</td>\n      <td>1.0</td>\n      <td>1.0</td>\n      <td>1.0</td>\n      <td>1.00</td>\n      <td>1.00</td>\n      <td>1.00</td>\n      <td>1.00</td>\n      <td>1.00</td>\n      <td>...</td>\n      <td>1.0</td>\n      <td>1.0</td>\n      <td>1.0</td>\n      <td>1.0</td>\n      <td>1.0</td>\n      <td>1.0</td>\n      <td>1.0</td>\n      <td>1.0</td>\n      <td>1.0</td>\n      <td>1.0</td>\n    </tr>\n    <tr>\n      <th>2</th>\n      <td>415.0</td>\n      <td>59.0</td>\n      <td>50.0</td>\n      <td>51.0</td>\n      <td>1159.0</td>\n      <td>8411.31</td>\n      <td>0.01</td>\n      <td>103.53</td>\n      <td>81.24</td>\n      <td>870848.58</td>\n      <td>...</td>\n      <td>359.0</td>\n      <td>35.0</td>\n      <td>9.0</td>\n      <td>10.0</td>\n      <td>47.0</td>\n      <td>106.0</td>\n      <td>692.0</td>\n      <td>467.0</td>\n      <td>106.0</td>\n      <td>1.0</td>\n    </tr>\n    <tr>\n      <th>3</th>\n      <td>230.0</td>\n      <td>33.0</td>\n      <td>10.0</td>\n      <td>16.0</td>\n      <td>575.0</td>\n      <td>3732.82</td>\n      <td>0.03</td>\n      <td>39.82</td>\n      <td>93.74</td>\n      <td>148644.06</td>\n      <td>...</td>\n      <td>174.0</td>\n      <td>15.0</td>\n      <td>34.0</td>\n      <td>5.0</td>\n      <td>23.0</td>\n      <td>67.0</td>\n      <td>343.0</td>\n      <td>232.0</td>\n      <td>65.0</td>\n      <td>1.0</td>\n    </tr>\n    <tr>\n      <th>4</th>\n      <td>175.0</td>\n      <td>26.0</td>\n      <td>12.0</td>\n      <td>13.0</td>\n      <td>500.0</td>\n      <td>3123.96</td>\n      <td>0.03</td>\n      <td>29.48</td>\n      <td>105.96</td>\n      <td>92103.07</td>\n      <td>...</td>\n      <td>142.0</td>\n      <td>7.0</td>\n      <td>19.0</td>\n      <td>4.0</td>\n      <td>18.0</td>\n      <td>58.0</td>\n      <td>310.0</td>\n      <td>190.0</td>\n      <td>51.0</td>\n      <td>1.0</td>\n    </tr>\n    <tr>\n      <th>...</th>\n      <td>...</td>\n      <td>...</td>\n      <td>...</td>\n      <td>...</td>\n      <td>...</td>\n      <td>...</td>\n      <td>...</td>\n      <td>...</td>\n      <td>...</td>\n      <td>...</td>\n      <td>...</td>\n      <td>...</td>\n      <td>...</td>\n      <td>...</td>\n      <td>...</td>\n      <td>...</td>\n      <td>...</td>\n      <td>...</td>\n      <td>...</td>\n      <td>...</td>\n      <td>...</td>\n    </tr>\n    <tr>\n      <th>517</th>\n      <td>4.0</td>\n      <td>1.0</td>\n      <td>1.0</td>\n      <td>1.0</td>\n      <td>5.0</td>\n      <td>11.61</td>\n      <td>0.50</td>\n      <td>2.00</td>\n      <td>5.80</td>\n      <td>23.22</td>\n      <td>...</td>\n      <td>2.0</td>\n      <td>0.0</td>\n      <td>0.0</td>\n      <td>0.0</td>\n      <td>4.0</td>\n      <td>1.0</td>\n      <td>4.0</td>\n      <td>1.0</td>\n      <td>1.0</td>\n      <td>1.0</td>\n    </tr>\n    <tr>\n      <th>518</th>\n      <td>4.0</td>\n      <td>1.0</td>\n      <td>1.0</td>\n      <td>1.0</td>\n      <td>4.0</td>\n      <td>8.00</td>\n      <td>0.67</td>\n      <td>1.50</td>\n      <td>5.33</td>\n      <td>12.00</td>\n      <td>...</td>\n      <td>2.0</td>\n      <td>0.0</td>\n      <td>0.0</td>\n      <td>0.0</td>\n      <td>3.0</td>\n      <td>1.0</td>\n      <td>3.0</td>\n      <td>1.0</td>\n      <td>1.0</td>\n      <td>1.0</td>\n    </tr>\n    <tr>\n      <th>519</th>\n      <td>4.0</td>\n      <td>1.0</td>\n      <td>1.0</td>\n      <td>1.0</td>\n      <td>4.0</td>\n      <td>8.00</td>\n      <td>0.67</td>\n      <td>1.50</td>\n      <td>5.33</td>\n      <td>12.00</td>\n      <td>...</td>\n      <td>2.0</td>\n      <td>0.0</td>\n      <td>0.0</td>\n      <td>0.0</td>\n      <td>3.0</td>\n      <td>1.0</td>\n      <td>3.0</td>\n      <td>1.0</td>\n      <td>1.0</td>\n      <td>1.0</td>\n    </tr>\n    <tr>\n      <th>520</th>\n      <td>4.0</td>\n      <td>1.0</td>\n      <td>1.0</td>\n      <td>1.0</td>\n      <td>5.0</td>\n      <td>11.61</td>\n      <td>0.67</td>\n      <td>1.50</td>\n      <td>7.74</td>\n      <td>17.41</td>\n      <td>...</td>\n      <td>2.0</td>\n      <td>0.0</td>\n      <td>0.0</td>\n      <td>0.0</td>\n      <td>3.0</td>\n      <td>2.0</td>\n      <td>3.0</td>\n      <td>2.0</td>\n      <td>1.0</td>\n      <td>1.0</td>\n    </tr>\n    <tr>\n      <th>521</th>\n      <td>3.0</td>\n      <td>1.0</td>\n      <td>1.0</td>\n      <td>1.0</td>\n      <td>1.0</td>\n      <td>0.00</td>\n      <td>0.00</td>\n      <td>0.00</td>\n      <td>0.00</td>\n      <td>0.00</td>\n      <td>...</td>\n      <td>1.0</td>\n      <td>0.0</td>\n      <td>0.0</td>\n      <td>0.0</td>\n      <td>1.0</td>\n      <td>0.0</td>\n      <td>1.0</td>\n      <td>0.0</td>\n      <td>1.0</td>\n      <td>1.0</td>\n    </tr>\n  </tbody>\n</table>\n<p>522 rows × 22 columns</p>\n</div>"
     },
     "execution_count": 3,
     "metadata": {},
     "output_type": "execute_result"
    }
   ],
   "source": [
    "df"
   ],
   "metadata": {
    "collapsed": false,
    "pycharm": {
     "name": "#%%\n"
    }
   }
  },
  {
   "cell_type": "markdown",
   "source": [
    "# Profile"
   ],
   "metadata": {
    "collapsed": false,
    "pycharm": {
     "name": "#%% md\n"
    }
   }
  },
  {
   "cell_type": "code",
   "execution_count": 4,
   "outputs": [],
   "source": [
    "# profile = pp.ProfileReport(df, title=\"Demo de EDA Automatico\", explorative=True)"
   ],
   "metadata": {
    "collapsed": false,
    "pycharm": {
     "name": "#%%\n"
    }
   }
  },
  {
   "cell_type": "code",
   "execution_count": 5,
   "outputs": [],
   "source": [
    "# profile.to_file(\"meu_report.html\")"
   ],
   "metadata": {
    "collapsed": false,
    "pycharm": {
     "name": "#%%\n"
    }
   }
  },
  {
   "cell_type": "markdown",
   "source": [
    "# Remoção de Duplicatas"
   ],
   "metadata": {
    "collapsed": false,
    "pycharm": {
     "name": "#%% md\n"
    }
   }
  },
  {
   "cell_type": "code",
   "execution_count": 6,
   "outputs": [],
   "source": [
    "df_unique = df.drop_duplicates()"
   ],
   "metadata": {
    "collapsed": false,
    "pycharm": {
     "name": "#%%\n"
    }
   }
  },
  {
   "cell_type": "code",
   "execution_count": 7,
   "outputs": [
    {
     "data": {
      "text/plain": "        0     1     2     3       4        5     6       7       8   \\\n0      1.1   1.4   1.4   1.4     1.3     1.30  1.30    1.30    1.30   \n1      1.0   1.0   1.0   1.0     1.0     1.00  1.00    1.00    1.00   \n2    415.0  59.0  50.0  51.0  1159.0  8411.31  0.01  103.53   81.24   \n3    230.0  33.0  10.0  16.0   575.0  3732.82  0.03   39.82   93.74   \n4    175.0  26.0  12.0  13.0   500.0  3123.96  0.03   29.48  105.96   \n..     ...   ...   ...   ...     ...      ...   ...     ...     ...   \n516    6.0   2.0   1.0   1.0    15.0    53.77  0.40    2.50   21.51   \n517    4.0   1.0   1.0   1.0     5.0    11.61  0.50    2.00    5.80   \n518    4.0   1.0   1.0   1.0     4.0     8.00  0.67    1.50    5.33   \n520    4.0   1.0   1.0   1.0     5.0    11.61  0.67    1.50    7.74   \n521    3.0   1.0   1.0   1.0     1.0     0.00  0.00    0.00    0.00   \n\n            9   ...     12    13    14    15    16     17     18     19  \\\n0         1.30  ...    2.0   2.0   2.0   2.0   1.2    1.2    1.2    1.2   \n1         1.00  ...    1.0   1.0   1.0   1.0   1.0    1.0    1.0    1.0   \n2    870848.58  ...  359.0  35.0   9.0  10.0  47.0  106.0  692.0  467.0   \n3    148644.06  ...  174.0  15.0  34.0   5.0  23.0   67.0  343.0  232.0   \n4     92103.07  ...  142.0   7.0  19.0   4.0  18.0   58.0  310.0  190.0   \n..         ...  ...    ...   ...   ...   ...   ...    ...    ...    ...   \n516     134.44  ...    2.0   0.0   2.0   0.0   5.0    7.0    8.0    7.0   \n517      23.22  ...    2.0   0.0   0.0   0.0   4.0    1.0    4.0    1.0   \n518      12.00  ...    2.0   0.0   0.0   0.0   3.0    1.0    3.0    1.0   \n520      17.41  ...    2.0   0.0   0.0   0.0   3.0    2.0    3.0    2.0   \n521       0.00  ...    1.0   0.0   0.0   0.0   1.0    0.0    1.0    0.0   \n\n        20   21  \n0      1.4  0.0  \n1      1.0  1.0  \n2    106.0  1.0  \n3     65.0  1.0  \n4     51.0  1.0  \n..     ...  ...  \n516    3.0  1.0  \n517    1.0  1.0  \n518    1.0  1.0  \n520    1.0  1.0  \n521    1.0  1.0  \n\n[375 rows x 22 columns]",
      "text/html": "<div>\n<style scoped>\n    .dataframe tbody tr th:only-of-type {\n        vertical-align: middle;\n    }\n\n    .dataframe tbody tr th {\n        vertical-align: top;\n    }\n\n    .dataframe thead th {\n        text-align: right;\n    }\n</style>\n<table border=\"1\" class=\"dataframe\">\n  <thead>\n    <tr style=\"text-align: right;\">\n      <th></th>\n      <th>0</th>\n      <th>1</th>\n      <th>2</th>\n      <th>3</th>\n      <th>4</th>\n      <th>5</th>\n      <th>6</th>\n      <th>7</th>\n      <th>8</th>\n      <th>9</th>\n      <th>...</th>\n      <th>12</th>\n      <th>13</th>\n      <th>14</th>\n      <th>15</th>\n      <th>16</th>\n      <th>17</th>\n      <th>18</th>\n      <th>19</th>\n      <th>20</th>\n      <th>21</th>\n    </tr>\n  </thead>\n  <tbody>\n    <tr>\n      <th>0</th>\n      <td>1.1</td>\n      <td>1.4</td>\n      <td>1.4</td>\n      <td>1.4</td>\n      <td>1.3</td>\n      <td>1.30</td>\n      <td>1.30</td>\n      <td>1.30</td>\n      <td>1.30</td>\n      <td>1.30</td>\n      <td>...</td>\n      <td>2.0</td>\n      <td>2.0</td>\n      <td>2.0</td>\n      <td>2.0</td>\n      <td>1.2</td>\n      <td>1.2</td>\n      <td>1.2</td>\n      <td>1.2</td>\n      <td>1.4</td>\n      <td>0.0</td>\n    </tr>\n    <tr>\n      <th>1</th>\n      <td>1.0</td>\n      <td>1.0</td>\n      <td>1.0</td>\n      <td>1.0</td>\n      <td>1.0</td>\n      <td>1.00</td>\n      <td>1.00</td>\n      <td>1.00</td>\n      <td>1.00</td>\n      <td>1.00</td>\n      <td>...</td>\n      <td>1.0</td>\n      <td>1.0</td>\n      <td>1.0</td>\n      <td>1.0</td>\n      <td>1.0</td>\n      <td>1.0</td>\n      <td>1.0</td>\n      <td>1.0</td>\n      <td>1.0</td>\n      <td>1.0</td>\n    </tr>\n    <tr>\n      <th>2</th>\n      <td>415.0</td>\n      <td>59.0</td>\n      <td>50.0</td>\n      <td>51.0</td>\n      <td>1159.0</td>\n      <td>8411.31</td>\n      <td>0.01</td>\n      <td>103.53</td>\n      <td>81.24</td>\n      <td>870848.58</td>\n      <td>...</td>\n      <td>359.0</td>\n      <td>35.0</td>\n      <td>9.0</td>\n      <td>10.0</td>\n      <td>47.0</td>\n      <td>106.0</td>\n      <td>692.0</td>\n      <td>467.0</td>\n      <td>106.0</td>\n      <td>1.0</td>\n    </tr>\n    <tr>\n      <th>3</th>\n      <td>230.0</td>\n      <td>33.0</td>\n      <td>10.0</td>\n      <td>16.0</td>\n      <td>575.0</td>\n      <td>3732.82</td>\n      <td>0.03</td>\n      <td>39.82</td>\n      <td>93.74</td>\n      <td>148644.06</td>\n      <td>...</td>\n      <td>174.0</td>\n      <td>15.0</td>\n      <td>34.0</td>\n      <td>5.0</td>\n      <td>23.0</td>\n      <td>67.0</td>\n      <td>343.0</td>\n      <td>232.0</td>\n      <td>65.0</td>\n      <td>1.0</td>\n    </tr>\n    <tr>\n      <th>4</th>\n      <td>175.0</td>\n      <td>26.0</td>\n      <td>12.0</td>\n      <td>13.0</td>\n      <td>500.0</td>\n      <td>3123.96</td>\n      <td>0.03</td>\n      <td>29.48</td>\n      <td>105.96</td>\n      <td>92103.07</td>\n      <td>...</td>\n      <td>142.0</td>\n      <td>7.0</td>\n      <td>19.0</td>\n      <td>4.0</td>\n      <td>18.0</td>\n      <td>58.0</td>\n      <td>310.0</td>\n      <td>190.0</td>\n      <td>51.0</td>\n      <td>1.0</td>\n    </tr>\n    <tr>\n      <th>...</th>\n      <td>...</td>\n      <td>...</td>\n      <td>...</td>\n      <td>...</td>\n      <td>...</td>\n      <td>...</td>\n      <td>...</td>\n      <td>...</td>\n      <td>...</td>\n      <td>...</td>\n      <td>...</td>\n      <td>...</td>\n      <td>...</td>\n      <td>...</td>\n      <td>...</td>\n      <td>...</td>\n      <td>...</td>\n      <td>...</td>\n      <td>...</td>\n      <td>...</td>\n      <td>...</td>\n    </tr>\n    <tr>\n      <th>516</th>\n      <td>6.0</td>\n      <td>2.0</td>\n      <td>1.0</td>\n      <td>1.0</td>\n      <td>15.0</td>\n      <td>53.77</td>\n      <td>0.40</td>\n      <td>2.50</td>\n      <td>21.51</td>\n      <td>134.44</td>\n      <td>...</td>\n      <td>2.0</td>\n      <td>0.0</td>\n      <td>2.0</td>\n      <td>0.0</td>\n      <td>5.0</td>\n      <td>7.0</td>\n      <td>8.0</td>\n      <td>7.0</td>\n      <td>3.0</td>\n      <td>1.0</td>\n    </tr>\n    <tr>\n      <th>517</th>\n      <td>4.0</td>\n      <td>1.0</td>\n      <td>1.0</td>\n      <td>1.0</td>\n      <td>5.0</td>\n      <td>11.61</td>\n      <td>0.50</td>\n      <td>2.00</td>\n      <td>5.80</td>\n      <td>23.22</td>\n      <td>...</td>\n      <td>2.0</td>\n      <td>0.0</td>\n      <td>0.0</td>\n      <td>0.0</td>\n      <td>4.0</td>\n      <td>1.0</td>\n      <td>4.0</td>\n      <td>1.0</td>\n      <td>1.0</td>\n      <td>1.0</td>\n    </tr>\n    <tr>\n      <th>518</th>\n      <td>4.0</td>\n      <td>1.0</td>\n      <td>1.0</td>\n      <td>1.0</td>\n      <td>4.0</td>\n      <td>8.00</td>\n      <td>0.67</td>\n      <td>1.50</td>\n      <td>5.33</td>\n      <td>12.00</td>\n      <td>...</td>\n      <td>2.0</td>\n      <td>0.0</td>\n      <td>0.0</td>\n      <td>0.0</td>\n      <td>3.0</td>\n      <td>1.0</td>\n      <td>3.0</td>\n      <td>1.0</td>\n      <td>1.0</td>\n      <td>1.0</td>\n    </tr>\n    <tr>\n      <th>520</th>\n      <td>4.0</td>\n      <td>1.0</td>\n      <td>1.0</td>\n      <td>1.0</td>\n      <td>5.0</td>\n      <td>11.61</td>\n      <td>0.67</td>\n      <td>1.50</td>\n      <td>7.74</td>\n      <td>17.41</td>\n      <td>...</td>\n      <td>2.0</td>\n      <td>0.0</td>\n      <td>0.0</td>\n      <td>0.0</td>\n      <td>3.0</td>\n      <td>2.0</td>\n      <td>3.0</td>\n      <td>2.0</td>\n      <td>1.0</td>\n      <td>1.0</td>\n    </tr>\n    <tr>\n      <th>521</th>\n      <td>3.0</td>\n      <td>1.0</td>\n      <td>1.0</td>\n      <td>1.0</td>\n      <td>1.0</td>\n      <td>0.00</td>\n      <td>0.00</td>\n      <td>0.00</td>\n      <td>0.00</td>\n      <td>0.00</td>\n      <td>...</td>\n      <td>1.0</td>\n      <td>0.0</td>\n      <td>0.0</td>\n      <td>0.0</td>\n      <td>1.0</td>\n      <td>0.0</td>\n      <td>1.0</td>\n      <td>0.0</td>\n      <td>1.0</td>\n      <td>1.0</td>\n    </tr>\n  </tbody>\n</table>\n<p>375 rows × 22 columns</p>\n</div>"
     },
     "execution_count": 7,
     "metadata": {},
     "output_type": "execute_result"
    }
   ],
   "source": [
    "df_unique"
   ],
   "metadata": {
    "collapsed": false,
    "pycharm": {
     "name": "#%%\n"
    }
   }
  },
  {
   "cell_type": "markdown",
   "source": [
    "# Separando Arrays"
   ],
   "metadata": {
    "collapsed": false,
    "pycharm": {
     "name": "#%% md\n"
    }
   }
  },
  {
   "cell_type": "code",
   "execution_count": 8,
   "outputs": [],
   "source": [
    "arr = df_unique.to_numpy()"
   ],
   "metadata": {
    "collapsed": false,
    "pycharm": {
     "name": "#%%\n"
    }
   }
  },
  {
   "cell_type": "code",
   "execution_count": 9,
   "outputs": [],
   "source": [
    "X = arr[:, :-1]\n",
    "y = arr[:, -1].reshape([-1,1])"
   ],
   "metadata": {
    "collapsed": false,
    "pycharm": {
     "name": "#%%\n"
    }
   }
  },
  {
   "cell_type": "code",
   "execution_count": 10,
   "outputs": [],
   "source": [
    "X_norm = np.empty_like(X)\n",
    "\n",
    "for idx, col in enumerate(X.T):\n",
    "\n",
    "    norm = z_score_normalization(col)\n",
    "\n",
    "    X_norm[:, idx] = norm"
   ],
   "metadata": {
    "collapsed": false,
    "pycharm": {
     "name": "#%%\n"
    }
   }
  },
  {
   "cell_type": "code",
   "execution_count": 11,
   "outputs": [],
   "source": [
    "X_trn, X_tst, y_trn, y_tst = train_test_split(X_norm, y, test_size=0.2, random_state=42)\n"
   ],
   "metadata": {
    "collapsed": false,
    "pycharm": {
     "name": "#%%\n"
    }
   }
  },
  {
   "cell_type": "markdown",
   "source": [
    "# Modelos"
   ],
   "metadata": {
    "collapsed": false,
    "pycharm": {
     "name": "#%% md\n"
    }
   }
  },
  {
   "cell_type": "markdown",
   "source": [
    "# KNN - Euclidiano"
   ],
   "metadata": {
    "collapsed": false,
    "pycharm": {
     "name": "#%% md\n"
    }
   }
  },
  {
   "cell_type": "code",
   "execution_count": 12,
   "outputs": [],
   "source": [
    "knn_euclidian = Knn(\n",
    "    X_trn,\n",
    "    y_trn,\n",
    "    4,\n",
    "    euclidian\n",
    ")"
   ],
   "metadata": {
    "collapsed": false,
    "pycharm": {
     "name": "#%%\n"
    }
   }
  },
  {
   "cell_type": "code",
   "execution_count": 13,
   "outputs": [],
   "source": [
    "preds_euclidian = knn_euclidian.predict(X_tst)"
   ],
   "metadata": {
    "collapsed": false,
    "pycharm": {
     "name": "#%%\n"
    }
   }
  },
  {
   "cell_type": "code",
   "execution_count": 14,
   "outputs": [
    {
     "data": {
      "text/plain": "(0.84, 0.345679012345679, 0.2222222222222222)"
     },
     "execution_count": 14,
     "metadata": {},
     "output_type": "execute_result"
    }
   ],
   "source": [
    "acuracy(y_tst, preds_euclidian), f1_score(y_tst, preds_euclidian), precision(y_tst, preds_euclidian)"
   ],
   "metadata": {
    "collapsed": false,
    "pycharm": {
     "name": "#%%\n"
    }
   }
  },
  {
   "cell_type": "markdown",
   "source": [
    "# KNN - Mahalanobis"
   ],
   "metadata": {
    "collapsed": false,
    "pycharm": {
     "name": "#%% md\n"
    }
   }
  },
  {
   "cell_type": "code",
   "execution_count": 15,
   "outputs": [],
   "source": [
    "cov_x = np.cov(X_trn.T)"
   ],
   "metadata": {
    "collapsed": false,
    "pycharm": {
     "name": "#%%\n"
    }
   }
  },
  {
   "cell_type": "code",
   "execution_count": 16,
   "outputs": [],
   "source": [
    "mahalanobis = Mahalanobis(cov_x)"
   ],
   "metadata": {
    "collapsed": false,
    "pycharm": {
     "name": "#%%\n"
    }
   }
  },
  {
   "cell_type": "code",
   "execution_count": 17,
   "outputs": [],
   "source": [
    "knn_mahalanobis = Knn(\n",
    "    X_trn,\n",
    "    y_trn,\n",
    "    4,\n",
    "    mahalanobis\n",
    ")"
   ],
   "metadata": {
    "collapsed": false,
    "pycharm": {
     "name": "#%%\n"
    }
   }
  },
  {
   "cell_type": "code",
   "execution_count": 18,
   "outputs": [],
   "source": [
    "preds_mahalanobis = knn_mahalanobis.predict(X_tst)"
   ],
   "metadata": {
    "collapsed": false,
    "pycharm": {
     "name": "#%%\n"
    }
   }
  },
  {
   "cell_type": "code",
   "execution_count": 19,
   "outputs": [
    {
     "data": {
      "text/plain": "(0.8, 0.15384615384615383, 0.1)"
     },
     "execution_count": 19,
     "metadata": {},
     "output_type": "execute_result"
    }
   ],
   "source": [
    "acuracy(y_tst, preds_mahalanobis), f1_score(y_tst, preds_mahalanobis), precision(y_tst, preds_mahalanobis)"
   ],
   "metadata": {
    "collapsed": false,
    "pycharm": {
     "name": "#%%\n"
    }
   }
  },
  {
   "cell_type": "markdown",
   "source": [
    "# Árvores de Decisão"
   ],
   "metadata": {
    "collapsed": false,
    "pycharm": {
     "name": "#%% md\n"
    }
   }
  },
  {
   "cell_type": "code",
   "execution_count": 20,
   "outputs": [],
   "source": [
    "tree_clf = DecisionTreeClassifier(max_depth=2)"
   ],
   "metadata": {
    "collapsed": false,
    "pycharm": {
     "name": "#%%\n"
    }
   }
  },
  {
   "cell_type": "code",
   "execution_count": 21,
   "outputs": [],
   "source": [
    "tree_model = tree_clf.fit(X_trn, y_trn)"
   ],
   "metadata": {
    "collapsed": false,
    "pycharm": {
     "name": "#%%\n"
    }
   }
  },
  {
   "cell_type": "code",
   "execution_count": 22,
   "outputs": [],
   "source": [
    "preds_tree = tree_model.predict(X_tst).reshape([-1,1])"
   ],
   "metadata": {
    "collapsed": false,
    "pycharm": {
     "name": "#%%\n"
    }
   }
  },
  {
   "cell_type": "code",
   "execution_count": 23,
   "outputs": [
    {
     "data": {
      "text/plain": "(0.84, 0.3950617283950617, 0.25396825396825395)"
     },
     "execution_count": 23,
     "metadata": {},
     "output_type": "execute_result"
    }
   ],
   "source": [
    "acuracy(y_tst, preds_tree), f1_score(y_tst, preds_tree), precision(y_tst, preds_tree)"
   ],
   "metadata": {
    "collapsed": false,
    "pycharm": {
     "name": "#%%\n"
    }
   }
  },
  {
   "cell_type": "markdown",
   "source": [
    "# K Fold"
   ],
   "metadata": {
    "collapsed": false,
    "pycharm": {
     "name": "#%% md\n"
    }
   }
  },
  {
   "cell_type": "code",
   "execution_count": 36,
   "outputs": [],
   "source": [
    "idx = np.arange(X_norm.shape[0])\n",
    "\n",
    "np.random.seed(42)\n",
    "np.random.shuffle(idx)\n",
    "\n",
    "X_shuffle = X_norm[idx]\n",
    "y_shuffle = y[idx]"
   ],
   "metadata": {
    "collapsed": false,
    "pycharm": {
     "name": "#%%\n"
    }
   }
  },
  {
   "cell_type": "code",
   "execution_count": 37,
   "outputs": [],
   "source": [
    "knn_metrics = {\n",
    "    'Acurácia': acuracy,\n",
    "    'F1-Score': f1_score,\n",
    "    'Precisão': precision\n",
    "}"
   ],
   "metadata": {
    "collapsed": false,
    "pycharm": {
     "name": "#%%\n"
    }
   }
  },
  {
   "cell_type": "code",
   "execution_count": 38,
   "outputs": [],
   "source": [
    "dt_metrics = {\n",
    "    'Acurácia': lambda x, y: acuracy(x, y.reshape([-1,1])),\n",
    "    'F1-Score': lambda x, y: f1_score(x, y.reshape([-1,1])),\n",
    "    'Precisão': lambda x, y: precision(x, y.reshape([-1,1]))\n",
    "}"
   ],
   "metadata": {
    "collapsed": false,
    "pycharm": {
     "name": "#%%\n"
    }
   }
  },
  {
   "cell_type": "markdown",
   "source": [
    "# KNN - Euclidiano"
   ],
   "metadata": {
    "collapsed": false,
    "pycharm": {
     "name": "#%% md\n"
    }
   }
  },
  {
   "cell_type": "code",
   "execution_count": 39,
   "outputs": [],
   "source": [
    "k_fold_knn = Kfold(k=10, metrics=knn_metrics, verbose=True)"
   ],
   "metadata": {
    "collapsed": false,
    "pycharm": {
     "name": "#%%\n"
    }
   }
  },
  {
   "cell_type": "code",
   "execution_count": 40,
   "outputs": [],
   "source": [
    "alg_knn = NonParametricAlg(\n",
    "    Knn,\n",
    "    k=5,\n",
    "    dist_function=euclidian\n",
    ")"
   ],
   "metadata": {
    "collapsed": false,
    "pycharm": {
     "name": "#%%\n"
    }
   }
  },
  {
   "cell_type": "code",
   "execution_count": 41,
   "outputs": [
    {
     "name": "stdout",
     "output_type": "stream",
     "text": [
      "--------------REPORTANDO OS RESULTADOS OBTIDOS--------------\n",
      "--------------ACURÁCIA--------------\n",
      "Média: 0.7438833570412519\n",
      "Desvio Padrão: 0.07485074959726377\n",
      "--------------F1-SCORE--------------\n",
      "Média: 0.26769303424252333\n",
      "Desvio Padrão: 0.08063508867176257\n",
      "--------------PRECISÃO--------------\n",
      "Média: 0.1834501963800787\n",
      "Desvio Padrão: 0.0506778081119021\n"
     ]
    }
   ],
   "source": [
    "_ = k_fold_knn(alg_knn, X_shuffle, y_shuffle)"
   ],
   "metadata": {
    "collapsed": false,
    "pycharm": {
     "name": "#%%\n"
    }
   }
  },
  {
   "cell_type": "markdown",
   "source": [
    "# KNN - Mahalanobis"
   ],
   "metadata": {
    "collapsed": false,
    "pycharm": {
     "name": "#%% md\n"
    }
   }
  },
  {
   "cell_type": "code",
   "execution_count": 42,
   "outputs": [],
   "source": [
    "def ajust_mahalanobis(ml_alg, data):\n",
    "    cov_x = np.cov(data['x_trn'].T)\n",
    "    mahalanobis = Mahalanobis(cov_x)\n",
    "\n",
    "    model = ml_alg.fit(\n",
    "\t\t\tdata['x_trn'],\n",
    "\t\t\tdata['y_trn']\n",
    "\t)\n",
    "\n",
    "    model.dist_function = mahalanobis\n",
    "\n",
    "    return model"
   ],
   "metadata": {
    "collapsed": false,
    "pycharm": {
     "name": "#%%\n"
    }
   }
  },
  {
   "cell_type": "code",
   "execution_count": 43,
   "outputs": [],
   "source": [
    "alg_knn_mahalanobis = NonParametricAlg(\n",
    "    Knn,\n",
    "    k=5,\n",
    "    dist_function=mahalanobis\n",
    ")"
   ],
   "metadata": {
    "collapsed": false,
    "pycharm": {
     "name": "#%%\n"
    }
   }
  },
  {
   "cell_type": "code",
   "execution_count": 44,
   "outputs": [
    {
     "name": "stdout",
     "output_type": "stream",
     "text": [
      "--------------REPORTANDO OS RESULTADOS OBTIDOS--------------\n",
      "--------------ACURÁCIA--------------\n",
      "Média: 0.784068278805121\n",
      "Desvio Padrão: 0.038306861103030096\n",
      "--------------F1-SCORE--------------\n",
      "Média: 0.2093377096714709\n",
      "Desvio Padrão: 0.05901009231417996\n",
      "--------------PRECISÃO--------------\n",
      "Média: 0.14290585218143617\n",
      "Desvio Padrão: 0.04313302198637145\n"
     ]
    }
   ],
   "source": [
    "hist = k_fold_knn(alg_knn_mahalanobis, X_shuffle, y_shuffle, apply_alg_function=ajust_mahalanobis)"
   ],
   "metadata": {
    "collapsed": false,
    "pycharm": {
     "name": "#%%\n"
    }
   }
  },
  {
   "cell_type": "markdown",
   "source": [
    "# Arvore de Decisão"
   ],
   "metadata": {
    "collapsed": false,
    "pycharm": {
     "name": "#%% md\n"
    }
   }
  },
  {
   "cell_type": "code",
   "execution_count": 45,
   "outputs": [],
   "source": [
    "k_fold_dt = Kfold(k=10, metrics=dt_metrics, verbose=True)"
   ],
   "metadata": {
    "collapsed": false,
    "pycharm": {
     "name": "#%%\n"
    }
   }
  },
  {
   "cell_type": "code",
   "execution_count": 46,
   "outputs": [],
   "source": [
    "tree_clf = DecisionTreeClassifier(max_depth=5)"
   ],
   "metadata": {
    "collapsed": false,
    "pycharm": {
     "name": "#%%\n"
    }
   }
  },
  {
   "cell_type": "code",
   "execution_count": 47,
   "outputs": [
    {
     "name": "stdout",
     "output_type": "stream",
     "text": [
      "--------------REPORTANDO OS RESULTADOS OBTIDOS--------------\n",
      "--------------ACURÁCIA--------------\n",
      "Média: 0.7363442389758179\n",
      "Desvio Padrão: 0.046509769985574136\n",
      "--------------F1-SCORE--------------\n",
      "Média: 0.2538269935343774\n",
      "Desvio Padrão: 0.07174719535271042\n",
      "--------------PRECISÃO--------------\n",
      "Média: 0.17603506270024624\n",
      "Desvio Padrão: 0.054248782950239986\n"
     ]
    }
   ],
   "source": [
    "_ = k_fold_dt(tree_clf, X_shuffle, y_shuffle)"
   ],
   "metadata": {
    "collapsed": false,
    "pycharm": {
     "name": "#%%\n"
    }
   }
  },
  {
   "cell_type": "code",
   "execution_count": 35,
   "outputs": [],
   "source": [],
   "metadata": {
    "collapsed": false,
    "pycharm": {
     "name": "#%%\n"
    }
   }
  }
 ],
 "metadata": {
  "kernelspec": {
   "display_name": "Python 3",
   "language": "python",
   "name": "python3"
  },
  "language_info": {
   "codemirror_mode": {
    "name": "ipython",
    "version": 2
   },
   "file_extension": ".py",
   "mimetype": "text/x-python",
   "name": "python",
   "nbconvert_exporter": "python",
   "pygments_lexer": "ipython2",
   "version": "2.7.6"
  }
 },
 "nbformat": 4,
 "nbformat_minor": 0
}