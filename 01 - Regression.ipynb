{
 "cells": [
  {
   "cell_type": "markdown",
   "metadata": {},
   "source": [
    "# Bibliotecas"
   ]
  },
  {
   "cell_type": "code",
   "execution_count": 1,
   "metadata": {},
   "outputs": [],
   "source": [
    "import pandas as pd\n",
    "import numpy as np\n",
    "import plotly.express as px\n",
    "import plotly.graph_objs as go\n",
    "from ml_core.utils import Normalization\n",
    "from ml_core.regression import GradientDescent"
   ]
  },
  {
   "cell_type": "markdown",
   "metadata": {
    "pycharm": {
     "name": "#%% md\n"
    }
   },
   "source": [
    "# Leitura dos Dados"
   ]
  },
  {
   "cell_type": "code",
   "execution_count": 2,
   "metadata": {
    "pycharm": {
     "name": "#%%\n"
    }
   },
   "outputs": [],
   "source": [
    "df = pd.read_csv('data/pressao.csv', dtype={'idade': np.float64, 'pressÃ£o':np.float64})"
   ]
  },
  {
   "cell_type": "code",
   "execution_count": 3,
   "metadata": {},
   "outputs": [],
   "source": [
    "df.rename(columns={'idade':'Idade', 'pressÃ£o':'Pressao'}, inplace=True)"
   ]
  },
  {
   "cell_type": "markdown",
   "metadata": {},
   "source": [
    "# Gradiente Descendente"
   ]
  },
  {
   "cell_type": "code",
   "execution_count": 4,
   "outputs": [],
   "source": [
    "gd = GradientDescent()"
   ],
   "metadata": {
    "collapsed": false,
    "pycharm": {
     "name": "#%%\n"
    }
   }
  },
  {
   "cell_type": "markdown",
   "metadata": {},
   "source": [
    "# Normalização"
   ]
  },
  {
   "cell_type": "code",
   "execution_count": 5,
   "metadata": {
    "pycharm": {
     "name": "#%%\n"
    }
   },
   "outputs": [],
   "source": [
    "normalized_age, denormalized_age_function = Normalization.z_score_normalization(df['Idade'].to_numpy())"
   ]
  },
  {
   "cell_type": "code",
   "execution_count": 6,
   "outputs": [],
   "source": [
    "normalized_pressure, denormalized_pressure_function = Normalization.z_score_normalization(df['Pressao'].to_numpy())"
   ],
   "metadata": {
    "collapsed": false,
    "pycharm": {
     "name": "#%%\n"
    }
   }
  },
  {
   "cell_type": "code",
   "execution_count": 6,
   "outputs": [],
   "source": [],
   "metadata": {
    "collapsed": false,
    "pycharm": {
     "name": "#%%\n"
    }
   }
  },
  {
   "cell_type": "code",
   "execution_count": 7,
   "metadata": {
    "pycharm": {
     "name": "#%%\n"
    }
   },
   "outputs": [],
   "source": [
    "X = normalized_age.reshape([-1, 1])\n",
    "\n",
    "y = normalized_pressure.reshape([-1, 1])"
   ]
  },
  {
   "cell_type": "code",
   "execution_count": 8,
   "metadata": {},
   "outputs": [
    {
     "data": {
      "text/plain": "  0%|          | 0/100 [00:00<?, ?it/s]",
      "application/vnd.jupyter.widget-view+json": {
       "version_major": 2,
       "version_minor": 0,
       "model_id": "5a4d9380542641fa8725680991d0c676"
      }
     },
     "metadata": {},
     "output_type": "display_data"
    }
   ],
   "source": [
    "model_gd = gd.fit(X, y, denormalize_function=denormalized_pressure_function)"
   ]
  },
  {
   "cell_type": "code",
   "execution_count": 16,
   "outputs": [],
   "source": [
    "x_ = np.column_stack([\n",
    "\t\t\tnp.ones(X.shape[0]),\n",
    "\t\t\tX\n",
    "\t\t])"
   ],
   "metadata": {
    "collapsed": false,
    "pycharm": {
     "name": "#%%\n"
    }
   }
  },
  {
   "cell_type": "code",
   "execution_count": 17,
   "metadata": {
    "pycharm": {
     "name": "#%%\n"
    }
   },
   "outputs": [],
   "source": [
    "predict =  denormalized_pressure_function(model_gd.predict(x_))"
   ]
  },
  {
   "cell_type": "code",
   "execution_count": 18,
   "metadata": {
    "pycharm": {
     "name": "#%%\n"
    }
   },
   "outputs": [],
   "source": [
    "fig = px.scatter(x=df['Idade'], y=df['Pressao'])"
   ]
  },
  {
   "cell_type": "code",
   "execution_count": 19,
   "metadata": {
    "pycharm": {
     "name": "#%%\n"
    }
   },
   "outputs": [
    {
     "data": {
      "application/vnd.plotly.v1+json": {
       "data": [
        {
         "hovertemplate": "x=%{x}<br>y=%{y}<extra></extra>",
         "legendgroup": "",
         "marker": {
          "color": "#636efa",
          "symbol": "circle"
         },
         "mode": "markers",
         "name": "",
         "orientation": "v",
         "showlegend": false,
         "x": [
          39.0,
          47.0,
          45.0,
          47.0,
          65.0,
          46.0,
          67.0,
          42.0,
          67.0,
          56.0,
          64.0,
          56.0,
          59.0,
          34.0,
          42.0,
          48.0,
          45.0,
          17.0,
          20.0,
          19.0,
          36.0,
          50.0,
          39.0,
          21.0,
          44.0,
          53.0,
          63.0,
          29.0,
          25.0,
          69.0
         ],
         "xaxis": "x",
         "y": [
          144.0,
          220.0,
          138.0,
          145.0,
          162.0,
          142.0,
          170.0,
          124.0,
          158.0,
          154.0,
          162.0,
          150.0,
          140.0,
          110.0,
          128.0,
          130.0,
          135.0,
          114.0,
          116.0,
          124.0,
          136.0,
          142.0,
          120.0,
          120.0,
          160.0,
          158.0,
          144.0,
          130.0,
          125.0,
          175.0
         ],
         "yaxis": "y",
         "type": "scatter"
        },
        {
         "x": [
          39.0,
          47.0,
          45.0,
          47.0,
          65.0,
          46.0,
          67.0,
          42.0,
          67.0,
          56.0,
          64.0,
          56.0,
          59.0,
          34.0,
          42.0,
          48.0,
          45.0,
          17.0,
          20.0,
          19.0,
          36.0,
          50.0,
          39.0,
          21.0,
          44.0,
          53.0,
          63.0,
          29.0,
          25.0,
          69.0
         ],
         "y": [
          143.57015965759035,
          152.81761336106302,
          150.50574993519487,
          152.81761336106302,
          173.62438419387655,
          151.66168164812896,
          175.93624761974473,
          147.03795479639263,
          175.93624761974473,
          163.2209987774698,
          172.46845248094246,
          163.2209987774698,
          166.68879391627206,
          137.79050109291995,
          147.03795479639263,
          153.97354507399712,
          150.50574993519487,
          118.13966197304052,
          121.60745711184276,
          120.45152539890867,
          140.1023645187881,
          156.2854084998653,
          143.57015965759035,
          122.76338882477685,
          149.34981822226078,
          159.75320363866754,
          171.3125207680084,
          132.01084252824953,
          127.38711567651319,
          178.2481110456129
         ],
         "type": "scatter"
        }
       ],
       "layout": {
        "template": {
         "data": {
          "bar": [
           {
            "error_x": {
             "color": "#2a3f5f"
            },
            "error_y": {
             "color": "#2a3f5f"
            },
            "marker": {
             "line": {
              "color": "#E5ECF6",
              "width": 0.5
             },
             "pattern": {
              "fillmode": "overlay",
              "size": 10,
              "solidity": 0.2
             }
            },
            "type": "bar"
           }
          ],
          "barpolar": [
           {
            "marker": {
             "line": {
              "color": "#E5ECF6",
              "width": 0.5
             },
             "pattern": {
              "fillmode": "overlay",
              "size": 10,
              "solidity": 0.2
             }
            },
            "type": "barpolar"
           }
          ],
          "carpet": [
           {
            "aaxis": {
             "endlinecolor": "#2a3f5f",
             "gridcolor": "white",
             "linecolor": "white",
             "minorgridcolor": "white",
             "startlinecolor": "#2a3f5f"
            },
            "baxis": {
             "endlinecolor": "#2a3f5f",
             "gridcolor": "white",
             "linecolor": "white",
             "minorgridcolor": "white",
             "startlinecolor": "#2a3f5f"
            },
            "type": "carpet"
           }
          ],
          "choropleth": [
           {
            "colorbar": {
             "outlinewidth": 0,
             "ticks": ""
            },
            "type": "choropleth"
           }
          ],
          "contour": [
           {
            "colorbar": {
             "outlinewidth": 0,
             "ticks": ""
            },
            "colorscale": [
             [
              0.0,
              "#0d0887"
             ],
             [
              0.1111111111111111,
              "#46039f"
             ],
             [
              0.2222222222222222,
              "#7201a8"
             ],
             [
              0.3333333333333333,
              "#9c179e"
             ],
             [
              0.4444444444444444,
              "#bd3786"
             ],
             [
              0.5555555555555556,
              "#d8576b"
             ],
             [
              0.6666666666666666,
              "#ed7953"
             ],
             [
              0.7777777777777778,
              "#fb9f3a"
             ],
             [
              0.8888888888888888,
              "#fdca26"
             ],
             [
              1.0,
              "#f0f921"
             ]
            ],
            "type": "contour"
           }
          ],
          "contourcarpet": [
           {
            "colorbar": {
             "outlinewidth": 0,
             "ticks": ""
            },
            "type": "contourcarpet"
           }
          ],
          "heatmap": [
           {
            "colorbar": {
             "outlinewidth": 0,
             "ticks": ""
            },
            "colorscale": [
             [
              0.0,
              "#0d0887"
             ],
             [
              0.1111111111111111,
              "#46039f"
             ],
             [
              0.2222222222222222,
              "#7201a8"
             ],
             [
              0.3333333333333333,
              "#9c179e"
             ],
             [
              0.4444444444444444,
              "#bd3786"
             ],
             [
              0.5555555555555556,
              "#d8576b"
             ],
             [
              0.6666666666666666,
              "#ed7953"
             ],
             [
              0.7777777777777778,
              "#fb9f3a"
             ],
             [
              0.8888888888888888,
              "#fdca26"
             ],
             [
              1.0,
              "#f0f921"
             ]
            ],
            "type": "heatmap"
           }
          ],
          "heatmapgl": [
           {
            "colorbar": {
             "outlinewidth": 0,
             "ticks": ""
            },
            "colorscale": [
             [
              0.0,
              "#0d0887"
             ],
             [
              0.1111111111111111,
              "#46039f"
             ],
             [
              0.2222222222222222,
              "#7201a8"
             ],
             [
              0.3333333333333333,
              "#9c179e"
             ],
             [
              0.4444444444444444,
              "#bd3786"
             ],
             [
              0.5555555555555556,
              "#d8576b"
             ],
             [
              0.6666666666666666,
              "#ed7953"
             ],
             [
              0.7777777777777778,
              "#fb9f3a"
             ],
             [
              0.8888888888888888,
              "#fdca26"
             ],
             [
              1.0,
              "#f0f921"
             ]
            ],
            "type": "heatmapgl"
           }
          ],
          "histogram": [
           {
            "marker": {
             "pattern": {
              "fillmode": "overlay",
              "size": 10,
              "solidity": 0.2
             }
            },
            "type": "histogram"
           }
          ],
          "histogram2d": [
           {
            "colorbar": {
             "outlinewidth": 0,
             "ticks": ""
            },
            "colorscale": [
             [
              0.0,
              "#0d0887"
             ],
             [
              0.1111111111111111,
              "#46039f"
             ],
             [
              0.2222222222222222,
              "#7201a8"
             ],
             [
              0.3333333333333333,
              "#9c179e"
             ],
             [
              0.4444444444444444,
              "#bd3786"
             ],
             [
              0.5555555555555556,
              "#d8576b"
             ],
             [
              0.6666666666666666,
              "#ed7953"
             ],
             [
              0.7777777777777778,
              "#fb9f3a"
             ],
             [
              0.8888888888888888,
              "#fdca26"
             ],
             [
              1.0,
              "#f0f921"
             ]
            ],
            "type": "histogram2d"
           }
          ],
          "histogram2dcontour": [
           {
            "colorbar": {
             "outlinewidth": 0,
             "ticks": ""
            },
            "colorscale": [
             [
              0.0,
              "#0d0887"
             ],
             [
              0.1111111111111111,
              "#46039f"
             ],
             [
              0.2222222222222222,
              "#7201a8"
             ],
             [
              0.3333333333333333,
              "#9c179e"
             ],
             [
              0.4444444444444444,
              "#bd3786"
             ],
             [
              0.5555555555555556,
              "#d8576b"
             ],
             [
              0.6666666666666666,
              "#ed7953"
             ],
             [
              0.7777777777777778,
              "#fb9f3a"
             ],
             [
              0.8888888888888888,
              "#fdca26"
             ],
             [
              1.0,
              "#f0f921"
             ]
            ],
            "type": "histogram2dcontour"
           }
          ],
          "mesh3d": [
           {
            "colorbar": {
             "outlinewidth": 0,
             "ticks": ""
            },
            "type": "mesh3d"
           }
          ],
          "parcoords": [
           {
            "line": {
             "colorbar": {
              "outlinewidth": 0,
              "ticks": ""
             }
            },
            "type": "parcoords"
           }
          ],
          "pie": [
           {
            "automargin": true,
            "type": "pie"
           }
          ],
          "scatter": [
           {
            "marker": {
             "colorbar": {
              "outlinewidth": 0,
              "ticks": ""
             }
            },
            "type": "scatter"
           }
          ],
          "scatter3d": [
           {
            "line": {
             "colorbar": {
              "outlinewidth": 0,
              "ticks": ""
             }
            },
            "marker": {
             "colorbar": {
              "outlinewidth": 0,
              "ticks": ""
             }
            },
            "type": "scatter3d"
           }
          ],
          "scattercarpet": [
           {
            "marker": {
             "colorbar": {
              "outlinewidth": 0,
              "ticks": ""
             }
            },
            "type": "scattercarpet"
           }
          ],
          "scattergeo": [
           {
            "marker": {
             "colorbar": {
              "outlinewidth": 0,
              "ticks": ""
             }
            },
            "type": "scattergeo"
           }
          ],
          "scattergl": [
           {
            "marker": {
             "colorbar": {
              "outlinewidth": 0,
              "ticks": ""
             }
            },
            "type": "scattergl"
           }
          ],
          "scattermapbox": [
           {
            "marker": {
             "colorbar": {
              "outlinewidth": 0,
              "ticks": ""
             }
            },
            "type": "scattermapbox"
           }
          ],
          "scatterpolar": [
           {
            "marker": {
             "colorbar": {
              "outlinewidth": 0,
              "ticks": ""
             }
            },
            "type": "scatterpolar"
           }
          ],
          "scatterpolargl": [
           {
            "marker": {
             "colorbar": {
              "outlinewidth": 0,
              "ticks": ""
             }
            },
            "type": "scatterpolargl"
           }
          ],
          "scatterternary": [
           {
            "marker": {
             "colorbar": {
              "outlinewidth": 0,
              "ticks": ""
             }
            },
            "type": "scatterternary"
           }
          ],
          "surface": [
           {
            "colorbar": {
             "outlinewidth": 0,
             "ticks": ""
            },
            "colorscale": [
             [
              0.0,
              "#0d0887"
             ],
             [
              0.1111111111111111,
              "#46039f"
             ],
             [
              0.2222222222222222,
              "#7201a8"
             ],
             [
              0.3333333333333333,
              "#9c179e"
             ],
             [
              0.4444444444444444,
              "#bd3786"
             ],
             [
              0.5555555555555556,
              "#d8576b"
             ],
             [
              0.6666666666666666,
              "#ed7953"
             ],
             [
              0.7777777777777778,
              "#fb9f3a"
             ],
             [
              0.8888888888888888,
              "#fdca26"
             ],
             [
              1.0,
              "#f0f921"
             ]
            ],
            "type": "surface"
           }
          ],
          "table": [
           {
            "cells": {
             "fill": {
              "color": "#EBF0F8"
             },
             "line": {
              "color": "white"
             }
            },
            "header": {
             "fill": {
              "color": "#C8D4E3"
             },
             "line": {
              "color": "white"
             }
            },
            "type": "table"
           }
          ]
         },
         "layout": {
          "annotationdefaults": {
           "arrowcolor": "#2a3f5f",
           "arrowhead": 0,
           "arrowwidth": 1
          },
          "autotypenumbers": "strict",
          "coloraxis": {
           "colorbar": {
            "outlinewidth": 0,
            "ticks": ""
           }
          },
          "colorscale": {
           "diverging": [
            [
             0,
             "#8e0152"
            ],
            [
             0.1,
             "#c51b7d"
            ],
            [
             0.2,
             "#de77ae"
            ],
            [
             0.3,
             "#f1b6da"
            ],
            [
             0.4,
             "#fde0ef"
            ],
            [
             0.5,
             "#f7f7f7"
            ],
            [
             0.6,
             "#e6f5d0"
            ],
            [
             0.7,
             "#b8e186"
            ],
            [
             0.8,
             "#7fbc41"
            ],
            [
             0.9,
             "#4d9221"
            ],
            [
             1,
             "#276419"
            ]
           ],
           "sequential": [
            [
             0.0,
             "#0d0887"
            ],
            [
             0.1111111111111111,
             "#46039f"
            ],
            [
             0.2222222222222222,
             "#7201a8"
            ],
            [
             0.3333333333333333,
             "#9c179e"
            ],
            [
             0.4444444444444444,
             "#bd3786"
            ],
            [
             0.5555555555555556,
             "#d8576b"
            ],
            [
             0.6666666666666666,
             "#ed7953"
            ],
            [
             0.7777777777777778,
             "#fb9f3a"
            ],
            [
             0.8888888888888888,
             "#fdca26"
            ],
            [
             1.0,
             "#f0f921"
            ]
           ],
           "sequentialminus": [
            [
             0.0,
             "#0d0887"
            ],
            [
             0.1111111111111111,
             "#46039f"
            ],
            [
             0.2222222222222222,
             "#7201a8"
            ],
            [
             0.3333333333333333,
             "#9c179e"
            ],
            [
             0.4444444444444444,
             "#bd3786"
            ],
            [
             0.5555555555555556,
             "#d8576b"
            ],
            [
             0.6666666666666666,
             "#ed7953"
            ],
            [
             0.7777777777777778,
             "#fb9f3a"
            ],
            [
             0.8888888888888888,
             "#fdca26"
            ],
            [
             1.0,
             "#f0f921"
            ]
           ]
          },
          "colorway": [
           "#636efa",
           "#EF553B",
           "#00cc96",
           "#ab63fa",
           "#FFA15A",
           "#19d3f3",
           "#FF6692",
           "#B6E880",
           "#FF97FF",
           "#FECB52"
          ],
          "font": {
           "color": "#2a3f5f"
          },
          "geo": {
           "bgcolor": "white",
           "lakecolor": "white",
           "landcolor": "#E5ECF6",
           "showlakes": true,
           "showland": true,
           "subunitcolor": "white"
          },
          "hoverlabel": {
           "align": "left"
          },
          "hovermode": "closest",
          "mapbox": {
           "style": "light"
          },
          "paper_bgcolor": "white",
          "plot_bgcolor": "#E5ECF6",
          "polar": {
           "angularaxis": {
            "gridcolor": "white",
            "linecolor": "white",
            "ticks": ""
           },
           "bgcolor": "#E5ECF6",
           "radialaxis": {
            "gridcolor": "white",
            "linecolor": "white",
            "ticks": ""
           }
          },
          "scene": {
           "xaxis": {
            "backgroundcolor": "#E5ECF6",
            "gridcolor": "white",
            "gridwidth": 2,
            "linecolor": "white",
            "showbackground": true,
            "ticks": "",
            "zerolinecolor": "white"
           },
           "yaxis": {
            "backgroundcolor": "#E5ECF6",
            "gridcolor": "white",
            "gridwidth": 2,
            "linecolor": "white",
            "showbackground": true,
            "ticks": "",
            "zerolinecolor": "white"
           },
           "zaxis": {
            "backgroundcolor": "#E5ECF6",
            "gridcolor": "white",
            "gridwidth": 2,
            "linecolor": "white",
            "showbackground": true,
            "ticks": "",
            "zerolinecolor": "white"
           }
          },
          "shapedefaults": {
           "line": {
            "color": "#2a3f5f"
           }
          },
          "ternary": {
           "aaxis": {
            "gridcolor": "white",
            "linecolor": "white",
            "ticks": ""
           },
           "baxis": {
            "gridcolor": "white",
            "linecolor": "white",
            "ticks": ""
           },
           "bgcolor": "#E5ECF6",
           "caxis": {
            "gridcolor": "white",
            "linecolor": "white",
            "ticks": ""
           }
          },
          "title": {
           "x": 0.05
          },
          "xaxis": {
           "automargin": true,
           "gridcolor": "white",
           "linecolor": "white",
           "ticks": "",
           "title": {
            "standoff": 15
           },
           "zerolinecolor": "white",
           "zerolinewidth": 2
          },
          "yaxis": {
           "automargin": true,
           "gridcolor": "white",
           "linecolor": "white",
           "ticks": "",
           "title": {
            "standoff": 15
           },
           "zerolinecolor": "white",
           "zerolinewidth": 2
          }
         }
        },
        "xaxis": {
         "anchor": "y",
         "domain": [
          0.0,
          1.0
         ],
         "title": {
          "text": "x"
         }
        },
        "yaxis": {
         "anchor": "x",
         "domain": [
          0.0,
          1.0
         ],
         "title": {
          "text": "y"
         }
        },
        "legend": {
         "tracegroupgap": 0
        },
        "margin": {
         "t": 60
        }
       },
       "config": {
        "plotlyServerURL": "https://plot.ly"
       }
      },
      "text/html": "<div>                            <div id=\"c387604f-f1de-4c9b-8bc4-29137dc63ff2\" class=\"plotly-graph-div\" style=\"height:525px; width:100%;\"></div>            <script type=\"text/javascript\">                require([\"plotly\"], function(Plotly) {                    window.PLOTLYENV=window.PLOTLYENV || {};                                    if (document.getElementById(\"c387604f-f1de-4c9b-8bc4-29137dc63ff2\")) {                    Plotly.newPlot(                        \"c387604f-f1de-4c9b-8bc4-29137dc63ff2\",                        [{\"hovertemplate\":\"x=%{x}<br>y=%{y}<extra></extra>\",\"legendgroup\":\"\",\"marker\":{\"color\":\"#636efa\",\"symbol\":\"circle\"},\"mode\":\"markers\",\"name\":\"\",\"orientation\":\"v\",\"showlegend\":false,\"x\":[39.0,47.0,45.0,47.0,65.0,46.0,67.0,42.0,67.0,56.0,64.0,56.0,59.0,34.0,42.0,48.0,45.0,17.0,20.0,19.0,36.0,50.0,39.0,21.0,44.0,53.0,63.0,29.0,25.0,69.0],\"xaxis\":\"x\",\"y\":[144.0,220.0,138.0,145.0,162.0,142.0,170.0,124.0,158.0,154.0,162.0,150.0,140.0,110.0,128.0,130.0,135.0,114.0,116.0,124.0,136.0,142.0,120.0,120.0,160.0,158.0,144.0,130.0,125.0,175.0],\"yaxis\":\"y\",\"type\":\"scatter\"},{\"x\":[39.0,47.0,45.0,47.0,65.0,46.0,67.0,42.0,67.0,56.0,64.0,56.0,59.0,34.0,42.0,48.0,45.0,17.0,20.0,19.0,36.0,50.0,39.0,21.0,44.0,53.0,63.0,29.0,25.0,69.0],\"y\":[143.57015965759035,152.81761336106302,150.50574993519487,152.81761336106302,173.62438419387655,151.66168164812896,175.93624761974473,147.03795479639263,175.93624761974473,163.2209987774698,172.46845248094246,163.2209987774698,166.68879391627206,137.79050109291995,147.03795479639263,153.97354507399712,150.50574993519487,118.13966197304052,121.60745711184276,120.45152539890867,140.1023645187881,156.2854084998653,143.57015965759035,122.76338882477685,149.34981822226078,159.75320363866754,171.3125207680084,132.01084252824953,127.38711567651319,178.2481110456129],\"type\":\"scatter\"}],                        {\"template\":{\"data\":{\"bar\":[{\"error_x\":{\"color\":\"#2a3f5f\"},\"error_y\":{\"color\":\"#2a3f5f\"},\"marker\":{\"line\":{\"color\":\"#E5ECF6\",\"width\":0.5},\"pattern\":{\"fillmode\":\"overlay\",\"size\":10,\"solidity\":0.2}},\"type\":\"bar\"}],\"barpolar\":[{\"marker\":{\"line\":{\"color\":\"#E5ECF6\",\"width\":0.5},\"pattern\":{\"fillmode\":\"overlay\",\"size\":10,\"solidity\":0.2}},\"type\":\"barpolar\"}],\"carpet\":[{\"aaxis\":{\"endlinecolor\":\"#2a3f5f\",\"gridcolor\":\"white\",\"linecolor\":\"white\",\"minorgridcolor\":\"white\",\"startlinecolor\":\"#2a3f5f\"},\"baxis\":{\"endlinecolor\":\"#2a3f5f\",\"gridcolor\":\"white\",\"linecolor\":\"white\",\"minorgridcolor\":\"white\",\"startlinecolor\":\"#2a3f5f\"},\"type\":\"carpet\"}],\"choropleth\":[{\"colorbar\":{\"outlinewidth\":0,\"ticks\":\"\"},\"type\":\"choropleth\"}],\"contour\":[{\"colorbar\":{\"outlinewidth\":0,\"ticks\":\"\"},\"colorscale\":[[0.0,\"#0d0887\"],[0.1111111111111111,\"#46039f\"],[0.2222222222222222,\"#7201a8\"],[0.3333333333333333,\"#9c179e\"],[0.4444444444444444,\"#bd3786\"],[0.5555555555555556,\"#d8576b\"],[0.6666666666666666,\"#ed7953\"],[0.7777777777777778,\"#fb9f3a\"],[0.8888888888888888,\"#fdca26\"],[1.0,\"#f0f921\"]],\"type\":\"contour\"}],\"contourcarpet\":[{\"colorbar\":{\"outlinewidth\":0,\"ticks\":\"\"},\"type\":\"contourcarpet\"}],\"heatmap\":[{\"colorbar\":{\"outlinewidth\":0,\"ticks\":\"\"},\"colorscale\":[[0.0,\"#0d0887\"],[0.1111111111111111,\"#46039f\"],[0.2222222222222222,\"#7201a8\"],[0.3333333333333333,\"#9c179e\"],[0.4444444444444444,\"#bd3786\"],[0.5555555555555556,\"#d8576b\"],[0.6666666666666666,\"#ed7953\"],[0.7777777777777778,\"#fb9f3a\"],[0.8888888888888888,\"#fdca26\"],[1.0,\"#f0f921\"]],\"type\":\"heatmap\"}],\"heatmapgl\":[{\"colorbar\":{\"outlinewidth\":0,\"ticks\":\"\"},\"colorscale\":[[0.0,\"#0d0887\"],[0.1111111111111111,\"#46039f\"],[0.2222222222222222,\"#7201a8\"],[0.3333333333333333,\"#9c179e\"],[0.4444444444444444,\"#bd3786\"],[0.5555555555555556,\"#d8576b\"],[0.6666666666666666,\"#ed7953\"],[0.7777777777777778,\"#fb9f3a\"],[0.8888888888888888,\"#fdca26\"],[1.0,\"#f0f921\"]],\"type\":\"heatmapgl\"}],\"histogram\":[{\"marker\":{\"pattern\":{\"fillmode\":\"overlay\",\"size\":10,\"solidity\":0.2}},\"type\":\"histogram\"}],\"histogram2d\":[{\"colorbar\":{\"outlinewidth\":0,\"ticks\":\"\"},\"colorscale\":[[0.0,\"#0d0887\"],[0.1111111111111111,\"#46039f\"],[0.2222222222222222,\"#7201a8\"],[0.3333333333333333,\"#9c179e\"],[0.4444444444444444,\"#bd3786\"],[0.5555555555555556,\"#d8576b\"],[0.6666666666666666,\"#ed7953\"],[0.7777777777777778,\"#fb9f3a\"],[0.8888888888888888,\"#fdca26\"],[1.0,\"#f0f921\"]],\"type\":\"histogram2d\"}],\"histogram2dcontour\":[{\"colorbar\":{\"outlinewidth\":0,\"ticks\":\"\"},\"colorscale\":[[0.0,\"#0d0887\"],[0.1111111111111111,\"#46039f\"],[0.2222222222222222,\"#7201a8\"],[0.3333333333333333,\"#9c179e\"],[0.4444444444444444,\"#bd3786\"],[0.5555555555555556,\"#d8576b\"],[0.6666666666666666,\"#ed7953\"],[0.7777777777777778,\"#fb9f3a\"],[0.8888888888888888,\"#fdca26\"],[1.0,\"#f0f921\"]],\"type\":\"histogram2dcontour\"}],\"mesh3d\":[{\"colorbar\":{\"outlinewidth\":0,\"ticks\":\"\"},\"type\":\"mesh3d\"}],\"parcoords\":[{\"line\":{\"colorbar\":{\"outlinewidth\":0,\"ticks\":\"\"}},\"type\":\"parcoords\"}],\"pie\":[{\"automargin\":true,\"type\":\"pie\"}],\"scatter\":[{\"marker\":{\"colorbar\":{\"outlinewidth\":0,\"ticks\":\"\"}},\"type\":\"scatter\"}],\"scatter3d\":[{\"line\":{\"colorbar\":{\"outlinewidth\":0,\"ticks\":\"\"}},\"marker\":{\"colorbar\":{\"outlinewidth\":0,\"ticks\":\"\"}},\"type\":\"scatter3d\"}],\"scattercarpet\":[{\"marker\":{\"colorbar\":{\"outlinewidth\":0,\"ticks\":\"\"}},\"type\":\"scattercarpet\"}],\"scattergeo\":[{\"marker\":{\"colorbar\":{\"outlinewidth\":0,\"ticks\":\"\"}},\"type\":\"scattergeo\"}],\"scattergl\":[{\"marker\":{\"colorbar\":{\"outlinewidth\":0,\"ticks\":\"\"}},\"type\":\"scattergl\"}],\"scattermapbox\":[{\"marker\":{\"colorbar\":{\"outlinewidth\":0,\"ticks\":\"\"}},\"type\":\"scattermapbox\"}],\"scatterpolar\":[{\"marker\":{\"colorbar\":{\"outlinewidth\":0,\"ticks\":\"\"}},\"type\":\"scatterpolar\"}],\"scatterpolargl\":[{\"marker\":{\"colorbar\":{\"outlinewidth\":0,\"ticks\":\"\"}},\"type\":\"scatterpolargl\"}],\"scatterternary\":[{\"marker\":{\"colorbar\":{\"outlinewidth\":0,\"ticks\":\"\"}},\"type\":\"scatterternary\"}],\"surface\":[{\"colorbar\":{\"outlinewidth\":0,\"ticks\":\"\"},\"colorscale\":[[0.0,\"#0d0887\"],[0.1111111111111111,\"#46039f\"],[0.2222222222222222,\"#7201a8\"],[0.3333333333333333,\"#9c179e\"],[0.4444444444444444,\"#bd3786\"],[0.5555555555555556,\"#d8576b\"],[0.6666666666666666,\"#ed7953\"],[0.7777777777777778,\"#fb9f3a\"],[0.8888888888888888,\"#fdca26\"],[1.0,\"#f0f921\"]],\"type\":\"surface\"}],\"table\":[{\"cells\":{\"fill\":{\"color\":\"#EBF0F8\"},\"line\":{\"color\":\"white\"}},\"header\":{\"fill\":{\"color\":\"#C8D4E3\"},\"line\":{\"color\":\"white\"}},\"type\":\"table\"}]},\"layout\":{\"annotationdefaults\":{\"arrowcolor\":\"#2a3f5f\",\"arrowhead\":0,\"arrowwidth\":1},\"autotypenumbers\":\"strict\",\"coloraxis\":{\"colorbar\":{\"outlinewidth\":0,\"ticks\":\"\"}},\"colorscale\":{\"diverging\":[[0,\"#8e0152\"],[0.1,\"#c51b7d\"],[0.2,\"#de77ae\"],[0.3,\"#f1b6da\"],[0.4,\"#fde0ef\"],[0.5,\"#f7f7f7\"],[0.6,\"#e6f5d0\"],[0.7,\"#b8e186\"],[0.8,\"#7fbc41\"],[0.9,\"#4d9221\"],[1,\"#276419\"]],\"sequential\":[[0.0,\"#0d0887\"],[0.1111111111111111,\"#46039f\"],[0.2222222222222222,\"#7201a8\"],[0.3333333333333333,\"#9c179e\"],[0.4444444444444444,\"#bd3786\"],[0.5555555555555556,\"#d8576b\"],[0.6666666666666666,\"#ed7953\"],[0.7777777777777778,\"#fb9f3a\"],[0.8888888888888888,\"#fdca26\"],[1.0,\"#f0f921\"]],\"sequentialminus\":[[0.0,\"#0d0887\"],[0.1111111111111111,\"#46039f\"],[0.2222222222222222,\"#7201a8\"],[0.3333333333333333,\"#9c179e\"],[0.4444444444444444,\"#bd3786\"],[0.5555555555555556,\"#d8576b\"],[0.6666666666666666,\"#ed7953\"],[0.7777777777777778,\"#fb9f3a\"],[0.8888888888888888,\"#fdca26\"],[1.0,\"#f0f921\"]]},\"colorway\":[\"#636efa\",\"#EF553B\",\"#00cc96\",\"#ab63fa\",\"#FFA15A\",\"#19d3f3\",\"#FF6692\",\"#B6E880\",\"#FF97FF\",\"#FECB52\"],\"font\":{\"color\":\"#2a3f5f\"},\"geo\":{\"bgcolor\":\"white\",\"lakecolor\":\"white\",\"landcolor\":\"#E5ECF6\",\"showlakes\":true,\"showland\":true,\"subunitcolor\":\"white\"},\"hoverlabel\":{\"align\":\"left\"},\"hovermode\":\"closest\",\"mapbox\":{\"style\":\"light\"},\"paper_bgcolor\":\"white\",\"plot_bgcolor\":\"#E5ECF6\",\"polar\":{\"angularaxis\":{\"gridcolor\":\"white\",\"linecolor\":\"white\",\"ticks\":\"\"},\"bgcolor\":\"#E5ECF6\",\"radialaxis\":{\"gridcolor\":\"white\",\"linecolor\":\"white\",\"ticks\":\"\"}},\"scene\":{\"xaxis\":{\"backgroundcolor\":\"#E5ECF6\",\"gridcolor\":\"white\",\"gridwidth\":2,\"linecolor\":\"white\",\"showbackground\":true,\"ticks\":\"\",\"zerolinecolor\":\"white\"},\"yaxis\":{\"backgroundcolor\":\"#E5ECF6\",\"gridcolor\":\"white\",\"gridwidth\":2,\"linecolor\":\"white\",\"showbackground\":true,\"ticks\":\"\",\"zerolinecolor\":\"white\"},\"zaxis\":{\"backgroundcolor\":\"#E5ECF6\",\"gridcolor\":\"white\",\"gridwidth\":2,\"linecolor\":\"white\",\"showbackground\":true,\"ticks\":\"\",\"zerolinecolor\":\"white\"}},\"shapedefaults\":{\"line\":{\"color\":\"#2a3f5f\"}},\"ternary\":{\"aaxis\":{\"gridcolor\":\"white\",\"linecolor\":\"white\",\"ticks\":\"\"},\"baxis\":{\"gridcolor\":\"white\",\"linecolor\":\"white\",\"ticks\":\"\"},\"bgcolor\":\"#E5ECF6\",\"caxis\":{\"gridcolor\":\"white\",\"linecolor\":\"white\",\"ticks\":\"\"}},\"title\":{\"x\":0.05},\"xaxis\":{\"automargin\":true,\"gridcolor\":\"white\",\"linecolor\":\"white\",\"ticks\":\"\",\"title\":{\"standoff\":15},\"zerolinecolor\":\"white\",\"zerolinewidth\":2},\"yaxis\":{\"automargin\":true,\"gridcolor\":\"white\",\"linecolor\":\"white\",\"ticks\":\"\",\"title\":{\"standoff\":15},\"zerolinecolor\":\"white\",\"zerolinewidth\":2}}},\"xaxis\":{\"anchor\":\"y\",\"domain\":[0.0,1.0],\"title\":{\"text\":\"x\"}},\"yaxis\":{\"anchor\":\"x\",\"domain\":[0.0,1.0],\"title\":{\"text\":\"y\"}},\"legend\":{\"tracegroupgap\":0},\"margin\":{\"t\":60}},                        {\"responsive\": true}                    ).then(function(){\n                            \nvar gd = document.getElementById('c387604f-f1de-4c9b-8bc4-29137dc63ff2');\nvar x = new MutationObserver(function (mutations, observer) {{\n        var display = window.getComputedStyle(gd).display;\n        if (!display || display === 'none') {{\n            console.log([gd, 'removed!']);\n            Plotly.purge(gd);\n            observer.disconnect();\n        }}\n}});\n\n// Listen for the removal of the full notebook cells\nvar notebookContainer = gd.closest('#notebook-container');\nif (notebookContainer) {{\n    x.observe(notebookContainer, {childList: true});\n}}\n\n// Listen for the clearing of the current output cell\nvar outputEl = gd.closest('.output');\nif (outputEl) {{\n    x.observe(outputEl, {childList: true});\n}}\n\n                        })                };                });            </script>        </div>"
     },
     "metadata": {},
     "output_type": "display_data"
    }
   ],
   "source": [
    "fig.add_trace(\n",
    "    go.Scatter(x=df['Idade'], y=predict[:, 0])\n",
    ")"
   ]
  },
  {
   "cell_type": "code",
   "execution_count": 81,
   "metadata": {
    "pycharm": {
     "name": "#%%\n"
    }
   },
   "outputs": [
    {
     "data": {
      "application/vnd.jupyter.widget-view+json": {
       "model_id": "f0cf11147b5d47c5a319b424a6dad5e3",
       "version_major": 2,
       "version_minor": 0
      },
      "text/plain": [
       "  0%|          | 0/100 [00:00<?, ?it/s]"
      ]
     },
     "metadata": {},
     "output_type": "display_data"
    }
   ],
   "source": [
    "w, history = gradient_descent(X, y, with_history_predictions=True)"
   ]
  },
  {
   "cell_type": "code",
   "execution_count": 107,
   "metadata": {},
   "outputs": [],
   "source": [
    "fig = go.Figure(\n",
    "    \n",
    "    data=[go.Scatter(x=X[:, 0], y=y[:, 0], mode='markers', name='line'), \n",
    "          go.Scatter(x=X[:, 0], y=y[:, 0], mode='markers', name='observations')],\n",
    "    \n",
    "    layout=go.Layout(\n",
    "        title=\"Progress of Predictions\",\n",
    "        updatemenus=[dict(\n",
    "            type=\"buttons\",\n",
    "            buttons=[dict(label=\"Play\",\n",
    "                          method=\"animate\",\n",
    "                          args=[None])])]\n",
    "    ),\n",
    "    \n",
    "    frames=[go.Frame(data=[go.Scatter(x=X[:, 0], y=pred[:, 0], mode='lines')]) for pred in history],\n",
    ")"
   ]
  },
  {
   "cell_type": "code",
   "execution_count": 108,
   "metadata": {},
   "outputs": [
    {
     "data": {
      "application/vnd.plotly.v1+json": {
       "config": {
        "plotlyServerURL": "https://plot.ly"
       },
       "data": [
        {
         "mode": "markers",
         "name": "line",
         "type": "scatter",
         "x": [
          -0.40102340448701146,
          0.12205060136561222,
          -0.008717900097543696,
          0.12205060136561222,
          1.2989671145340156,
          0.05666635063403426,
          1.4297356159971715,
          -0.20487065229227758,
          1.4297356159971715,
          0.7105088579498139,
          1.2335828638024375,
          0.7105088579498139,
          0.9066616101445477,
          -0.7279446581449013,
          -0.20487065229227758,
          0.18743485209719019,
          -0.008717900097543696,
          -1.8394769205817265,
          -1.6433241683869926,
          -1.7087084191185706,
          -0.5971761566817453,
          0.31820335356034607,
          -0.40102340448701146,
          -1.5779399176554147,
          -0.07410215082912165,
          0.51435610575508,
          1.1681986130708595,
          -1.054865911802791,
          -1.316402914729103,
          1.5605041174603274
         ],
         "y": [
          0.06495065444280122,
          3.4305754755697695,
          -0.2007565682777489,
          0.10923519156289292,
          0.8620723226044517,
          -0.02361841979738215,
          1.2163486195651851,
          -0.8207400879590325,
          0.6849341741240849,
          0.5077960256437182,
          0.8620723226044517,
          0.3306578771633514,
          -0.11218749403756553,
          -1.4407236076403163,
          -0.6436019394786658,
          -0.5550328652384824,
          -0.333610179638024,
          -1.2635854591599496,
          -1.1750163849197661,
          -0.8207400879590325,
          -0.2893256425179323,
          -0.02361841979738215,
          -0.9978782364393993,
          -0.9978782364393993,
          0.7735032483642683,
          0.6849341741240849,
          0.06495065444280122,
          -0.5550328652384824,
          -0.7764555508389409,
          1.4377713051656436
         ]
        },
        {
         "mode": "markers",
         "name": "observations",
         "type": "scatter",
         "x": [
          -0.40102340448701146,
          0.12205060136561222,
          -0.008717900097543696,
          0.12205060136561222,
          1.2989671145340156,
          0.05666635063403426,
          1.4297356159971715,
          -0.20487065229227758,
          1.4297356159971715,
          0.7105088579498139,
          1.2335828638024375,
          0.7105088579498139,
          0.9066616101445477,
          -0.7279446581449013,
          -0.20487065229227758,
          0.18743485209719019,
          -0.008717900097543696,
          -1.8394769205817265,
          -1.6433241683869926,
          -1.7087084191185706,
          -0.5971761566817453,
          0.31820335356034607,
          -0.40102340448701146,
          -1.5779399176554147,
          -0.07410215082912165,
          0.51435610575508,
          1.1681986130708595,
          -1.054865911802791,
          -1.316402914729103,
          1.5605041174603274
         ],
         "y": [
          0.06495065444280122,
          3.4305754755697695,
          -0.2007565682777489,
          0.10923519156289292,
          0.8620723226044517,
          -0.02361841979738215,
          1.2163486195651851,
          -0.8207400879590325,
          0.6849341741240849,
          0.5077960256437182,
          0.8620723226044517,
          0.3306578771633514,
          -0.11218749403756553,
          -1.4407236076403163,
          -0.6436019394786658,
          -0.5550328652384824,
          -0.333610179638024,
          -1.2635854591599496,
          -1.1750163849197661,
          -0.8207400879590325,
          -0.2893256425179323,
          -0.02361841979738215,
          -0.9978782364393993,
          -0.9978782364393993,
          0.7735032483642683,
          0.6849341741240849,
          0.06495065444280122,
          -0.5550328652384824,
          -0.7764555508389409,
          1.4377713051656436
         ]
        }
       ],
       "frames": [
        {
         "data": [
          {
           "mode": "lines",
           "type": "scatter",
           "x": [
            -0.40102340448701146,
            0.12205060136561222,
            -0.008717900097543696,
            0.12205060136561222,
            1.2989671145340156,
            0.05666635063403426,
            1.4297356159971715,
            -0.20487065229227758,
            1.4297356159971715,
            0.7105088579498139,
            1.2335828638024375,
            0.7105088579498139,
            0.9066616101445477,
            -0.7279446581449013,
            -0.20487065229227758,
            0.18743485209719019,
            -0.008717900097543696,
            -1.8394769205817265,
            -1.6433241683869926,
            -1.7087084191185706,
            -0.5971761566817453,
            0.31820335356034607,
            -0.40102340448701146,
            -1.5779399176554147,
            -0.07410215082912165,
            0.51435610575508,
            1.1681986130708595,
            -1.054865911802791,
            -1.316402914729103,
            1.5605041174603274
           ],
           "y": [
            0.5989765955129885,
            1.1220506013656122,
            0.9912820999024563,
            1.1220506013656122,
            2.2989671145340154,
            1.0566663506340344,
            2.4297356159971715,
            0.7951293477077224,
            2.4297356159971715,
            1.7105088579498138,
            2.2335828638024378,
            1.7105088579498138,
            1.9066616101445477,
            0.2720553418550987,
            0.7951293477077224,
            1.1874348520971902,
            0.9912820999024563,
            -0.8394769205817265,
            -0.6433241683869926,
            -0.7087084191185706,
            0.4028238433182547,
            1.3182033535603461,
            0.5989765955129885,
            -0.5779399176554147,
            0.9258978491708784,
            1.51435610575508,
            2.1681986130708593,
            -0.05486591180279099,
            -0.316402914729103,
            2.5605041174603276
           ]
          }
         ]
        },
        {
         "data": [
          {
           "mode": "lines",
           "type": "scatter",
           "x": [
            -0.40102340448701146,
            0.12205060136561222,
            -0.008717900097543696,
            0.12205060136561222,
            1.2989671145340156,
            0.05666635063403426,
            1.4297356159971715,
            -0.20487065229227758,
            1.4297356159971715,
            0.7105088579498139,
            1.2335828638024375,
            0.7105088579498139,
            0.9066616101445477,
            -0.7279446581449013,
            -0.20487065229227758,
            0.18743485209719019,
            -0.008717900097543696,
            -1.8394769205817265,
            -1.6433241683869926,
            -1.7087084191185706,
            -0.5971761566817453,
            0.31820335356034607,
            -0.40102340448701146,
            -1.5779399176554147,
            -0.07410215082912165,
            0.51435610575508,
            1.1681986130708595,
            -1.054865911802791,
            -1.316402914729103,
            1.5605041174603274
           ],
           "y": [
            0.5903040563406996,
            1.1116465915484828,
            0.981310957746537,
            1.1116465915484828,
            2.284667295765995,
            1.04647877464751,
            2.415002929567941,
            0.7858075070436182,
            2.415002929567941,
            1.698156943657239,
            2.219499478865022,
            1.698156943657239,
            1.8936603943601575,
            0.26446497183583506,
            0.7858075070436182,
            1.1768144084494556,
            0.981310957746537,
            -0.8433879154807042,
            -0.6478844647777855,
            -0.7130522816787586,
            0.39480060563778085,
            1.3071500422514015,
            0.5903040563406996,
            -0.5827166478768127,
            0.916143140845564,
            1.50265349295432,
            2.154331661964049,
            -0.06137411266902948,
            -0.32204538027292107,
            2.545338563369887
           ]
          }
         ]
        },
        {
         "data": [
          {
           "mode": "lines",
           "type": "scatter",
           "x": [
            -0.40102340448701146,
            0.12205060136561222,
            -0.008717900097543696,
            0.12205060136561222,
            1.2989671145340156,
            0.05666635063403426,
            1.4297356159971715,
            -0.20487065229227758,
            1.4297356159971715,
            0.7105088579498139,
            1.2335828638024375,
            0.7105088579498139,
            0.9066616101445477,
            -0.7279446581449013,
            -0.20487065229227758,
            0.18743485209719019,
            -0.008717900097543696,
            -1.8394769205817265,
            -1.6433241683869926,
            -1.7087084191185706,
            -0.5971761566817453,
            0.31820335356034607,
            -0.40102340448701146,
            -1.5779399176554147,
            -0.07410215082912165,
            0.51435610575508,
            1.1681986130708595,
            -1.054865911802791,
            -1.316402914729103,
            1.5605041174603274
           ],
           "y": [
            0.5817186850470759,
            1.1013464871595855,
            0.9714395366314582,
            1.1013464871595855,
            2.2705090419127325,
            1.0363930118955218,
            2.40041599244086,
            0.7765791108392671,
            2.40041599244086,
            1.6859277645361588,
            2.2055555666486684,
            1.6859277645361588,
            1.8807881903283499,
            0.25695130872675753,
            0.7765791108392671,
            1.1662999624236492,
            0.9714395366314582,
            -0.8472577707623252,
            -0.6523973449701341,
            -0.7173508202341978,
            0.38685825925488493,
            1.2962069129517766,
            0.5817186850470759,
            -0.5874438697060707,
            0.9064860613673945,
            1.4910673387439677,
            2.1406020913846047,
            -0.06781606759356085,
            -0.32762996864981586,
            2.530322942968987
           ]
          }
         ]
        },
        {
         "data": [
          {
           "mode": "lines",
           "type": "scatter",
           "x": [
            -0.40102340448701146,
            0.12205060136561222,
            -0.008717900097543696,
            0.12205060136561222,
            1.2989671145340156,
            0.05666635063403426,
            1.4297356159971715,
            -0.20487065229227758,
            1.4297356159971715,
            0.7105088579498139,
            1.2335828638024375,
            0.7105088579498139,
            0.9066616101445477,
            -0.7279446581449013,
            -0.20487065229227758,
            0.18743485209719019,
            -0.008717900097543696,
            -1.8394769205817265,
            -1.6433241683869926,
            -1.7087084191185706,
            -0.5971761566817453,
            0.31820335356034607,
            -0.40102340448701146,
            -1.5779399176554147,
            -0.07410215082912165,
            0.51435610575508,
            1.1681986130708595,
            -1.054865911802791,
            -1.316402914729103,
            1.5605041174603274
           ],
           "y": [
            0.5732196056759575,
            1.0911492504464477,
            0.9616668392538252,
            1.0911492504464477,
            2.2564909511800506,
            1.0264080448501365,
            2.385973362372673,
            0.7674432224648914,
            2.385973362372673,
            1.6738201008132494,
            2.1917497455837394,
            1.6738201008132494,
            1.8680437176021831,
            0.24951357769440108,
            0.7674432224648914,
            1.155890456042759,
            0.9616668392538252,
            -0.8510869174428906,
            -0.6568633006539566,
            -0.7216045062502681,
            0.3789959888870238,
            1.2853728672353815,
            0.5732196056759575,
            -0.5921220950576456,
            0.896925633657514,
            1.4795964840243154,
            2.127008539987428,
            -0.07419245028715515,
            -0.33315727267240036,
            2.515455773565296
           ]
          }
         ]
        },
        {
         "data": [
          {
           "mode": "lines",
           "type": "scatter",
           "x": [
            -0.40102340448701146,
            0.12205060136561222,
            -0.008717900097543696,
            0.12205060136561222,
            1.2989671145340156,
            0.05666635063403426,
            1.4297356159971715,
            -0.20487065229227758,
            1.4297356159971715,
            0.7105088579498139,
            1.2335828638024375,
            0.7105088579498139,
            0.9066616101445477,
            -0.7279446581449013,
            -0.20487065229227758,
            0.18743485209719019,
            -0.008717900097543696,
            -1.8394769205817265,
            -1.6433241683869926,
            -1.7087084191185706,
            -0.5971761566817453,
            0.31820335356034607,
            -0.40102340448701146,
            -1.5779399176554147,
            -0.07410215082912165,
            0.51435610575508,
            1.1681986130708595,
            -1.054865911802791,
            -1.316402914729103,
            1.5605041174603274
           ],
           "y": [
            0.5648059510720933,
            1.0810538540215369,
            0.951991878284176,
            1.0810538540215369,
            2.242611635657785,
            1.0165228661528565,
            2.3716736113951464,
            0.7583989146781347,
            2.3716736113951464,
            1.661832744839661,
            2.178080647789105,
            1.661832744839661,
            1.8554257084457024,
            0.2421510117286909,
            0.7583989146781347,
            1.1455848418902175,
            0.951991878284176,
            -0.8548757820388769,
            -0.6612828184328355,
            -0.7258138063015159,
            0.3712129874660519,
            1.2746468176275783,
            0.5648059510720933,
            -0.5967518305641552,
            0.8874608904154956,
            1.4682397812336196,
            2.1135496599204244,
            -0.08050392761471137,
            -0.33862787908943337,
            2.500735587132507
           ]
          }
         ]
        },
        {
         "data": [
          {
           "mode": "lines",
           "type": "scatter",
           "x": [
            -0.40102340448701146,
            0.12205060136561222,
            -0.008717900097543696,
            0.12205060136561222,
            1.2989671145340156,
            0.05666635063403426,
            1.4297356159971715,
            -0.20487065229227758,
            1.4297356159971715,
            0.7105088579498139,
            1.2335828638024375,
            0.7105088579498139,
            0.9066616101445477,
            -0.7279446581449013,
            -0.20487065229227758,
            0.18743485209719019,
            -0.008717900097543696,
            -1.8394769205817265,
            -1.6433241683869926,
            -1.7087084191185706,
            -0.5971761566817453,
            0.31820335356034607,
            -0.40102340448701146,
            -1.5779399176554147,
            -0.07410215082912165,
            0.51435610575508,
            1.1681986130708595,
            -1.054865911802791,
            -1.316402914729103,
            1.5605041174603274
           ],
           "y": [
            0.5564768627927328,
            1.0710592807587336,
            0.9424136762672334,
            1.0710592807587336,
            2.2288697211822353,
            1.0067364785129835,
            2.3575153256737353,
            0.7494452695299831,
            2.3575153256737353,
            1.6499645009704844,
            2.164546918936485,
            1.6499645009704844,
            1.8429329077077345,
            0.23486285156398234,
            0.7494452695299831,
            1.1353820830044836,
            0.9424136762672334,
            -0.858624786613769,
            -0.6656563798765186,
            -0.7299791821222689,
            0.36350845605548265,
            1.2640276874959837,
            0.5564768627927328,
            -0.6013335776307688,
            0.8780908740214833,
            1.456996094233234,
            2.1002241166907347,
            -0.08675115966476799,
            -0.3440423686477684,
            2.4861609301652354
           ]
          }
         ]
        },
        {
         "data": [
          {
           "mode": "lines",
           "type": "scatter",
           "x": [
            -0.40102340448701146,
            0.12205060136561222,
            -0.008717900097543696,
            0.12205060136561222,
            1.2989671145340156,
            0.05666635063403426,
            1.4297356159971715,
            -0.20487065229227758,
            1.4297356159971715,
            0.7105088579498139,
            1.2335828638024375,
            0.7105088579498139,
            0.9066616101445477,
            -0.7279446581449013,
            -0.20487065229227758,
            0.18743485209719019,
            -0.008717900097543696,
            -1.8394769205817265,
            -1.6433241683869926,
            -1.7087084191185706,
            -0.5971761566817453,
            0.31820335356034607,
            -0.40102340448701146,
            -1.5779399176554147,
            -0.07410215082912165,
            0.51435610575508,
            1.1681986130708595,
            -1.054865911802791,
            -1.316402914729103,
            1.5605041174603274
           ],
           "y": [
            0.5482314910201063,
            1.0611645236908371,
            0.9329312655231545,
            1.0611645236908371,
            2.215263847199982,
            0.9970478946069958,
            2.3434971053676645,
            0.7405813782716304,
            2.3434971053676645,
            1.6382141854454095,
            2.1511472181161406,
            1.6382141854454095,
            1.8305640726969337,
            0.22764834560089942,
            0.7405813782716304,
            1.1252811527746787,
            0.9329312655231545,
            -0.8623343488244036,
            -0.6699844615728795,
            -0.734101090656721,
            0.35588160376858224,
            1.2535144109423613,
            0.5482314910201063,
            -0.6058678324890384,
            0.8688146364393131,
            1.4458642981938854,
            2.087030589032299,
            -0.09293479981830732,
            -0.349401316153673,
            2.471730363535347
           ]
          }
         ]
        },
        {
         "data": [
          {
           "mode": "lines",
           "type": "scatter",
           "x": [
            -0.40102340448701146,
            0.12205060136561222,
            -0.008717900097543696,
            0.12205060136561222,
            1.2989671145340156,
            0.05666635063403426,
            1.4297356159971715,
            -0.20487065229227758,
            1.4297356159971715,
            0.7105088579498139,
            1.2335828638024375,
            0.7105088579498139,
            0.9066616101445477,
            -0.7279446581449013,
            -0.20487065229227758,
            0.18743485209719019,
            -0.008717900097543696,
            -1.8394769205817265,
            -1.6433241683869926,
            -1.7087084191185706,
            -0.5971761566817453,
            0.31820335356034607,
            -0.40102340448701146,
            -1.5779399176554147,
            -0.07410215082912165,
            0.51435610575508,
            1.1681986130708595,
            -1.054865911802791,
            -1.316402914729103,
            1.5605041174603274
           ],
           "y": [
            0.5400689944747815,
            1.051368585908097,
            0.9235436880497682,
            1.051368585908097,
            2.201792666633057,
            0.9874561369789325,
            2.329617564491386,
            0.7318063412622748,
            2.329617564491386,
            1.6265806262705769,
            2.1378802177038922,
            1.6265806262705769,
            1.81831797305807,
            0.22050674982895935,
            0.7318063412622748,
            1.1152810348372615,
            0.9235436880497682,
            -0.866004881966836,
            -0.6742675351793426,
            -0.738179984108507,
            0.3483316476872883,
            1.2431059326955902,
            0.5400689944747815,
            -0.6103550862501783,
            0.8596312391206037,
            1.4348432794830837,
            2.073967768774728,
            -0.09905549481686271,
            -0.3547052905335206,
            2.4574424623497144
           ]
          }
         ]
        },
        {
         "data": [
          {
           "mode": "lines",
           "type": "scatter",
           "x": [
            -0.40102340448701146,
            0.12205060136561222,
            -0.008717900097543696,
            0.12205060136561222,
            1.2989671145340156,
            0.05666635063403426,
            1.4297356159971715,
            -0.20487065229227758,
            1.4297356159971715,
            0.7105088579498139,
            1.2335828638024375,
            0.7105088579498139,
            0.9066616101445477,
            -0.7279446581449013,
            -0.20487065229227758,
            0.18743485209719019,
            -0.008717900097543696,
            -1.8394769205817265,
            -1.6433241683869926,
            -1.7087084191185706,
            -0.5971761566817453,
            0.31820335356034607,
            -0.40102340448701146,
            -1.5779399176554147,
            -0.07410215082912165,
            0.51435610575508,
            1.1681986130708595,
            -1.054865911802791,
            -1.316402914729103,
            1.5605041174603274
           ],
           "y": [
            0.531988540329893,
            1.0416704804577546,
            0.9142499954257892,
            1.0416704804577546,
            2.1884548457454436,
            0.9779602379417719,
            2.3158753307774087,
            0.7231192678778411,
            2.3158753307774087,
            1.615062663101599,
            2.124744603229461,
            1.615062663101599,
            1.806193390649547,
            0.21343732774997937,
            0.7231192678778411,
            1.1053807229737374,
            0.9142499954257892,
            -0.8696367950217266,
            -0.6785060674737785,
            -0.7422163099897613,
            0.3408578127819448,
            1.2328012080057027,
            0.531988540329893,
            -0.6147958249577957,
            0.8505397529098064,
            1.4239319355536508,
            2.061034360713478,
            -0.10511388482993411,
            -0.35995485489386503,
            2.4432958158093743
           ]
          }
         ]
        },
        {
         "data": [
          {
           "mode": "lines",
           "type": "scatter",
           "x": [
            -0.40102340448701146,
            0.12205060136561222,
            -0.008717900097543696,
            0.12205060136561222,
            1.2989671145340156,
            0.05666635063403426,
            1.4297356159971715,
            -0.20487065229227758,
            1.4297356159971715,
            0.7105088579498139,
            1.2335828638024375,
            0.7105088579498139,
            0.9066616101445477,
            -0.7279446581449013,
            -0.20487065229227758,
            0.18743485209719019,
            -0.008717900097543696,
            -1.8394769205817265,
            -1.6433241683869926,
            -1.7087084191185706,
            -0.5971761566817453,
            0.31820335356034607,
            -0.40102340448701146,
            -1.5779399176554147,
            -0.07410215082912165,
            0.51435610575508,
            1.1681986130708595,
            -1.054865911802791,
            -1.316402914729103,
            1.5605041174603274
           ],
           "y": [
            0.5239893041262311,
            1.0320692302445917,
            0.9050492487150016,
            1.0320692302445917,
            2.1752490640109032,
            0.9685592394797967,
            2.302269045540493,
            0.7145192764206164,
            2.302269045540493,
            1.6036591471277475,
            2.111739073246108,
            1.6036591471277475,
            1.7941891194221327,
            0.2064393503022558,
            0.7145192764206164,
            1.0955792210093869,
            0.9050492487150016,
            -0.8732304926992603,
            -0.6827005204048752,
            -0.7462105111696703,
            0.33345933183184606,
            1.222599202538977,
            0.5239893041262311,
            -0.61919052964008,
            0.8415392579502066,
            1.413129174833362,
            2.048229082481313,
            -0.11111060352171942,
            -0.36515056658089995,
            2.4292890270700833
           ]
          }
         ]
        },
        {
         "data": [
          {
           "mode": "lines",
           "type": "scatter",
           "x": [
            -0.40102340448701146,
            0.12205060136561222,
            -0.008717900097543696,
            0.12205060136561222,
            1.2989671145340156,
            0.05666635063403426,
            1.4297356159971715,
            -0.20487065229227758,
            1.4297356159971715,
            0.7105088579498139,
            1.2335828638024375,
            0.7105088579498139,
            0.9066616101445477,
            -0.7279446581449013,
            -0.20487065229227758,
            0.18743485209719019,
            -0.008717900097543696,
            -1.8394769205817265,
            -1.6433241683869926,
            -1.7087084191185706,
            -0.5971761566817453,
            0.31820335356034607,
            -0.40102340448701146,
            -1.5779399176554147,
            -0.07410215082912165,
            0.51435610575508,
            1.1681986130708595,
            -1.054865911802791,
            -1.316402914729103,
            1.5605041174603274
           ],
           "y": [
            0.5160704696881864,
            1.022563867932471,
            0.8959405183713998,
            1.022563867932471,
            2.1621740139821117,
            0.9592521931519353,
            2.288797363543183,
            0.7060054940297931,
            2.288797363543183,
            1.5923689409572912,
            2.0988623392015757,
            1.5923689409572912,
            1.782303965298898,
            0.19951209578550844,
            0.7060054940297931,
            1.0858755427130065,
            0.8959405183713998,
            -0.8767863754835965,
            -0.6868513511419896,
            -0.7501630259225254,
            0.3261354453465797,
            1.2124988922740778,
            0.5160704696881864,
            -0.6235396763614542,
            0.8326288435908642,
            1.4024339166156845,
            2.03555066442104,
            -0.1170462781171695,
            -0.370292977239312,
            2.415420713104254
           ]
          }
         ]
        },
        {
         "data": [
          {
           "mode": "lines",
           "type": "scatter",
           "x": [
            -0.40102340448701146,
            0.12205060136561222,
            -0.008717900097543696,
            0.12205060136561222,
            1.2989671145340156,
            0.05666635063403426,
            1.4297356159971715,
            -0.20487065229227758,
            1.4297356159971715,
            0.7105088579498139,
            1.2335828638024375,
            0.7105088579498139,
            0.9066616101445477,
            -0.7279446581449013,
            -0.20487065229227758,
            0.18743485209719019,
            -0.008717900097543696,
            -1.8394769205817265,
            -1.6433241683869926,
            -1.7087084191185706,
            -0.5971761566817453,
            0.31820335356034607,
            -0.40102340448701146,
            -1.5779399176554147,
            -0.07410215082912165,
            0.51435610575508,
            1.1681986130708595,
            -1.054865911802791,
            -1.316402914729103,
            1.5605041174603274
           ],
           "y": [
            0.5082312290405342,
            1.013153435846859,
            0.8869228841452778,
            1.013153435846859,
            2.14922840116109,
            0.9500381599960683,
            2.275458952862671,
            0.697577056592906,
            2.275458952862671,
            1.5811909185039745,
            2.086113125310299,
            1.5811909185039745,
            1.7705367460563461,
            0.1926548497865811,
            0.697577056592906,
            1.0762687116976495,
            0.8869228841452778,
            -0.8803048396768591,
            -0.6909590121244871,
            -0.754074287975278,
            0.31888540148816236,
            1.2024992633992309,
            0.5082312290405342,
            -0.6278437362736966,
            0.8238076082944872,
            1.3918450909516027,
            2.0229978494595082,
            -0.12292152946737178,
            -0.3753826328705343,
            2.4016895045642523
           ]
          }
         ]
        },
        {
         "data": [
          {
           "mode": "lines",
           "type": "scatter",
           "x": [
            -0.40102340448701146,
            0.12205060136561222,
            -0.008717900097543696,
            0.12205060136561222,
            1.2989671145340156,
            0.05666635063403426,
            1.4297356159971715,
            -0.20487065229227758,
            1.4297356159971715,
            0.7105088579498139,
            1.2335828638024375,
            0.7105088579498139,
            0.9066616101445477,
            -0.7279446581449013,
            -0.20487065229227758,
            0.18743485209719019,
            -0.008717900097543696,
            -1.8394769205817265,
            -1.6433241683869926,
            -1.7087084191185706,
            -0.5971761566817453,
            0.31820335356034607,
            -0.40102340448701146,
            -1.5779399176554147,
            -0.07410215082912165,
            0.51435610575508,
            1.1681986130708595,
            -1.054865911802791,
            -1.316402914729103,
            1.5605041174603274
           ],
           "y": [
            0.5004707823260593,
            1.0038369858783245,
            0.8779954349902583,
            1.0038369858783245,
            2.1364109438709216,
            0.9409162104342914,
            2.2622524947589877,
            0.6892331086581588,
            2.2622524947589877,
            1.570123964874623,
            2.073490168426888,
            1.570123964874623,
            1.7588862912067225,
            0.18586690510589354,
            0.6892331086581588,
            1.0667577613223578,
            0.8779954349902583,
            -0.8837862774426699,
            -0.6950239511105705,
            -0.7579447265546038,
            0.3117084559939599,
            1.1925993122104241,
            0.5004707823260593,
            -0.6321031756665374,
            0.8150746595462252,
            1.3813616385425234,
            2.010569392982855,
            -0.12873697211427215,
            -0.3804200738904049,
            2.388094045647054
           ]
          }
         ]
        },
        {
         "data": [
          {
           "mode": "lines",
           "type": "scatter",
           "x": [
            -0.40102340448701146,
            0.12205060136561222,
            -0.008717900097543696,
            0.12205060136561222,
            1.2989671145340156,
            0.05666635063403426,
            1.4297356159971715,
            -0.20487065229227758,
            1.4297356159971715,
            0.7105088579498139,
            1.2335828638024375,
            0.7105088579498139,
            0.9066616101445477,
            -0.7279446581449013,
            -0.20487065229227758,
            0.18743485209719019,
            -0.008717900097543696,
            -1.8394769205817265,
            -1.6433241683869926,
            -1.7087084191185706,
            -0.5971761566817453,
            0.31820335356034607,
            -0.40102340448701146,
            -1.5779399176554147,
            -0.07410215082912165,
            0.51435610575508,
            1.1681986130708595,
            -1.054865911802791,
            -1.316402914729103,
            1.5605041174603274
           ],
           "y": [
            0.4927883377240053,
            0.9946135793870002,
            0.8691572689712515,
            0.9946135793870002,
            2.123720373128739,
            0.9318854241791259,
            2.249176683544488,
            0.6809728033476284,
            2.249176683544488,
            1.5591669762578695,
            2.060992217920864,
            1.5591669762578695,
            1.7473514418814926,
            0.17914756168463342,
            0.6809728033476284,
            1.0573417345948746,
            0.8691572689712515,
            -0.8872310768492306,
            -0.6990466112256075,
            -0.761774766433482,
            0.3046038721003822,
            1.1827980450106232,
            0.4927883377240053,
            -0.6363184560177333,
            0.8064291137633771,
            1.3709825106342464,
            1.99826406271299,
            -0.13449321435473838,
            -0.38540583518623595,
            2.3746329939602364
           ]
          }
         ]
        },
        {
         "data": [
          {
           "mode": "lines",
           "type": "scatter",
           "x": [
            -0.40102340448701146,
            0.12205060136561222,
            -0.008717900097543696,
            0.12205060136561222,
            1.2989671145340156,
            0.05666635063403426,
            1.4297356159971715,
            -0.20487065229227758,
            1.4297356159971715,
            0.7105088579498139,
            1.2335828638024375,
            0.7105088579498139,
            0.9066616101445477,
            -0.7279446581449013,
            -0.20487065229227758,
            0.18743485209719019,
            -0.008717900097543696,
            -1.8394769205817265,
            -1.6433241683869926,
            -1.7087084191185706,
            -0.5971761566817453,
            0.31820335356034607,
            -0.40102340448701146,
            -1.5779399176554147,
            -0.07410215082912165,
            0.51435610575508,
            1.1681986130708595,
            -1.054865911802791,
            -1.316402914729103,
            1.5605041174603274
           ],
           "y": [
            0.48518311136934344,
            0.9854822871079977,
            0.8604074931733341,
            0.9854822871079977,
            2.1111554325199697,
            0.9229448901406659,
            2.236230226454633,
            0.6727953022713388,
            2.236230226454633,
            1.5483188598139837,
            2.048618035552638,
            1.5483188598139837,
            1.7359310507159789,
            0.17249612653268453,
            0.6727953022713388,
            1.0480196840753295,
            0.8604074931733341,
            -0.8906396219119556,
            -0.7030274310099601,
            -0.7655648279772921,
            0.29757092046734823,
            1.173094478009993,
            0.48518311136934344,
            -0.6404900340426284,
            0.7978700962060024,
            1.3607066689119882,
            1.9860806385853058,
            -0.14019085830397426,
            -0.39034044617330144,
            2.3613050203892967
           ]
          }
         ]
        },
        {
         "data": [
          {
           "mode": "lines",
           "type": "scatter",
           "x": [
            -0.40102340448701146,
            0.12205060136561222,
            -0.008717900097543696,
            0.12205060136561222,
            1.2989671145340156,
            0.05666635063403426,
            1.4297356159971715,
            -0.20487065229227758,
            1.4297356159971715,
            0.7105088579498139,
            1.2335828638024375,
            0.7105088579498139,
            0.9066616101445477,
            -0.7279446581449013,
            -0.20487065229227758,
            0.18743485209719019,
            -0.008717900097543696,
            -1.8394769205817265,
            -1.6433241683869926,
            -1.7087084191185706,
            -0.5971761566817453,
            0.31820335356034607,
            -0.40102340448701146,
            -1.5779399176554147,
            -0.07410215082912165,
            0.51435610575508,
            1.1681986130708595,
            -1.054865911802791,
            -1.316402914729103,
            1.5605041174603274
           ],
           "y": [
            0.4776543272728534,
            0.9764421890577688,
            0.85174522361154,
            0.9764421890577688,
            2.098714878073829,
            0.9140937063346544,
            2.2234118435200574,
            0.6646997754421967,
            2.2234118435200574,
            1.5375785335657988,
            2.036366395350714,
            1.5375785335657988,
            1.7246239817351419,
            0.1659119136572812,
            0.6646997754421967,
            1.0387906717808832,
            0.85174522361154,
            -0.894012292635664,
            -0.7069668444663206,
            -0.7693153271894351,
            0.2906088791035102,
            1.1634876372271121,
            0.4776543272728534,
            -0.6446183617432064,
            0.7893967408884256,
            1.3505330853964554,
            1.9740179126275996,
            -0.1458304999582909,
            -0.39522443085074865,
            2.3481088089662863
           ]
          }
         ]
        },
        {
         "data": [
          {
           "mode": "lines",
           "type": "scatter",
           "x": [
            -0.40102340448701146,
            0.12205060136561222,
            -0.008717900097543696,
            0.12205060136561222,
            1.2989671145340156,
            0.05666635063403426,
            1.4297356159971715,
            -0.20487065229227758,
            1.4297356159971715,
            0.7105088579498139,
            1.2335828638024375,
            0.7105088579498139,
            0.9066616101445477,
            -0.7279446581449013,
            -0.20487065229227758,
            0.18743485209719019,
            -0.008717900097543696,
            -1.8394769205817265,
            -1.6433241683869926,
            -1.7087084191185706,
            -0.5971761566817453,
            0.31820335356034607,
            -0.40102340448701146,
            -1.5779399176554147,
            -0.07410215082912165,
            0.51435610575508,
            1.1681986130708595,
            -1.054865911802791,
            -1.316402914729103,
            1.5605041174603274
           ],
           "y": [
            0.4702012172420053,
            0.9674923744414015,
            0.8431695851415524,
            0.9674923744414015,
            2.086397478140043,
            0.9053309797914769,
            2.210720267439892,
            0.6566854011917789,
            2.210720267439892,
            1.5269449262907222,
            2.024236083490118,
            1.5269449262907222,
            1.7134291102404955,
            0.15939424399238267,
            0.6566854011917789,
            1.0296537690913259,
            0.8431695851415524,
            -0.8973494650563341,
            -0.7108652811065606,
            -0.773026675756485,
            0.28371703329223175,
            1.153976558391175,
            0.4702012172420053,
            -0.6487038864566361,
            0.7810081904916278,
            1.3404607423409485,
            1.9620746888401936,
            -0.1514127292572398,
            -0.40005830785693797,
            2.3350430567397407
           ]
          }
         ]
        },
        {
         "data": [
          {
           "mode": "lines",
           "type": "scatter",
           "x": [
            -0.40102340448701146,
            0.12205060136561222,
            -0.008717900097543696,
            0.12205060136561222,
            1.2989671145340156,
            0.05666635063403426,
            1.4297356159971715,
            -0.20487065229227758,
            1.4297356159971715,
            0.7105088579498139,
            1.2335828638024375,
            0.7105088579498139,
            0.9066616101445477,
            -0.7279446581449013,
            -0.20487065229227758,
            0.18743485209719019,
            -0.008717900097543696,
            -1.8394769205817265,
            -1.6433241683869926,
            -1.7087084191185706,
            -0.5971761566817453,
            0.31820335356034607,
            -0.40102340448701146,
            -1.5779399176554147,
            -0.07410215082912165,
            0.51435610575508,
            1.1681986130708595,
            -1.054865911802791,
            -1.316402914729103,
            1.5605041174603274
           ],
           "y": [
            0.4628230208026375,
            0.9586319415608411,
            0.8346797113712902,
            0.9586319415608411,
            2.074202013266799,
            0.8966558264660656,
            2.19815424345635,
            0.6487513660869638,
            2.19815424345635,
            1.51641697741382,
            2.012225898172024,
            1.51641697741382,
            1.7023453226981464,
            0.15294244532876022,
            0.6487513660869638,
            1.0206080566556166,
            0.8346797113712902,
            -0.9006515112824223,
            -0.7147231659980959,
            -0.7766992810928715,
            0.27689467551831126,
            1.1445602868451674,
            0.4628230208026375,
            -0.6527470509033206,
            0.7727035962765147,
            1.3304886321294938,
            1.950249783077248,
            -0.15693813014511693,
            -0.4048425905242188,
            2.322106473645901
           ]
          }
         ]
        },
        {
         "data": [
          {
           "mode": "lines",
           "type": "scatter",
           "x": [
            -0.40102340448701146,
            0.12205060136561222,
            -0.008717900097543696,
            0.12205060136561222,
            1.2989671145340156,
            0.05666635063403426,
            1.4297356159971715,
            -0.20487065229227758,
            1.4297356159971715,
            0.7105088579498139,
            1.2335828638024375,
            0.7105088579498139,
            0.9066616101445477,
            -0.7279446581449013,
            -0.20487065229227758,
            0.18743485209719019,
            -0.008717900097543696,
            -1.8394769205817265,
            -1.6433241683869926,
            -1.7087084191185706,
            -0.5971761566817453,
            0.31820335356034607,
            -0.40102340448701146,
            -1.5779399176554147,
            -0.07410215082912165,
            0.51435610575508,
            1.1681986130708595,
            -1.054865911802791,
            -1.316402914729103,
            1.5605041174603274
           ],
           "y": [
            0.4555189851214206,
            0.9498599977240297,
            0.8262747445733775,
            0.9498599977240297,
            2.0621272760799005,
            0.8880673711487036,
            2.185712529230553,
            0.640896864847399,
            2.185712529230553,
            1.505993636901965,
            2.000334649504574,
            1.505993636901965,
            1.6913715166279435,
            0.14655585224478984,
            0.640896864847399,
            1.011652624299356,
            0.8262747445733775,
            -0.9039187995357546,
            -0.7185409198097762,
            -0.7803335463851023,
            0.2701411053954422,
            1.1352378774500083,
            0.4555189851214206,
            -0.65674829323445,
            0.7644821179980513,
            1.3206157571759867,
            1.9385420229292483,
            -0.16240728063184084,
            -0.4095777869331455,
            2.309297782381205
           ]
          }
         ]
        },
        {
         "data": [
          {
           "mode": "lines",
           "type": "scatter",
           "x": [
            -0.40102340448701146,
            0.12205060136561222,
            -0.008717900097543696,
            0.12205060136561222,
            1.2989671145340156,
            0.05666635063403426,
            1.4297356159971715,
            -0.20487065229227758,
            1.4297356159971715,
            0.7105088579498139,
            1.2335828638024375,
            0.7105088579498139,
            0.9066616101445477,
            -0.7279446581449013,
            -0.20487065229227758,
            0.18743485209719019,
            -0.008717900097543696,
            -1.8394769205817265,
            -1.6433241683869926,
            -1.7087084191185706,
            -0.5971761566817453,
            0.31820335356034607,
            -0.40102340448701146,
            -1.5779399176554147,
            -0.07410215082912165,
            0.51435610575508,
            1.1681986130708595,
            -1.054865911802791,
            -1.316402914729103,
            1.5605041174603274
           ],
           "y": [
            0.44828836492910007,
            0.9411756591549523,
            0.8179538355984892,
            0.9411756591549523,
            2.0501720711631197,
            0.8795647473767207,
            2.1733938947195828,
            0.6331211002637946,
            2.1733938947195828,
            1.495673865159036,
            1.9885611593848882,
            1.495673865159036,
            1.6805066004937306,
            0.14023380603794244,
            0.6331211002637946,
            1.0027865709331838,
            0.8179538355984892,
            -0.9071516941919935,
            -0.7223189588572987,
            -0.7839298706355304,
            0.2634556295944056,
            1.1260083944896468,
            0.44828836492910007,
            -0.6607080470790674,
            0.7563429238202577,
            1.3108411298243414,
            1.9269502476066567,
            -0.16782075285321507,
            -0.4142643999661413,
            2.296615718276046
           ]
          }
         ]
        },
        {
         "data": [
          {
           "mode": "lines",
           "type": "scatter",
           "x": [
            -0.40102340448701146,
            0.12205060136561222,
            -0.008717900097543696,
            0.12205060136561222,
            1.2989671145340156,
            0.05666635063403426,
            1.4297356159971715,
            -0.20487065229227758,
            1.4297356159971715,
            0.7105088579498139,
            1.2335828638024375,
            0.7105088579498139,
            0.9066616101445477,
            -0.7279446581449013,
            -0.20487065229227758,
            0.18743485209719019,
            -0.008717900097543696,
            -1.8394769205817265,
            -1.6433241683869926,
            -1.7087084191185706,
            -0.5971761566817453,
            0.31820335356034607,
            -0.40102340448701146,
            -1.5779399176554147,
            -0.07410215082912165,
            0.51435610575508,
            1.1681986130708595,
            -1.054865911802791,
            -1.316402914729103,
            1.5605041174603274
           ],
           "y": [
            0.4411304224445102,
            0.9325780509045807,
            0.809716143789563,
            0.9325780509045807,
            2.0383352149397393,
            0.8711470973470719,
            2.161197122054757,
            0.6254232831170367,
            2.161197122054757,
            1.4854566329221601,
            1.9769042613822307,
            1.4854566329221601,
            1.6697494935946864,
            0.13397565465696604,
            0.6254232831170367,
            0.9940090044620895,
            0.809716143789563,
            -0.9103505558206838,
            -0.7260576951481573,
            -0.7874886487056661,
            0.2568375617719838,
            1.1168709115771072,
            0.4411304224445102,
            -0.6646267415906485,
            0.7482851902320542,
            1.3011637722496334,
            1.9154733078247217,
            -0.17317911313057788,
            -0.4189029273606134,
            2.2840590291697747
           ]
          }
         ]
        },
        {
         "data": [
          {
           "mode": "lines",
           "type": "scatter",
           "x": [
            -0.40102340448701146,
            0.12205060136561222,
            -0.008717900097543696,
            0.12205060136561222,
            1.2989671145340156,
            0.05666635063403426,
            1.4297356159971715,
            -0.20487065229227758,
            1.4297356159971715,
            0.7105088579498139,
            1.2335828638024375,
            0.7105088579498139,
            0.9066616101445477,
            -0.7279446581449013,
            -0.20487065229227758,
            0.18743485209719019,
            -0.008717900097543696,
            -1.8394769205817265,
            -1.6433241683869926,
            -1.7087084191185706,
            -0.5971761566817453,
            0.31820335356034607,
            -0.40102340448701146,
            -1.5779399176554147,
            -0.07410215082912165,
            0.51435610575508,
            1.1681986130708595,
            -1.054865911802791,
            -1.316402914729103,
            1.5605041174603274
           ],
           "y": [
            0.4340444272993507,
            0.9240663067627087,
            0.8015608368968693,
            0.9240663067627087,
            2.0266155355552646,
            0.862813571829789,
            2.149121005421104,
            0.61780263209811,
            2.149121005421104,
            1.4753409211589865,
            1.9653628006223447,
            1.4753409211589865,
            1.659099125957746,
            0.12778075263475186,
            0.61780263209811,
            0.9853190416956286,
            0.8015608368968693,
            -0.913515741224884,
            -0.7297575364261246,
            -0.7910102713590443,
            0.2502862225005915,
            1.107824511561468,
            0.4340444272993507,
            -0.6685048014932049,
            0.7403081019639495,
            1.2915827163602274,
            1.9041100656894248,
            -0.17848292202984684,
            -0.42349386176152604,
            2.2716264752869435
           ]
          }
         ]
        },
        {
         "data": [
          {
           "mode": "lines",
           "type": "scatter",
           "x": [
            -0.40102340448701146,
            0.12205060136561222,
            -0.008717900097543696,
            0.12205060136561222,
            1.2989671145340156,
            0.05666635063403426,
            1.4297356159971715,
            -0.20487065229227758,
            1.4297356159971715,
            0.7105088579498139,
            1.2335828638024375,
            0.7105088579498139,
            0.9066616101445477,
            -0.7279446581449013,
            -0.20487065229227758,
            0.18743485209719019,
            -0.008717900097543696,
            -1.8394769205817265,
            -1.6433241683869926,
            -1.7087084191185706,
            -0.5971761566817453,
            0.31820335356034607,
            -0.40102340448701146,
            -1.5779399176554147,
            -0.07410215082912165,
            0.51435610575508,
            1.1681986130708595,
            -1.054865911802791,
            -1.316402914729103,
            1.5605041174603274
           ],
           "y": [
            0.4270296564637199,
            0.915639569170667,
            0.7934870909939302,
            0.915639569170667,
            2.0150118727612982,
            0.8545633300822986,
            2.137164350938035,
            0.6102583737288251,
            2.137164350938035,
            1.4653257209659825,
            1.9539356336729297,
            1.4653257209659825,
            1.6485544382310877,
            0.12164846102187787,
            0.6102583737288251,
            0.9767158082590354,
            0.7934870909939302,
            -0.9166476034803847,
            -0.7334188862152796,
            -0.794495125303648,
            0.24380093919861467,
            1.0988682864357722,
            0.4270296564637199,
            -0.6723426471269113,
            0.7324108519055619,
            1.2820970037008774,
            1.892859394584561,
            -0.18373273441996407,
            -0.4280376907734377,
            2.2593168291147716
           ]
          }
         ]
        },
        {
         "data": [
          {
           "mode": "lines",
           "type": "scatter",
           "x": [
            -0.40102340448701146,
            0.12205060136561222,
            -0.008717900097543696,
            0.12205060136561222,
            1.2989671145340156,
            0.05666635063403426,
            1.4297356159971715,
            -0.20487065229227758,
            1.4297356159971715,
            0.7105088579498139,
            1.2335828638024375,
            0.7105088579498139,
            0.9066616101445477,
            -0.7279446581449013,
            -0.20487065229227758,
            0.18743485209719019,
            -0.008717900097543696,
            -1.8394769205817265,
            -1.6433241683869926,
            -1.7087084191185706,
            -0.5971761566817453,
            0.31820335356034607,
            -0.40102340448701146,
            -1.5779399176554147,
            -0.07410215082912165,
            0.51435610575508,
            1.1681986130708595,
            -1.054865911802791,
            -1.316402914729103,
            1.5605041174603274
           ],
           "y": [
            0.42008539417239404,
            0.907296989134909,
            0.7854940903942803,
            0.907296989134909,
            2.0035230778005677,
            0.8463955397645946,
            2.1253259765411965,
            0.6027897422833371,
            2.1253259765411965,
            1.4554100334677385,
            1.9426216284302533,
            1.4554100334677385,
            1.6381143815786814,
            0.11557814732082217,
            0.6027897422833371,
            0.9681984385052234,
            0.7854940903942803,
            -0.919746491974522,
            -0.7370421438635788,
            -0.7979435932338932,
            0.23738104606145105,
            1.0900013372458521,
            0.42008539417239404,
            -0.6761406944932646,
            0.7245926410239659,
            1.272705685356795,
            1.8817201790599387,
            -0.18892909953074954,
            -0.4325348970120071,
            2.247128875281825
           ]
          }
         ]
        },
        {
         "data": [
          {
           "mode": "lines",
           "type": "scatter",
           "x": [
            -0.40102340448701146,
            0.12205060136561222,
            -0.008717900097543696,
            0.12205060136561222,
            1.2989671145340156,
            0.05666635063403426,
            1.4297356159971715,
            -0.20487065229227758,
            1.4297356159971715,
            0.7105088579498139,
            1.2335828638024375,
            0.7105088579498139,
            0.9066616101445477,
            -0.7279446581449013,
            -0.20487065229227758,
            0.18743485209719019,
            -0.008717900097543696,
            -1.8394769205817265,
            -1.6433241683869926,
            -1.7087084191185706,
            -0.5971761566817453,
            0.31820335356034607,
            -0.40102340448701146,
            -1.5779399176554147,
            -0.07410215082912165,
            0.51435610575508,
            1.1681986130708595,
            -1.054865911802791,
            -1.316402914729103,
            1.5605041174603274
           ],
           "y": [
            0.41321093185184965,
            0.8990377261414618,
            0.7775810275690588,
            0.8990377261414618,
            1.9921480132930895,
            0.8383093768552603,
            2.1136047118654924,
            0.5953959797104542,
            2.1136047118654924,
            1.4455928697172755,
            1.9314196640068877,
            1.4455928697172755,
            1.6277779175758802,
            0.10956918542084204,
            0.5953959797104542,
            0.9597660754276633,
            0.7775810275690588,
            -0.9228127524445838,
            -0.7406277045859792,
            -0.8013560538721808,
            0.23102588399324508,
            1.0812227740000664,
            0.41321093185184965,
            -0.6798993552997777,
            0.7168526782828573,
            1.2634078218586708,
            1.8706913147206863,
            -0.19407256101016557,
            -0.4369859581549719,
            2.2350614104378956
           ]
          }
         ]
        },
        {
         "data": [
          {
           "mode": "lines",
           "type": "scatter",
           "x": [
            -0.40102340448701146,
            0.12205060136561222,
            -0.008717900097543696,
            0.12205060136561222,
            1.2989671145340156,
            0.05666635063403426,
            1.4297356159971715,
            -0.20487065229227758,
            1.4297356159971715,
            0.7105088579498139,
            1.2335828638024375,
            0.7105088579498139,
            0.9066616101445477,
            -0.7279446581449013,
            -0.20487065229227758,
            0.18743485209719019,
            -0.008717900097543696,
            -1.8394769205817265,
            -1.6433241683869926,
            -1.7087084191185706,
            -0.5971761566817453,
            0.31820335356034607,
            -0.40102340448701146,
            -1.5779399176554147,
            -0.07410215082912165,
            0.51435610575508,
            1.1681986130708595,
            -1.054865911802791,
            -1.316402914729103,
            1.5605041174603274
           ],
           "y": [
            0.4064055680480159,
            0.8908609480712301,
            0.7697471030654266,
            0.8908609480712301,
            1.9808855531234622,
            0.8303040255683283,
            2.1019993981292657,
            0.5880763355567212,
            2.1019993981292657,
            1.435873250597346,
            1.9203286306205603,
            1.435873250597346,
            1.6175440181060514,
            0.10362095553350703,
            0.5880763355567212,
            0.9514178705741319,
            0.7697471030654266,
            -0.925846727015823,
            -0.7441759595071176,
            -0.8047328820100195,
            0.22473480053931072,
            1.0725317155799354,
            0.4064055680480159,
            -0.6836190370042159,
            0.7091901805625248,
            1.2542024830886407,
            1.8597717081176584,
            -0.1991636569810017,
            -0.44139134699260896,
            2.223113243135069
           ]
          }
         ]
        },
        {
         "data": [
          {
           "mode": "lines",
           "type": "scatter",
           "x": [
            -0.40102340448701146,
            0.12205060136561222,
            -0.008717900097543696,
            0.12205060136561222,
            1.2989671145340156,
            0.05666635063403426,
            1.4297356159971715,
            -0.20487065229227758,
            1.4297356159971715,
            0.7105088579498139,
            1.2335828638024375,
            0.7105088579498139,
            0.9066616101445477,
            -0.7279446581449013,
            -0.20487065229227758,
            0.18743485209719019,
            -0.008717900097543696,
            -1.8394769205817265,
            -1.6433241683869926,
            -1.7087084191185706,
            -0.5971761566817453,
            0.31820335356034607,
            -0.40102340448701146,
            -1.5779399176554147,
            -0.07410215082912165,
            0.51435610575508,
            1.1681986130708595,
            -1.054865911802791,
            -1.316402914729103,
            1.5605041174603274
           ],
           "y": [
            0.3996686083547553,
            0.8827658311161466,
            0.7619915254257988,
            0.8827658311161466,
            1.9697345823292773,
            0.8223786782709728,
            2.090508888019625,
            0.580830066890277,
            2.090508888019625,
            1.4262502067227119,
            1.9093474294841033,
            1.4262502067227119,
            1.6074116652582338,
            0.09773284412888572,
            0.580830066890277,
            0.9431529839613206,
            0.7619915254257988,
            -0.9288487542390709,
            -0.747687295703549,
            -0.808074448548723,
            0.21850714981923358,
            1.0639272896516685,
            0.3996686083547553,
            -0.6873001428583754,
            0.7016043725806249,
            1.2450887481871902,
            1.8489602766389293,
            -0.20420292009698382,
            -0.44575153147767965,
            2.211283193709973
           ]
          }
         ]
        },
        {
         "data": [
          {
           "mode": "lines",
           "type": "scatter",
           "x": [
            -0.40102340448701146,
            0.12205060136561222,
            -0.008717900097543696,
            0.12205060136561222,
            1.2989671145340156,
            0.05666635063403426,
            1.4297356159971715,
            -0.20487065229227758,
            1.4297356159971715,
            0.7105088579498139,
            1.2335828638024375,
            0.7105088579498139,
            0.9066616101445477,
            -0.7279446581449013,
            -0.20487065229227758,
            0.18743485209719019,
            -0.008717900097543696,
            -1.8394769205817265,
            -1.6433241683869926,
            -1.7087084191185706,
            -0.5971761566817453,
            0.31820335356034607,
            -0.40102340448701146,
            -1.5779399176554147,
            -0.07410215082912165,
            0.51435610575508,
            1.1681986130708595,
            -1.054865911802791,
            -1.316402914729103,
            1.5605041174603274
           ],
           "y": [
            0.39299936534306085,
            0.8747515596961604,
            0.7543135111078855,
            0.8747515596961604,
            1.9586939969906343,
            0.8145325354020229,
            2.079132045578909,
            0.5736564382254732,
            2.079132045578909,
            1.4167227783433973,
            1.898474972696497,
            1.4167227783433973,
            1.5973798512258095,
            0.09190424387237361,
            0.5736564382254732,
            0.9349705839902978,
            0.7543135111078855,
            -0.9318191691279627,
            -0.7511620962455503,
            -0.8113811205396879,
            0.21234229246064862,
            1.0554086325785725,
            0.39299936534306085,
            -0.6909430719514131,
            0.6940944868137481,
            1.236065705460985,
            1.8382559484023593,
            -0.20919087759831345,
            -0.45006697477486335,
            2.199570094167184
           ]
          }
         ]
        },
        {
         "data": [
          {
           "mode": "lines",
           "type": "scatter",
           "x": [
            -0.40102340448701146,
            0.12205060136561222,
            -0.008717900097543696,
            0.12205060136561222,
            1.2989671145340156,
            0.05666635063403426,
            1.4297356159971715,
            -0.20487065229227758,
            1.4297356159971715,
            0.7105088579498139,
            1.2335828638024375,
            0.7105088579498139,
            0.9066616101445477,
            -0.7279446581449013,
            -0.20487065229227758,
            0.18743485209719019,
            -0.008717900097543696,
            -1.8394769205817265,
            -1.6433241683869926,
            -1.7087084191185706,
            -0.5971761566817453,
            0.31820335356034607,
            -0.40102340448701146,
            -1.5779399176554147,
            -0.07410215082912165,
            0.51435610575508,
            1.1681986130708595,
            -1.054865911802791,
            -1.316402914729103,
            1.5605041174603274
           ],
           "y": [
            0.3863971584909654,
            0.8668173263770532,
            0.7467122844055313,
            0.8668173263770532,
            1.9477627041207506,
            0.8067648053912923,
            2.0678677460922725,
            0.5665547214482484,
            2.0678677460922725,
            1.4072900152489018,
            1.8877101831349896,
            1.4072900152489018,
            1.5874475782061848,
            0.08613455356216049,
            0.5665547214482484,
            0.9268698473628142,
            0.7467122844055313,
            -0.9347583031957759,
            -0.754600740238493,
            -0.814653261224254,
            0.20623959553368254,
            1.046974889334336,
            0.3863971584909654,
            -0.694548219252732,
            0.6866597634197703,
            1.227132452291619,
            1.8276576621492286,
            -0.21412805136664426,
            -0.45433813530968836,
            2.1879727880637945
           ]
          }
         ]
        },
        {
         "data": [
          {
           "mode": "lines",
           "type": "scatter",
           "x": [
            -0.40102340448701146,
            0.12205060136561222,
            -0.008717900097543696,
            0.12205060136561222,
            1.2989671145340156,
            0.05666635063403426,
            1.4297356159971715,
            -0.20487065229227758,
            1.4297356159971715,
            0.7105088579498139,
            1.2335828638024375,
            0.7105088579498139,
            0.9066616101445477,
            -0.7279446581449013,
            -0.20487065229227758,
            0.18743485209719019,
            -0.008717900097543696,
            -1.8394769205817265,
            -1.6433241683869926,
            -1.7087084191185706,
            -0.5971761566817453,
            0.31820335356034607,
            -0.40102340448701146,
            -1.5779399176554147,
            -0.07410215082912165,
            0.51435610575508,
            1.1681986130708595,
            -1.054865911802791,
            -1.316402914729103,
            1.5605041174603274
           ],
           "y": [
            0.3798613141141548,
            0.8589623317890787,
            0.7391870773703477,
            0.8589623317890787,
            1.936939621557657,
            0.7990747045797132,
            2.0567148759763882,
            0.5595241957422512,
            2.0567148759763882,
            1.397950976673368,
            1.877051994348292,
            1.397950976673368,
            1.5776138583014643,
            0.08042317806732735,
            0.5595241957422512,
            0.9188499589984441,
            0.7391870773703477,
            -0.9376664844918857,
            -0.7580036028637892,
            -0.8178912300731548,
            0.2001984324860584,
            1.038625213417175,
            0.3798613141141548,
            -0.6981159756544238,
            0.6792994501609821,
            1.2182880950452715,
            1.8171643671389264,
            -0.21901495797949988,
            -0.458565466816962,
            2.176490130395119
           ]
          }
         ]
        },
        {
         "data": [
          {
           "mode": "lines",
           "type": "scatter",
           "x": [
            -0.40102340448701146,
            0.12205060136561222,
            -0.008717900097543696,
            0.12205060136561222,
            1.2989671145340156,
            0.05666635063403426,
            1.4297356159971715,
            -0.20487065229227758,
            1.4297356159971715,
            0.7105088579498139,
            1.2335828638024375,
            0.7105088579498139,
            0.9066616101445477,
            -0.7279446581449013,
            -0.20487065229227758,
            0.18743485209719019,
            -0.008717900097543696,
            -1.8394769205817265,
            -1.6433241683869926,
            -1.7087084191185706,
            -0.5971761566817453,
            0.31820335356034607,
            -0.40102340448701146,
            -1.5779399176554147,
            -0.07410215082912165,
            0.51435610575508,
            1.1681986130708595,
            -1.054865911802791,
            -1.316402914729103,
            1.5605041174603274
           ],
           "y": [
            0.37339116529727734,
            0.8511857845464118,
            0.7317371297341282,
            0.8511857845464118,
            1.9262236778569646,
            0.79146145714027,
            2.045672332669248,
            0.5525641475157028,
            2.045672332669248,
            1.3887047312016882,
            1.8664993504508227,
            1.3887047312016882,
            1.5678777134201134,
            0.07476952826656835,
            0.5525641475157028,
            0.9109101119525537,
            0.7317371297341282,
            -0.9405440376378423,
            -0.761371055419417,
            -0.8210953828255588,
            0.19421818307885197,
            1.0303587667648373,
            0.37339116529727734,
            -0.7016467280132751,
            0.6720128023279864,
            1.2095317489832627,
            1.8067750230446809,
            -0.22385210876414063,
            -0.4627494183887081,
            2.1651209874815316
           ]
          }
         ]
        },
        {
         "data": [
          {
           "mode": "lines",
           "type": "scatter",
           "x": [
            -0.40102340448701146,
            0.12205060136561222,
            -0.008717900097543696,
            0.12205060136561222,
            1.2989671145340156,
            0.05666635063403426,
            1.4297356159971715,
            -0.20487065229227758,
            1.4297356159971715,
            0.7105088579498139,
            1.2335828638024375,
            0.7105088579498139,
            0.9066616101445477,
            -0.7279446581449013,
            -0.20487065229227758,
            0.18743485209719019,
            -0.008717900097543696,
            -1.8394769205817265,
            -1.6433241683869926,
            -1.7087084191185706,
            -0.5971761566817453,
            0.31820335356034607,
            -0.40102340448701146,
            -1.5779399176554147,
            -0.07410215082912165,
            0.51435610575508,
            1.1681986130708595,
            -1.054865911802791,
            -1.316402914729103,
            1.5605041174603274
           ],
           "y": [
            0.36698605182594407,
            0.8434869011674052,
            0.7243616888320399,
            0.8434869011674052,
            1.915613812185693,
            0.7839242949997225,
            2.034739024521058,
            0.5456738703289921,
            2.034739024521058,
            1.3795503566765488,
            1.85605120601801,
            1.3795503566765488,
            1.5582381751795968,
            0.06917302098753086,
            0.5456738703289921,
            0.9030495073350878,
            0.7243616888320399,
            -0.9433912838630739,
            -0.7647034653600259,
            -0.8242660715277087,
            0.1882982333228962,
            1.0221747196704531,
            0.36698605182594407,
            -0.7051408591923433,
            0.6647990826643573,
            1.200862538173501,
            1.7964885998503273,
            -0.22864000985088218,
            -0.46689043452161283,
            2.1538642368564234
           ]
          }
         ]
        },
        {
         "data": [
          {
           "mode": "lines",
           "type": "scatter",
           "x": [
            -0.40102340448701146,
            0.12205060136561222,
            -0.008717900097543696,
            0.12205060136561222,
            1.2989671145340156,
            0.05666635063403426,
            1.4297356159971715,
            -0.20487065229227758,
            1.4297356159971715,
            0.7105088579498139,
            1.2335828638024375,
            0.7105088579498139,
            0.9066616101445477,
            -0.7279446581449013,
            -0.20487065229227758,
            0.18743485209719019,
            -0.008717900097543696,
            -1.8394769205817265,
            -1.6433241683869926,
            -1.7087084191185706,
            -0.5971761566817453,
            0.31820335356034607,
            -0.40102340448701146,
            -1.5779399176554147,
            -0.07410215082912165,
            0.51435610575508,
            1.1681986130708595,
            -1.054865911802791,
            -1.316402914729103,
            1.5605041174603274
           ],
           "y": [
            0.36064532011941175,
            0.8358649059956402,
            0.7170600095265831,
            0.8358649059956402,
            1.9051089742171547,
            0.7764624577611117,
            2.023913870686212,
            0.5388526648229974,
            2.023913870686212,
            1.3704869401063975,
            1.8457065259826262,
            1.3704869401063975,
            1.548694284809983,
            0.06363307894676884,
            0.5388526648229974,
            0.8952673542301689,
            0.7170600095265831,
            -0.9462085410402167,
            -0.768001196336631,
            -0.8274036445711596,
            0.18243797541582607,
            1.014072250699226,
            0.36064532011941175,
            -0.7085987481021024,
            0.6576575612920545,
            1.1922795954028116,
            1.7863040777480972,
            -0.23337916222587385,
            -0.4709889551639882,
            2.142718767155269
           ]
          }
         ]
        },
        {
         "data": [
          {
           "mode": "lines",
           "type": "scatter",
           "x": [
            -0.40102340448701146,
            0.12205060136561222,
            -0.008717900097543696,
            0.12205060136561222,
            1.2989671145340156,
            0.05666635063403426,
            1.4297356159971715,
            -0.20487065229227758,
            1.4297356159971715,
            0.7105088579498139,
            1.2335828638024375,
            0.7105088579498139,
            0.9066616101445477,
            -0.7279446581449013,
            -0.20487065229227758,
            0.18743485209719019,
            -0.008717900097543696,
            -1.8394769205817265,
            -1.6433241683869926,
            -1.7087084191185706,
            -0.5971761566817453,
            0.31820335356034607,
            -0.40102340448701146,
            -1.5779399176554147,
            -0.07410215082912165,
            0.51435610575508,
            1.1681986130708595,
            -1.054865911802791,
            -1.316402914729103,
            1.5605041174603274
           ],
           "y": [
            0.35436832316394135,
            0.8283190311217679,
            0.7098313541323112,
            0.8283190311217679,
            1.8947081240268777,
            0.7690751926270396,
            2.0131958010163347,
            0.5320998386481263,
            2.0131958010163347,
            1.3615135775743228,
            1.8354642855321495,
            1.3615135775743228,
            1.5392450930585078,
            0.0581491306902997,
            0.5320998386481263,
            0.8875628696164962,
            0.7098313541323112,
            -0.9489961237200817,
            -0.7712646082358967,
            -0.8305084467306252,
            0.17663680767975642,
            1.0060505466059528,
            0.35436832316394135,
            -0.7120207697411685,
            0.650587515637583,
            1.1837820620901378,
            1.776220447037421,
            -0.23807006178334178,
            -0.47504541576225523,
            2.131683478005791
           ]
          }
         ]
        },
        {
         "data": [
          {
           "mode": "lines",
           "type": "scatter",
           "x": [
            -0.40102340448701146,
            0.12205060136561222,
            -0.008717900097543696,
            0.12205060136561222,
            1.2989671145340156,
            0.05666635063403426,
            1.4297356159971715,
            -0.20487065229227758,
            1.4297356159971715,
            0.7105088579498139,
            1.2335828638024375,
            0.7105088579498139,
            0.9066616101445477,
            -0.7279446581449013,
            -0.20487065229227758,
            0.18743485209719019,
            -0.008717900097543696,
            -1.8394769205817265,
            -1.6433241683869926,
            -1.7087084191185706,
            -0.5971761566817453,
            0.31820335356034607,
            -0.40102340448701146,
            -1.5779399176554147,
            -0.07410215082912165,
            0.51435610575508,
            1.1681986130708595,
            -1.054865911802791,
            -1.316402914729103,
            1.5605041174603274
           ],
           "y": [
            0.3481544204468271,
            0.8208485163061295,
            0.7026749923413039,
            0.8208485163061295,
            1.8844102319895601,
            0.7617617543237167,
            2.0025837559543858,
            0.5254147063940655,
            2.0025837559543858,
            1.352629374147845,
            1.8253234700071472,
            1.352629374147845,
            1.5298896600950833,
            0.05272061053476307,
            0.5254147063940655,
            0.8799352782885423,
            0.7026749923413039,
            -0.9517543431662547,
            -0.7744940572190162,
            -0.8335808192014291,
            0.17089413449958868,
            0.998108802253368,
            0.3481544204468271,
            -0.7154072952366035,
            0.6435882303588911,
            1.1753690882006065,
            1.7662367080247345,
            -0.24271319937730096,
            -0.4790602473069523,
            2.1207572799192116
           ]
          }
         ]
        },
        {
         "data": [
          {
           "mode": "lines",
           "type": "scatter",
           "x": [
            -0.40102340448701146,
            0.12205060136561222,
            -0.008717900097543696,
            0.12205060136561222,
            1.2989671145340156,
            0.05666635063403426,
            1.4297356159971715,
            -0.20487065229227758,
            1.4297356159971715,
            0.7105088579498139,
            1.2335828638024375,
            0.7105088579498139,
            0.9066616101445477,
            -0.7279446581449013,
            -0.20487065229227758,
            0.18743485209719019,
            -0.008717900097543696,
            -1.8394769205817265,
            -1.6433241683869926,
            -1.7087084191185706,
            -0.5971761566817453,
            0.31820335356034607,
            -0.40102340448701146,
            -1.5779399176554147,
            -0.07410215082912165,
            0.51435610575508,
            1.1681986130708595,
            -1.054865911802791,
            -1.316402914729103,
            1.5605041174603274
           ],
           "y": [
            0.3420029778910869,
            0.813452608902151,
            0.695590201149385,
            0.813452608902151,
            1.8742142786770455,
            0.754521405025768,
            1.9920766864298114,
            0.518796589520236,
            1.9920766864298114,
            1.3438334437895982,
            1.8152830748006623,
            1.3438334437895982,
            1.520627055418747,
            0.04734695850917181,
            0.518796589520236,
            0.872383812778534,
            0.695590201149385,
            -0.9544835073893394,
            -0.7776898957601903,
            -0.8366210996365735,
            0.16520936626193794,
            0.9902462205313001,
            0.3420029778910869,
            -0.7187586918838074,
            0.636658997273002,
            1.1670398321604492,
            1.7563518709242791,
            -0.24730906087274318,
            -0.48303387637827533,
            2.1099390941825775
           ]
          }
         ]
        },
        {
         "data": [
          {
           "mode": "lines",
           "type": "scatter",
           "x": [
            -0.40102340448701146,
            0.12205060136561222,
            -0.008717900097543696,
            0.12205060136561222,
            1.2989671145340156,
            0.05666635063403426,
            1.4297356159971715,
            -0.20487065229227758,
            1.4297356159971715,
            0.7105088579498139,
            1.2335828638024375,
            0.7105088579498139,
            0.9066616101445477,
            -0.7279446581449013,
            -0.20487065229227758,
            0.18743485209719019,
            -0.008717900097543696,
            -1.8394769205817265,
            -1.6433241683869926,
            -1.7087084191185706,
            -0.5971761566817453,
            0.31820335356034607,
            -0.40102340448701146,
            -1.5779399176554147,
            -0.07410215082912165,
            0.51435610575508,
            1.1681986130708595,
            -1.054865911802791,
            -1.316402914729103,
            1.5605041174603274
           ],
           "y": [
            0.33591336779080977,
            0.8061305637805019,
            0.6885762647830789,
            0.8061305637805019,
            1.864119254757309,
            0.7473534142817904,
            1.9816735537547323,
            0.5122448162869443,
            1.9816735537547323,
            1.3351249092689055,
            1.8053421052585976,
            1.3351249092689055,
            1.5114563577650402,
            0.042027620297252155,
            0.5122448162869443,
            0.8649077132792133,
            0.6885762647830789,
            -0.9571839211808435,
            -0.780852472684709,
            -0.8396296221834205,
            0.15958191929467525,
            0.9824620122766363,
            0.33591336779080977,
            -0.7220753231859975,
            0.6297991152843674,
            1.1587934607727708,
            1.746564955759886,
            -0.2518581271963053,
            -0.4869667251911516,
            2.099227852752155
           ]
          }
         ]
        },
        {
         "data": [
          {
           "mode": "lines",
           "type": "scatter",
           "x": [
            -0.40102340448701146,
            0.12205060136561222,
            -0.008717900097543696,
            0.12205060136561222,
            1.2989671145340156,
            0.05666635063403426,
            1.4297356159971715,
            -0.20487065229227758,
            1.4297356159971715,
            0.7105088579498139,
            1.2335828638024375,
            0.7105088579498139,
            0.9066616101445477,
            -0.7279446581449013,
            -0.20487065229227758,
            0.18743485209719019,
            -0.008717900097543696,
            -1.8394769205817265,
            -1.6433241683869926,
            -1.7087084191185706,
            -0.5971761566817453,
            0.31820335356034607,
            -0.40102340448701146,
            -1.5779399176554147,
            -0.07410215082912165,
            0.51435610575508,
            1.1681986130708595,
            -1.054865911802791,
            -1.316402914729103,
            1.5605041174603274
           ],
           "y": [
            0.32988496874715195,
            0.798881643254012,
            0.6816324746272969,
            0.798881643254012,
            1.8541241608944472,
            0.7402570589406544,
            1.9713733295211622,
            0.5057587216872245,
            1.9713733295211622,
            1.3265029020742296,
            1.7954995765810895,
            1.3265029020742296,
            1.5023766550143018,
            0.036762047180364466,
            0.5057587216872245,
            0.8575062275673695,
            0.6816324746272969,
            -0.9598558861467129,
            -0.7839821332066405,
            -0.8426067175199979,
            0.15401121580707955,
            0.9747553961940845,
            0.32988496874715195,
            -0.725357548893283,
            0.6230078903139394,
            1.150629149134157,
            1.7368749922677318,
            -0.25636087438642297,
            -0.490859211639853,
            2.088622498147877
           ]
          }
         ]
        },
        {
         "data": [
          {
           "mode": "lines",
           "type": "scatter",
           "x": [
            -0.40102340448701146,
            0.12205060136561222,
            -0.008717900097543696,
            0.12205060136561222,
            1.2989671145340156,
            0.05666635063403426,
            1.4297356159971715,
            -0.20487065229227758,
            1.4297356159971715,
            0.7105088579498139,
            1.2335828638024375,
            0.7105088579498139,
            0.9066616101445477,
            -0.7279446581449013,
            -0.20487065229227758,
            0.18743485209719019,
            -0.008717900097543696,
            -1.8394769205817265,
            -1.6433241683869926,
            -1.7087084191185706,
            -0.5971761566817453,
            0.31820335356034607,
            -0.40102340448701146,
            -1.5779399176554147,
            -0.07410215082912165,
            0.51435610575508,
            1.1681986130708595,
            -1.054865911802791,
            -1.316402914729103,
            1.5605041174603274
           ],
           "y": [
            0.3239171656049764,
            0.7917051170033383,
            0.6747581291537479,
            0.7917051170033383,
            1.8442280076496527,
            0.7332316230785431,
            1.9611749954992432,
            0.49933764737936215,
            1.9611749954992432,
            1.3179665623264953,
            1.7857545137248576,
            1.3179665623264953,
            1.4933870441008812,
            0.031549695981000214,
            0.49933764737936215,
            0.8501786109281335,
            0.6747581291537479,
            -0.9624997007405188,
            -0.787079218966133,
            -0.8455527128909285,
            0.14849668383059067,
            0.9671255987777241,
            0.3239171656049764,
            -0.7286057250413379,
            0.6162846352289526,
            1.1425460805521097,
            1.727281019800062,
            -0.260817773642976,
            -0.494711749342157,
            2.078121983348834
           ]
          }
         ]
        },
        {
         "data": [
          {
           "mode": "lines",
           "type": "scatter",
           "x": [
            -0.40102340448701146,
            0.12205060136561222,
            -0.008717900097543696,
            0.12205060136561222,
            1.2989671145340156,
            0.05666635063403426,
            1.4297356159971715,
            -0.20487065229227758,
            1.4297356159971715,
            0.7105088579498139,
            1.2335828638024375,
            0.7105088579498139,
            0.9066616101445477,
            -0.7279446581449013,
            -0.20487065229227758,
            0.18743485209719019,
            -0.008717900097543696,
            -1.8394769205817265,
            -1.6433241683869926,
            -1.7087084191185706,
            -0.5971761566817453,
            0.31820335356034607,
            -0.40102340448701146,
            -1.5779399176554147,
            -0.07410215082912165,
            0.51435610575508,
            1.1681986130708595,
            -1.054865911802791,
            -1.316402914729103,
            1.5605041174603274
           ],
           "y": [
            0.31800934939012804,
            0.7846002620033741,
            0.6679525338500626,
            0.7846002620033741,
            1.8344298153831775,
            0.7262763979267183,
            1.9510775435364893,
            0.4929809416200953,
            1.9510775435364893,
            1.309515038693276,
            1.7761059513065218,
            1.309515038693276,
            1.484486630923243,
            0.02639002900684928,
            0.4929809416200953,
            0.8429241260800298,
            0.6679525338500626,
            -0.9651156602962984,
            -0.7901440680663311,
            -0.848467932142987,
            0.14303775716016087,
            0.9595718542333413,
            0.31800934939012804,
            -0.7318202039896754,
            0.6096286697734068,
            1.1345434464633086,
            1.7177820872298661,
            -0.26522929137642937,
            -0.49852474768305244,
            2.0677252716898007
           ]
          }
         ]
        },
        {
         "data": [
          {
           "mode": "lines",
           "type": "scatter",
           "x": [
            -0.40102340448701146,
            0.12205060136561222,
            -0.008717900097543696,
            0.12205060136561222,
            1.2989671145340156,
            0.05666635063403426,
            1.4297356159971715,
            -0.20487065229227758,
            1.4297356159971715,
            0.7105088579498139,
            1.2335828638024375,
            0.7105088579498139,
            0.9066616101445477,
            -0.7279446581449013,
            -0.20487065229227758,
            0.18743485209719019,
            -0.008717900097543696,
            -1.8394769205817265,
            -1.6433241683869926,
            -1.7087084191185706,
            -0.5971761566817453,
            0.31820335356034607,
            -0.40102340448701146,
            -1.5779399176554147,
            -0.07410215082912165,
            0.51435610575508,
            1.1681986130708595,
            -1.054865911802791,
            -1.316402914729103,
            1.5605041174603274
           ],
           "y": [
            0.31216091724733996,
            0.7775663624503929,
            0.6612150011496296,
            0.7775663624503929,
            1.8247286141572618,
            0.7193906818000113,
            1.9410799754580252,
            0.48668795919848484,
            1.9410799754580252,
            1.3011474883038274,
            1.7665529335068801,
            1.3011474883038274,
            1.475674530254972,
            0.021282513995431906,
            0.48668795919848484,
            0.8357420431007745,
            0.6612150011496296,
            -0.9677040570610554,
            -0.7931770151099106,
            -0.8513526957602923,
            0.1376338752961952,
            0.9520934044015377,
            0.31216091724733996,
            -0.7350013344595291,
            0.603039320499248,
            1.1266204463526825,
            1.7083772528564984,
            -0.26959588925647615,
            -0.5022986118580027,
            2.057431336758788
           ]
          }
         ]
        },
        {
         "data": [
          {
           "mode": "lines",
           "type": "scatter",
           "x": [
            -0.40102340448701146,
            0.12205060136561222,
            -0.008717900097543696,
            0.12205060136561222,
            1.2989671145340156,
            0.05666635063403426,
            1.4297356159971715,
            -0.20487065229227758,
            1.4297356159971715,
            0.7105088579498139,
            1.2335828638024375,
            0.7105088579498139,
            0.9066616101445477,
            -0.7279446581449013,
            -0.20487065229227758,
            0.18743485209719019,
            -0.008717900097543696,
            -1.8394769205817265,
            -1.6433241683869926,
            -1.7087084191185706,
            -0.5971761566817453,
            0.31820335356034607,
            -0.40102340448701146,
            -1.5779399176554147,
            -0.07410215082912165,
            0.51435610575508,
            1.1681986130708595,
            -1.054865911802791,
            -1.316402914729103,
            1.5605041174603274
           ],
           "y": [
            0.3063712723787623,
            0.7706027096899206,
            0.6545448503621311,
            0.7706027096899206,
            1.8151234436400268,
            0.7125737800260259,
            1.9311813029678166,
            0.4804580613704467,
            1.9311813029678166,
            1.2928630766649738,
            1.7570945139761323,
            1.2928630766649738,
            1.466949865656658,
            0.01622662405928832,
            0.4804580613704467,
            0.8286316393538155,
            0.6545448503621311,
            -0.970265180226923,
            -0.7961783912352386,
            -0.8542073208991335,
            0.132284483387078,
            0.944689498681605,
            0.3063712723787623,
            -0.7381494615713439,
            0.5965159206982363,
            1.1187762876732894,
            1.6990655843122373,
            -0.2739180242601855,
            -0.5060337429157648,
            2.047239162295606
           ]
          }
         ]
        },
        {
         "data": [
          {
           "mode": "lines",
           "type": "scatter",
           "x": [
            -0.40102340448701146,
            0.12205060136561222,
            -0.008717900097543696,
            0.12205060136561222,
            1.2989671145340156,
            0.05666635063403426,
            1.4297356159971715,
            -0.20487065229227758,
            1.4297356159971715,
            0.7105088579498139,
            1.2335828638024375,
            0.7105088579498139,
            0.9066616101445477,
            -0.7279446581449013,
            -0.20487065229227758,
            0.18743485209719019,
            -0.008717900097543696,
            -1.8394769205817265,
            -1.6433241683869926,
            -1.7087084191185706,
            -0.5971761566817453,
            0.31820335356034607,
            -0.40102340448701146,
            -1.5779399176554147,
            -0.07410215082912165,
            0.51435610575508,
            1.1681986130708595,
            -1.054865911802791,
            -1.316402914729103,
            1.5605041174603274
           ],
           "y": [
            0.30063982398310957,
            0.7637086021453282,
            0.6479414076047736,
            0.7637086021453282,
            1.8056133530103202,
            0.7058250048750508,
            1.921380547550875,
            0.47429061579394155,
            1.921380547550875,
            1.2846609775778242,
            1.7477297557400429,
            1.2846609775778242,
            1.4583117693886563,
            0.011221837631722797,
            0.47429061579394155,
            0.8215921994156056,
            0.6479414076047736,
            -0.9727993159629917,
            -0.7991485241521596,
            -0.857032121422437,
            0.12698903217227764,
            0.9373593939561602,
            0.30063982398310957,
            -0.7412649268818825,
            0.5900578103344962,
            1.1110101857669923,
            1.6898461584697655,
            -0.2781961487196637,
            -0.5097305378007733,
            2.0371477420914297
           ]
          }
         ]
        },
        {
         "data": [
          {
           "mode": "lines",
           "type": "scatter",
           "x": [
            -0.40102340448701146,
            0.12205060136561222,
            -0.008717900097543696,
            0.12205060136561222,
            1.2989671145340156,
            0.05666635063403426,
            1.4297356159971715,
            -0.20487065229227758,
            1.4297356159971715,
            0.7105088579498139,
            1.2335828638024375,
            0.7105088579498139,
            0.9066616101445477,
            -0.7279446581449013,
            -0.20487065229227758,
            0.18743485209719019,
            -0.008717900097543696,
            -1.8394769205817265,
            -1.6433241683869926,
            -1.7087084191185706,
            -0.5971761566817453,
            0.31820335356034607,
            -0.40102340448701146,
            -1.5779399176554147,
            -0.07410215082912165,
            0.51435610575508,
            1.1681986130708595,
            -1.054865911802791,
            -1.316402914729103,
            1.5605041174603274
           ],
           "y": [
            0.294965987195418,
            0.7568833452471367,
            0.6414040057342071,
            0.7568833452471367,
            1.796197400863504,
            0.6991436754906719,
            1.9116767403764339,
            0.46818499646481254,
            1.9116767403764339,
            1.2765403730553204,
            1.7384577311070393,
            1.2765403730553204,
            1.449759382324715,
            0.006267638413093746,
            0.46818499646481254,
            0.8146230150036017,
            0.6414040057342071,
            -0.9753067474468086,
            -0.802087738177414,
            -0.8598274079338789,
            0.12174697792602351,
            0.9301023545165313,
            0.294965987195418,
            -0.7443480684209492,
            0.5836643359777423,
            1.1033213637859258,
            1.680718061350574,
            -0.2824307103692305,
            -0.5133893893950899,
            2.0271560798893633
           ]
          }
         ]
        },
        {
         "data": [
          {
           "mode": "lines",
           "type": "scatter",
           "x": [
            -0.40102340448701146,
            0.12205060136561222,
            -0.008717900097543696,
            0.12205060136561222,
            1.2989671145340156,
            0.05666635063403426,
            1.4297356159971715,
            -0.20487065229227758,
            1.4297356159971715,
            0.7105088579498139,
            1.2335828638024375,
            0.7105088579498139,
            0.9066616101445477,
            -0.7279446581449013,
            -0.20487065229227758,
            0.18743485209719019,
            -0.008717900097543696,
            -1.8394769205817265,
            -1.6433241683869926,
            -1.7087084191185706,
            -0.5971761566817453,
            0.31820335356034607,
            -0.40102340448701146,
            -1.5779399176554147,
            -0.07410215082912165,
            0.51435610575508,
            1.1681986130708595,
            -1.054865911802791,
            -1.316402914729103,
            1.5605041174603274
           ],
           "y": [
            0.28934918302740936,
            0.7501262513630298,
            0.6349319842791247,
            0.7501262513630298,
            1.7868746551181758,
            0.6925291178210773,
            1.902068922202081,
            0.46214058365326705,
            1.902068922202081,
            1.2685004532406028,
            1.7292775215762233,
            1.2685004532406028,
            1.4412918538664603,
            0.0013635153176465575,
            0.46214058365326705,
            0.8077233849049823,
            0.6349319842791247,
            -0.9777877548955467,
            -0.804996354269689,
            -0.8625934878116417,
            0.11655778240155179,
            0.9229176519888874,
            0.28934918302740936,
            -0.7473992207277367,
            0.5773348507371722,
            1.095709052614745,
            1.6716803880342705,
            -0.2866221523921161,
            -0.5170106865599264,
            2.017263189285986
           ]
          }
         ]
        },
        {
         "data": [
          {
           "mode": "lines",
           "type": "scatter",
           "x": [
            -0.40102340448701146,
            0.12205060136561222,
            -0.008717900097543696,
            0.12205060136561222,
            1.2989671145340156,
            0.05666635063403426,
            1.4297356159971715,
            -0.20487065229227758,
            1.4297356159971715,
            0.7105088579498139,
            1.2335828638024375,
            0.7105088579498139,
            0.9066616101445477,
            -0.7279446581449013,
            -0.20487065229227758,
            0.18743485209719019,
            -0.008717900097543696,
            -1.8394769205817265,
            -1.6433241683869926,
            -1.7087084191185706,
            -0.5971761566817453,
            0.31820335356034607,
            -0.40102340448701146,
            -1.5779399176554147,
            -0.07410215082912165,
            0.51435610575508,
            1.1681986130708595,
            -1.054865911802791,
            -1.316402914729103,
            1.5605041174603274
           ],
           "y": [
            0.2837888383084527,
            0.7434366397285638,
            0.628524689373536,
            0.7434366397285638,
            1.7776441929238136,
            0.6859806645510499,
            1.8925561432788414,
            0.45615676384099435,
            1.8925561432788414,
            1.2605404163261889,
            1.7201882177462997,
            1.2605404163261889,
            1.4329083418587303,
            -0.003491037579116729,
            0.45615676384099435,
            0.8008926149060777,
            0.628524689373536,
            -0.9802426155968527,
            -0.807874690064311,
            -0.8653306652418249,
            0.11142091277591115,
            0.9158045652611053,
            0.2837888383084527,
            -0.7504187148867971,
            0.5710687141960221,
            1.088172490793647,
            1.6627322425687858,
            -0.29077091346668604,
            -0.5205948141767418,
            2.007468093633869
           ]
          }
         ]
        },
        {
         "data": [
          {
           "mode": "lines",
           "type": "scatter",
           "x": [
            -0.40102340448701146,
            0.12205060136561222,
            -0.008717900097543696,
            0.12205060136561222,
            1.2989671145340156,
            0.05666635063403426,
            1.4297356159971715,
            -0.20487065229227758,
            1.4297356159971715,
            0.7105088579498139,
            1.2335828638024375,
            0.7105088579498139,
            0.9066616101445477,
            -0.7279446581449013,
            -0.20487065229227758,
            0.18743485209719019,
            -0.008717900097543696,
            -1.8394769205817265,
            -1.6433241683869926,
            -1.7087084191185706,
            -0.5971761566817453,
            0.31820335356034607,
            -0.40102340448701146,
            -1.5779399176554147,
            -0.07410215082912165,
            0.51435610575508,
            1.1681986130708595,
            -1.054865911802791,
            -1.316402914729103,
            1.5605041174603274
           ],
           "y": [
            0.27828438562711966,
            0.7368138363785712,
            0.6221814736907083,
            0.7368138363785712,
            1.768505100569337,
            0.6794976550346398,
            1.8831374632572002,
            0.450232929658914,
            1.8831374632572002,
            1.2526594684739543,
            1.7111889192254055,
            1.2526594684739543,
            1.4246080125057485,
            -0.008296521092537534,
            0.450232929658914,
            0.7941300177225026,
            0.6221814736907083,
            -0.982671603939372,
            -0.8107230599075775,
            -0.8680392412515091,
            0.10633584159532539,
            0.9087623804103655,
            0.27828438562711966,
            -0.7534068785636464,
            0.5648652923467768,
            1.0807109244421598,
            1.6538727378814744,
            -0.2948774278121947,
            -0.5241421531879206,
            1.997769825945063
           ]
          }
         ]
        },
        {
         "data": [
          {
           "mode": "lines",
           "type": "scatter",
           "x": [
            -0.40102340448701146,
            0.12205060136561222,
            -0.008717900097543696,
            0.12205060136561222,
            1.2989671145340156,
            0.05666635063403426,
            1.4297356159971715,
            -0.20487065229227758,
            1.4297356159971715,
            0.7105088579498139,
            1.2335828638024375,
            0.7105088579498139,
            0.9066616101445477,
            -0.7279446581449013,
            -0.20487065229227758,
            0.18743485209719019,
            -0.008717900097543696,
            -1.8394769205817265,
            -1.6433241683869926,
            -1.7087084191185706,
            -0.5971761566817453,
            0.31820335356034607,
            -0.40102340448701146,
            -1.5779399176554147,
            -0.07410215082912165,
            0.51435610575508,
            1.1681986130708595,
            -1.054865911802791,
            -1.316402914729103,
            1.5605041174603274
           ],
           "y": [
            0.27283526327332636,
            0.7302571740792487,
            0.6159016963777681,
            0.7302571740792487,
            1.7594564733925742,
            0.6730794352285084,
            1.873811951094055,
            0.4443684798255473,
            1.873811951094055,
            1.2448568237359114,
            1.7022787345418338,
            1.2448568237359114,
            1.4163900402881322,
            -0.013053430980375147,
            0.4443684798255473,
            0.7874349129299891,
            0.6159016963777681,
            -0.9850749914429601,
            -0.8135417748907393,
            -0.8707195137414797,
            0.10130204672110554,
            0.9017903906314697,
            0.27283526327332636,
            -0.7563640360399991,
            0.5587239575270279,
            1.0733236071836905,
            1.6451009956910934,
            -0.2989421252340766,
            -0.527653080637038,
            1.9881674287955353
           ]
          }
         ]
        },
        {
         "data": [
          {
           "mode": "lines",
           "type": "scatter",
           "x": [
            -0.40102340448701146,
            0.12205060136561222,
            -0.008717900097543696,
            0.12205060136561222,
            1.2989671145340156,
            0.05666635063403426,
            1.4297356159971715,
            -0.20487065229227758,
            1.4297356159971715,
            0.7105088579498139,
            1.2335828638024375,
            0.7105088579498139,
            0.9066616101445477,
            -0.7279446581449013,
            -0.20487065229227758,
            0.18743485209719019,
            -0.008717900097543696,
            -1.8394769205817265,
            -1.6433241683869926,
            -1.7087084191185706,
            -0.5971761566817453,
            0.31820335356034607,
            -0.40102340448701146,
            -1.5779399176554147,
            -0.07410215082912165,
            0.51435610575508,
            1.1681986130708595,
            -1.054865911802791,
            -1.316402914729103,
            1.5605041174603274
           ],
           "y": [
            0.267440915181057,
            0.7237659922609238,
            0.6096847229909571,
            0.7237659922609238,
            1.7504974156906241,
            0.6667253576259404,
            1.8645786849605908,
            0.438562819086007,
            1.8645786849605908,
            1.2371317039757739,
            1.6934567810556407,
            1.2371317039757739,
            1.4082536078807237,
            -0.017762257993859665,
            0.438562819086007,
            0.7808066268959071,
            0.6096847229909571,
            -0.9874530467885765,
            -0.8163311428836264,
            -0.8733717775186098,
            0.09631901127610709,
            0.8948878961658737,
            0.267440915181057,
            -0.7592905082486432,
            0.5526440883559738,
            1.0660098000708238,
            1.6364161464206572,
            -0.3029654311687764,
            -0.5311279697087099,
            1.9786599542305574
           ]
          }
         ]
        },
        {
         "data": [
          {
           "mode": "lines",
           "type": "scatter",
           "x": [
            -0.40102340448701146,
            0.12205060136561222,
            -0.008717900097543696,
            0.12205060136561222,
            1.2989671145340156,
            0.05666635063403426,
            1.4297356159971715,
            -0.20487065229227758,
            1.4297356159971715,
            0.7105088579498139,
            1.2335828638024375,
            0.7105088579498139,
            0.9066616101445477,
            -0.7279446581449013,
            -0.20487065229227758,
            0.18743485209719019,
            -0.008717900097543696,
            -1.8394769205817265,
            -1.6433241683869926,
            -1.7087084191185706,
            -0.5971761566817453,
            0.31820335356034607,
            -0.40102340448701146,
            -1.5779399176554147,
            -0.07410215082912165,
            0.51435610575508,
            1.1681986130708595,
            -1.054865911802791,
            -1.316402914729103,
            1.5605041174603274
           ],
           "y": [
            0.26210079087166266,
            0.7173396369514923,
            0.6035299254315348,
            0.7173396369514923,
            1.741627040631109,
            0.6604347811915136,
            1.8554367521510664,
            0.4328153581515988,
            1.8554367521510664,
            1.2294833387913007,
            1.6847221848711302,
            1.2294833387913007,
            1.4001979060712366,
            -0.0224234879282309,
            0.4328153581515988,
            0.774244492711471,
            0.6035299254315348,
            -0.9898060358478687,
            -0.8190914685679326,
            -0.8759963243279113,
            0.09138622359172655,
            0.8880542042314283,
            0.26210079087166266,
            -0.7621866128079541,
            0.5466250696715562,
            1.0587687715113645,
            1.6278173291111515,
            -0.3069477667281243,
            -0.5345671897680392,
            1.9692464636710239
           ]
          }
         ]
        },
        {
         "data": [
          {
           "mode": "lines",
           "type": "scatter",
           "x": [
            -0.40102340448701146,
            0.12205060136561222,
            -0.008717900097543696,
            0.12205060136561222,
            1.2989671145340156,
            0.05666635063403426,
            1.4297356159971715,
            -0.20487065229227758,
            1.4297356159971715,
            0.7105088579498139,
            1.2335828638024375,
            0.7105088579498139,
            0.9066616101445477,
            -0.7279446581449013,
            -0.20487065229227758,
            0.18743485209719019,
            -0.008717900097543696,
            -1.8394769205817265,
            -1.6433241683869926,
            -1.7087084191185706,
            -0.5971761566817453,
            0.31820335356034607,
            -0.40102340448701146,
            -1.5779399176554147,
            -0.07410215082912165,
            0.51435610575508,
            1.1681986130708595,
            -1.054865911802791,
            -1.316402914729103,
            1.5605041174603274
           ],
           "y": [
            0.25681434539772885,
            0.7109774607105217,
            0.5974366818823235,
            0.7109774607105217,
            1.7328444701643058,
            0.6542070712964226,
            1.8463852489925037,
            0.42712551364002616,
            1.8463852489925037,
            1.2219109654374138,
            1.6760740807502064,
            1.2219109654374138,
            1.392222133679711,
            -0.027037601672766698,
            0.42712551364002616,
            0.7677478501246209,
            0.5974366818823235,
            -0.9921342217124515,
            -0.8218230534701539,
            -0.8785934428842531,
            0.08650317715543154,
            0.881288628952819,
            0.25681434539772885,
            -0.765052664056055,
            0.5406662924682244,
            1.0515997971951163,
            1.6193036913361074,
            -0.31088954874326213,
            -0.5379711063996587,
            1.959926027820702
           ]
          }
         ]
        },
        {
         "data": [
          {
           "mode": "lines",
           "type": "scatter",
           "x": [
            -0.40102340448701146,
            0.12205060136561222,
            -0.008717900097543696,
            0.12205060136561222,
            1.2989671145340156,
            0.05666635063403426,
            1.4297356159971715,
            -0.20487065229227758,
            1.4297356159971715,
            0.7105088579498139,
            1.2335828638024375,
            0.7105088579498139,
            0.9066616101445477,
            -0.7279446581449013,
            -0.20487065229227758,
            0.18743485209719019,
            -0.008717900097543696,
            -1.8394769205817265,
            -1.6433241683869926,
            -1.7087084191185706,
            -0.5971761566817453,
            0.31820335356034607,
            -0.40102340448701146,
            -1.5779399176554147,
            -0.07410215082912165,
            0.51435610575508,
            1.1681986130708595,
            -1.054865911802791,
            -1.316402914729103,
            1.5605041174603274
           ],
           "y": [
            0.25158103928750825,
            0.7046788225640123,
            0.5914043767448863,
            0.7046788225640123,
            1.7241488349361465,
            0.6480415996544493,
            1.8374232807552726,
            0.42149270801619726,
            1.8374232807552726,
            1.2144138287500794,
            1.6675116120265834,
            1.2144138287500794,
            1.3843254974787684,
            -0.03160507526030687,
            0.42149270801619726,
            0.7613160454735753,
            0.5914043767448863,
            -0.9944378647228779,
            -0.8245261959941889,
            -0.8811634189037519,
            0.08166937055881929,
            0.8745904912927013,
            0.25158103928750825,
            -0.767888973084626,
            0.5347671538353233,
            1.0445021600213904,
            1.6108743891170203,
            -0.3147911898081218,
            -0.5413400814463739,
            1.9506977265743983
           ]
          }
         ]
        },
        {
         "data": [
          {
           "mode": "lines",
           "type": "scatter",
           "x": [
            -0.40102340448701146,
            0.12205060136561222,
            -0.008717900097543696,
            0.12205060136561222,
            1.2989671145340156,
            0.05666635063403426,
            1.4297356159971715,
            -0.20487065229227758,
            1.4297356159971715,
            0.7105088579498139,
            1.2335828638024375,
            0.7105088579498139,
            0.9066616101445477,
            -0.7279446581449013,
            -0.20487065229227758,
            0.18743485209719019,
            -0.008717900097543696,
            -1.8394769205817265,
            -1.6433241683869926,
            -1.7087084191185706,
            -0.5971761566817453,
            0.31820335356034607,
            -0.40102340448701146,
            -1.5779399176554147,
            -0.07410215082912165,
            0.51435610575508,
            1.1681986130708595,
            -1.054865911802791,
            -1.316402914729103,
            1.5605041174603274
           ],
           "y": [
            0.24640033848991022,
            0.6984430879398097,
            0.5854324005773348,
            0.6984430879398097,
            1.7155392742020834,
            0.6419377442585722,
            1.8285499615645584,
            0.4159163695336225,
            1.8285499615645584,
            1.2069911810709466,
            1.6590339305208461,
            1.2069911810709466,
            1.3765072121146589,
            -0.036126379916276985,
            0.4159163695336225,
            0.7549484316210471,
            0.5854324005773348,
            -0.9967172224973132,
            -0.8272011914536009,
            -0.8837065351348384,
            0.07688430744619801,
            0.8679591189835218,
            0.24640033848991022,
            -0.7706958477723637,
            0.5289270568960973,
            1.0374751500272343,
            1.6025285868396084,
            -0.318653098322464,
            -0.5446744730474139,
            1.941560648927033
           ]
          }
         ]
        },
        {
         "data": [
          {
           "mode": "lines",
           "type": "scatter",
           "x": [
            -0.40102340448701146,
            0.12205060136561222,
            -0.008717900097543696,
            0.12205060136561222,
            1.2989671145340156,
            0.05666635063403426,
            1.4297356159971715,
            -0.20487065229227758,
            1.4297356159971715,
            0.7105088579498139,
            1.2335828638024375,
            0.7105088579498139,
            0.9066616101445477,
            -0.7279446581449013,
            -0.20487065229227758,
            0.18743485209719019,
            -0.008717900097543696,
            -1.8394769205817265,
            -1.6433241683869926,
            -1.7087084191185706,
            -0.5971761566817453,
            0.31820335356034607,
            -0.40102340448701146,
            -1.5779399176554147,
            -0.07410215082912165,
            0.51435610575508,
            1.1681986130708595,
            -1.054865911802791,
            -1.316402914729103,
            1.5605041174603274
           ],
           "y": [
            0.2412717143200438,
            0.6922696286036625,
            0.5795201500327578,
            0.6922696286036625,
            1.7070149357418045,
            0.6358948893182101,
            1.8197644143127092,
            0.4103959321764008,
            1.8197644143127092,
            1.1996422821727335,
            1.6506401964563522,
            1.1996422821727335,
            1.3687665000290905,
            -0.04060198210721788,
            0.4103959321764008,
            0.7486443678891148,
            0.5795201500327578,
            -0.9989725499599075,
            -0.8298483321035505,
            -0.8862230713890028,
            0.0721474964636869,
            0.8613938464600195,
            0.2412717143200438,
            -0.7734735928180981,
            0.5231454107473055,
            1.0305180643163765,
            1.5942654571708998,
            -0.32247567853447945,
            -0.547974635676289,
            1.9325138928836139
           ]
          }
         ]
        },
        {
         "data": [
          {
           "mode": "lines",
           "type": "scatter",
           "x": [
            -0.40102340448701146,
            0.12205060136561222,
            -0.008717900097543696,
            0.12205060136561222,
            1.2989671145340156,
            0.05666635063403426,
            1.4297356159971715,
            -0.20487065229227758,
            1.4297356159971715,
            0.7105088579498139,
            1.2335828638024375,
            0.7105088579498139,
            0.9066616101445477,
            -0.7279446581449013,
            -0.20487065229227758,
            0.18743485209719019,
            -0.008717900097543696,
            -1.8394769205817265,
            -1.6433241683869926,
            -1.7087084191185706,
            -0.5971761566817453,
            0.31820335356034607,
            -0.40102340448701146,
            -1.5779399176554147,
            -0.07410215082912165,
            0.51435610575508,
            1.1681986130708595,
            -1.054865911802791,
            -1.316402914729103,
            1.5605041174603274
           ],
           "y": [
            0.23619464340530744,
            0.6861578225959193,
            0.5736670277982664,
            0.6861578225959193,
            1.6985749757747963,
            0.6299124251970929,
            1.8110657705724493,
            0.4049308356017869,
            1.8110657705724493,
            1.192366399185358,
            1.6423295783759697,
            1.192366399185358,
            1.361102591381837,
            -0.04503234358882502,
            0.4049308356017869,
            0.7424032199947459,
            0.5736670277982664,
            -1.0012040993688753,
            -0.8324679071723957,
            -0.8887133045712223,
            0.06745845120882799,
            0.8548940147923988,
            0.23619464340530744,
            -0.7762225097735695,
            0.5174216303994399,
            1.0236302069888783,
            1.586084180977143,
            -0.3262593305829574,
            -0.5512409201782635,
            1.9235565653701021
           ]
          }
         ]
        },
        {
         "data": [
          {
           "mode": "lines",
           "type": "scatter",
           "x": [
            -0.40102340448701146,
            0.12205060136561222,
            -0.008717900097543696,
            0.12205060136561222,
            1.2989671145340156,
            0.05666635063403426,
            1.4297356159971715,
            -0.20487065229227758,
            1.4297356159971715,
            0.7105088579498139,
            1.2335828638024375,
            0.7105088579498139,
            0.9066616101445477,
            -0.7279446581449013,
            -0.20487065229227758,
            0.18743485209719019,
            -0.008717900097543696,
            -1.8394769205817265,
            -1.6433241683869926,
            -1.7087084191185706,
            -0.5971761566817453,
            0.31820335356034607,
            -0.40102340448701146,
            -1.5779399176554147,
            -0.07410215082912165,
            0.51435610575508,
            1.1681986130708595,
            -1.054865911802791,
            -1.316402914729103,
            1.5605041174603274
           ],
           "y": [
            0.23116860763202002,
            0.6801070541688576,
            0.5678724425346482,
            0.6801070541688576,
            1.6902185588767424,
            0.6239897483517529,
            1.8024531705109514,
            0.39952052508333413,
            1.8024531705109514,
            1.1851628065228,
            1.6341012530596375,
            1.1851628065228,
            1.353514723974114,
            -0.04941792145350343,
            0.39952052508333413,
            0.7362243599859624,
            0.5678724425346482,
            -1.0034121203442834,
            -0.8350602028929691,
            -0.8911775087100738,
            0.06281669018070601,
            0.8484589716201717,
            0.23116860763202002,
            -0.7789428970758646,
            0.5117551367175435,
            1.0168108890714858,
            1.5779839472425325,
            -0.33000445053902694,
            -0.5544736738074457,
            1.9146877821451609
           ]
          }
         ]
        },
        {
         "data": [
          {
           "mode": "lines",
           "type": "scatter",
           "x": [
            -0.40102340448701146,
            0.12205060136561222,
            -0.008717900097543696,
            0.12205060136561222,
            1.2989671145340156,
            0.05666635063403426,
            1.4297356159971715,
            -0.20487065229227758,
            1.4297356159971715,
            0.7105088579498139,
            1.2335828638024375,
            0.7105088579498139,
            0.9066616101445477,
            -0.7279446581449013,
            -0.20487065229227758,
            0.18743485209719019,
            -0.008717900097543696,
            -1.8394769205817265,
            -1.6433241683869926,
            -1.7087084191185706,
            -0.5971761566817453,
            0.31820335356034607,
            -0.40102340448701146,
            -1.5779399176554147,
            -0.07410215082912165,
            0.51435610575508,
            1.1681986130708595,
            -1.054865911802791,
            -1.316402914729103,
            1.5605041174603274
           ],
           "y": [
            0.2261930940925881,
            0.6741167137246378,
            0.5621358088166254,
            0.6741167137246378,
            1.6819448578967497,
            0.6181262612706315,
            1.7939257628047622,
            0.3941644514546067,
            1.7939257628047622,
            1.1780307858106938,
            1.6259544054427435,
            1.1780307858106938,
            1.3460021431727123,
            -0.05375916817744297,
            0.3941644514546067,
            0.730107166178644,
            0.5621358088166254,
            -1.0055968598955487,
            -0.83762550253353,
            -0.8936159549875362,
            0.05822173673056952,
            0.8420880710866564,
            0.2261930940925881,
            -0.7816350500795237,
            0.5061453563626191,
            1.010059428448675,
            1.5699639529887373,
            -0.333711430447474,
            -0.557673240263499,
            1.9059066677127745
           ]
          }
         ]
        },
        {
         "data": [
          {
           "mode": "lines",
           "type": "scatter",
           "x": [
            -0.40102340448701146,
            0.12205060136561222,
            -0.008717900097543696,
            0.12205060136561222,
            1.2989671145340156,
            0.05666635063403426,
            1.4297356159971715,
            -0.20487065229227758,
            1.4297356159971715,
            0.7105088579498139,
            1.2335828638024375,
            0.7105088579498139,
            0.9066616101445477,
            -0.7279446581449013,
            -0.20487065229227758,
            0.18743485209719019,
            -0.008717900097543696,
            -1.8394769205817265,
            -1.6433241683869926,
            -1.7087084191185706,
            -0.5971761566817453,
            0.31820335356034607,
            -0.40102340448701146,
            -1.5779399176554147,
            -0.07410215082912165,
            0.51435610575508,
            1.1681986130708595,
            -1.054865911802791,
            -1.316402914729103,
            1.5605041174603274
           ],
           "y": [
            0.22126759503320398,
            0.6681861977538788,
            0.5564565470737101,
            0.6681861977538788,
            1.673753053875397,
            0.6123213724137945,
            1.785482704555566,
            0.38886207105345705,
            1.785482704555566,
            1.1709696258146378,
            1.6178882285353127,
            1.1709696258146378,
            1.338564101834891,
            -0.0580565316672178,
            0.38886207105345705,
            0.7240510230939632,
            0.5564565470737101,
            -1.0077585624486518,
            -0.8401640864283986,
            -0.896028911768483,
            0.05367311901295091,
            0.8357806737741318,
            0.22126759503320398,
            -0.7842992610883144,
            0.5005917217336258,
            1.0033751497943848,
            1.5620234031952283,
            -0.33738065836763953,
            -0.560839959727977,
            1.8972123552357345
           ]
          }
         ]
        },
        {
         "data": [
          {
           "mode": "lines",
           "type": "scatter",
           "x": [
            -0.40102340448701146,
            0.12205060136561222,
            -0.008717900097543696,
            0.12205060136561222,
            1.2989671145340156,
            0.05666635063403426,
            1.4297356159971715,
            -0.20487065229227758,
            1.4297356159971715,
            0.7105088579498139,
            1.2335828638024375,
            0.7105088579498139,
            0.9066616101445477,
            -0.7279446581449013,
            -0.20487065229227758,
            0.18743485209719019,
            -0.008717900097543696,
            -1.8394769205817265,
            -1.6433241683869926,
            -1.7087084191185706,
            -0.5971761566817453,
            0.31820335356034607,
            -0.40102340448701146,
            -1.5779399176554147,
            -0.07410215082912165,
            0.51435610575508,
            1.1681986130708595,
            -1.054865911802791,
            -1.316402914729103,
            1.5605041174603274
           ],
           "y": [
            0.21639160780206879,
            0.6623149087748453,
            0.5508340835316512,
            0.6623149087748453,
            1.6656423359635926,
            0.6065744961532482,
            1.7771231612067866,
            0.38361284566686,
            1.7771231612067866,
            1.163978622369219,
            1.6099019233419956,
            1.163978622369219,
            1.33119986023401,
            -0.0623104553059165,
            0.38361284566686,
            0.7180553213964425,
            0.5508340835316512,
            -1.0098974698730667,
            -0.8426762320082753,
            -0.8984166446298724,
            0.049170369937277636,
            0.8295361466396365,
            0.21639160780206879,
            -0.7869358193866783,
            0.49509367091005413,
            0.9967573845044277,
            1.5541615107203983,
            -0.3410125184139018,
            -0.5639741689002901,
            1.8886039864499806
           ]
          }
         ]
        },
        {
         "data": [
          {
           "mode": "lines",
           "type": "scatter",
           "x": [
            -0.40102340448701146,
            0.12205060136561222,
            -0.008717900097543696,
            0.12205060136561222,
            1.2989671145340156,
            0.05666635063403426,
            1.4297356159971715,
            -0.20487065229227758,
            1.4297356159971715,
            0.7105088579498139,
            1.2335828638024375,
            0.7105088579498139,
            0.9066616101445477,
            -0.7279446581449013,
            -0.20487065229227758,
            0.18743485209719019,
            -0.008717900097543696,
            -1.8394769205817265,
            -1.6433241683869926,
            -1.7087084191185706,
            -0.5971761566817453,
            0.31820335356034607,
            -0.40102340448701146,
            -1.5779399176554147,
            -0.07410215082912165,
            0.51435610575508,
            1.1681986130708595,
            -1.054865911802791,
            -1.316402914729103,
            1.5605041174603274
           ],
           "y": [
            0.21156463479813603,
            0.656502255273244,
            0.545267850154467,
            0.656502255273244,
            1.6576119013422368,
            0.6008850527138555,
            1.7688463064610138,
            0.3784162424763015,
            1.7688463064610138,
            1.1570570783077403,
            1.6019946987828484,
            1.1570570783077403,
            1.3239086859859057,
            -0.06652137799880642,
            0.3784162424763015,
            0.7121194578326324,
            0.545267850154467,
            -1.0120138215084107,
            -0.8451622138302453,
            -0.9007794163896339,
            0.044713027119970605,
            0.8233538629514094,
            0.21156463479813603,
            -0.7895450112708569,
            0.4896506475950785,
            0.9902054706295749,
            1.5463774962234598,
            -0.34460739079574887,
            -0.567076201033303,
            1.8800807115797908
           ]
          }
         ]
        },
        {
         "data": [
          {
           "mode": "lines",
           "type": "scatter",
           "x": [
            -0.40102340448701146,
            0.12205060136561222,
            -0.008717900097543696,
            0.12205060136561222,
            1.2989671145340156,
            0.05666635063403426,
            1.4297356159971715,
            -0.20487065229227758,
            1.4297356159971715,
            0.7105088579498139,
            1.2335828638024375,
            0.7105088579498139,
            0.9066616101445477,
            -0.7279446581449013,
            -0.20487065229227758,
            0.18743485209719019,
            -0.008717900097543696,
            -1.8394769205817265,
            -1.6433241683869926,
            -1.7087084191185706,
            -0.5971761566817453,
            0.31820335356034607,
            -0.40102340448701146,
            -1.5779399176554147,
            -0.07410215082912165,
            0.51435610575508,
            1.1681986130708595,
            -1.054865911802791,
            -1.316402914729103,
            1.5605041174603274
           ],
           "y": [
            0.2067861834203698,
            0.6507476516426199,
            0.5397572845870574,
            0.6507476516426199,
            1.6496609551426826,
            0.5952524681148387,
            1.7606513221982452,
            0.3732717340037136,
            1.7606513221982452,
            1.1502043033926515,
            1.5941657716149016,
            1.1502043033926515,
            1.316689853975995,
            -0.07068973421853653,
            0.3732717340037136,
            0.7062428351704012,
            0.5397572845870574,
            -1.0141078541908182,
            -0.8476223036074743,
            -0.9031174871352555,
            0.04030063283702601,
            0.8172332022259637,
            0.2067861834203698,
            -0.792127120079693,
            0.48426210105927614,
            0.9837187528093075,
            1.53867058808712,
            -0.34816565185744275,
            -0.5701463859685679,
            1.8716416892538077
           ]
          }
         ]
        },
        {
         "data": [
          {
           "mode": "lines",
           "type": "scatter",
           "x": [
            -0.40102340448701146,
            0.12205060136561222,
            -0.008717900097543696,
            0.12205060136561222,
            1.2989671145340156,
            0.05666635063403426,
            1.4297356159971715,
            -0.20487065229227758,
            1.4297356159971715,
            0.7105088579498139,
            1.2335828638024375,
            0.7105088579498139,
            0.9066616101445477,
            -0.7279446581449013,
            -0.20487065229227758,
            0.18743485209719019,
            -0.008717900097543696,
            -1.8394769205817265,
            -1.6433241683869926,
            -1.7087084191185706,
            -0.5971761566817453,
            0.31820335356034607,
            -0.40102340448701146,
            -1.5779399176554147,
            -0.07410215082912165,
            0.51435610575508,
            1.1681986130708595,
            -1.054865911802791,
            -1.316402914729103,
            1.5605041174603274
           ],
           "y": [
            0.20205576601751263,
            0.6450505181253492,
            0.53430183009839,
            0.6450505181253492,
            1.6417887103679818,
            0.5896761741118697,
            1.7525373983949408,
            0.36817879805795134,
            1.7525373983949408,
            1.1434196142466655,
            1.5864143663545018,
            1.1434196142466655,
            1.3095426462871043,
            -0.07481595404988528,
            0.36817879805795134,
            0.7004248621388288,
            0.53430183009839,
            -1.016179802279038,
            -0.8500567702385992,
            -0.9054311142520789,
            0.03593273397707397,
            0.811173550165788,
            0.20205576601751263,
            -0.7946824262251199,
            0.47892748608491054,
            0.9772965822062267,
            1.5310400223410223,
            -0.3516876741172831,
            -0.5731850501712016,
            1.8632860864218999
           ]
          }
         ]
        },
        {
         "data": [
          {
           "mode": "lines",
           "type": "scatter",
           "x": [
            -0.40102340448701146,
            0.12205060136561222,
            -0.008717900097543696,
            0.12205060136561222,
            1.2989671145340156,
            0.05666635063403426,
            1.4297356159971715,
            -0.20487065229227758,
            1.4297356159971715,
            0.7105088579498139,
            1.2335828638024375,
            0.7105088579498139,
            0.9066616101445477,
            -0.7279446581449013,
            -0.20487065229227758,
            0.18743485209719019,
            -0.008717900097543696,
            -1.8394769205817265,
            -1.6433241683869926,
            -1.7087084191185706,
            -0.5971761566817453,
            0.31820335356034607,
            -0.40102340448701146,
            -1.5779399176554147,
            -0.07410215082912165,
            0.51435610575508,
            1.1681986130708595,
            -1.054865911802791,
            -1.316402914729103,
            1.5605041174603274
           ],
           "y": [
            0.19737289983835754,
            0.63941028075422,
            0.5289009355252544,
            0.63941028075422,
            1.6339943878149108,
            0.5841556081397372,
            1.7445037330438762,
            0.363136917681806,
            1.7445037330438762,
            1.1367023342845655,
            1.5787397152004279,
            1.1367023342845655,
            1.3024663521280138,
            -0.07890046323405653,
            0.363136917681806,
            0.6946649533687028,
            0.5289009355252544,
            -1.0182298976802642,
            -0.8524658798368158,
            -0.9077205524512987,
            0.03160888199490919,
            0.8051742985976684,
            0.19737289983835754,
            -0.7972112072223331,
            0.4736462629107716,
            0.9709383164411168,
            1.523485042585945,
            -0.35517382630647043,
            -0.5761925167644019,
            1.855013078272842
           ]
          }
         ]
        },
        {
         "data": [
          {
           "mode": "lines",
           "type": "scatter",
           "x": [
            -0.40102340448701146,
            0.12205060136561222,
            -0.008717900097543696,
            0.12205060136561222,
            1.2989671145340156,
            0.05666635063403426,
            1.4297356159971715,
            -0.20487065229227758,
            1.4297356159971715,
            0.7105088579498139,
            1.2335828638024375,
            0.7105088579498139,
            0.9066616101445477,
            -0.7279446581449013,
            -0.20487065229227758,
            0.18743485209719019,
            -0.008717900097543696,
            -1.8394769205817265,
            -1.6433241683869926,
            -1.7087084191185706,
            -0.5971761566817453,
            0.31820335356034607,
            -0.40102340448701146,
            -1.5779399176554147,
            -0.07410215082912165,
            0.51435610575508,
            1.1681986130708595,
            -1.054865911802791,
            -1.316402914729103,
            1.5605041174603274
           ],
           "y": [
            0.192737106982521,
            0.6338263712945984,
            0.523554055216579,
            0.6338263712945984,
            1.6262772159967724,
            0.5786902132555887,
            1.736549532074792,
            0.35814558109954997,
            1.736549532074792,
            1.1300517936456855,
            1.571141057957763,
            1.1300517936456855,
            1.2954602677627145,
            -0.08294368321252743,
            0.35814558109954997,
            0.688962529333608,
            0.523554055216579,
            -1.0202583698756915,
            -0.8548498957586627,
            -0.9099860537976724,
            0.02732863286549203,
            0.7992348454116274,
            0.192737106982521,
            -0.7997137377196532,
            0.4684178971775693,
            0.9646433195286563,
            1.516004899918753,
            -0.35862447340757564,
            -0.5791691055636145,
            1.846821848152811
           ]
          }
         ]
        },
        {
         "data": [
          {
           "mode": "lines",
           "type": "scatter",
           "x": [
            -0.40102340448701146,
            0.12205060136561222,
            -0.008717900097543696,
            0.12205060136561222,
            1.2989671145340156,
            0.05666635063403426,
            1.4297356159971715,
            -0.20487065229227758,
            1.4297356159971715,
            0.7105088579498139,
            1.2335828638024375,
            0.7105088579498139,
            0.9066616101445477,
            -0.7279446581449013,
            -0.20487065229227758,
            0.18743485209719019,
            -0.008717900097543696,
            -1.8394769205817265,
            -1.6433241683869926,
            -1.7087084191185706,
            -0.5971761566817453,
            0.31820335356034607,
            -0.40102340448701146,
            -1.5779399176554147,
            -0.07410215082912165,
            0.51435610575508,
            1.1681986130708595,
            -1.054865911802791,
            -1.316402914729103,
            1.5605041174603274
           ],
           "y": [
            0.18814791435170808,
            0.6282982271871703,
            0.5182606489783047,
            0.6282982271871703,
            1.6186364310669603,
            0.5732794380827375,
            1.7286740092758257,
            0.3532042816650064,
            1.7286740092758257,
            1.1234673291270654,
            1.5636176419625274,
            1.1234673291270654,
            1.2885236964403637,
            -0.08694603117045574,
            0.3532042816650064,
            0.6833170162916031,
            0.5182606489783047,
            -1.0222654459458127,
            -0.8572090786325145,
            -0.9122278677369474,
            0.023091547038409765,
            0.7933545945004685,
            0.18814791435170808,
            -0.8021902895280818,
            0.463241859873872,
            0.958410961813767,
            1.5085988528580945,
            -0.36203997669261956,
            -0.5821151331103508,
            1.8387115874846915
           ]
          }
         ]
        },
        {
         "data": [
          {
           "mode": "lines",
           "type": "scatter",
           "x": [
            -0.40102340448701146,
            0.12205060136561222,
            -0.008717900097543696,
            0.12205060136561222,
            1.2989671145340156,
            0.05666635063403426,
            1.4297356159971715,
            -0.20487065229227758,
            1.4297356159971715,
            0.7105088579498139,
            1.2335828638024375,
            0.7105088579498139,
            0.9066616101445477,
            -0.7279446581449013,
            -0.20487065229227758,
            0.18743485209719019,
            -0.008717900097543696,
            -1.8394769205817265,
            -1.6433241683869926,
            -1.7087084191185706,
            -0.5971761566817453,
            0.31820335356034607,
            -0.40102340448701146,
            -1.5779399176554147,
            -0.07410215082912165,
            0.51435610575508,
            1.1681986130708595,
            -1.054865911802791,
            -1.316402914729103,
            1.5605041174603274
           ],
           "y": [
            0.18360485360146966,
            0.6228252914912573,
            0.5130201820188104,
            0.6228252914912573,
            1.6110712767432795,
            0.5679227367550339,
            1.7208763862157264,
            0.34831251781014005,
            1.7208763862157264,
            1.1169482841172684,
            1.556168722007056,
            1.1169482841172684,
            1.2816559483259389,
            -0.09090792007964765,
            0.34831251781014005,
            0.6777278462274807,
            0.5130201820188104,
            -1.0242513505954463,
            -0.8595436863867758,
            -0.9144462411229994,
            0.018897189392799385,
            0.7875329556999277,
            0.18360485360146966,
            -0.8046411316505524,
            0.458117627282587,
            0.952240619908598,
            1.5012661672708325,
            -0.3654206937607648,
            -0.5850309127056588,
            1.8306814956881734
           ]
          }
         ]
        },
        {
         "data": [
          {
           "mode": "lines",
           "type": "scatter",
           "x": [
            -0.40102340448701146,
            0.12205060136561222,
            -0.008717900097543696,
            0.12205060136561222,
            1.2989671145340156,
            0.05666635063403426,
            1.4297356159971715,
            -0.20487065229227758,
            1.4297356159971715,
            0.7105088579498139,
            1.2335828638024375,
            0.7105088579498139,
            0.9066616101445477,
            -0.7279446581449013,
            -0.20487065229227758,
            0.18743485209719019,
            -0.008717900097543696,
            -1.8394769205817265,
            -1.6433241683869926,
            -1.7087084191185706,
            -0.5971761566817453,
            0.31820335356034607,
            -0.40102340448701146,
            -1.5779399176554147,
            -0.07410215082912165,
            0.51435610575508,
            1.1681986130708595,
            -1.054865911802791,
            -1.316402914729103,
            1.5605041174603274
           ],
           "y": [
            0.17910746109344194,
            0.6174070128286965,
            0.5078321248948828,
            0.6174070128286965,
            1.6035810042330194,
            0.5626195688617897,
            1.713155892166833,
            0.34346979299416236,
            1.713155892166833,
            1.110494008530858,
            1.5487935602661125,
            1.110494008530858,
            1.2748563404315782,
            -0.09482975874109223,
            0.34346979299416236,
            0.6721944567956033,
            0.5078321248948828,
            -1.0262163061785081,
            -0.8618539742777875,
            -0.9166414182446945,
            0.014745129192721529,
            0.781769344729417,
            0.17910746109344194,
            -0.8070665303108808,
            0.45304468092797606,
            0.9461316766301374,
            1.4940061162992055,
            -0.36876697857562624,
            -0.5879167544432538,
            1.8227307801006467
           ]
          }
         ]
        },
        {
         "data": [
          {
           "mode": "lines",
           "type": "scatter",
           "x": [
            -0.40102340448701146,
            0.12205060136561222,
            -0.008717900097543696,
            0.12205060136561222,
            1.2989671145340156,
            0.05666635063403426,
            1.4297356159971715,
            -0.20487065229227758,
            1.4297356159971715,
            0.7105088579498139,
            1.2335828638024375,
            0.7105088579498139,
            0.9066616101445477,
            -0.7279446581449013,
            -0.20487065229227758,
            0.18743485209719019,
            -0.008717900097543696,
            -1.8394769205817265,
            -1.6433241683869926,
            -1.7087084191185706,
            -0.5971761566817453,
            0.31820335356034607,
            -0.40102340448701146,
            -1.5779399176554147,
            -0.07410215082912165,
            0.51435610575508,
            1.1681986130708595,
            -1.054865911802791,
            -1.316402914729103,
            1.5605041174603274
           ],
           "y": [
            0.17465527784806734,
            0.6120428453282827,
            0.5026959534582288,
            0.6120428453282827,
            1.5961648721587673,
            0.5573693993932557,
            1.705511764028821,
            0.3386756156531481,
            1.705511764028821,
            1.104103858743525,
            1.5414914262237405,
            1.104103858743525,
            1.2681241965486056,
            -0.09871195182706727,
            0.3386756156531481,
            0.6667162912633096,
            0.5026959534582288,
            -1.028160532722525,
            -0.864140194917444,
            -0.9188136408524711,
            0.010634940042986596,
            0.7760631831333633,
            0.17465527784806734,
            -0.8094667489824173,
            0.4480225075232019,
            0.9400835209384442,
            1.4868179802887131,
            -0.3720791815022019,
            -0.5907729652423096,
            1.8148586558988749
           ]
          }
         ]
        },
        {
         "data": [
          {
           "mode": "lines",
           "type": "scatter",
           "x": [
            -0.40102340448701146,
            0.12205060136561222,
            -0.008717900097543696,
            0.12205060136561222,
            1.2989671145340156,
            0.05666635063403426,
            1.4297356159971715,
            -0.20487065229227758,
            1.4297356159971715,
            0.7105088579498139,
            1.2335828638024375,
            0.7105088579498139,
            0.9066616101445477,
            -0.7279446581449013,
            -0.20487065229227758,
            0.18743485209719019,
            -0.008717900097543696,
            -1.8394769205817265,
            -1.6433241683869926,
            -1.7087084191185706,
            -0.5971761566817453,
            0.31820335356034607,
            -0.40102340448701146,
            -1.5779399176554147,
            -0.07410215082912165,
            0.51435610575508,
            1.1681986130708595,
            -1.054865911802791,
            -1.316402914729103,
            1.5605041174603274
           ],
           "y": [
            0.17024784949778937,
            0.6067322485707642,
            0.49761114880252055,
            0.6067322485707642,
            1.588822146484958,
            0.5521716986866424,
            1.6979432462532014,
            0.33392949915015496,
            1.6979432462532014,
            1.097777197527861,
            1.5342615966008357,
            1.097777197527861,
            1.2614588471802266,
            -0.10255489992281996,
            0.33392949915015496,
            0.6612927984548861,
            0.49761114880252055,
            -1.0300842479528916,
            -0.8664025983005258,
            -0.9209631481846478,
            0.006566199845423837,
            0.7704138982231298,
            0.17024784949778937,
            -0.8118420484164041,
            0.44305059891839865,
            0.9340955478754953,
            1.479701046716714,
            -0.3753576493434292,
            -0.5935998488799167,
            1.8070643460214453
           ]
          }
         ]
        },
        {
         "data": [
          {
           "mode": "lines",
           "type": "scatter",
           "x": [
            -0.40102340448701146,
            0.12205060136561222,
            -0.008717900097543696,
            0.12205060136561222,
            1.2989671145340156,
            0.05666635063403426,
            1.4297356159971715,
            -0.20487065229227758,
            1.4297356159971715,
            0.7105088579498139,
            1.2335828638024375,
            0.7105088579498139,
            0.9066616101445477,
            -0.7279446581449013,
            -0.20487065229227758,
            0.18743485209719019,
            -0.008717900097543696,
            -1.8394769205817265,
            -1.6433241683869926,
            -1.7087084191185706,
            -0.5971761566817453,
            0.31820335356034607,
            -0.40102340448701146,
            -1.5779399176554147,
            -0.07410215082912165,
            0.51435610575508,
            1.1681986130708595,
            -1.054865911802791,
            -1.316402914729103,
            1.5605041174603274
           ],
           "y": [
            0.16588472624071826,
            0.6014746875343893,
            0.49257719721097154,
            0.6014746875343893,
            1.5815521004451492,
            0.5470259423726804,
            1.6904495907685668,
            0.32923096172584493,
            1.6904495907685668,
            1.0915133939897692,
            1.5271033552834403,
            1.0915133939897692,
            1.2548596294748957,
            -0.10635899956782607,
            0.32923096172584493,
            0.6559234326960982,
            0.49257719721097154,
            -1.0319876673168769,
            -0.8686414318317501,
            -0.9230901769934592,
            0.0025384907555917047,
            0.7648209230195159,
            0.16588472624071826,
            -0.8141926866700415,
            0.43812845204926265,
            0.9281671585046425,
            1.4726546101217313,
            -0.37860272537637046,
            -0.596397706023206,
            1.7993470810919847
           ]
          }
         ]
        },
        {
         "data": [
          {
           "mode": "lines",
           "type": "scatter",
           "x": [
            -0.40102340448701146,
            0.12205060136561222,
            -0.008717900097543696,
            0.12205060136561222,
            1.2989671145340156,
            0.05666635063403426,
            1.4297356159971715,
            -0.20487065229227758,
            1.4297356159971715,
            0.7105088579498139,
            1.2335828638024375,
            0.7105088579498139,
            0.9066616101445477,
            -0.7279446581449013,
            -0.20487065229227758,
            0.18743485209719019,
            -0.008717900097543696,
            -1.8394769205817265,
            -1.6433241683869926,
            -1.7087084191185706,
            -0.5971761566817453,
            0.31820335356034607,
            -0.40102340448701146,
            -1.5779399176554147,
            -0.07410215082912165,
            0.51435610575508,
            1.1681986130708595,
            -1.054865911802791,
            -1.316402914729103,
            1.5605041174603274
           ],
           "y": [
            0.16156546279476153,
            0.5962696325409953,
            0.48759359010443687,
            0.5962696325409953,
            1.5743540144700214,
            0.5419316113227161,
            1.6830300569065797,
            0.3245795264495992,
            1.6830300569065797,
            1.0853118235055084,
            1.520015993251742,
            1.0853118235055084,
            1.248325887160346,
            -0.11012464329663457,
            0.3245795264495992,
            0.6506076537592745,
            0.48759359010443687,
            -1.033871004007381,
            -0.8708569403525435,
            -0.9251949615708228,
            -0.0014486008600760325,
            0.7592836961958329,
            0.16156546279476153,
            -0.8165189191342643,
            0.4332555688861576,
            0.9222977598506705,
            1.4656779720334627,
            -0.38181474938803056,
            -0.5991668342611476,
            1.7917060993431382
           ]
          }
         ]
        },
        {
         "data": [
          {
           "mode": "lines",
           "type": "scatter",
           "x": [
            -0.40102340448701146,
            0.12205060136561222,
            -0.008717900097543696,
            0.12205060136561222,
            1.2989671145340156,
            0.05666635063403426,
            1.4297356159971715,
            -0.20487065229227758,
            1.4297356159971715,
            0.7105088579498139,
            1.2335828638024375,
            0.7105088579498139,
            0.9066616101445477,
            -0.7279446581449013,
            -0.20487065229227758,
            0.18743485209719019,
            -0.008717900097543696,
            -1.8394769205817265,
            -1.6433241683869926,
            -1.7087084191185706,
            -0.5971761566817453,
            0.31820335356034607,
            -0.40102340448701146,
            -1.5779399176554147,
            -0.07410215082912165,
            0.51435610575508,
            1.1681986130708595,
            -1.054865911802791,
            -1.316402914729103,
            1.5605041174603274
           ],
           "y": [
            0.1572896183522154,
            0.5911165592026371,
            0.48265982399003166,
            0.5911165592026371,
            1.567227176116086,
            0.5368881915963344,
            1.6756839113286917,
            0.3199747211711235,
            1.6756839113286917,
            1.0791718676593616,
            1.5129988085097834,
            1.0791718676593616,
            1.2418569704782698,
            -0.1138522196792982,
            0.3199747211711235,
            0.6453449268089398,
            0.48265982399003166,
            -1.0357344689864443,
            -0.873049366167536,
            -0.9272777337738389,
            -0.005395484466692746,
            0.7538016620215453,
            0.1572896183522154,
            -0.8188209985612336,
            0.428431456383729,
            0.9164867648404533,
            1.4587704409034805,
            -0.3849940577108118,
            -0.6019075281360227,
            1.784140646541297
           ]
          }
         ]
        },
        {
         "data": [
          {
           "mode": "lines",
           "type": "scatter",
           "x": [
            -0.40102340448701146,
            0.12205060136561222,
            -0.008717900097543696,
            0.12205060136561222,
            1.2989671145340156,
            0.05666635063403426,
            1.4297356159971715,
            -0.20487065229227758,
            1.4297356159971715,
            0.7105088579498139,
            1.2335828638024375,
            0.7105088579498139,
            0.9066616101445477,
            -0.7279446581449013,
            -0.20487065229227758,
            0.18743485209719019,
            -0.008717900097543696,
            -1.8394769205817265,
            -1.6433241683869926,
            -1.7087084191185706,
            -0.5971761566817453,
            0.31820335356034607,
            -0.40102340448701146,
            -1.5779399176554147,
            -0.07410215082912165,
            0.51435610575508,
            1.1681986130708595,
            -1.054865911802791,
            -1.316402914729103,
            1.5605041174603274
           ],
           "y": [
            0.15305675653481243,
            0.5860149483687483,
            0.4777754004102644,
            0.5860149483687483,
            1.5601708799951042,
            0.5318951743895064,
            1.6684104279535883,
            0.3154160784725384,
            1.6684104279535883,
            1.0730929141819263,
            1.5060511060158621,
            1.0730929141819263,
            1.2354522361196523,
            -0.11754211336139753,
            0.3154160784725384,
            0.6401347223479903,
            0.4777754004102644,
            -1.0375782710085113,
            -0.8752189490707853,
            -0.9293387230500274,
            -0.00930256540291352,
            0.7483742703064743,
            0.15305675653481243,
            -0.8210991750915435,
            0.4236556264310224,
            0.9107335922442003,
            1.45193133203662,
            -0.3881409832576074,
            -0.6046200791745755,
            1.7766499759120722
           ]
          }
         ]
        },
        {
         "data": [
          {
           "mode": "lines",
           "type": "scatter",
           "x": [
            -0.40102340448701146,
            0.12205060136561222,
            -0.008717900097543696,
            0.12205060136561222,
            1.2989671145340156,
            0.05666635063403426,
            1.4297356159971715,
            -0.20487065229227758,
            1.4297356159971715,
            0.7105088579498139,
            1.2335828638024375,
            0.7105088579498139,
            0.9066616101445477,
            -0.7279446581449013,
            -0.20487065229227758,
            0.18743485209719019,
            -0.008717900097543696,
            -1.8394769205817265,
            -1.6433241683869926,
            -1.7087084191185706,
            -0.5971761566817453,
            0.31820335356034607,
            -0.40102340448701146,
            -1.5779399176554147,
            -0.07410215082912165,
            0.51435610575508,
            1.1681986130708595,
            -1.054865911802791,
            -1.316402914729103,
            1.5605041174603274
           ],
           "y": [
            0.1488664453492211,
            0.5809642860738305,
            0.4729398258926782,
            0.5809642860738305,
            1.553184427704202,
            0.5269520559832543,
            1.6612088878853541,
            0.3109031356209496,
            1.6612088878853541,
            1.0670743568890162,
            1.4991721976136256,
            1.0670743568890162,
            1.2291110471607447,
            -0.12119470510365976,
            0.3109031356209496,
            0.6349765161644068,
            0.4729398258926782,
            -1.0394026166434547,
            -0.8773659263717262,
            -0.9313781564623025,
            -0.013170244922507401,
            0.7430009763455591,
            0.1488664453492211,
            -0.8233536962811501,
            0.41892759580210204,
            0.9050376666172876,
            1.4451599675230493,
            -0.3912558555565406,
            -0.6073047759188455,
            1.7692333480665066
           ]
          }
         ]
        },
        {
         "data": [
          {
           "mode": "lines",
           "type": "scatter",
           "x": [
            -0.40102340448701146,
            0.12205060136561222,
            -0.008717900097543696,
            0.12205060136561222,
            1.2989671145340156,
            0.05666635063403426,
            1.4297356159971715,
            -0.20487065229227758,
            1.4297356159971715,
            0.7105088579498139,
            1.2335828638024375,
            0.7105088579498139,
            0.9066616101445477,
            -0.7279446581449013,
            -0.20487065229227758,
            0.18743485209719019,
            -0.008717900097543696,
            -1.8394769205817265,
            -1.6433241683869926,
            -1.7087084191185706,
            -0.5971761566817453,
            0.31820335356034607,
            -0.40102340448701146,
            -1.5779399176554147,
            -0.07410215082912165,
            0.51435610575508,
            1.1681986130708595,
            -1.054865911802791,
            -1.316402914729103,
            1.5605041174603274
           ],
           "y": [
            0.1447182571429914,
            0.5759640634856645,
            0.46815261189999624,
            0.5759640634856645,
            1.546267127756679,
            0.5220583376928304,
            1.6540785793423474,
            0.30643543452149385,
            1.6540785793423474,
            1.0611155956211717,
            1.492361401963845,
            1.0611155956211717,
            1.2228327729996742,
            -0.12481037182117927,
            0.30643543452149385,
            0.6298697892784987,
            0.46815261189999624,
            -1.0412077102993595,
            -0.8794905329208571,
            -0.9333962587136913,
            -0.016998920235510917,
            0.7376812408641669,
            0.1447182571429914,
            -0.825584807128023,
            0.41424688610716215,
            0.8993984182426693,
            1.4384556761710106,
            -0.3943390007853499,
            -0.6099619039566866,
            1.7618900309280157
           ]
          }
         ]
        },
        {
         "data": [
          {
           "mode": "lines",
           "type": "scatter",
           "x": [
            -0.40102340448701146,
            0.12205060136561222,
            -0.008717900097543696,
            0.12205060136561222,
            1.2989671145340156,
            0.05666635063403426,
            1.4297356159971715,
            -0.20487065229227758,
            1.4297356159971715,
            0.7105088579498139,
            1.2335828638024375,
            0.7105088579498139,
            0.9066616101445477,
            -0.7279446581449013,
            -0.20487065229227758,
            0.18743485209719019,
            -0.008717900097543696,
            -1.8394769205817265,
            -1.6433241683869926,
            -1.7087084191185706,
            -0.5971761566817453,
            0.31820335356034607,
            -0.40102340448701146,
            -1.5779399176554147,
            -0.07410215082912165,
            0.51435610575508,
            1.1681986130708595,
            -1.054865911802791,
            -1.316402914729103,
            1.5605041174603274
           ],
           "y": [
            0.14061176856094382,
            0.5710137768540393,
            0.4634132747807655,
            0.5710137768540393,
            1.5394182955135043,
            0.5172135258174024,
            1.6470187975867783,
            0.3020125216708547,
            1.6470187975867783,
            1.055216036183772,
            1.4856180444768674,
            1.055216036183772,
            1.2166167892936826,
            -0.12838948662224087,
            0.3020125216708547,
            0.6248140278906763,
            0.4634132747807655,
            -1.042993754245069,
            -0.881593001135158,
            -0.9353932521717949,
            -0.020788984548966938,
            0.7324145299639502,
            0.14061176856094382,
            -0.8277927500985212,
            0.40961302374412856,
            0.893815283073861,
            1.4318177934402303,
            -0.3973907418054255,
            -0.6125917459519734,
            1.754619299660052
           ]
          }
         ]
        },
        {
         "data": [
          {
           "mode": "lines",
           "type": "scatter",
           "x": [
            -0.40102340448701146,
            0.12205060136561222,
            -0.008717900097543696,
            0.12205060136561222,
            1.2989671145340156,
            0.05666635063403426,
            1.4297356159971715,
            -0.20487065229227758,
            1.4297356159971715,
            0.7105088579498139,
            1.2335828638024375,
            0.7105088579498139,
            0.9066616101445477,
            -0.7279446581449013,
            -0.20487065229227758,
            0.18743485209719019,
            -0.008717900097543696,
            -1.8394769205817265,
            -1.6433241683869926,
            -1.7087084191185706,
            -0.5971761566817453,
            0.31820335356034607,
            -0.40102340448701146,
            -1.5779399176554147,
            -0.07410215082912165,
            0.51435610575508,
            1.1681986130708595,
            -1.054865911802791,
            -1.316402914729103,
            1.5605041174603274
           ],
           "y": [
            0.13654656050199604,
            0.5661129274599932,
            0.45872133572049395,
            0.5661129274599932,
            1.532637253115487,
            0.5124171315902436,
            1.640028844854986,
            0.297633948111245,
            1.640028844854986,
            1.0493750902877401,
            1.4789414572457371,
            1.0493750902877401,
            1.210462477896989,
            -0.13193241884675222,
            0.297633948111245,
            0.6198087233297429,
            0.45872133572049395,
            -1.0447609486324962,
            -0.8836735610232472,
            -0.9373693568929969,
            -0.02454082710725286,
            0.7272003150692421,
            0.13654656050199604,
            -0.8299777651534975,
            0.4050255398507443,
            0.8882877026784911,
            1.4252456613759876,
            -0.4004113981955003,
            -0.6151945816744991,
            1.7474204365944854
           ]
          }
         ]
        },
        {
         "data": [
          {
           "mode": "lines",
           "type": "scatter",
           "x": [
            -0.40102340448701146,
            0.12205060136561222,
            -0.008717900097543696,
            0.12205060136561222,
            1.2989671145340156,
            0.05666635063403426,
            1.4297356159971715,
            -0.20487065229227758,
            1.4297356159971715,
            0.7105088579498139,
            1.2335828638024375,
            0.7105088579498139,
            0.9066616101445477,
            -0.7279446581449013,
            -0.20487065229227758,
            0.18743485209719019,
            -0.008717900097543696,
            -1.8394769205817265,
            -1.6433241683869926,
            -1.7087084191185706,
            -0.5971761566817453,
            0.31820335356034607,
            -0.40102340448701146,
            -1.5779399176554147,
            -0.07410215082912165,
            0.51435610575508,
            1.1681986130708595,
            -1.054865911802791,
            -1.316402914729103,
            1.5605041174603274
           ],
           "y": [
            0.13252221807642345,
            0.5612610215655616,
            0.454076320693277,
            0.5612610215655616,
            1.5259233294161223,
            0.5076686711294193,
            1.633108030288407,
            0.2932992693848502,
            1.633108030288407,
            1.043592175490842,
            1.47233097897998,
            1.043592175490842,
            1.2043692267992687,
            -0.13543953410428788,
            0.2932992693848502,
            0.6148533720017038,
            0.454076320693277,
            -1.0465094915187063,
            -0.8857324402102795,
            -0.9393247906464219,
            -0.02825483323200334,
            0.7220380728739884,
            0.13252221807642345,
            -0.8321400897741373,
            0.4004839702571348,
            0.8828151241824151,
            1.4187386285438377,
            -0.40340128628499916,
            -0.6177706880295684,
            1.7402927311606913
           ]
          }
         ]
        },
        {
         "data": [
          {
           "mode": "lines",
           "type": "scatter",
           "x": [
            -0.40102340448701146,
            0.12205060136561222,
            -0.008717900097543696,
            0.12205060136561222,
            1.2989671145340156,
            0.05666635063403426,
            1.4297356159971715,
            -0.20487065229227758,
            1.4297356159971715,
            0.7105088579498139,
            1.2335828638024375,
            0.7105088579498139,
            0.9066616101445477,
            -0.7279446581449013,
            -0.20487065229227758,
            0.18743485209719019,
            -0.008717900097543696,
            -1.8394769205817265,
            -1.6433241683869926,
            -1.7087084191185706,
            -0.5971761566817453,
            0.31820335356034607,
            -0.40102340448701146,
            -1.5779399176554147,
            -0.07410215082912165,
            0.51435610575508,
            1.1681986130708595,
            -1.054865911802791,
            -1.316402914729103,
            1.5605041174603274
           ],
           "y": [
            0.12853833056354852,
            0.5564575703640265,
            0.4494777604139071,
            0.5564575703640265,
            1.5192758599151022,
            0.5029676653889668,
            1.6262556698652217,
            0.2890080454887278,
            1.6262556698652217,
            1.0378667151395644,
            1.4657859549400425,
            1.0378667151395644,
            1.1983364300647437,
            -0.1389111943117502,
            0.2890080454887278,
            0.6099474753390863,
            0.4494777604139071,
            -1.0482395788877659,
            -0.8877698639625866,
            -0.9412597689376465,
            -0.03193138436163068,
            0.7169272852892058,
            0.12853833056354852,
            -0.8342799589875269,
            0.3959878554388473,
            0.877397000214385,
            1.4122960499649826,
            -0.4063607191870489,
            -0.620320339087288,
            1.733235479815341
           ]
          }
         ]
        },
        {
         "data": [
          {
           "mode": "lines",
           "type": "scatter",
           "x": [
            -0.40102340448701146,
            0.12205060136561222,
            -0.008717900097543696,
            0.12205060136561222,
            1.2989671145340156,
            0.05666635063403426,
            1.4297356159971715,
            -0.20487065229227758,
            1.4297356159971715,
            0.7105088579498139,
            1.2335828638024375,
            0.7105088579498139,
            0.9066616101445477,
            -0.7279446581449013,
            -0.20487065229227758,
            0.18743485209719019,
            -0.008717900097543696,
            -1.8394769205817265,
            -1.6433241683869926,
            -1.7087084191185706,
            -0.5971761566817453,
            0.31820335356034607,
            -0.40102340448701146,
            -1.5779399176554147,
            -0.07410215082912165,
            0.51435610575508,
            1.1681986130708595,
            -1.054865911802791,
            -1.316402914729103,
            1.5605041174603274
           ],
           "y": [
            0.12459449136985618,
            0.5517020899306645,
            0.4449251902904624,
            0.5517020899306645,
            1.512694186692483,
            0.49831364011056345,
            1.6194710863326853,
            0.28475984083015926,
            1.6194710863326853,
            1.032198138311574,
            1.4593057368723823,
            1.032198138311574,
            1.192363487771877,
            -0.142347757730649,
            0.28475984083015926,
            0.6050905397507655,
            0.4449251902904624,
            -1.0499514046723664,
            -0.8897860552120634,
            -0.9431745050321646,
            -0.035570858090446855,
            0.7118674393909676,
            0.12459449136985618,
            -0.8363976053919625,
            0.39153674047036136,
            0.8720327888512707,
            1.4059172870522811,
            -0.40929000683115413,
            -0.6228438061115583,
            1.7262479859728872
           ]
          }
         ]
        },
        {
         "data": [
          {
           "mode": "lines",
           "type": "scatter",
           "x": [
            -0.40102340448701146,
            0.12205060136561222,
            -0.008717900097543696,
            0.12205060136561222,
            1.2989671145340156,
            0.05666635063403426,
            1.4297356159971715,
            -0.20487065229227758,
            1.4297356159971715,
            0.7105088579498139,
            1.2335828638024375,
            0.7105088579498139,
            0.9066616101445477,
            -0.7279446581449013,
            -0.20487065229227758,
            0.18743485209719019,
            -0.008717900097543696,
            -1.8394769205817265,
            -1.6433241683869926,
            -1.7087084191185706,
            -0.5971761566817453,
            0.31820335356034607,
            -0.40102340448701146,
            -1.5779399176554147,
            -0.07410215082912165,
            0.51435610575508,
            1.1681986130708595,
            -1.054865911802791,
            -1.316402914729103,
            1.5605041174603274
           ],
           "y": [
            0.12069029798752867,
            0.5469941011739841,
            0.4404181503773702,
            0.5469941011739841,
            1.5061776583435087,
            0.49370612577567713,
            1.6127536091401224,
            0.28055422418244946,
            1.6127536091401224,
            1.0265858797587464,
            1.4528896829452016,
            1.0265858797587464,
            1.186449805953667,
            -0.14574957900400598,
            0.28055422418244946,
            0.6002820765722909,
            0.4404181503773702,
            -1.0516451607752235,
            -0.8917812345803028,
            -0.9450692099786099,
            -0.039173628207392064,
            0.7068580273689048,
            0.12069029798752867,
            -0.8384932591819959,
            0.38713017497906327,
            0.8667219535638255,
            1.3996017075468947,
            -0.41218945599554047,
            -0.6253413575887684,
            1.7193295599367362
           ]
          }
         ]
        },
        {
         "data": [
          {
           "mode": "lines",
           "type": "scatter",
           "x": [
            -0.40102340448701146,
            0.12205060136561222,
            -0.008717900097543696,
            0.12205060136561222,
            1.2989671145340156,
            0.05666635063403426,
            1.4297356159971715,
            -0.20487065229227758,
            1.4297356159971715,
            0.7105088579498139,
            1.2335828638024375,
            0.7105088579498139,
            0.9066616101445477,
            -0.7279446581449013,
            -0.20487065229227758,
            0.18743485209719019,
            -0.008717900097543696,
            -1.8394769205817265,
            -1.6433241683869926,
            -1.7087084191185706,
            -0.5971761566817453,
            0.31820335356034607,
            -0.40102340448701146,
            -1.5779399176554147,
            -0.07410215082912165,
            0.51435610575508,
            1.1681986130708595,
            -1.054865911802791,
            -1.316402914729103,
            1.5605041174603274
           ],
           "y": [
            0.11682535195339783,
            0.5423331297874524,
            0.43595618532893876,
            0.5423331297874524,
            1.499725629914075,
            0.4891446575581956,
            1.6061025743725887,
            0.2763907686411683,
            1.6061025743725887,
            1.0210293798507637,
            1.4465371576848183,
            1.0210293798507637,
            1.1805947965385342,
            -0.14911700919288629,
            0.2763907686411683,
            0.5955216020167092,
            0.43595618532893876,
            -1.0533210370902522,
            -0.8937556204024817,
            -0.9469440926317385,
            -0.04274006473437253,
            0.7018985464752228,
            0.11682535195339783,
            -0.8405671481732249,
            0.38276771309968194,
            0.8614639631629932,
            1.3933486854555615,
            -0.4150593703391703,
            -0.6278132592561976,
            1.7124795188311024
           ]
          }
         ]
        },
        {
         "data": [
          {
           "mode": "lines",
           "type": "scatter",
           "x": [
            -0.40102340448701146,
            0.12205060136561222,
            -0.008717900097543696,
            0.12205060136561222,
            1.2989671145340156,
            0.05666635063403426,
            1.4297356159971715,
            -0.20487065229227758,
            1.4297356159971715,
            0.7105088579498139,
            1.2335828638024375,
            0.7105088579498139,
            0.9066616101445477,
            -0.7279446581449013,
            -0.20487065229227758,
            0.18743485209719019,
            -0.008717900097543696,
            -1.8394769205817265,
            -1.6433241683869926,
            -1.7087084191185706,
            -0.5971761566817453,
            0.31820335356034607,
            -0.40102340448701146,
            -1.5779399176554147,
            -0.07410215082912165,
            0.51435610575508,
            1.1681986130708595,
            -1.054865911802791,
            -1.316402914729103,
            1.5605041174603274
           ],
           "y": [
            0.11299925880830958,
            0.5377187062017031,
            0.4315388443533547,
            0.5377187062017031,
            1.4933374628368388,
            0.4846287752775289,
            1.599517324685187,
            0.27226905158083214,
            1.599517324685187,
            1.015528084519271,
            1.4402475319126644,
            1.015528084519271,
            1.1747978772917935,
            -0.15245039581256142,
            0.27226905158083214,
            0.5908086371258774,
            0.4315388443533547,
            -1.0549792215235227,
            -0.8957094287510001,
            -0.9487993596751745,
            -0.04627053396421299,
            0.6969884989742257,
            0.11299925880830958,
            -0.842619497826826,
            0.3784489134291805,
            0.8562582917467483,
            1.3871576009884903,
            -0.4179000504334323,
            -0.6302597741301292,
            1.7056971865335353
           ]
          }
         ]
        },
        {
         "data": [
          {
           "mode": "lines",
           "type": "scatter",
           "x": [
            -0.40102340448701146,
            0.12205060136561222,
            -0.008717900097543696,
            0.12205060136561222,
            1.2989671145340156,
            0.05666635063403426,
            1.4297356159971715,
            -0.20487065229227758,
            1.4297356159971715,
            0.7105088579498139,
            1.2335828638024375,
            0.7105088579498139,
            0.9066616101445477,
            -0.7279446581449013,
            -0.20487065229227758,
            0.18743485209719019,
            -0.008717900097543696,
            -1.8394769205817265,
            -1.6433241683869926,
            -1.7087084191185706,
            -0.5971761566817453,
            0.31820335356034607,
            -0.40102340448701146,
            -1.5779399176554147,
            -0.07410215082912165,
            0.51435610575508,
            1.1681986130708595,
            -1.054865911802791,
            -1.316402914729103,
            1.5605041174603274
           ],
           "y": [
            0.10921162805689583,
            0.5331503655372215,
            0.4271656811671401,
            0.5331503655372215,
            1.4870125248679542,
            0.4801580233521808,
            1.5929972092380356,
            0.2681886546120179,
            1.5929972092380356,
            1.010081445202588,
            1.4340201826829135,
            1.010081445202588,
            1.16905847175771,
            -0.15575008286830777,
            0.2681886546120179,
            0.5861427077222622,
            0.4271656811671401,
            -1.0566199000139997,
            -0.8976428734588775,
            -0.9506352156439184,
            -0.049765398498226254,
            0.6921273920923436,
            0.10921162805689583,
            -0.844650531273837,
            0.37417333898209937,
            0.8511044186474657,
            1.3810278404978729,
            -0.42071179379351126,
            -0.6326811625336741,
            1.6989818936081171
           ]
          }
         ]
        },
        {
         "data": [
          {
           "mode": "lines",
           "type": "scatter",
           "x": [
            -0.40102340448701146,
            0.12205060136561222,
            -0.008717900097543696,
            0.12205060136561222,
            1.2989671145340156,
            0.05666635063403426,
            1.4297356159971715,
            -0.20487065229227758,
            1.4297356159971715,
            0.7105088579498139,
            1.2335828638024375,
            0.7105088579498139,
            0.9066616101445477,
            -0.7279446581449013,
            -0.20487065229227758,
            0.18743485209719019,
            -0.008717900097543696,
            -1.8394769205817265,
            -1.6433241683869926,
            -1.7087084191185706,
            -0.5971761566817453,
            0.31820335356034607,
            -0.40102340448701146,
            -1.5779399176554147,
            -0.07410215082912165,
            0.51435610575508,
            1.1681986130708595,
            -1.054865911802791,
            -1.316402914729103,
            1.5605041174603274
           ],
           "y": [
            0.1054620731277518,
            0.5286276475575026,
            0.42283625395006486,
            0.5286276475575026,
            1.4807501900244417,
            0.4757319507537837,
            1.5865415836318795,
            0.2641491635389083,
            1.5865415836318795,
            1.0046889187909722,
            1.4278544932207229,
            1.0046889187909722,
            1.1633760092021288,
            -0.15901641089084245,
            0.2641491635389083,
            0.5815233443612214,
            0.42283625395006486,
            -1.058243256554063,
            -0.8995561661429063,
            -0.9524518629466252,
            -0.05322501728340473,
            0.687314737968659,
            0.1054620731277518,
            -0.8466604693391875,
            0.36994055714634605,
            0.8460018283798156,
            1.374958796417004,
            -0.42349489490943665,
            -0.6350776821243123,
            1.6923329772393172
           ]
          }
         ]
        },
        {
         "data": [
          {
           "mode": "lines",
           "type": "scatter",
           "x": [
            -0.40102340448701146,
            0.12205060136561222,
            -0.008717900097543696,
            0.12205060136561222,
            1.2989671145340156,
            0.05666635063403426,
            1.4297356159971715,
            -0.20487065229227758,
            1.4297356159971715,
            0.7105088579498139,
            1.2335828638024375,
            0.7105088579498139,
            0.9066616101445477,
            -0.7279446581449013,
            -0.20487065229227758,
            0.18743485209719019,
            -0.008717900097543696,
            -1.8394769205817265,
            -1.6433241683869926,
            -1.7087084191185706,
            -0.5971761566817453,
            0.31820335356034607,
            -0.40102340448701146,
            -1.5779399176554147,
            -0.07410215082912165,
            0.51435610575508,
            1.1681986130708595,
            -1.054865911802791,
            -1.316402914729103,
            1.5605041174603274
           ],
           "y": [
            0.10175021133401213,
            0.5241500966226769,
            0.4185501253005107,
            0.5241500966226769,
            1.4745498385221727,
            0.4713501109615938,
            1.5801498098443387,
            0.26015016831726145,
            1.5801498098443387,
            0.9993499675724248,
            1.4217498528610895,
            0.9993499675724248,
            1.1577499245556742,
            -0.16224971697140333,
            0.26015016831726145,
            0.57695008228376,
            0.4185501253005107,
            -1.059849473209816,
            -0.9014495162265664,
            -0.9542495018876497,
            -0.05664974564923708,
            0.6825500536059261,
            0.10175021133401213,
            -0.8486495305654836,
            0.3657501396394276,
            0.8409500105891754,
            1.3689498672000062,
            -0.42624964527681874,
            -0.6374495879211511,
            1.6857497811665048
           ]
          }
         ]
        },
        {
         "data": [
          {
           "mode": "lines",
           "type": "scatter",
           "x": [
            -0.40102340448701146,
            0.12205060136561222,
            -0.008717900097543696,
            0.12205060136561222,
            1.2989671145340156,
            0.05666635063403426,
            1.4297356159971715,
            -0.20487065229227758,
            1.4297356159971715,
            0.7105088579498139,
            1.2335828638024375,
            0.7105088579498139,
            0.9066616101445477,
            -0.7279446581449013,
            -0.20487065229227758,
            0.18743485209719019,
            -0.008717900097543696,
            -1.8394769205817265,
            -1.6433241683869926,
            -1.7087084191185706,
            -0.5971761566817453,
            0.31820335356034607,
            -0.40102340448701146,
            -1.5779399176554147,
            -0.07410215082912165,
            0.51435610575508,
            1.1681986130708595,
            -1.054865911802791,
            -1.316402914729103,
            1.5605041174603274
           ],
           "y": [
            0.0980756638343237,
            0.5197172616435997,
            0.41430686219128066,
            0.5197172616435997,
            1.4684108567144705,
            0.46701206191744016,
            1.5738212561667893,
            0.25619126301280215,
            1.5738212561667893,
            0.9940640591790351,
            1.4157056569883109,
            0.9940640591790351,
            1.1521796583575135,
            -0.16545033479647375,
            0.25619126301280215,
            0.5724224613697592,
            0.41430686219128066,
            -1.0614387301411852,
            -0.9033231309627064,
            -0.9560283306888661,
            -0.06003993534415469,
            0.677832860822078,
            0.0980756638343237,
            -0.850617931236547,
            0.36160166246512115,
            0.8359484600005566,
            1.3630004572621512,
            -0.42897633342727115,
            -0.6397971323319093,
            1.6792316556191085
           ]
          }
         ]
        },
        {
         "data": [
          {
           "mode": "lines",
           "type": "scatter",
           "x": [
            -0.40102340448701146,
            0.12205060136561222,
            -0.008717900097543696,
            0.12205060136561222,
            1.2989671145340156,
            0.05666635063403426,
            1.4297356159971715,
            -0.20487065229227758,
            1.4297356159971715,
            0.7105088579498139,
            1.2335828638024375,
            0.7105088579498139,
            0.9066616101445477,
            -0.7279446581449013,
            -0.20487065229227758,
            0.18743485209719019,
            -0.008717900097543696,
            -1.8394769205817265,
            -1.6433241683869926,
            -1.7087084191185706,
            -0.5971761566817453,
            0.31820335356034607,
            -0.40102340448701146,
            -1.5779399176554147,
            -0.07410215082912165,
            0.51435610575508,
            1.1681986130708595,
            -1.054865911802791,
            -1.316402914729103,
            1.5605041174603274
           ],
           "y": [
            0.09443805559421026,
            0.5153286960363981,
            0.4101060359258511,
            0.5153286960363981,
            1.4623326370313208,
            0.46271736598112456,
            1.5675552971418676,
            0.2522720457600307,
            1.5675552971418676,
            0.9888306665338594,
            1.409721306976047,
            0.9888306665338594,
            1.1466646566996799,
            -0.16861859468215712,
            0.2522720457600307,
            0.5679400260916716,
            0.4101060359258511,
            -1.0630112056218062,
            -0.9051772154559856,
            -0.9577885455112594,
            -0.06339593457161014,
            0.6731626862022184,
            0.09443805559421026,
            -0.8525658854007123,
            0.35749470587057763,
            0.830996676368039,
            1.3571099769207735,
            -0.4316752449585245,
            -0.6421205651796185,
            1.6727779572524146
           ]
          }
         ]
        },
        {
         "data": [
          {
           "mode": "lines",
           "type": "scatter",
           "x": [
            -0.40102340448701146,
            0.12205060136561222,
            -0.008717900097543696,
            0.12205060136561222,
            1.2989671145340156,
            0.05666635063403426,
            1.4297356159971715,
            -0.20487065229227758,
            1.4297356159971715,
            0.7105088579498139,
            1.2335828638024375,
            0.7105088579498139,
            0.9066616101445477,
            -0.7279446581449013,
            -0.20487065229227758,
            0.18743485209719019,
            -0.008717900097543696,
            -1.8394769205817265,
            -1.6433241683869926,
            -1.7087084191185706,
            -0.5971761566817453,
            0.31820335356034607,
            -0.40102340448701146,
            -1.5779399176554147,
            -0.07410215082912165,
            0.51435610575508,
            1.1681986130708595,
            -1.054865911802791,
            -1.316402914729103,
            1.5605041174603274
           ],
           "y": [
            0.09083701534782507,
            0.5109839576774733,
            0.40594722209506123,
            0.5109839576774733,
            1.456314577919182,
            0.4584655898862673,
            1.561351313501594,
            0.24839211872144315,
            1.561351313501594,
            0.9836492677983276,
            1.4037962101279757,
            0.9836492677983276,
            1.1412043711719457,
            -0.17175482360820515,
            0.24839211872144315,
            0.5635023254686793,
            0.40594722209506123,
            -1.0645670760587076,
            -0.9070119726850894,
            -0.9595303404762956,
            -0.06671808802579299,
            0.6685390610510914,
            0.09083701534782507,
            -0.8544936048938836,
            0.35342885430385523,
            0.8260941644247095,
            1.3512778423367697,
            -0.43434666256423526,
            -0.6444201337290594,
            1.666388049084006
           ]
          }
         ]
        },
        {
         "data": [
          {
           "mode": "lines",
           "type": "scatter",
           "x": [
            -0.40102340448701146,
            0.12205060136561222,
            -0.008717900097543696,
            0.12205060136561222,
            1.2989671145340156,
            0.05666635063403426,
            1.4297356159971715,
            -0.20487065229227758,
            1.4297356159971715,
            0.7105088579498139,
            1.2335828638024375,
            0.7105088579498139,
            0.9066616101445477,
            -0.7279446581449013,
            -0.20487065229227758,
            0.18743485209719019,
            -0.008717900097543696,
            -1.8394769205817265,
            -1.6433241683869926,
            -1.7087084191185706,
            -0.5971761566817453,
            0.31820335356034607,
            -0.40102340448701146,
            -1.5779399176554147,
            -0.07410215082912165,
            0.51435610575508,
            1.1681986130708595,
            -1.054865911802791,
            -1.316402914729103,
            1.5605041174603274
           ],
           "y": [
            0.08727217556008804,
            0.5066826088589512,
            0.40183000053423545,
            0.5066826088589512,
            1.4503560837813936,
            0.45425630469659334,
            1.5552086921061092,
            0.24455108804716175,
            1.5552086921061092,
            0.9785193463201725,
            1.3979297796190355,
            0.9785193463201725,
            1.1357982588072462,
            -0.17485934525170155,
            0.24455108804716175,
            0.5591089130213092,
            0.40183000053423545,
            -1.0661065160117857,
            -0.9088276035247121,
            -0.96125390768707,
            -0.07000673692698567,
            0.6639615213460249,
            0.08727217556008804,
            -0.8564012993623543,
            0.34940369637187757,
            0.8212404338330986,
            1.3455034754566775,
            -0.4369908660634909,
            -0.6466960827129228,
            1.6600613004308253
           ]
          }
         ]
        },
        {
         "data": [
          {
           "mode": "lines",
           "type": "scatter",
           "x": [
            -0.40102340448701146,
            0.12205060136561222,
            -0.008717900097543696,
            0.12205060136561222,
            1.2989671145340156,
            0.05666635063403426,
            1.4297356159971715,
            -0.20487065229227758,
            1.4297356159971715,
            0.7105088579498139,
            1.2335828638024375,
            0.7105088579498139,
            0.9066616101445477,
            -0.7279446581449013,
            -0.20487065229227758,
            0.18743485209719019,
            -0.008717900097543696,
            -1.8394769205817265,
            -1.6433241683869926,
            -1.7087084191185706,
            -0.5971761566817453,
            0.31820335356034607,
            -0.40102340448701146,
            -1.5779399176554147,
            -0.07410215082912165,
            0.51435610575508,
            1.1681986130708595,
            -1.054865911802791,
            -1.316402914729103,
            1.5605041174603274
           ],
           "y": [
            0.08374317238920292,
            0.5024242162445787,
            0.39775395528073476,
            0.5024242162445787,
            1.4444565649191743,
            0.4500890857626567,
            1.5491268258830182,
            0.24074856383496884,
            1.5491268258830182,
            0.9734403905818765,
            1.3921214344372523,
            0.9734403905818765,
            1.1304457820276423,
            -0.177932480020407,
            0.24074856383496884,
            0.5547593467265006,
            0.39775395528073476,
            -1.0676296982130806,
            -0.9106243067673145,
            -0.9629594372492365,
            -0.07326221905656294,
            0.6594296076903445,
            0.08374317238920292,
            -0.8582891762853926,
            0.3454188247988128,
            0.8164349991361105,
            1.3397863039553302,
            -0.4396081324300168,
            -0.6489486543577048,
            1.653797086846862
           ]
          }
         ]
        },
        {
         "data": [
          {
           "mode": "lines",
           "type": "scatter",
           "x": [
            -0.40102340448701146,
            0.12205060136561222,
            -0.008717900097543696,
            0.12205060136561222,
            1.2989671145340156,
            0.05666635063403426,
            1.4297356159971715,
            -0.20487065229227758,
            1.4297356159971715,
            0.7105088579498139,
            1.2335828638024375,
            0.7105088579498139,
            0.9066616101445477,
            -0.7279446581449013,
            -0.20487065229227758,
            0.18743485209719019,
            -0.008717900097543696,
            -1.8394769205817265,
            -1.6433241683869926,
            -1.7087084191185706,
            -0.5971761566817453,
            0.31820335356034607,
            -0.40102340448701146,
            -1.5779399176554147,
            -0.07410215082912165,
            0.51435610575508,
            1.1681986130708595,
            -1.054865911802791,
            -1.316402914729103,
            1.5605041174603274
           ],
           "y": [
            0.08024964564955112,
            0.4982083508260598,
            0.39371867453193266,
            0.4982083508260598,
            1.4386154374732045,
            0.44596351267899625,
            1.5431051137673317,
            0.23698416009074189,
            1.5431051137673317,
            0.9684118941496321,
            1.3863705993261408,
            0.9684118941496321,
            1.125146408590823,
            -0.18097454508576682,
            0.23698416009074189,
            0.5504531889731235,
            0.39371867453193266,
            -1.0691367935858478,
            -0.9124022791446571,
            -0.9646471172917206,
            -0.07648486879163963,
            0.6549428652672505,
            0.08024964564955112,
            -0.8601574409975936,
            0.34147383638486906,
            0.8116773797084413,
            1.3341257611790773,
            -0.4421987358210847,
            -0.6511780884093392,
            1.6475947900614587
           ]
          }
         ]
        },
        {
         "data": [
          {
           "mode": "lines",
           "type": "scatter",
           "x": [
            -0.40102340448701146,
            0.12205060136561222,
            -0.008717900097543696,
            0.12205060136561222,
            1.2989671145340156,
            0.05666635063403426,
            1.4297356159971715,
            -0.20487065229227758,
            1.4297356159971715,
            0.7105088579498139,
            1.2335828638024375,
            0.7105088579498139,
            0.9066616101445477,
            -0.7279446581449013,
            -0.20487065229227758,
            0.18743485209719019,
            -0.008717900097543696,
            -1.8394769205817265,
            -1.6433241683869926,
            -1.7087084191185706,
            -0.5971761566817453,
            0.31820335356034607,
            -0.40102340448701146,
            -1.5779399176554147,
            -0.07410215082912165,
            0.51435610575508,
            1.1681986130708595,
            -1.054865911802791,
            -1.316402914729103,
            1.5605041174603274
           ],
           "y": [
            0.07679123877495819,
            0.4940345878798289,
            0.38972375060361125,
            0.4940345878798289,
            1.4328321233657881,
            0.44187916924172005,
            1.5371429606420057,
            0.23325749468928472,
            1.5371429606420057,
            0.9634333556228085,
            1.3806767047276791,
            0.9634333556228085,
            1.119899611537135,
            -0.18398585441558596,
            0.23325749468928472,
            0.5461900065179377,
            0.38972375060361125,
            -1.0706279712634361,
            -0.9141617153491095,
            -0.9663171339872185,
            -0.07967501713936825,
            0.6505008437941554,
            0.07679123877495819,
            -0.8620062967110007,
            0.3375683319655024,
            0.8069670997084819,
            1.32852128608957,
            -0.44476294760613005,
            -0.6533846221585655,
            1.6414537979182233
           ]
          }
         ]
        },
        {
         "data": [
          {
           "mode": "lines",
           "type": "scatter",
           "x": [
            -0.40102340448701146,
            0.12205060136561222,
            -0.008717900097543696,
            0.12205060136561222,
            1.2989671145340156,
            0.05666635063403426,
            1.4297356159971715,
            -0.20487065229227758,
            1.4297356159971715,
            0.7105088579498139,
            1.2335828638024375,
            0.7105088579498139,
            0.9066616101445477,
            -0.7279446581449013,
            -0.20487065229227758,
            0.18743485209719019,
            -0.008717900097543696,
            -1.8394769205817265,
            -1.6433241683869926,
            -1.7087084191185706,
            -0.5971761566817453,
            0.31820335356034607,
            -0.40102340448701146,
            -1.5779399176554147,
            -0.07410215082912165,
            0.51435610575508,
            1.1681986130708595,
            -1.054865911802791,
            -1.316402914729103,
            1.5605041174603274
           ],
           "y": [
            0.07336759878232951,
            0.4899025069242547,
            0.3857687798887734,
            0.4899025069242547,
            1.4271060502435864,
            0.43783564340651404,
            1.5312397772790678,
            0.22956818933555145,
            1.5312397772790678,
            0.9585042785839206,
            1.3750391867258458,
            0.9585042785839206,
            1.1147048691371424,
            -0.18696671880637372,
            0.22956818933555145,
            0.5419693704419953,
            0.3857687798887734,
            -1.0721033986079647,
            -0.9159028080547427,
            -0.9679696715724835,
            -0.08283299177089243,
            0.6461030974774766,
            0.07336759878232951,
            -0.8638359445370023,
            0.33370191637103275,
            0.8023036880306986,
            1.322972323208105,
            -0.4473010363950769,
            -0.6555684904660397,
            1.635373504314549
           ]
          }
         ]
        },
        {
         "data": [
          {
           "mode": "lines",
           "type": "scatter",
           "x": [
            -0.40102340448701146,
            0.12205060136561222,
            -0.008717900097543696,
            0.12205060136561222,
            1.2989671145340156,
            0.05666635063403426,
            1.4297356159971715,
            -0.20487065229227758,
            1.4297356159971715,
            0.7105088579498139,
            1.2335828638024375,
            0.7105088579498139,
            0.9066616101445477,
            -0.7279446581449013,
            -0.20487065229227758,
            0.18743485209719019,
            -0.008717900097543696,
            -1.8394769205817265,
            -1.6433241683869926,
            -1.7087084191185706,
            -0.5971761566817453,
            0.31820335356034607,
            -0.40102340448701146,
            -1.5779399176554147,
            -0.07410215082912165,
            0.51435610575508,
            1.1681986130708595,
            -1.054865911802791,
            -1.316402914729103,
            1.5605041174603274
           ],
           "y": [
            0.06997837623565095,
            0.48581169167727245,
            0.38185336281686705,
            0.48581169167727245,
            1.421436651420921,
            0.4338325272470698,
            1.5253949802813263,
            0.225915869526259,
            1.5253949802813263,
            0.9536241715490967,
            1.3694574869907181,
            0.9536241715490967,
            1.1095616648397049,
            -0.18991744591536253,
            0.225915869526259,
            0.5377908561074751,
            0.38185336281686705,
            -1.0735632412288083,
            -0.9176257479382002,
            -0.969604912368403,
            -0.08595911705495712,
            0.6417491849678805,
            0.06997837623565095,
            -0.8656465835079976,
            0.3298741983866644,
            0.7976866782584886,
            1.3174783225605156,
            -0.4498132680663759,
            -0.6577299257871869,
            1.6293533091417316
           ]
          }
         ]
        },
        {
         "data": [
          {
           "mode": "lines",
           "type": "scatter",
           "x": [
            -0.40102340448701146,
            0.12205060136561222,
            -0.008717900097543696,
            0.12205060136561222,
            1.2989671145340156,
            0.05666635063403426,
            1.4297356159971715,
            -0.20487065229227758,
            1.4297356159971715,
            0.7105088579498139,
            1.2335828638024375,
            0.7105088579498139,
            0.9066616101445477,
            -0.7279446581449013,
            -0.20487065229227758,
            0.18743485209719019,
            -0.008717900097543696,
            -1.8394769205817265,
            -1.6433241683869926,
            -1.7087084191185706,
            -0.5971761566817453,
            0.31820335356034607,
            -0.40102340448701146,
            -1.5779399176554147,
            -0.07410215082912165,
            0.51435610575508,
            1.1681986130708595,
            -1.054865911802791,
            -1.316402914729103,
            1.5605041174603274
           ],
           "y": [
            0.06662322521035152,
            0.4817617300144389,
            0.37797710381341704,
            0.4817617300144389,
            1.4158233658236357,
            0.429869416913928,
            1.5196079920246575,
            0.22230016451188428,
            1.5196079920246575,
            0.9487925479190373,
            1.3639310527231245,
            0.9487925479190373,
            1.10446948722057,
            -0.1928383402922031,
            0.22230016451188428,
            0.5336540431149498,
            0.37797710381341704,
            -1.0750076630008887,
            -0.919330723699356,
            -0.9712230367998669,
            -0.08905371409118124,
            0.6374386693159717,
            0.06662322521035152,
            -0.8674384105988451,
            0.32608479071290614,
            0.7931156086175044,
            1.3120387396226136,
            -0.4522999057947577,
            -0.6598691581968015,
            1.6233926182256793
           ]
          }
         ]
        },
        {
         "data": [
          {
           "mode": "lines",
           "type": "scatter",
           "x": [
            -0.40102340448701146,
            0.12205060136561222,
            -0.008717900097543696,
            0.12205060136561222,
            1.2989671145340156,
            0.05666635063403426,
            1.4297356159971715,
            -0.20487065229227758,
            1.4297356159971715,
            0.7105088579498139,
            1.2335828638024375,
            0.7105088579498139,
            0.9066616101445477,
            -0.7279446581449013,
            -0.20487065229227758,
            0.18743485209719019,
            -0.008717900097543696,
            -1.8394769205817265,
            -1.6433241683869926,
            -1.7087084191185706,
            -0.5971761566817453,
            0.31820335356034607,
            -0.40102340448701146,
            -1.5779399176554147,
            -0.07410215082912165,
            0.51435610575508,
            1.1681986130708595,
            -1.054865911802791,
            -1.316402914729103,
            1.5605041174603274
           ],
           "y": [
            0.06330180325802348,
            0.4777522139274063,
            0.37413961126006057,
            0.4777522139274063,
            1.4102656379335177,
            0.42594591259373343,
            1.5138782406008633,
            0.21872070725904202,
            1.5138782406008633,
            0.9440089259304619,
            1.3584593365998447,
            0.9440089259304619,
            1.0994278299314804,
            -0.1957297034103408,
            0.21872070725904202,
            0.5295585152610791,
            0.37413961126006057,
            -1.0764368260827792,
            -0.9210179220817605,
            -0.9728242234154334,
            -0.092117100742995,
            0.6331711179284247,
            0.06330180325802348,
            -0.8692116207480878,
            0.32233330992638776,
            0.7885900219294434,
            1.3066530352661718,
            -0.45476121007870496,
            -0.6619864154133965,
            1.617490843268209
           ]
          }
         ]
        },
        {
         "data": [
          {
           "mode": "lines",
           "type": "scatter",
           "x": [
            -0.40102340448701146,
            0.12205060136561222,
            -0.008717900097543696,
            0.12205060136561222,
            1.2989671145340156,
            0.05666635063403426,
            1.4297356159971715,
            -0.20487065229227758,
            1.4297356159971715,
            0.7105088579498139,
            1.2335828638024375,
            0.7105088579498139,
            0.9066616101445477,
            -0.7279446581449013,
            -0.20487065229227758,
            0.18743485209719019,
            -0.008717900097543696,
            -1.8394769205817265,
            -1.6433241683869926,
            -1.7087084191185706,
            -0.5971761566817453,
            0.31820335356034607,
            -0.40102340448701146,
            -1.5779399176554147,
            -0.07410215082912165,
            0.51435610575508,
            1.1681986130708595,
            -1.054865911802791,
            -1.316402914729103,
            1.5605041174603274
           ],
           "y": [
            0.06001377137149766,
            0.47378273948281135,
            0.37034049745498293,
            0.47378273948281135,
            1.404762917733267,
            0.4220616184688971,
            1.5082051597610957,
            0.21517713441324027,
            1.5082051597610957,
            0.9392728286080393,
            1.3530417967193529,
            0.9392728286080393,
            1.0944361916497818,
            -0.19859183369807343,
            0.21517713441324027,
            0.5255038604967255,
            0.37034049745498293,
            -1.0778508909346147,
            -0.9226875278928722,
            -0.9744086489067866,
            -0.09514959167024495,
            0.628946102524554,
            0.06001377137149766,
            -0.8709664068789581,
            0.3186193764410687,
            0.7841094655662966,
            1.3013206757054387,
            -0.4571974387676444,
            -0.6640819228233014,
            1.611647401788924
           ]
          }
         ]
        },
        {
         "data": [
          {
           "mode": "lines",
           "type": "scatter",
           "x": [
            -0.40102340448701146,
            0.12205060136561222,
            -0.008717900097543696,
            0.12205060136561222,
            1.2989671145340156,
            0.05666635063403426,
            1.4297356159971715,
            -0.20487065229227758,
            1.4297356159971715,
            0.7105088579498139,
            1.2335828638024375,
            0.7105088579498139,
            0.9066616101445477,
            -0.7279446581449013,
            -0.20487065229227758,
            0.18743485209719019,
            -0.008717900097543696,
            -1.8394769205817265,
            -1.6433241683869926,
            -1.7087084191185706,
            -0.5971761566817453,
            0.31820335356034607,
            -0.40102340448701146,
            -1.5779399176554147,
            -0.07410215082912165,
            0.51435610575508,
            1.1681986130708595,
            -1.054865911802791,
            -1.316402914729103,
            1.5605041174603274
           ],
           "y": [
            0.05675879395026856,
            0.46985290678157443,
            0.36657937857374795,
            0.46985290678157443,
            1.3993146606520126,
            0.4182161426776612,
            1.5025881888598391,
            0.21166908626200828,
            1.5025881888598391,
            0.9345837837167936,
            1.3476778965480993,
            0.9345837837167936,
            1.0894940760285332,
            -0.20142502656929762,
            0.21166908626200828,
            0.5214896708854877,
            0.36657937857374795,
            -1.0792500163358225,
            -0.9243397240240828,
            -0.9759764881279961,
            -0.09815149836147108,
            0.6247631990933141,
            0.05675879395026856,
            -0.8727029599201698,
            0.31494261446983474,
            0.7796734914050538,
            1.296041132444186,
            -0.45960884708886374,
            -0.6661559035045167,
            1.6058617170676657
           ]
          }
         ]
        },
        {
         "data": [
          {
           "mode": "lines",
           "type": "scatter",
           "x": [
            -0.40102340448701146,
            0.12205060136561222,
            -0.008717900097543696,
            0.12205060136561222,
            1.2989671145340156,
            0.05666635063403426,
            1.4297356159971715,
            -0.20487065229227758,
            1.4297356159971715,
            0.7105088579498139,
            1.2335828638024375,
            0.7105088579498139,
            0.9066616101445477,
            -0.7279446581449013,
            -0.20487065229227758,
            0.18743485209719019,
            -0.008717900097543696,
            -1.8394769205817265,
            -1.6433241683869926,
            -1.7087084191185706,
            -0.5971761566817453,
            0.31820335356034607,
            -0.40102340448701146,
            -1.5779399176554147,
            -0.07410215082912165,
            0.51435610575508,
            1.1681986130708595,
            -1.054865911802791,
            -1.316402914729103,
            1.5605041174603274
           ],
           "y": [
            0.053536538766267794,
            0.4659623199186059,
            0.3628558746305214,
            0.4659623199186059,
            1.3939203275113667,
            0.41440909727456365,
            1.4970267727994513,
            0.2081962066983946,
            1.4970267727994513,
            0.9299413237149864,
            1.3423671048673245,
            0.9299413237149864,
            1.084600991647113,
            -0.20422957445394363,
            0.2081962066983946,
            0.5175155425626482,
            0.3628558746305214,
            -1.0806343594026622,
            -0.9259746914705351,
            -0.9775279141145776,
            -0.10112312916585897,
            0.6206219878507326,
            0.053536538766267794,
            -0.8744214688264931,
            0.3113026519864791,
            0.7752816557828595,
            1.290813882223282,
            -0.4619956876741549,
            -0.668208578250324,
            1.6001332180875358
           ]
          }
         ]
        }
       ],
       "layout": {
        "template": {
         "data": {
          "bar": [
           {
            "error_x": {
             "color": "#2a3f5f"
            },
            "error_y": {
             "color": "#2a3f5f"
            },
            "marker": {
             "line": {
              "color": "#E5ECF6",
              "width": 0.5
             },
             "pattern": {
              "fillmode": "overlay",
              "size": 10,
              "solidity": 0.2
             }
            },
            "type": "bar"
           }
          ],
          "barpolar": [
           {
            "marker": {
             "line": {
              "color": "#E5ECF6",
              "width": 0.5
             },
             "pattern": {
              "fillmode": "overlay",
              "size": 10,
              "solidity": 0.2
             }
            },
            "type": "barpolar"
           }
          ],
          "carpet": [
           {
            "aaxis": {
             "endlinecolor": "#2a3f5f",
             "gridcolor": "white",
             "linecolor": "white",
             "minorgridcolor": "white",
             "startlinecolor": "#2a3f5f"
            },
            "baxis": {
             "endlinecolor": "#2a3f5f",
             "gridcolor": "white",
             "linecolor": "white",
             "minorgridcolor": "white",
             "startlinecolor": "#2a3f5f"
            },
            "type": "carpet"
           }
          ],
          "choropleth": [
           {
            "colorbar": {
             "outlinewidth": 0,
             "ticks": ""
            },
            "type": "choropleth"
           }
          ],
          "contour": [
           {
            "colorbar": {
             "outlinewidth": 0,
             "ticks": ""
            },
            "colorscale": [
             [
              0,
              "#0d0887"
             ],
             [
              0.1111111111111111,
              "#46039f"
             ],
             [
              0.2222222222222222,
              "#7201a8"
             ],
             [
              0.3333333333333333,
              "#9c179e"
             ],
             [
              0.4444444444444444,
              "#bd3786"
             ],
             [
              0.5555555555555556,
              "#d8576b"
             ],
             [
              0.6666666666666666,
              "#ed7953"
             ],
             [
              0.7777777777777778,
              "#fb9f3a"
             ],
             [
              0.8888888888888888,
              "#fdca26"
             ],
             [
              1,
              "#f0f921"
             ]
            ],
            "type": "contour"
           }
          ],
          "contourcarpet": [
           {
            "colorbar": {
             "outlinewidth": 0,
             "ticks": ""
            },
            "type": "contourcarpet"
           }
          ],
          "heatmap": [
           {
            "colorbar": {
             "outlinewidth": 0,
             "ticks": ""
            },
            "colorscale": [
             [
              0,
              "#0d0887"
             ],
             [
              0.1111111111111111,
              "#46039f"
             ],
             [
              0.2222222222222222,
              "#7201a8"
             ],
             [
              0.3333333333333333,
              "#9c179e"
             ],
             [
              0.4444444444444444,
              "#bd3786"
             ],
             [
              0.5555555555555556,
              "#d8576b"
             ],
             [
              0.6666666666666666,
              "#ed7953"
             ],
             [
              0.7777777777777778,
              "#fb9f3a"
             ],
             [
              0.8888888888888888,
              "#fdca26"
             ],
             [
              1,
              "#f0f921"
             ]
            ],
            "type": "heatmap"
           }
          ],
          "heatmapgl": [
           {
            "colorbar": {
             "outlinewidth": 0,
             "ticks": ""
            },
            "colorscale": [
             [
              0,
              "#0d0887"
             ],
             [
              0.1111111111111111,
              "#46039f"
             ],
             [
              0.2222222222222222,
              "#7201a8"
             ],
             [
              0.3333333333333333,
              "#9c179e"
             ],
             [
              0.4444444444444444,
              "#bd3786"
             ],
             [
              0.5555555555555556,
              "#d8576b"
             ],
             [
              0.6666666666666666,
              "#ed7953"
             ],
             [
              0.7777777777777778,
              "#fb9f3a"
             ],
             [
              0.8888888888888888,
              "#fdca26"
             ],
             [
              1,
              "#f0f921"
             ]
            ],
            "type": "heatmapgl"
           }
          ],
          "histogram": [
           {
            "marker": {
             "pattern": {
              "fillmode": "overlay",
              "size": 10,
              "solidity": 0.2
             }
            },
            "type": "histogram"
           }
          ],
          "histogram2d": [
           {
            "colorbar": {
             "outlinewidth": 0,
             "ticks": ""
            },
            "colorscale": [
             [
              0,
              "#0d0887"
             ],
             [
              0.1111111111111111,
              "#46039f"
             ],
             [
              0.2222222222222222,
              "#7201a8"
             ],
             [
              0.3333333333333333,
              "#9c179e"
             ],
             [
              0.4444444444444444,
              "#bd3786"
             ],
             [
              0.5555555555555556,
              "#d8576b"
             ],
             [
              0.6666666666666666,
              "#ed7953"
             ],
             [
              0.7777777777777778,
              "#fb9f3a"
             ],
             [
              0.8888888888888888,
              "#fdca26"
             ],
             [
              1,
              "#f0f921"
             ]
            ],
            "type": "histogram2d"
           }
          ],
          "histogram2dcontour": [
           {
            "colorbar": {
             "outlinewidth": 0,
             "ticks": ""
            },
            "colorscale": [
             [
              0,
              "#0d0887"
             ],
             [
              0.1111111111111111,
              "#46039f"
             ],
             [
              0.2222222222222222,
              "#7201a8"
             ],
             [
              0.3333333333333333,
              "#9c179e"
             ],
             [
              0.4444444444444444,
              "#bd3786"
             ],
             [
              0.5555555555555556,
              "#d8576b"
             ],
             [
              0.6666666666666666,
              "#ed7953"
             ],
             [
              0.7777777777777778,
              "#fb9f3a"
             ],
             [
              0.8888888888888888,
              "#fdca26"
             ],
             [
              1,
              "#f0f921"
             ]
            ],
            "type": "histogram2dcontour"
           }
          ],
          "mesh3d": [
           {
            "colorbar": {
             "outlinewidth": 0,
             "ticks": ""
            },
            "type": "mesh3d"
           }
          ],
          "parcoords": [
           {
            "line": {
             "colorbar": {
              "outlinewidth": 0,
              "ticks": ""
             }
            },
            "type": "parcoords"
           }
          ],
          "pie": [
           {
            "automargin": true,
            "type": "pie"
           }
          ],
          "scatter": [
           {
            "marker": {
             "colorbar": {
              "outlinewidth": 0,
              "ticks": ""
             }
            },
            "type": "scatter"
           }
          ],
          "scatter3d": [
           {
            "line": {
             "colorbar": {
              "outlinewidth": 0,
              "ticks": ""
             }
            },
            "marker": {
             "colorbar": {
              "outlinewidth": 0,
              "ticks": ""
             }
            },
            "type": "scatter3d"
           }
          ],
          "scattercarpet": [
           {
            "marker": {
             "colorbar": {
              "outlinewidth": 0,
              "ticks": ""
             }
            },
            "type": "scattercarpet"
           }
          ],
          "scattergeo": [
           {
            "marker": {
             "colorbar": {
              "outlinewidth": 0,
              "ticks": ""
             }
            },
            "type": "scattergeo"
           }
          ],
          "scattergl": [
           {
            "marker": {
             "colorbar": {
              "outlinewidth": 0,
              "ticks": ""
             }
            },
            "type": "scattergl"
           }
          ],
          "scattermapbox": [
           {
            "marker": {
             "colorbar": {
              "outlinewidth": 0,
              "ticks": ""
             }
            },
            "type": "scattermapbox"
           }
          ],
          "scatterpolar": [
           {
            "marker": {
             "colorbar": {
              "outlinewidth": 0,
              "ticks": ""
             }
            },
            "type": "scatterpolar"
           }
          ],
          "scatterpolargl": [
           {
            "marker": {
             "colorbar": {
              "outlinewidth": 0,
              "ticks": ""
             }
            },
            "type": "scatterpolargl"
           }
          ],
          "scatterternary": [
           {
            "marker": {
             "colorbar": {
              "outlinewidth": 0,
              "ticks": ""
             }
            },
            "type": "scatterternary"
           }
          ],
          "surface": [
           {
            "colorbar": {
             "outlinewidth": 0,
             "ticks": ""
            },
            "colorscale": [
             [
              0,
              "#0d0887"
             ],
             [
              0.1111111111111111,
              "#46039f"
             ],
             [
              0.2222222222222222,
              "#7201a8"
             ],
             [
              0.3333333333333333,
              "#9c179e"
             ],
             [
              0.4444444444444444,
              "#bd3786"
             ],
             [
              0.5555555555555556,
              "#d8576b"
             ],
             [
              0.6666666666666666,
              "#ed7953"
             ],
             [
              0.7777777777777778,
              "#fb9f3a"
             ],
             [
              0.8888888888888888,
              "#fdca26"
             ],
             [
              1,
              "#f0f921"
             ]
            ],
            "type": "surface"
           }
          ],
          "table": [
           {
            "cells": {
             "fill": {
              "color": "#EBF0F8"
             },
             "line": {
              "color": "white"
             }
            },
            "header": {
             "fill": {
              "color": "#C8D4E3"
             },
             "line": {
              "color": "white"
             }
            },
            "type": "table"
           }
          ]
         },
         "layout": {
          "annotationdefaults": {
           "arrowcolor": "#2a3f5f",
           "arrowhead": 0,
           "arrowwidth": 1
          },
          "autotypenumbers": "strict",
          "coloraxis": {
           "colorbar": {
            "outlinewidth": 0,
            "ticks": ""
           }
          },
          "colorscale": {
           "diverging": [
            [
             0,
             "#8e0152"
            ],
            [
             0.1,
             "#c51b7d"
            ],
            [
             0.2,
             "#de77ae"
            ],
            [
             0.3,
             "#f1b6da"
            ],
            [
             0.4,
             "#fde0ef"
            ],
            [
             0.5,
             "#f7f7f7"
            ],
            [
             0.6,
             "#e6f5d0"
            ],
            [
             0.7,
             "#b8e186"
            ],
            [
             0.8,
             "#7fbc41"
            ],
            [
             0.9,
             "#4d9221"
            ],
            [
             1,
             "#276419"
            ]
           ],
           "sequential": [
            [
             0,
             "#0d0887"
            ],
            [
             0.1111111111111111,
             "#46039f"
            ],
            [
             0.2222222222222222,
             "#7201a8"
            ],
            [
             0.3333333333333333,
             "#9c179e"
            ],
            [
             0.4444444444444444,
             "#bd3786"
            ],
            [
             0.5555555555555556,
             "#d8576b"
            ],
            [
             0.6666666666666666,
             "#ed7953"
            ],
            [
             0.7777777777777778,
             "#fb9f3a"
            ],
            [
             0.8888888888888888,
             "#fdca26"
            ],
            [
             1,
             "#f0f921"
            ]
           ],
           "sequentialminus": [
            [
             0,
             "#0d0887"
            ],
            [
             0.1111111111111111,
             "#46039f"
            ],
            [
             0.2222222222222222,
             "#7201a8"
            ],
            [
             0.3333333333333333,
             "#9c179e"
            ],
            [
             0.4444444444444444,
             "#bd3786"
            ],
            [
             0.5555555555555556,
             "#d8576b"
            ],
            [
             0.6666666666666666,
             "#ed7953"
            ],
            [
             0.7777777777777778,
             "#fb9f3a"
            ],
            [
             0.8888888888888888,
             "#fdca26"
            ],
            [
             1,
             "#f0f921"
            ]
           ]
          },
          "colorway": [
           "#636efa",
           "#EF553B",
           "#00cc96",
           "#ab63fa",
           "#FFA15A",
           "#19d3f3",
           "#FF6692",
           "#B6E880",
           "#FF97FF",
           "#FECB52"
          ],
          "font": {
           "color": "#2a3f5f"
          },
          "geo": {
           "bgcolor": "white",
           "lakecolor": "white",
           "landcolor": "#E5ECF6",
           "showlakes": true,
           "showland": true,
           "subunitcolor": "white"
          },
          "hoverlabel": {
           "align": "left"
          },
          "hovermode": "closest",
          "mapbox": {
           "style": "light"
          },
          "paper_bgcolor": "white",
          "plot_bgcolor": "#E5ECF6",
          "polar": {
           "angularaxis": {
            "gridcolor": "white",
            "linecolor": "white",
            "ticks": ""
           },
           "bgcolor": "#E5ECF6",
           "radialaxis": {
            "gridcolor": "white",
            "linecolor": "white",
            "ticks": ""
           }
          },
          "scene": {
           "xaxis": {
            "backgroundcolor": "#E5ECF6",
            "gridcolor": "white",
            "gridwidth": 2,
            "linecolor": "white",
            "showbackground": true,
            "ticks": "",
            "zerolinecolor": "white"
           },
           "yaxis": {
            "backgroundcolor": "#E5ECF6",
            "gridcolor": "white",
            "gridwidth": 2,
            "linecolor": "white",
            "showbackground": true,
            "ticks": "",
            "zerolinecolor": "white"
           },
           "zaxis": {
            "backgroundcolor": "#E5ECF6",
            "gridcolor": "white",
            "gridwidth": 2,
            "linecolor": "white",
            "showbackground": true,
            "ticks": "",
            "zerolinecolor": "white"
           }
          },
          "shapedefaults": {
           "line": {
            "color": "#2a3f5f"
           }
          },
          "ternary": {
           "aaxis": {
            "gridcolor": "white",
            "linecolor": "white",
            "ticks": ""
           },
           "baxis": {
            "gridcolor": "white",
            "linecolor": "white",
            "ticks": ""
           },
           "bgcolor": "#E5ECF6",
           "caxis": {
            "gridcolor": "white",
            "linecolor": "white",
            "ticks": ""
           }
          },
          "title": {
           "x": 0.05
          },
          "xaxis": {
           "automargin": true,
           "gridcolor": "white",
           "linecolor": "white",
           "ticks": "",
           "title": {
            "standoff": 15
           },
           "zerolinecolor": "white",
           "zerolinewidth": 2
          },
          "yaxis": {
           "automargin": true,
           "gridcolor": "white",
           "linecolor": "white",
           "ticks": "",
           "title": {
            "standoff": 15
           },
           "zerolinecolor": "white",
           "zerolinewidth": 2
          }
         }
        },
        "title": {
         "text": "Progress of Predictions"
        },
        "updatemenus": [
         {
          "buttons": [
           {
            "args": [
             null
            ],
            "label": "Play",
            "method": "animate"
           }
          ],
          "type": "buttons"
         }
        ]
       }
      },
      "text/html": [
       "<div>                            <div id=\"b35195ef-6c3f-4fa4-b03a-1397f7c99d5a\" class=\"plotly-graph-div\" style=\"height:525px; width:100%;\"></div>            <script type=\"text/javascript\">                require([\"plotly\"], function(Plotly) {                    window.PLOTLYENV=window.PLOTLYENV || {};                                    if (document.getElementById(\"b35195ef-6c3f-4fa4-b03a-1397f7c99d5a\")) {                    Plotly.newPlot(                        \"b35195ef-6c3f-4fa4-b03a-1397f7c99d5a\",                        [{\"mode\":\"markers\",\"name\":\"line\",\"x\":[-0.40102340448701146,0.12205060136561222,-0.008717900097543696,0.12205060136561222,1.2989671145340156,0.05666635063403426,1.4297356159971715,-0.20487065229227758,1.4297356159971715,0.7105088579498139,1.2335828638024375,0.7105088579498139,0.9066616101445477,-0.7279446581449013,-0.20487065229227758,0.18743485209719019,-0.008717900097543696,-1.8394769205817265,-1.6433241683869926,-1.7087084191185706,-0.5971761566817453,0.31820335356034607,-0.40102340448701146,-1.5779399176554147,-0.07410215082912165,0.51435610575508,1.1681986130708595,-1.054865911802791,-1.316402914729103,1.5605041174603274],\"y\":[0.06495065444280122,3.4305754755697695,-0.2007565682777489,0.10923519156289292,0.8620723226044517,-0.02361841979738215,1.2163486195651851,-0.8207400879590325,0.6849341741240849,0.5077960256437182,0.8620723226044517,0.3306578771633514,-0.11218749403756553,-1.4407236076403163,-0.6436019394786658,-0.5550328652384824,-0.333610179638024,-1.2635854591599496,-1.1750163849197661,-0.8207400879590325,-0.2893256425179323,-0.02361841979738215,-0.9978782364393993,-0.9978782364393993,0.7735032483642683,0.6849341741240849,0.06495065444280122,-0.5550328652384824,-0.7764555508389409,1.4377713051656436],\"type\":\"scatter\"},{\"mode\":\"markers\",\"name\":\"observations\",\"x\":[-0.40102340448701146,0.12205060136561222,-0.008717900097543696,0.12205060136561222,1.2989671145340156,0.05666635063403426,1.4297356159971715,-0.20487065229227758,1.4297356159971715,0.7105088579498139,1.2335828638024375,0.7105088579498139,0.9066616101445477,-0.7279446581449013,-0.20487065229227758,0.18743485209719019,-0.008717900097543696,-1.8394769205817265,-1.6433241683869926,-1.7087084191185706,-0.5971761566817453,0.31820335356034607,-0.40102340448701146,-1.5779399176554147,-0.07410215082912165,0.51435610575508,1.1681986130708595,-1.054865911802791,-1.316402914729103,1.5605041174603274],\"y\":[0.06495065444280122,3.4305754755697695,-0.2007565682777489,0.10923519156289292,0.8620723226044517,-0.02361841979738215,1.2163486195651851,-0.8207400879590325,0.6849341741240849,0.5077960256437182,0.8620723226044517,0.3306578771633514,-0.11218749403756553,-1.4407236076403163,-0.6436019394786658,-0.5550328652384824,-0.333610179638024,-1.2635854591599496,-1.1750163849197661,-0.8207400879590325,-0.2893256425179323,-0.02361841979738215,-0.9978782364393993,-0.9978782364393993,0.7735032483642683,0.6849341741240849,0.06495065444280122,-0.5550328652384824,-0.7764555508389409,1.4377713051656436],\"type\":\"scatter\"}],                        {\"title\":{\"text\":\"Progress of Predictions\"},\"updatemenus\":[{\"buttons\":[{\"args\":[null],\"label\":\"Play\",\"method\":\"animate\"}],\"type\":\"buttons\"}],\"template\":{\"data\":{\"bar\":[{\"error_x\":{\"color\":\"#2a3f5f\"},\"error_y\":{\"color\":\"#2a3f5f\"},\"marker\":{\"line\":{\"color\":\"#E5ECF6\",\"width\":0.5},\"pattern\":{\"fillmode\":\"overlay\",\"size\":10,\"solidity\":0.2}},\"type\":\"bar\"}],\"barpolar\":[{\"marker\":{\"line\":{\"color\":\"#E5ECF6\",\"width\":0.5},\"pattern\":{\"fillmode\":\"overlay\",\"size\":10,\"solidity\":0.2}},\"type\":\"barpolar\"}],\"carpet\":[{\"aaxis\":{\"endlinecolor\":\"#2a3f5f\",\"gridcolor\":\"white\",\"linecolor\":\"white\",\"minorgridcolor\":\"white\",\"startlinecolor\":\"#2a3f5f\"},\"baxis\":{\"endlinecolor\":\"#2a3f5f\",\"gridcolor\":\"white\",\"linecolor\":\"white\",\"minorgridcolor\":\"white\",\"startlinecolor\":\"#2a3f5f\"},\"type\":\"carpet\"}],\"choropleth\":[{\"colorbar\":{\"outlinewidth\":0,\"ticks\":\"\"},\"type\":\"choropleth\"}],\"contour\":[{\"colorbar\":{\"outlinewidth\":0,\"ticks\":\"\"},\"colorscale\":[[0.0,\"#0d0887\"],[0.1111111111111111,\"#46039f\"],[0.2222222222222222,\"#7201a8\"],[0.3333333333333333,\"#9c179e\"],[0.4444444444444444,\"#bd3786\"],[0.5555555555555556,\"#d8576b\"],[0.6666666666666666,\"#ed7953\"],[0.7777777777777778,\"#fb9f3a\"],[0.8888888888888888,\"#fdca26\"],[1.0,\"#f0f921\"]],\"type\":\"contour\"}],\"contourcarpet\":[{\"colorbar\":{\"outlinewidth\":0,\"ticks\":\"\"},\"type\":\"contourcarpet\"}],\"heatmap\":[{\"colorbar\":{\"outlinewidth\":0,\"ticks\":\"\"},\"colorscale\":[[0.0,\"#0d0887\"],[0.1111111111111111,\"#46039f\"],[0.2222222222222222,\"#7201a8\"],[0.3333333333333333,\"#9c179e\"],[0.4444444444444444,\"#bd3786\"],[0.5555555555555556,\"#d8576b\"],[0.6666666666666666,\"#ed7953\"],[0.7777777777777778,\"#fb9f3a\"],[0.8888888888888888,\"#fdca26\"],[1.0,\"#f0f921\"]],\"type\":\"heatmap\"}],\"heatmapgl\":[{\"colorbar\":{\"outlinewidth\":0,\"ticks\":\"\"},\"colorscale\":[[0.0,\"#0d0887\"],[0.1111111111111111,\"#46039f\"],[0.2222222222222222,\"#7201a8\"],[0.3333333333333333,\"#9c179e\"],[0.4444444444444444,\"#bd3786\"],[0.5555555555555556,\"#d8576b\"],[0.6666666666666666,\"#ed7953\"],[0.7777777777777778,\"#fb9f3a\"],[0.8888888888888888,\"#fdca26\"],[1.0,\"#f0f921\"]],\"type\":\"heatmapgl\"}],\"histogram\":[{\"marker\":{\"pattern\":{\"fillmode\":\"overlay\",\"size\":10,\"solidity\":0.2}},\"type\":\"histogram\"}],\"histogram2d\":[{\"colorbar\":{\"outlinewidth\":0,\"ticks\":\"\"},\"colorscale\":[[0.0,\"#0d0887\"],[0.1111111111111111,\"#46039f\"],[0.2222222222222222,\"#7201a8\"],[0.3333333333333333,\"#9c179e\"],[0.4444444444444444,\"#bd3786\"],[0.5555555555555556,\"#d8576b\"],[0.6666666666666666,\"#ed7953\"],[0.7777777777777778,\"#fb9f3a\"],[0.8888888888888888,\"#fdca26\"],[1.0,\"#f0f921\"]],\"type\":\"histogram2d\"}],\"histogram2dcontour\":[{\"colorbar\":{\"outlinewidth\":0,\"ticks\":\"\"},\"colorscale\":[[0.0,\"#0d0887\"],[0.1111111111111111,\"#46039f\"],[0.2222222222222222,\"#7201a8\"],[0.3333333333333333,\"#9c179e\"],[0.4444444444444444,\"#bd3786\"],[0.5555555555555556,\"#d8576b\"],[0.6666666666666666,\"#ed7953\"],[0.7777777777777778,\"#fb9f3a\"],[0.8888888888888888,\"#fdca26\"],[1.0,\"#f0f921\"]],\"type\":\"histogram2dcontour\"}],\"mesh3d\":[{\"colorbar\":{\"outlinewidth\":0,\"ticks\":\"\"},\"type\":\"mesh3d\"}],\"parcoords\":[{\"line\":{\"colorbar\":{\"outlinewidth\":0,\"ticks\":\"\"}},\"type\":\"parcoords\"}],\"pie\":[{\"automargin\":true,\"type\":\"pie\"}],\"scatter\":[{\"marker\":{\"colorbar\":{\"outlinewidth\":0,\"ticks\":\"\"}},\"type\":\"scatter\"}],\"scatter3d\":[{\"line\":{\"colorbar\":{\"outlinewidth\":0,\"ticks\":\"\"}},\"marker\":{\"colorbar\":{\"outlinewidth\":0,\"ticks\":\"\"}},\"type\":\"scatter3d\"}],\"scattercarpet\":[{\"marker\":{\"colorbar\":{\"outlinewidth\":0,\"ticks\":\"\"}},\"type\":\"scattercarpet\"}],\"scattergeo\":[{\"marker\":{\"colorbar\":{\"outlinewidth\":0,\"ticks\":\"\"}},\"type\":\"scattergeo\"}],\"scattergl\":[{\"marker\":{\"colorbar\":{\"outlinewidth\":0,\"ticks\":\"\"}},\"type\":\"scattergl\"}],\"scattermapbox\":[{\"marker\":{\"colorbar\":{\"outlinewidth\":0,\"ticks\":\"\"}},\"type\":\"scattermapbox\"}],\"scatterpolar\":[{\"marker\":{\"colorbar\":{\"outlinewidth\":0,\"ticks\":\"\"}},\"type\":\"scatterpolar\"}],\"scatterpolargl\":[{\"marker\":{\"colorbar\":{\"outlinewidth\":0,\"ticks\":\"\"}},\"type\":\"scatterpolargl\"}],\"scatterternary\":[{\"marker\":{\"colorbar\":{\"outlinewidth\":0,\"ticks\":\"\"}},\"type\":\"scatterternary\"}],\"surface\":[{\"colorbar\":{\"outlinewidth\":0,\"ticks\":\"\"},\"colorscale\":[[0.0,\"#0d0887\"],[0.1111111111111111,\"#46039f\"],[0.2222222222222222,\"#7201a8\"],[0.3333333333333333,\"#9c179e\"],[0.4444444444444444,\"#bd3786\"],[0.5555555555555556,\"#d8576b\"],[0.6666666666666666,\"#ed7953\"],[0.7777777777777778,\"#fb9f3a\"],[0.8888888888888888,\"#fdca26\"],[1.0,\"#f0f921\"]],\"type\":\"surface\"}],\"table\":[{\"cells\":{\"fill\":{\"color\":\"#EBF0F8\"},\"line\":{\"color\":\"white\"}},\"header\":{\"fill\":{\"color\":\"#C8D4E3\"},\"line\":{\"color\":\"white\"}},\"type\":\"table\"}]},\"layout\":{\"annotationdefaults\":{\"arrowcolor\":\"#2a3f5f\",\"arrowhead\":0,\"arrowwidth\":1},\"autotypenumbers\":\"strict\",\"coloraxis\":{\"colorbar\":{\"outlinewidth\":0,\"ticks\":\"\"}},\"colorscale\":{\"diverging\":[[0,\"#8e0152\"],[0.1,\"#c51b7d\"],[0.2,\"#de77ae\"],[0.3,\"#f1b6da\"],[0.4,\"#fde0ef\"],[0.5,\"#f7f7f7\"],[0.6,\"#e6f5d0\"],[0.7,\"#b8e186\"],[0.8,\"#7fbc41\"],[0.9,\"#4d9221\"],[1,\"#276419\"]],\"sequential\":[[0.0,\"#0d0887\"],[0.1111111111111111,\"#46039f\"],[0.2222222222222222,\"#7201a8\"],[0.3333333333333333,\"#9c179e\"],[0.4444444444444444,\"#bd3786\"],[0.5555555555555556,\"#d8576b\"],[0.6666666666666666,\"#ed7953\"],[0.7777777777777778,\"#fb9f3a\"],[0.8888888888888888,\"#fdca26\"],[1.0,\"#f0f921\"]],\"sequentialminus\":[[0.0,\"#0d0887\"],[0.1111111111111111,\"#46039f\"],[0.2222222222222222,\"#7201a8\"],[0.3333333333333333,\"#9c179e\"],[0.4444444444444444,\"#bd3786\"],[0.5555555555555556,\"#d8576b\"],[0.6666666666666666,\"#ed7953\"],[0.7777777777777778,\"#fb9f3a\"],[0.8888888888888888,\"#fdca26\"],[1.0,\"#f0f921\"]]},\"colorway\":[\"#636efa\",\"#EF553B\",\"#00cc96\",\"#ab63fa\",\"#FFA15A\",\"#19d3f3\",\"#FF6692\",\"#B6E880\",\"#FF97FF\",\"#FECB52\"],\"font\":{\"color\":\"#2a3f5f\"},\"geo\":{\"bgcolor\":\"white\",\"lakecolor\":\"white\",\"landcolor\":\"#E5ECF6\",\"showlakes\":true,\"showland\":true,\"subunitcolor\":\"white\"},\"hoverlabel\":{\"align\":\"left\"},\"hovermode\":\"closest\",\"mapbox\":{\"style\":\"light\"},\"paper_bgcolor\":\"white\",\"plot_bgcolor\":\"#E5ECF6\",\"polar\":{\"angularaxis\":{\"gridcolor\":\"white\",\"linecolor\":\"white\",\"ticks\":\"\"},\"bgcolor\":\"#E5ECF6\",\"radialaxis\":{\"gridcolor\":\"white\",\"linecolor\":\"white\",\"ticks\":\"\"}},\"scene\":{\"xaxis\":{\"backgroundcolor\":\"#E5ECF6\",\"gridcolor\":\"white\",\"gridwidth\":2,\"linecolor\":\"white\",\"showbackground\":true,\"ticks\":\"\",\"zerolinecolor\":\"white\"},\"yaxis\":{\"backgroundcolor\":\"#E5ECF6\",\"gridcolor\":\"white\",\"gridwidth\":2,\"linecolor\":\"white\",\"showbackground\":true,\"ticks\":\"\",\"zerolinecolor\":\"white\"},\"zaxis\":{\"backgroundcolor\":\"#E5ECF6\",\"gridcolor\":\"white\",\"gridwidth\":2,\"linecolor\":\"white\",\"showbackground\":true,\"ticks\":\"\",\"zerolinecolor\":\"white\"}},\"shapedefaults\":{\"line\":{\"color\":\"#2a3f5f\"}},\"ternary\":{\"aaxis\":{\"gridcolor\":\"white\",\"linecolor\":\"white\",\"ticks\":\"\"},\"baxis\":{\"gridcolor\":\"white\",\"linecolor\":\"white\",\"ticks\":\"\"},\"bgcolor\":\"#E5ECF6\",\"caxis\":{\"gridcolor\":\"white\",\"linecolor\":\"white\",\"ticks\":\"\"}},\"title\":{\"x\":0.05},\"xaxis\":{\"automargin\":true,\"gridcolor\":\"white\",\"linecolor\":\"white\",\"ticks\":\"\",\"title\":{\"standoff\":15},\"zerolinecolor\":\"white\",\"zerolinewidth\":2},\"yaxis\":{\"automargin\":true,\"gridcolor\":\"white\",\"linecolor\":\"white\",\"ticks\":\"\",\"title\":{\"standoff\":15},\"zerolinecolor\":\"white\",\"zerolinewidth\":2}}}},                        {\"responsive\": true}                    ).then(function(){\n",
       "                            Plotly.addFrames('b35195ef-6c3f-4fa4-b03a-1397f7c99d5a', [{\"data\":[{\"mode\":\"lines\",\"x\":[-0.40102340448701146,0.12205060136561222,-0.008717900097543696,0.12205060136561222,1.2989671145340156,0.05666635063403426,1.4297356159971715,-0.20487065229227758,1.4297356159971715,0.7105088579498139,1.2335828638024375,0.7105088579498139,0.9066616101445477,-0.7279446581449013,-0.20487065229227758,0.18743485209719019,-0.008717900097543696,-1.8394769205817265,-1.6433241683869926,-1.7087084191185706,-0.5971761566817453,0.31820335356034607,-0.40102340448701146,-1.5779399176554147,-0.07410215082912165,0.51435610575508,1.1681986130708595,-1.054865911802791,-1.316402914729103,1.5605041174603274],\"y\":[0.5989765955129885,1.1220506013656122,0.9912820999024563,1.1220506013656122,2.2989671145340154,1.0566663506340344,2.4297356159971715,0.7951293477077224,2.4297356159971715,1.7105088579498138,2.2335828638024378,1.7105088579498138,1.9066616101445477,0.2720553418550987,0.7951293477077224,1.1874348520971902,0.9912820999024563,-0.8394769205817265,-0.6433241683869926,-0.7087084191185706,0.4028238433182547,1.3182033535603461,0.5989765955129885,-0.5779399176554147,0.9258978491708784,1.51435610575508,2.1681986130708593,-0.05486591180279099,-0.316402914729103,2.5605041174603276],\"type\":\"scatter\"}]},{\"data\":[{\"mode\":\"lines\",\"x\":[-0.40102340448701146,0.12205060136561222,-0.008717900097543696,0.12205060136561222,1.2989671145340156,0.05666635063403426,1.4297356159971715,-0.20487065229227758,1.4297356159971715,0.7105088579498139,1.2335828638024375,0.7105088579498139,0.9066616101445477,-0.7279446581449013,-0.20487065229227758,0.18743485209719019,-0.008717900097543696,-1.8394769205817265,-1.6433241683869926,-1.7087084191185706,-0.5971761566817453,0.31820335356034607,-0.40102340448701146,-1.5779399176554147,-0.07410215082912165,0.51435610575508,1.1681986130708595,-1.054865911802791,-1.316402914729103,1.5605041174603274],\"y\":[0.5903040563406996,1.1116465915484828,0.981310957746537,1.1116465915484828,2.284667295765995,1.04647877464751,2.415002929567941,0.7858075070436182,2.415002929567941,1.698156943657239,2.219499478865022,1.698156943657239,1.8936603943601575,0.26446497183583506,0.7858075070436182,1.1768144084494556,0.981310957746537,-0.8433879154807042,-0.6478844647777855,-0.7130522816787586,0.39480060563778085,1.3071500422514015,0.5903040563406996,-0.5827166478768127,0.916143140845564,1.50265349295432,2.154331661964049,-0.06137411266902948,-0.32204538027292107,2.545338563369887],\"type\":\"scatter\"}]},{\"data\":[{\"mode\":\"lines\",\"x\":[-0.40102340448701146,0.12205060136561222,-0.008717900097543696,0.12205060136561222,1.2989671145340156,0.05666635063403426,1.4297356159971715,-0.20487065229227758,1.4297356159971715,0.7105088579498139,1.2335828638024375,0.7105088579498139,0.9066616101445477,-0.7279446581449013,-0.20487065229227758,0.18743485209719019,-0.008717900097543696,-1.8394769205817265,-1.6433241683869926,-1.7087084191185706,-0.5971761566817453,0.31820335356034607,-0.40102340448701146,-1.5779399176554147,-0.07410215082912165,0.51435610575508,1.1681986130708595,-1.054865911802791,-1.316402914729103,1.5605041174603274],\"y\":[0.5817186850470759,1.1013464871595855,0.9714395366314582,1.1013464871595855,2.2705090419127325,1.0363930118955218,2.40041599244086,0.7765791108392671,2.40041599244086,1.6859277645361588,2.2055555666486684,1.6859277645361588,1.8807881903283499,0.25695130872675753,0.7765791108392671,1.1662999624236492,0.9714395366314582,-0.8472577707623252,-0.6523973449701341,-0.7173508202341978,0.38685825925488493,1.2962069129517766,0.5817186850470759,-0.5874438697060707,0.9064860613673945,1.4910673387439677,2.1406020913846047,-0.06781606759356085,-0.32762996864981586,2.530322942968987],\"type\":\"scatter\"}]},{\"data\":[{\"mode\":\"lines\",\"x\":[-0.40102340448701146,0.12205060136561222,-0.008717900097543696,0.12205060136561222,1.2989671145340156,0.05666635063403426,1.4297356159971715,-0.20487065229227758,1.4297356159971715,0.7105088579498139,1.2335828638024375,0.7105088579498139,0.9066616101445477,-0.7279446581449013,-0.20487065229227758,0.18743485209719019,-0.008717900097543696,-1.8394769205817265,-1.6433241683869926,-1.7087084191185706,-0.5971761566817453,0.31820335356034607,-0.40102340448701146,-1.5779399176554147,-0.07410215082912165,0.51435610575508,1.1681986130708595,-1.054865911802791,-1.316402914729103,1.5605041174603274],\"y\":[0.5732196056759575,1.0911492504464477,0.9616668392538252,1.0911492504464477,2.2564909511800506,1.0264080448501365,2.385973362372673,0.7674432224648914,2.385973362372673,1.6738201008132494,2.1917497455837394,1.6738201008132494,1.8680437176021831,0.24951357769440108,0.7674432224648914,1.155890456042759,0.9616668392538252,-0.8510869174428906,-0.6568633006539566,-0.7216045062502681,0.3789959888870238,1.2853728672353815,0.5732196056759575,-0.5921220950576456,0.896925633657514,1.4795964840243154,2.127008539987428,-0.07419245028715515,-0.33315727267240036,2.515455773565296],\"type\":\"scatter\"}]},{\"data\":[{\"mode\":\"lines\",\"x\":[-0.40102340448701146,0.12205060136561222,-0.008717900097543696,0.12205060136561222,1.2989671145340156,0.05666635063403426,1.4297356159971715,-0.20487065229227758,1.4297356159971715,0.7105088579498139,1.2335828638024375,0.7105088579498139,0.9066616101445477,-0.7279446581449013,-0.20487065229227758,0.18743485209719019,-0.008717900097543696,-1.8394769205817265,-1.6433241683869926,-1.7087084191185706,-0.5971761566817453,0.31820335356034607,-0.40102340448701146,-1.5779399176554147,-0.07410215082912165,0.51435610575508,1.1681986130708595,-1.054865911802791,-1.316402914729103,1.5605041174603274],\"y\":[0.5648059510720933,1.0810538540215369,0.951991878284176,1.0810538540215369,2.242611635657785,1.0165228661528565,2.3716736113951464,0.7583989146781347,2.3716736113951464,1.661832744839661,2.178080647789105,1.661832744839661,1.8554257084457024,0.2421510117286909,0.7583989146781347,1.1455848418902175,0.951991878284176,-0.8548757820388769,-0.6612828184328355,-0.7258138063015159,0.3712129874660519,1.2746468176275783,0.5648059510720933,-0.5967518305641552,0.8874608904154956,1.4682397812336196,2.1135496599204244,-0.08050392761471137,-0.33862787908943337,2.500735587132507],\"type\":\"scatter\"}]},{\"data\":[{\"mode\":\"lines\",\"x\":[-0.40102340448701146,0.12205060136561222,-0.008717900097543696,0.12205060136561222,1.2989671145340156,0.05666635063403426,1.4297356159971715,-0.20487065229227758,1.4297356159971715,0.7105088579498139,1.2335828638024375,0.7105088579498139,0.9066616101445477,-0.7279446581449013,-0.20487065229227758,0.18743485209719019,-0.008717900097543696,-1.8394769205817265,-1.6433241683869926,-1.7087084191185706,-0.5971761566817453,0.31820335356034607,-0.40102340448701146,-1.5779399176554147,-0.07410215082912165,0.51435610575508,1.1681986130708595,-1.054865911802791,-1.316402914729103,1.5605041174603274],\"y\":[0.5564768627927328,1.0710592807587336,0.9424136762672334,1.0710592807587336,2.2288697211822353,1.0067364785129835,2.3575153256737353,0.7494452695299831,2.3575153256737353,1.6499645009704844,2.164546918936485,1.6499645009704844,1.8429329077077345,0.23486285156398234,0.7494452695299831,1.1353820830044836,0.9424136762672334,-0.858624786613769,-0.6656563798765186,-0.7299791821222689,0.36350845605548265,1.2640276874959837,0.5564768627927328,-0.6013335776307688,0.8780908740214833,1.456996094233234,2.1002241166907347,-0.08675115966476799,-0.3440423686477684,2.4861609301652354],\"type\":\"scatter\"}]},{\"data\":[{\"mode\":\"lines\",\"x\":[-0.40102340448701146,0.12205060136561222,-0.008717900097543696,0.12205060136561222,1.2989671145340156,0.05666635063403426,1.4297356159971715,-0.20487065229227758,1.4297356159971715,0.7105088579498139,1.2335828638024375,0.7105088579498139,0.9066616101445477,-0.7279446581449013,-0.20487065229227758,0.18743485209719019,-0.008717900097543696,-1.8394769205817265,-1.6433241683869926,-1.7087084191185706,-0.5971761566817453,0.31820335356034607,-0.40102340448701146,-1.5779399176554147,-0.07410215082912165,0.51435610575508,1.1681986130708595,-1.054865911802791,-1.316402914729103,1.5605041174603274],\"y\":[0.5482314910201063,1.0611645236908371,0.9329312655231545,1.0611645236908371,2.215263847199982,0.9970478946069958,2.3434971053676645,0.7405813782716304,2.3434971053676645,1.6382141854454095,2.1511472181161406,1.6382141854454095,1.8305640726969337,0.22764834560089942,0.7405813782716304,1.1252811527746787,0.9329312655231545,-0.8623343488244036,-0.6699844615728795,-0.734101090656721,0.35588160376858224,1.2535144109423613,0.5482314910201063,-0.6058678324890384,0.8688146364393131,1.4458642981938854,2.087030589032299,-0.09293479981830732,-0.349401316153673,2.471730363535347],\"type\":\"scatter\"}]},{\"data\":[{\"mode\":\"lines\",\"x\":[-0.40102340448701146,0.12205060136561222,-0.008717900097543696,0.12205060136561222,1.2989671145340156,0.05666635063403426,1.4297356159971715,-0.20487065229227758,1.4297356159971715,0.7105088579498139,1.2335828638024375,0.7105088579498139,0.9066616101445477,-0.7279446581449013,-0.20487065229227758,0.18743485209719019,-0.008717900097543696,-1.8394769205817265,-1.6433241683869926,-1.7087084191185706,-0.5971761566817453,0.31820335356034607,-0.40102340448701146,-1.5779399176554147,-0.07410215082912165,0.51435610575508,1.1681986130708595,-1.054865911802791,-1.316402914729103,1.5605041174603274],\"y\":[0.5400689944747815,1.051368585908097,0.9235436880497682,1.051368585908097,2.201792666633057,0.9874561369789325,2.329617564491386,0.7318063412622748,2.329617564491386,1.6265806262705769,2.1378802177038922,1.6265806262705769,1.81831797305807,0.22050674982895935,0.7318063412622748,1.1152810348372615,0.9235436880497682,-0.866004881966836,-0.6742675351793426,-0.738179984108507,0.3483316476872883,1.2431059326955902,0.5400689944747815,-0.6103550862501783,0.8596312391206037,1.4348432794830837,2.073967768774728,-0.09905549481686271,-0.3547052905335206,2.4574424623497144],\"type\":\"scatter\"}]},{\"data\":[{\"mode\":\"lines\",\"x\":[-0.40102340448701146,0.12205060136561222,-0.008717900097543696,0.12205060136561222,1.2989671145340156,0.05666635063403426,1.4297356159971715,-0.20487065229227758,1.4297356159971715,0.7105088579498139,1.2335828638024375,0.7105088579498139,0.9066616101445477,-0.7279446581449013,-0.20487065229227758,0.18743485209719019,-0.008717900097543696,-1.8394769205817265,-1.6433241683869926,-1.7087084191185706,-0.5971761566817453,0.31820335356034607,-0.40102340448701146,-1.5779399176554147,-0.07410215082912165,0.51435610575508,1.1681986130708595,-1.054865911802791,-1.316402914729103,1.5605041174603274],\"y\":[0.531988540329893,1.0416704804577546,0.9142499954257892,1.0416704804577546,2.1884548457454436,0.9779602379417719,2.3158753307774087,0.7231192678778411,2.3158753307774087,1.615062663101599,2.124744603229461,1.615062663101599,1.806193390649547,0.21343732774997937,0.7231192678778411,1.1053807229737374,0.9142499954257892,-0.8696367950217266,-0.6785060674737785,-0.7422163099897613,0.3408578127819448,1.2328012080057027,0.531988540329893,-0.6147958249577957,0.8505397529098064,1.4239319355536508,2.061034360713478,-0.10511388482993411,-0.35995485489386503,2.4432958158093743],\"type\":\"scatter\"}]},{\"data\":[{\"mode\":\"lines\",\"x\":[-0.40102340448701146,0.12205060136561222,-0.008717900097543696,0.12205060136561222,1.2989671145340156,0.05666635063403426,1.4297356159971715,-0.20487065229227758,1.4297356159971715,0.7105088579498139,1.2335828638024375,0.7105088579498139,0.9066616101445477,-0.7279446581449013,-0.20487065229227758,0.18743485209719019,-0.008717900097543696,-1.8394769205817265,-1.6433241683869926,-1.7087084191185706,-0.5971761566817453,0.31820335356034607,-0.40102340448701146,-1.5779399176554147,-0.07410215082912165,0.51435610575508,1.1681986130708595,-1.054865911802791,-1.316402914729103,1.5605041174603274],\"y\":[0.5239893041262311,1.0320692302445917,0.9050492487150016,1.0320692302445917,2.1752490640109032,0.9685592394797967,2.302269045540493,0.7145192764206164,2.302269045540493,1.6036591471277475,2.111739073246108,1.6036591471277475,1.7941891194221327,0.2064393503022558,0.7145192764206164,1.0955792210093869,0.9050492487150016,-0.8732304926992603,-0.6827005204048752,-0.7462105111696703,0.33345933183184606,1.222599202538977,0.5239893041262311,-0.61919052964008,0.8415392579502066,1.413129174833362,2.048229082481313,-0.11111060352171942,-0.36515056658089995,2.4292890270700833],\"type\":\"scatter\"}]},{\"data\":[{\"mode\":\"lines\",\"x\":[-0.40102340448701146,0.12205060136561222,-0.008717900097543696,0.12205060136561222,1.2989671145340156,0.05666635063403426,1.4297356159971715,-0.20487065229227758,1.4297356159971715,0.7105088579498139,1.2335828638024375,0.7105088579498139,0.9066616101445477,-0.7279446581449013,-0.20487065229227758,0.18743485209719019,-0.008717900097543696,-1.8394769205817265,-1.6433241683869926,-1.7087084191185706,-0.5971761566817453,0.31820335356034607,-0.40102340448701146,-1.5779399176554147,-0.07410215082912165,0.51435610575508,1.1681986130708595,-1.054865911802791,-1.316402914729103,1.5605041174603274],\"y\":[0.5160704696881864,1.022563867932471,0.8959405183713998,1.022563867932471,2.1621740139821117,0.9592521931519353,2.288797363543183,0.7060054940297931,2.288797363543183,1.5923689409572912,2.0988623392015757,1.5923689409572912,1.782303965298898,0.19951209578550844,0.7060054940297931,1.0858755427130065,0.8959405183713998,-0.8767863754835965,-0.6868513511419896,-0.7501630259225254,0.3261354453465797,1.2124988922740778,0.5160704696881864,-0.6235396763614542,0.8326288435908642,1.4024339166156845,2.03555066442104,-0.1170462781171695,-0.370292977239312,2.415420713104254],\"type\":\"scatter\"}]},{\"data\":[{\"mode\":\"lines\",\"x\":[-0.40102340448701146,0.12205060136561222,-0.008717900097543696,0.12205060136561222,1.2989671145340156,0.05666635063403426,1.4297356159971715,-0.20487065229227758,1.4297356159971715,0.7105088579498139,1.2335828638024375,0.7105088579498139,0.9066616101445477,-0.7279446581449013,-0.20487065229227758,0.18743485209719019,-0.008717900097543696,-1.8394769205817265,-1.6433241683869926,-1.7087084191185706,-0.5971761566817453,0.31820335356034607,-0.40102340448701146,-1.5779399176554147,-0.07410215082912165,0.51435610575508,1.1681986130708595,-1.054865911802791,-1.316402914729103,1.5605041174603274],\"y\":[0.5082312290405342,1.013153435846859,0.8869228841452778,1.013153435846859,2.14922840116109,0.9500381599960683,2.275458952862671,0.697577056592906,2.275458952862671,1.5811909185039745,2.086113125310299,1.5811909185039745,1.7705367460563461,0.1926548497865811,0.697577056592906,1.0762687116976495,0.8869228841452778,-0.8803048396768591,-0.6909590121244871,-0.754074287975278,0.31888540148816236,1.2024992633992309,0.5082312290405342,-0.6278437362736966,0.8238076082944872,1.3918450909516027,2.0229978494595082,-0.12292152946737178,-0.3753826328705343,2.4016895045642523],\"type\":\"scatter\"}]},{\"data\":[{\"mode\":\"lines\",\"x\":[-0.40102340448701146,0.12205060136561222,-0.008717900097543696,0.12205060136561222,1.2989671145340156,0.05666635063403426,1.4297356159971715,-0.20487065229227758,1.4297356159971715,0.7105088579498139,1.2335828638024375,0.7105088579498139,0.9066616101445477,-0.7279446581449013,-0.20487065229227758,0.18743485209719019,-0.008717900097543696,-1.8394769205817265,-1.6433241683869926,-1.7087084191185706,-0.5971761566817453,0.31820335356034607,-0.40102340448701146,-1.5779399176554147,-0.07410215082912165,0.51435610575508,1.1681986130708595,-1.054865911802791,-1.316402914729103,1.5605041174603274],\"y\":[0.5004707823260593,1.0038369858783245,0.8779954349902583,1.0038369858783245,2.1364109438709216,0.9409162104342914,2.2622524947589877,0.6892331086581588,2.2622524947589877,1.570123964874623,2.073490168426888,1.570123964874623,1.7588862912067225,0.18586690510589354,0.6892331086581588,1.0667577613223578,0.8779954349902583,-0.8837862774426699,-0.6950239511105705,-0.7579447265546038,0.3117084559939599,1.1925993122104241,0.5004707823260593,-0.6321031756665374,0.8150746595462252,1.3813616385425234,2.010569392982855,-0.12873697211427215,-0.3804200738904049,2.388094045647054],\"type\":\"scatter\"}]},{\"data\":[{\"mode\":\"lines\",\"x\":[-0.40102340448701146,0.12205060136561222,-0.008717900097543696,0.12205060136561222,1.2989671145340156,0.05666635063403426,1.4297356159971715,-0.20487065229227758,1.4297356159971715,0.7105088579498139,1.2335828638024375,0.7105088579498139,0.9066616101445477,-0.7279446581449013,-0.20487065229227758,0.18743485209719019,-0.008717900097543696,-1.8394769205817265,-1.6433241683869926,-1.7087084191185706,-0.5971761566817453,0.31820335356034607,-0.40102340448701146,-1.5779399176554147,-0.07410215082912165,0.51435610575508,1.1681986130708595,-1.054865911802791,-1.316402914729103,1.5605041174603274],\"y\":[0.4927883377240053,0.9946135793870002,0.8691572689712515,0.9946135793870002,2.123720373128739,0.9318854241791259,2.249176683544488,0.6809728033476284,2.249176683544488,1.5591669762578695,2.060992217920864,1.5591669762578695,1.7473514418814926,0.17914756168463342,0.6809728033476284,1.0573417345948746,0.8691572689712515,-0.8872310768492306,-0.6990466112256075,-0.761774766433482,0.3046038721003822,1.1827980450106232,0.4927883377240053,-0.6363184560177333,0.8064291137633771,1.3709825106342464,1.99826406271299,-0.13449321435473838,-0.38540583518623595,2.3746329939602364],\"type\":\"scatter\"}]},{\"data\":[{\"mode\":\"lines\",\"x\":[-0.40102340448701146,0.12205060136561222,-0.008717900097543696,0.12205060136561222,1.2989671145340156,0.05666635063403426,1.4297356159971715,-0.20487065229227758,1.4297356159971715,0.7105088579498139,1.2335828638024375,0.7105088579498139,0.9066616101445477,-0.7279446581449013,-0.20487065229227758,0.18743485209719019,-0.008717900097543696,-1.8394769205817265,-1.6433241683869926,-1.7087084191185706,-0.5971761566817453,0.31820335356034607,-0.40102340448701146,-1.5779399176554147,-0.07410215082912165,0.51435610575508,1.1681986130708595,-1.054865911802791,-1.316402914729103,1.5605041174603274],\"y\":[0.48518311136934344,0.9854822871079977,0.8604074931733341,0.9854822871079977,2.1111554325199697,0.9229448901406659,2.236230226454633,0.6727953022713388,2.236230226454633,1.5483188598139837,2.048618035552638,1.5483188598139837,1.7359310507159789,0.17249612653268453,0.6727953022713388,1.0480196840753295,0.8604074931733341,-0.8906396219119556,-0.7030274310099601,-0.7655648279772921,0.29757092046734823,1.173094478009993,0.48518311136934344,-0.6404900340426284,0.7978700962060024,1.3607066689119882,1.9860806385853058,-0.14019085830397426,-0.39034044617330144,2.3613050203892967],\"type\":\"scatter\"}]},{\"data\":[{\"mode\":\"lines\",\"x\":[-0.40102340448701146,0.12205060136561222,-0.008717900097543696,0.12205060136561222,1.2989671145340156,0.05666635063403426,1.4297356159971715,-0.20487065229227758,1.4297356159971715,0.7105088579498139,1.2335828638024375,0.7105088579498139,0.9066616101445477,-0.7279446581449013,-0.20487065229227758,0.18743485209719019,-0.008717900097543696,-1.8394769205817265,-1.6433241683869926,-1.7087084191185706,-0.5971761566817453,0.31820335356034607,-0.40102340448701146,-1.5779399176554147,-0.07410215082912165,0.51435610575508,1.1681986130708595,-1.054865911802791,-1.316402914729103,1.5605041174603274],\"y\":[0.4776543272728534,0.9764421890577688,0.85174522361154,0.9764421890577688,2.098714878073829,0.9140937063346544,2.2234118435200574,0.6646997754421967,2.2234118435200574,1.5375785335657988,2.036366395350714,1.5375785335657988,1.7246239817351419,0.1659119136572812,0.6646997754421967,1.0387906717808832,0.85174522361154,-0.894012292635664,-0.7069668444663206,-0.7693153271894351,0.2906088791035102,1.1634876372271121,0.4776543272728534,-0.6446183617432064,0.7893967408884256,1.3505330853964554,1.9740179126275996,-0.1458304999582909,-0.39522443085074865,2.3481088089662863],\"type\":\"scatter\"}]},{\"data\":[{\"mode\":\"lines\",\"x\":[-0.40102340448701146,0.12205060136561222,-0.008717900097543696,0.12205060136561222,1.2989671145340156,0.05666635063403426,1.4297356159971715,-0.20487065229227758,1.4297356159971715,0.7105088579498139,1.2335828638024375,0.7105088579498139,0.9066616101445477,-0.7279446581449013,-0.20487065229227758,0.18743485209719019,-0.008717900097543696,-1.8394769205817265,-1.6433241683869926,-1.7087084191185706,-0.5971761566817453,0.31820335356034607,-0.40102340448701146,-1.5779399176554147,-0.07410215082912165,0.51435610575508,1.1681986130708595,-1.054865911802791,-1.316402914729103,1.5605041174603274],\"y\":[0.4702012172420053,0.9674923744414015,0.8431695851415524,0.9674923744414015,2.086397478140043,0.9053309797914769,2.210720267439892,0.6566854011917789,2.210720267439892,1.5269449262907222,2.024236083490118,1.5269449262907222,1.7134291102404955,0.15939424399238267,0.6566854011917789,1.0296537690913259,0.8431695851415524,-0.8973494650563341,-0.7108652811065606,-0.773026675756485,0.28371703329223175,1.153976558391175,0.4702012172420053,-0.6487038864566361,0.7810081904916278,1.3404607423409485,1.9620746888401936,-0.1514127292572398,-0.40005830785693797,2.3350430567397407],\"type\":\"scatter\"}]},{\"data\":[{\"mode\":\"lines\",\"x\":[-0.40102340448701146,0.12205060136561222,-0.008717900097543696,0.12205060136561222,1.2989671145340156,0.05666635063403426,1.4297356159971715,-0.20487065229227758,1.4297356159971715,0.7105088579498139,1.2335828638024375,0.7105088579498139,0.9066616101445477,-0.7279446581449013,-0.20487065229227758,0.18743485209719019,-0.008717900097543696,-1.8394769205817265,-1.6433241683869926,-1.7087084191185706,-0.5971761566817453,0.31820335356034607,-0.40102340448701146,-1.5779399176554147,-0.07410215082912165,0.51435610575508,1.1681986130708595,-1.054865911802791,-1.316402914729103,1.5605041174603274],\"y\":[0.4628230208026375,0.9586319415608411,0.8346797113712902,0.9586319415608411,2.074202013266799,0.8966558264660656,2.19815424345635,0.6487513660869638,2.19815424345635,1.51641697741382,2.012225898172024,1.51641697741382,1.7023453226981464,0.15294244532876022,0.6487513660869638,1.0206080566556166,0.8346797113712902,-0.9006515112824223,-0.7147231659980959,-0.7766992810928715,0.27689467551831126,1.1445602868451674,0.4628230208026375,-0.6527470509033206,0.7727035962765147,1.3304886321294938,1.950249783077248,-0.15693813014511693,-0.4048425905242188,2.322106473645901],\"type\":\"scatter\"}]},{\"data\":[{\"mode\":\"lines\",\"x\":[-0.40102340448701146,0.12205060136561222,-0.008717900097543696,0.12205060136561222,1.2989671145340156,0.05666635063403426,1.4297356159971715,-0.20487065229227758,1.4297356159971715,0.7105088579498139,1.2335828638024375,0.7105088579498139,0.9066616101445477,-0.7279446581449013,-0.20487065229227758,0.18743485209719019,-0.008717900097543696,-1.8394769205817265,-1.6433241683869926,-1.7087084191185706,-0.5971761566817453,0.31820335356034607,-0.40102340448701146,-1.5779399176554147,-0.07410215082912165,0.51435610575508,1.1681986130708595,-1.054865911802791,-1.316402914729103,1.5605041174603274],\"y\":[0.4555189851214206,0.9498599977240297,0.8262747445733775,0.9498599977240297,2.0621272760799005,0.8880673711487036,2.185712529230553,0.640896864847399,2.185712529230553,1.505993636901965,2.000334649504574,1.505993636901965,1.6913715166279435,0.14655585224478984,0.640896864847399,1.011652624299356,0.8262747445733775,-0.9039187995357546,-0.7185409198097762,-0.7803335463851023,0.2701411053954422,1.1352378774500083,0.4555189851214206,-0.65674829323445,0.7644821179980513,1.3206157571759867,1.9385420229292483,-0.16240728063184084,-0.4095777869331455,2.309297782381205],\"type\":\"scatter\"}]},{\"data\":[{\"mode\":\"lines\",\"x\":[-0.40102340448701146,0.12205060136561222,-0.008717900097543696,0.12205060136561222,1.2989671145340156,0.05666635063403426,1.4297356159971715,-0.20487065229227758,1.4297356159971715,0.7105088579498139,1.2335828638024375,0.7105088579498139,0.9066616101445477,-0.7279446581449013,-0.20487065229227758,0.18743485209719019,-0.008717900097543696,-1.8394769205817265,-1.6433241683869926,-1.7087084191185706,-0.5971761566817453,0.31820335356034607,-0.40102340448701146,-1.5779399176554147,-0.07410215082912165,0.51435610575508,1.1681986130708595,-1.054865911802791,-1.316402914729103,1.5605041174603274],\"y\":[0.44828836492910007,0.9411756591549523,0.8179538355984892,0.9411756591549523,2.0501720711631197,0.8795647473767207,2.1733938947195828,0.6331211002637946,2.1733938947195828,1.495673865159036,1.9885611593848882,1.495673865159036,1.6805066004937306,0.14023380603794244,0.6331211002637946,1.0027865709331838,0.8179538355984892,-0.9071516941919935,-0.7223189588572987,-0.7839298706355304,0.2634556295944056,1.1260083944896468,0.44828836492910007,-0.6607080470790674,0.7563429238202577,1.3108411298243414,1.9269502476066567,-0.16782075285321507,-0.4142643999661413,2.296615718276046],\"type\":\"scatter\"}]},{\"data\":[{\"mode\":\"lines\",\"x\":[-0.40102340448701146,0.12205060136561222,-0.008717900097543696,0.12205060136561222,1.2989671145340156,0.05666635063403426,1.4297356159971715,-0.20487065229227758,1.4297356159971715,0.7105088579498139,1.2335828638024375,0.7105088579498139,0.9066616101445477,-0.7279446581449013,-0.20487065229227758,0.18743485209719019,-0.008717900097543696,-1.8394769205817265,-1.6433241683869926,-1.7087084191185706,-0.5971761566817453,0.31820335356034607,-0.40102340448701146,-1.5779399176554147,-0.07410215082912165,0.51435610575508,1.1681986130708595,-1.054865911802791,-1.316402914729103,1.5605041174603274],\"y\":[0.4411304224445102,0.9325780509045807,0.809716143789563,0.9325780509045807,2.0383352149397393,0.8711470973470719,2.161197122054757,0.6254232831170367,2.161197122054757,1.4854566329221601,1.9769042613822307,1.4854566329221601,1.6697494935946864,0.13397565465696604,0.6254232831170367,0.9940090044620895,0.809716143789563,-0.9103505558206838,-0.7260576951481573,-0.7874886487056661,0.2568375617719838,1.1168709115771072,0.4411304224445102,-0.6646267415906485,0.7482851902320542,1.3011637722496334,1.9154733078247217,-0.17317911313057788,-0.4189029273606134,2.2840590291697747],\"type\":\"scatter\"}]},{\"data\":[{\"mode\":\"lines\",\"x\":[-0.40102340448701146,0.12205060136561222,-0.008717900097543696,0.12205060136561222,1.2989671145340156,0.05666635063403426,1.4297356159971715,-0.20487065229227758,1.4297356159971715,0.7105088579498139,1.2335828638024375,0.7105088579498139,0.9066616101445477,-0.7279446581449013,-0.20487065229227758,0.18743485209719019,-0.008717900097543696,-1.8394769205817265,-1.6433241683869926,-1.7087084191185706,-0.5971761566817453,0.31820335356034607,-0.40102340448701146,-1.5779399176554147,-0.07410215082912165,0.51435610575508,1.1681986130708595,-1.054865911802791,-1.316402914729103,1.5605041174603274],\"y\":[0.4340444272993507,0.9240663067627087,0.8015608368968693,0.9240663067627087,2.0266155355552646,0.862813571829789,2.149121005421104,0.61780263209811,2.149121005421104,1.4753409211589865,1.9653628006223447,1.4753409211589865,1.659099125957746,0.12778075263475186,0.61780263209811,0.9853190416956286,0.8015608368968693,-0.913515741224884,-0.7297575364261246,-0.7910102713590443,0.2502862225005915,1.107824511561468,0.4340444272993507,-0.6685048014932049,0.7403081019639495,1.2915827163602274,1.9041100656894248,-0.17848292202984684,-0.42349386176152604,2.2716264752869435],\"type\":\"scatter\"}]},{\"data\":[{\"mode\":\"lines\",\"x\":[-0.40102340448701146,0.12205060136561222,-0.008717900097543696,0.12205060136561222,1.2989671145340156,0.05666635063403426,1.4297356159971715,-0.20487065229227758,1.4297356159971715,0.7105088579498139,1.2335828638024375,0.7105088579498139,0.9066616101445477,-0.7279446581449013,-0.20487065229227758,0.18743485209719019,-0.008717900097543696,-1.8394769205817265,-1.6433241683869926,-1.7087084191185706,-0.5971761566817453,0.31820335356034607,-0.40102340448701146,-1.5779399176554147,-0.07410215082912165,0.51435610575508,1.1681986130708595,-1.054865911802791,-1.316402914729103,1.5605041174603274],\"y\":[0.4270296564637199,0.915639569170667,0.7934870909939302,0.915639569170667,2.0150118727612982,0.8545633300822986,2.137164350938035,0.6102583737288251,2.137164350938035,1.4653257209659825,1.9539356336729297,1.4653257209659825,1.6485544382310877,0.12164846102187787,0.6102583737288251,0.9767158082590354,0.7934870909939302,-0.9166476034803847,-0.7334188862152796,-0.794495125303648,0.24380093919861467,1.0988682864357722,0.4270296564637199,-0.6723426471269113,0.7324108519055619,1.2820970037008774,1.892859394584561,-0.18373273441996407,-0.4280376907734377,2.2593168291147716],\"type\":\"scatter\"}]},{\"data\":[{\"mode\":\"lines\",\"x\":[-0.40102340448701146,0.12205060136561222,-0.008717900097543696,0.12205060136561222,1.2989671145340156,0.05666635063403426,1.4297356159971715,-0.20487065229227758,1.4297356159971715,0.7105088579498139,1.2335828638024375,0.7105088579498139,0.9066616101445477,-0.7279446581449013,-0.20487065229227758,0.18743485209719019,-0.008717900097543696,-1.8394769205817265,-1.6433241683869926,-1.7087084191185706,-0.5971761566817453,0.31820335356034607,-0.40102340448701146,-1.5779399176554147,-0.07410215082912165,0.51435610575508,1.1681986130708595,-1.054865911802791,-1.316402914729103,1.5605041174603274],\"y\":[0.42008539417239404,0.907296989134909,0.7854940903942803,0.907296989134909,2.0035230778005677,0.8463955397645946,2.1253259765411965,0.6027897422833371,2.1253259765411965,1.4554100334677385,1.9426216284302533,1.4554100334677385,1.6381143815786814,0.11557814732082217,0.6027897422833371,0.9681984385052234,0.7854940903942803,-0.919746491974522,-0.7370421438635788,-0.7979435932338932,0.23738104606145105,1.0900013372458521,0.42008539417239404,-0.6761406944932646,0.7245926410239659,1.272705685356795,1.8817201790599387,-0.18892909953074954,-0.4325348970120071,2.247128875281825],\"type\":\"scatter\"}]},{\"data\":[{\"mode\":\"lines\",\"x\":[-0.40102340448701146,0.12205060136561222,-0.008717900097543696,0.12205060136561222,1.2989671145340156,0.05666635063403426,1.4297356159971715,-0.20487065229227758,1.4297356159971715,0.7105088579498139,1.2335828638024375,0.7105088579498139,0.9066616101445477,-0.7279446581449013,-0.20487065229227758,0.18743485209719019,-0.008717900097543696,-1.8394769205817265,-1.6433241683869926,-1.7087084191185706,-0.5971761566817453,0.31820335356034607,-0.40102340448701146,-1.5779399176554147,-0.07410215082912165,0.51435610575508,1.1681986130708595,-1.054865911802791,-1.316402914729103,1.5605041174603274],\"y\":[0.41321093185184965,0.8990377261414618,0.7775810275690588,0.8990377261414618,1.9921480132930895,0.8383093768552603,2.1136047118654924,0.5953959797104542,2.1136047118654924,1.4455928697172755,1.9314196640068877,1.4455928697172755,1.6277779175758802,0.10956918542084204,0.5953959797104542,0.9597660754276633,0.7775810275690588,-0.9228127524445838,-0.7406277045859792,-0.8013560538721808,0.23102588399324508,1.0812227740000664,0.41321093185184965,-0.6798993552997777,0.7168526782828573,1.2634078218586708,1.8706913147206863,-0.19407256101016557,-0.4369859581549719,2.2350614104378956],\"type\":\"scatter\"}]},{\"data\":[{\"mode\":\"lines\",\"x\":[-0.40102340448701146,0.12205060136561222,-0.008717900097543696,0.12205060136561222,1.2989671145340156,0.05666635063403426,1.4297356159971715,-0.20487065229227758,1.4297356159971715,0.7105088579498139,1.2335828638024375,0.7105088579498139,0.9066616101445477,-0.7279446581449013,-0.20487065229227758,0.18743485209719019,-0.008717900097543696,-1.8394769205817265,-1.6433241683869926,-1.7087084191185706,-0.5971761566817453,0.31820335356034607,-0.40102340448701146,-1.5779399176554147,-0.07410215082912165,0.51435610575508,1.1681986130708595,-1.054865911802791,-1.316402914729103,1.5605041174603274],\"y\":[0.4064055680480159,0.8908609480712301,0.7697471030654266,0.8908609480712301,1.9808855531234622,0.8303040255683283,2.1019993981292657,0.5880763355567212,2.1019993981292657,1.435873250597346,1.9203286306205603,1.435873250597346,1.6175440181060514,0.10362095553350703,0.5880763355567212,0.9514178705741319,0.7697471030654266,-0.925846727015823,-0.7441759595071176,-0.8047328820100195,0.22473480053931072,1.0725317155799354,0.4064055680480159,-0.6836190370042159,0.7091901805625248,1.2542024830886407,1.8597717081176584,-0.1991636569810017,-0.44139134699260896,2.223113243135069],\"type\":\"scatter\"}]},{\"data\":[{\"mode\":\"lines\",\"x\":[-0.40102340448701146,0.12205060136561222,-0.008717900097543696,0.12205060136561222,1.2989671145340156,0.05666635063403426,1.4297356159971715,-0.20487065229227758,1.4297356159971715,0.7105088579498139,1.2335828638024375,0.7105088579498139,0.9066616101445477,-0.7279446581449013,-0.20487065229227758,0.18743485209719019,-0.008717900097543696,-1.8394769205817265,-1.6433241683869926,-1.7087084191185706,-0.5971761566817453,0.31820335356034607,-0.40102340448701146,-1.5779399176554147,-0.07410215082912165,0.51435610575508,1.1681986130708595,-1.054865911802791,-1.316402914729103,1.5605041174603274],\"y\":[0.3996686083547553,0.8827658311161466,0.7619915254257988,0.8827658311161466,1.9697345823292773,0.8223786782709728,2.090508888019625,0.580830066890277,2.090508888019625,1.4262502067227119,1.9093474294841033,1.4262502067227119,1.6074116652582338,0.09773284412888572,0.580830066890277,0.9431529839613206,0.7619915254257988,-0.9288487542390709,-0.747687295703549,-0.808074448548723,0.21850714981923358,1.0639272896516685,0.3996686083547553,-0.6873001428583754,0.7016043725806249,1.2450887481871902,1.8489602766389293,-0.20420292009698382,-0.44575153147767965,2.211283193709973],\"type\":\"scatter\"}]},{\"data\":[{\"mode\":\"lines\",\"x\":[-0.40102340448701146,0.12205060136561222,-0.008717900097543696,0.12205060136561222,1.2989671145340156,0.05666635063403426,1.4297356159971715,-0.20487065229227758,1.4297356159971715,0.7105088579498139,1.2335828638024375,0.7105088579498139,0.9066616101445477,-0.7279446581449013,-0.20487065229227758,0.18743485209719019,-0.008717900097543696,-1.8394769205817265,-1.6433241683869926,-1.7087084191185706,-0.5971761566817453,0.31820335356034607,-0.40102340448701146,-1.5779399176554147,-0.07410215082912165,0.51435610575508,1.1681986130708595,-1.054865911802791,-1.316402914729103,1.5605041174603274],\"y\":[0.39299936534306085,0.8747515596961604,0.7543135111078855,0.8747515596961604,1.9586939969906343,0.8145325354020229,2.079132045578909,0.5736564382254732,2.079132045578909,1.4167227783433973,1.898474972696497,1.4167227783433973,1.5973798512258095,0.09190424387237361,0.5736564382254732,0.9349705839902978,0.7543135111078855,-0.9318191691279627,-0.7511620962455503,-0.8113811205396879,0.21234229246064862,1.0554086325785725,0.39299936534306085,-0.6909430719514131,0.6940944868137481,1.236065705460985,1.8382559484023593,-0.20919087759831345,-0.45006697477486335,2.199570094167184],\"type\":\"scatter\"}]},{\"data\":[{\"mode\":\"lines\",\"x\":[-0.40102340448701146,0.12205060136561222,-0.008717900097543696,0.12205060136561222,1.2989671145340156,0.05666635063403426,1.4297356159971715,-0.20487065229227758,1.4297356159971715,0.7105088579498139,1.2335828638024375,0.7105088579498139,0.9066616101445477,-0.7279446581449013,-0.20487065229227758,0.18743485209719019,-0.008717900097543696,-1.8394769205817265,-1.6433241683869926,-1.7087084191185706,-0.5971761566817453,0.31820335356034607,-0.40102340448701146,-1.5779399176554147,-0.07410215082912165,0.51435610575508,1.1681986130708595,-1.054865911802791,-1.316402914729103,1.5605041174603274],\"y\":[0.3863971584909654,0.8668173263770532,0.7467122844055313,0.8668173263770532,1.9477627041207506,0.8067648053912923,2.0678677460922725,0.5665547214482484,2.0678677460922725,1.4072900152489018,1.8877101831349896,1.4072900152489018,1.5874475782061848,0.08613455356216049,0.5665547214482484,0.9268698473628142,0.7467122844055313,-0.9347583031957759,-0.754600740238493,-0.814653261224254,0.20623959553368254,1.046974889334336,0.3863971584909654,-0.694548219252732,0.6866597634197703,1.227132452291619,1.8276576621492286,-0.21412805136664426,-0.45433813530968836,2.1879727880637945],\"type\":\"scatter\"}]},{\"data\":[{\"mode\":\"lines\",\"x\":[-0.40102340448701146,0.12205060136561222,-0.008717900097543696,0.12205060136561222,1.2989671145340156,0.05666635063403426,1.4297356159971715,-0.20487065229227758,1.4297356159971715,0.7105088579498139,1.2335828638024375,0.7105088579498139,0.9066616101445477,-0.7279446581449013,-0.20487065229227758,0.18743485209719019,-0.008717900097543696,-1.8394769205817265,-1.6433241683869926,-1.7087084191185706,-0.5971761566817453,0.31820335356034607,-0.40102340448701146,-1.5779399176554147,-0.07410215082912165,0.51435610575508,1.1681986130708595,-1.054865911802791,-1.316402914729103,1.5605041174603274],\"y\":[0.3798613141141548,0.8589623317890787,0.7391870773703477,0.8589623317890787,1.936939621557657,0.7990747045797132,2.0567148759763882,0.5595241957422512,2.0567148759763882,1.397950976673368,1.877051994348292,1.397950976673368,1.5776138583014643,0.08042317806732735,0.5595241957422512,0.9188499589984441,0.7391870773703477,-0.9376664844918857,-0.7580036028637892,-0.8178912300731548,0.2001984324860584,1.038625213417175,0.3798613141141548,-0.6981159756544238,0.6792994501609821,1.2182880950452715,1.8171643671389264,-0.21901495797949988,-0.458565466816962,2.176490130395119],\"type\":\"scatter\"}]},{\"data\":[{\"mode\":\"lines\",\"x\":[-0.40102340448701146,0.12205060136561222,-0.008717900097543696,0.12205060136561222,1.2989671145340156,0.05666635063403426,1.4297356159971715,-0.20487065229227758,1.4297356159971715,0.7105088579498139,1.2335828638024375,0.7105088579498139,0.9066616101445477,-0.7279446581449013,-0.20487065229227758,0.18743485209719019,-0.008717900097543696,-1.8394769205817265,-1.6433241683869926,-1.7087084191185706,-0.5971761566817453,0.31820335356034607,-0.40102340448701146,-1.5779399176554147,-0.07410215082912165,0.51435610575508,1.1681986130708595,-1.054865911802791,-1.316402914729103,1.5605041174603274],\"y\":[0.37339116529727734,0.8511857845464118,0.7317371297341282,0.8511857845464118,1.9262236778569646,0.79146145714027,2.045672332669248,0.5525641475157028,2.045672332669248,1.3887047312016882,1.8664993504508227,1.3887047312016882,1.5678777134201134,0.07476952826656835,0.5525641475157028,0.9109101119525537,0.7317371297341282,-0.9405440376378423,-0.761371055419417,-0.8210953828255588,0.19421818307885197,1.0303587667648373,0.37339116529727734,-0.7016467280132751,0.6720128023279864,1.2095317489832627,1.8067750230446809,-0.22385210876414063,-0.4627494183887081,2.1651209874815316],\"type\":\"scatter\"}]},{\"data\":[{\"mode\":\"lines\",\"x\":[-0.40102340448701146,0.12205060136561222,-0.008717900097543696,0.12205060136561222,1.2989671145340156,0.05666635063403426,1.4297356159971715,-0.20487065229227758,1.4297356159971715,0.7105088579498139,1.2335828638024375,0.7105088579498139,0.9066616101445477,-0.7279446581449013,-0.20487065229227758,0.18743485209719019,-0.008717900097543696,-1.8394769205817265,-1.6433241683869926,-1.7087084191185706,-0.5971761566817453,0.31820335356034607,-0.40102340448701146,-1.5779399176554147,-0.07410215082912165,0.51435610575508,1.1681986130708595,-1.054865911802791,-1.316402914729103,1.5605041174603274],\"y\":[0.36698605182594407,0.8434869011674052,0.7243616888320399,0.8434869011674052,1.915613812185693,0.7839242949997225,2.034739024521058,0.5456738703289921,2.034739024521058,1.3795503566765488,1.85605120601801,1.3795503566765488,1.5582381751795968,0.06917302098753086,0.5456738703289921,0.9030495073350878,0.7243616888320399,-0.9433912838630739,-0.7647034653600259,-0.8242660715277087,0.1882982333228962,1.0221747196704531,0.36698605182594407,-0.7051408591923433,0.6647990826643573,1.200862538173501,1.7964885998503273,-0.22864000985088218,-0.46689043452161283,2.1538642368564234],\"type\":\"scatter\"}]},{\"data\":[{\"mode\":\"lines\",\"x\":[-0.40102340448701146,0.12205060136561222,-0.008717900097543696,0.12205060136561222,1.2989671145340156,0.05666635063403426,1.4297356159971715,-0.20487065229227758,1.4297356159971715,0.7105088579498139,1.2335828638024375,0.7105088579498139,0.9066616101445477,-0.7279446581449013,-0.20487065229227758,0.18743485209719019,-0.008717900097543696,-1.8394769205817265,-1.6433241683869926,-1.7087084191185706,-0.5971761566817453,0.31820335356034607,-0.40102340448701146,-1.5779399176554147,-0.07410215082912165,0.51435610575508,1.1681986130708595,-1.054865911802791,-1.316402914729103,1.5605041174603274],\"y\":[0.36064532011941175,0.8358649059956402,0.7170600095265831,0.8358649059956402,1.9051089742171547,0.7764624577611117,2.023913870686212,0.5388526648229974,2.023913870686212,1.3704869401063975,1.8457065259826262,1.3704869401063975,1.548694284809983,0.06363307894676884,0.5388526648229974,0.8952673542301689,0.7170600095265831,-0.9462085410402167,-0.768001196336631,-0.8274036445711596,0.18243797541582607,1.014072250699226,0.36064532011941175,-0.7085987481021024,0.6576575612920545,1.1922795954028116,1.7863040777480972,-0.23337916222587385,-0.4709889551639882,2.142718767155269],\"type\":\"scatter\"}]},{\"data\":[{\"mode\":\"lines\",\"x\":[-0.40102340448701146,0.12205060136561222,-0.008717900097543696,0.12205060136561222,1.2989671145340156,0.05666635063403426,1.4297356159971715,-0.20487065229227758,1.4297356159971715,0.7105088579498139,1.2335828638024375,0.7105088579498139,0.9066616101445477,-0.7279446581449013,-0.20487065229227758,0.18743485209719019,-0.008717900097543696,-1.8394769205817265,-1.6433241683869926,-1.7087084191185706,-0.5971761566817453,0.31820335356034607,-0.40102340448701146,-1.5779399176554147,-0.07410215082912165,0.51435610575508,1.1681986130708595,-1.054865911802791,-1.316402914729103,1.5605041174603274],\"y\":[0.35436832316394135,0.8283190311217679,0.7098313541323112,0.8283190311217679,1.8947081240268777,0.7690751926270396,2.0131958010163347,0.5320998386481263,2.0131958010163347,1.3615135775743228,1.8354642855321495,1.3615135775743228,1.5392450930585078,0.0581491306902997,0.5320998386481263,0.8875628696164962,0.7098313541323112,-0.9489961237200817,-0.7712646082358967,-0.8305084467306252,0.17663680767975642,1.0060505466059528,0.35436832316394135,-0.7120207697411685,0.650587515637583,1.1837820620901378,1.776220447037421,-0.23807006178334178,-0.47504541576225523,2.131683478005791],\"type\":\"scatter\"}]},{\"data\":[{\"mode\":\"lines\",\"x\":[-0.40102340448701146,0.12205060136561222,-0.008717900097543696,0.12205060136561222,1.2989671145340156,0.05666635063403426,1.4297356159971715,-0.20487065229227758,1.4297356159971715,0.7105088579498139,1.2335828638024375,0.7105088579498139,0.9066616101445477,-0.7279446581449013,-0.20487065229227758,0.18743485209719019,-0.008717900097543696,-1.8394769205817265,-1.6433241683869926,-1.7087084191185706,-0.5971761566817453,0.31820335356034607,-0.40102340448701146,-1.5779399176554147,-0.07410215082912165,0.51435610575508,1.1681986130708595,-1.054865911802791,-1.316402914729103,1.5605041174603274],\"y\":[0.3481544204468271,0.8208485163061295,0.7026749923413039,0.8208485163061295,1.8844102319895601,0.7617617543237167,2.0025837559543858,0.5254147063940655,2.0025837559543858,1.352629374147845,1.8253234700071472,1.352629374147845,1.5298896600950833,0.05272061053476307,0.5254147063940655,0.8799352782885423,0.7026749923413039,-0.9517543431662547,-0.7744940572190162,-0.8335808192014291,0.17089413449958868,0.998108802253368,0.3481544204468271,-0.7154072952366035,0.6435882303588911,1.1753690882006065,1.7662367080247345,-0.24271319937730096,-0.4790602473069523,2.1207572799192116],\"type\":\"scatter\"}]},{\"data\":[{\"mode\":\"lines\",\"x\":[-0.40102340448701146,0.12205060136561222,-0.008717900097543696,0.12205060136561222,1.2989671145340156,0.05666635063403426,1.4297356159971715,-0.20487065229227758,1.4297356159971715,0.7105088579498139,1.2335828638024375,0.7105088579498139,0.9066616101445477,-0.7279446581449013,-0.20487065229227758,0.18743485209719019,-0.008717900097543696,-1.8394769205817265,-1.6433241683869926,-1.7087084191185706,-0.5971761566817453,0.31820335356034607,-0.40102340448701146,-1.5779399176554147,-0.07410215082912165,0.51435610575508,1.1681986130708595,-1.054865911802791,-1.316402914729103,1.5605041174603274],\"y\":[0.3420029778910869,0.813452608902151,0.695590201149385,0.813452608902151,1.8742142786770455,0.754521405025768,1.9920766864298114,0.518796589520236,1.9920766864298114,1.3438334437895982,1.8152830748006623,1.3438334437895982,1.520627055418747,0.04734695850917181,0.518796589520236,0.872383812778534,0.695590201149385,-0.9544835073893394,-0.7776898957601903,-0.8366210996365735,0.16520936626193794,0.9902462205313001,0.3420029778910869,-0.7187586918838074,0.636658997273002,1.1670398321604492,1.7563518709242791,-0.24730906087274318,-0.48303387637827533,2.1099390941825775],\"type\":\"scatter\"}]},{\"data\":[{\"mode\":\"lines\",\"x\":[-0.40102340448701146,0.12205060136561222,-0.008717900097543696,0.12205060136561222,1.2989671145340156,0.05666635063403426,1.4297356159971715,-0.20487065229227758,1.4297356159971715,0.7105088579498139,1.2335828638024375,0.7105088579498139,0.9066616101445477,-0.7279446581449013,-0.20487065229227758,0.18743485209719019,-0.008717900097543696,-1.8394769205817265,-1.6433241683869926,-1.7087084191185706,-0.5971761566817453,0.31820335356034607,-0.40102340448701146,-1.5779399176554147,-0.07410215082912165,0.51435610575508,1.1681986130708595,-1.054865911802791,-1.316402914729103,1.5605041174603274],\"y\":[0.33591336779080977,0.8061305637805019,0.6885762647830789,0.8061305637805019,1.864119254757309,0.7473534142817904,1.9816735537547323,0.5122448162869443,1.9816735537547323,1.3351249092689055,1.8053421052585976,1.3351249092689055,1.5114563577650402,0.042027620297252155,0.5122448162869443,0.8649077132792133,0.6885762647830789,-0.9571839211808435,-0.780852472684709,-0.8396296221834205,0.15958191929467525,0.9824620122766363,0.33591336779080977,-0.7220753231859975,0.6297991152843674,1.1587934607727708,1.746564955759886,-0.2518581271963053,-0.4869667251911516,2.099227852752155],\"type\":\"scatter\"}]},{\"data\":[{\"mode\":\"lines\",\"x\":[-0.40102340448701146,0.12205060136561222,-0.008717900097543696,0.12205060136561222,1.2989671145340156,0.05666635063403426,1.4297356159971715,-0.20487065229227758,1.4297356159971715,0.7105088579498139,1.2335828638024375,0.7105088579498139,0.9066616101445477,-0.7279446581449013,-0.20487065229227758,0.18743485209719019,-0.008717900097543696,-1.8394769205817265,-1.6433241683869926,-1.7087084191185706,-0.5971761566817453,0.31820335356034607,-0.40102340448701146,-1.5779399176554147,-0.07410215082912165,0.51435610575508,1.1681986130708595,-1.054865911802791,-1.316402914729103,1.5605041174603274],\"y\":[0.32988496874715195,0.798881643254012,0.6816324746272969,0.798881643254012,1.8541241608944472,0.7402570589406544,1.9713733295211622,0.5057587216872245,1.9713733295211622,1.3265029020742296,1.7954995765810895,1.3265029020742296,1.5023766550143018,0.036762047180364466,0.5057587216872245,0.8575062275673695,0.6816324746272969,-0.9598558861467129,-0.7839821332066405,-0.8426067175199979,0.15401121580707955,0.9747553961940845,0.32988496874715195,-0.725357548893283,0.6230078903139394,1.150629149134157,1.7368749922677318,-0.25636087438642297,-0.490859211639853,2.088622498147877],\"type\":\"scatter\"}]},{\"data\":[{\"mode\":\"lines\",\"x\":[-0.40102340448701146,0.12205060136561222,-0.008717900097543696,0.12205060136561222,1.2989671145340156,0.05666635063403426,1.4297356159971715,-0.20487065229227758,1.4297356159971715,0.7105088579498139,1.2335828638024375,0.7105088579498139,0.9066616101445477,-0.7279446581449013,-0.20487065229227758,0.18743485209719019,-0.008717900097543696,-1.8394769205817265,-1.6433241683869926,-1.7087084191185706,-0.5971761566817453,0.31820335356034607,-0.40102340448701146,-1.5779399176554147,-0.07410215082912165,0.51435610575508,1.1681986130708595,-1.054865911802791,-1.316402914729103,1.5605041174603274],\"y\":[0.3239171656049764,0.7917051170033383,0.6747581291537479,0.7917051170033383,1.8442280076496527,0.7332316230785431,1.9611749954992432,0.49933764737936215,1.9611749954992432,1.3179665623264953,1.7857545137248576,1.3179665623264953,1.4933870441008812,0.031549695981000214,0.49933764737936215,0.8501786109281335,0.6747581291537479,-0.9624997007405188,-0.787079218966133,-0.8455527128909285,0.14849668383059067,0.9671255987777241,0.3239171656049764,-0.7286057250413379,0.6162846352289526,1.1425460805521097,1.727281019800062,-0.260817773642976,-0.494711749342157,2.078121983348834],\"type\":\"scatter\"}]},{\"data\":[{\"mode\":\"lines\",\"x\":[-0.40102340448701146,0.12205060136561222,-0.008717900097543696,0.12205060136561222,1.2989671145340156,0.05666635063403426,1.4297356159971715,-0.20487065229227758,1.4297356159971715,0.7105088579498139,1.2335828638024375,0.7105088579498139,0.9066616101445477,-0.7279446581449013,-0.20487065229227758,0.18743485209719019,-0.008717900097543696,-1.8394769205817265,-1.6433241683869926,-1.7087084191185706,-0.5971761566817453,0.31820335356034607,-0.40102340448701146,-1.5779399176554147,-0.07410215082912165,0.51435610575508,1.1681986130708595,-1.054865911802791,-1.316402914729103,1.5605041174603274],\"y\":[0.31800934939012804,0.7846002620033741,0.6679525338500626,0.7846002620033741,1.8344298153831775,0.7262763979267183,1.9510775435364893,0.4929809416200953,1.9510775435364893,1.309515038693276,1.7761059513065218,1.309515038693276,1.484486630923243,0.02639002900684928,0.4929809416200953,0.8429241260800298,0.6679525338500626,-0.9651156602962984,-0.7901440680663311,-0.848467932142987,0.14303775716016087,0.9595718542333413,0.31800934939012804,-0.7318202039896754,0.6096286697734068,1.1345434464633086,1.7177820872298661,-0.26522929137642937,-0.49852474768305244,2.0677252716898007],\"type\":\"scatter\"}]},{\"data\":[{\"mode\":\"lines\",\"x\":[-0.40102340448701146,0.12205060136561222,-0.008717900097543696,0.12205060136561222,1.2989671145340156,0.05666635063403426,1.4297356159971715,-0.20487065229227758,1.4297356159971715,0.7105088579498139,1.2335828638024375,0.7105088579498139,0.9066616101445477,-0.7279446581449013,-0.20487065229227758,0.18743485209719019,-0.008717900097543696,-1.8394769205817265,-1.6433241683869926,-1.7087084191185706,-0.5971761566817453,0.31820335356034607,-0.40102340448701146,-1.5779399176554147,-0.07410215082912165,0.51435610575508,1.1681986130708595,-1.054865911802791,-1.316402914729103,1.5605041174603274],\"y\":[0.31216091724733996,0.7775663624503929,0.6612150011496296,0.7775663624503929,1.8247286141572618,0.7193906818000113,1.9410799754580252,0.48668795919848484,1.9410799754580252,1.3011474883038274,1.7665529335068801,1.3011474883038274,1.475674530254972,0.021282513995431906,0.48668795919848484,0.8357420431007745,0.6612150011496296,-0.9677040570610554,-0.7931770151099106,-0.8513526957602923,0.1376338752961952,0.9520934044015377,0.31216091724733996,-0.7350013344595291,0.603039320499248,1.1266204463526825,1.7083772528564984,-0.26959588925647615,-0.5022986118580027,2.057431336758788],\"type\":\"scatter\"}]},{\"data\":[{\"mode\":\"lines\",\"x\":[-0.40102340448701146,0.12205060136561222,-0.008717900097543696,0.12205060136561222,1.2989671145340156,0.05666635063403426,1.4297356159971715,-0.20487065229227758,1.4297356159971715,0.7105088579498139,1.2335828638024375,0.7105088579498139,0.9066616101445477,-0.7279446581449013,-0.20487065229227758,0.18743485209719019,-0.008717900097543696,-1.8394769205817265,-1.6433241683869926,-1.7087084191185706,-0.5971761566817453,0.31820335356034607,-0.40102340448701146,-1.5779399176554147,-0.07410215082912165,0.51435610575508,1.1681986130708595,-1.054865911802791,-1.316402914729103,1.5605041174603274],\"y\":[0.3063712723787623,0.7706027096899206,0.6545448503621311,0.7706027096899206,1.8151234436400268,0.7125737800260259,1.9311813029678166,0.4804580613704467,1.9311813029678166,1.2928630766649738,1.7570945139761323,1.2928630766649738,1.466949865656658,0.01622662405928832,0.4804580613704467,0.8286316393538155,0.6545448503621311,-0.970265180226923,-0.7961783912352386,-0.8542073208991335,0.132284483387078,0.944689498681605,0.3063712723787623,-0.7381494615713439,0.5965159206982363,1.1187762876732894,1.6990655843122373,-0.2739180242601855,-0.5060337429157648,2.047239162295606],\"type\":\"scatter\"}]},{\"data\":[{\"mode\":\"lines\",\"x\":[-0.40102340448701146,0.12205060136561222,-0.008717900097543696,0.12205060136561222,1.2989671145340156,0.05666635063403426,1.4297356159971715,-0.20487065229227758,1.4297356159971715,0.7105088579498139,1.2335828638024375,0.7105088579498139,0.9066616101445477,-0.7279446581449013,-0.20487065229227758,0.18743485209719019,-0.008717900097543696,-1.8394769205817265,-1.6433241683869926,-1.7087084191185706,-0.5971761566817453,0.31820335356034607,-0.40102340448701146,-1.5779399176554147,-0.07410215082912165,0.51435610575508,1.1681986130708595,-1.054865911802791,-1.316402914729103,1.5605041174603274],\"y\":[0.30063982398310957,0.7637086021453282,0.6479414076047736,0.7637086021453282,1.8056133530103202,0.7058250048750508,1.921380547550875,0.47429061579394155,1.921380547550875,1.2846609775778242,1.7477297557400429,1.2846609775778242,1.4583117693886563,0.011221837631722797,0.47429061579394155,0.8215921994156056,0.6479414076047736,-0.9727993159629917,-0.7991485241521596,-0.857032121422437,0.12698903217227764,0.9373593939561602,0.30063982398310957,-0.7412649268818825,0.5900578103344962,1.1110101857669923,1.6898461584697655,-0.2781961487196637,-0.5097305378007733,2.0371477420914297],\"type\":\"scatter\"}]},{\"data\":[{\"mode\":\"lines\",\"x\":[-0.40102340448701146,0.12205060136561222,-0.008717900097543696,0.12205060136561222,1.2989671145340156,0.05666635063403426,1.4297356159971715,-0.20487065229227758,1.4297356159971715,0.7105088579498139,1.2335828638024375,0.7105088579498139,0.9066616101445477,-0.7279446581449013,-0.20487065229227758,0.18743485209719019,-0.008717900097543696,-1.8394769205817265,-1.6433241683869926,-1.7087084191185706,-0.5971761566817453,0.31820335356034607,-0.40102340448701146,-1.5779399176554147,-0.07410215082912165,0.51435610575508,1.1681986130708595,-1.054865911802791,-1.316402914729103,1.5605041174603274],\"y\":[0.294965987195418,0.7568833452471367,0.6414040057342071,0.7568833452471367,1.796197400863504,0.6991436754906719,1.9116767403764339,0.46818499646481254,1.9116767403764339,1.2765403730553204,1.7384577311070393,1.2765403730553204,1.449759382324715,0.006267638413093746,0.46818499646481254,0.8146230150036017,0.6414040057342071,-0.9753067474468086,-0.802087738177414,-0.8598274079338789,0.12174697792602351,0.9301023545165313,0.294965987195418,-0.7443480684209492,0.5836643359777423,1.1033213637859258,1.680718061350574,-0.2824307103692305,-0.5133893893950899,2.0271560798893633],\"type\":\"scatter\"}]},{\"data\":[{\"mode\":\"lines\",\"x\":[-0.40102340448701146,0.12205060136561222,-0.008717900097543696,0.12205060136561222,1.2989671145340156,0.05666635063403426,1.4297356159971715,-0.20487065229227758,1.4297356159971715,0.7105088579498139,1.2335828638024375,0.7105088579498139,0.9066616101445477,-0.7279446581449013,-0.20487065229227758,0.18743485209719019,-0.008717900097543696,-1.8394769205817265,-1.6433241683869926,-1.7087084191185706,-0.5971761566817453,0.31820335356034607,-0.40102340448701146,-1.5779399176554147,-0.07410215082912165,0.51435610575508,1.1681986130708595,-1.054865911802791,-1.316402914729103,1.5605041174603274],\"y\":[0.28934918302740936,0.7501262513630298,0.6349319842791247,0.7501262513630298,1.7868746551181758,0.6925291178210773,1.902068922202081,0.46214058365326705,1.902068922202081,1.2685004532406028,1.7292775215762233,1.2685004532406028,1.4412918538664603,0.0013635153176465575,0.46214058365326705,0.8077233849049823,0.6349319842791247,-0.9777877548955467,-0.804996354269689,-0.8625934878116417,0.11655778240155179,0.9229176519888874,0.28934918302740936,-0.7473992207277367,0.5773348507371722,1.095709052614745,1.6716803880342705,-0.2866221523921161,-0.5170106865599264,2.017263189285986],\"type\":\"scatter\"}]},{\"data\":[{\"mode\":\"lines\",\"x\":[-0.40102340448701146,0.12205060136561222,-0.008717900097543696,0.12205060136561222,1.2989671145340156,0.05666635063403426,1.4297356159971715,-0.20487065229227758,1.4297356159971715,0.7105088579498139,1.2335828638024375,0.7105088579498139,0.9066616101445477,-0.7279446581449013,-0.20487065229227758,0.18743485209719019,-0.008717900097543696,-1.8394769205817265,-1.6433241683869926,-1.7087084191185706,-0.5971761566817453,0.31820335356034607,-0.40102340448701146,-1.5779399176554147,-0.07410215082912165,0.51435610575508,1.1681986130708595,-1.054865911802791,-1.316402914729103,1.5605041174603274],\"y\":[0.2837888383084527,0.7434366397285638,0.628524689373536,0.7434366397285638,1.7776441929238136,0.6859806645510499,1.8925561432788414,0.45615676384099435,1.8925561432788414,1.2605404163261889,1.7201882177462997,1.2605404163261889,1.4329083418587303,-0.003491037579116729,0.45615676384099435,0.8008926149060777,0.628524689373536,-0.9802426155968527,-0.807874690064311,-0.8653306652418249,0.11142091277591115,0.9158045652611053,0.2837888383084527,-0.7504187148867971,0.5710687141960221,1.088172490793647,1.6627322425687858,-0.29077091346668604,-0.5205948141767418,2.007468093633869],\"type\":\"scatter\"}]},{\"data\":[{\"mode\":\"lines\",\"x\":[-0.40102340448701146,0.12205060136561222,-0.008717900097543696,0.12205060136561222,1.2989671145340156,0.05666635063403426,1.4297356159971715,-0.20487065229227758,1.4297356159971715,0.7105088579498139,1.2335828638024375,0.7105088579498139,0.9066616101445477,-0.7279446581449013,-0.20487065229227758,0.18743485209719019,-0.008717900097543696,-1.8394769205817265,-1.6433241683869926,-1.7087084191185706,-0.5971761566817453,0.31820335356034607,-0.40102340448701146,-1.5779399176554147,-0.07410215082912165,0.51435610575508,1.1681986130708595,-1.054865911802791,-1.316402914729103,1.5605041174603274],\"y\":[0.27828438562711966,0.7368138363785712,0.6221814736907083,0.7368138363785712,1.768505100569337,0.6794976550346398,1.8831374632572002,0.450232929658914,1.8831374632572002,1.2526594684739543,1.7111889192254055,1.2526594684739543,1.4246080125057485,-0.008296521092537534,0.450232929658914,0.7941300177225026,0.6221814736907083,-0.982671603939372,-0.8107230599075775,-0.8680392412515091,0.10633584159532539,0.9087623804103655,0.27828438562711966,-0.7534068785636464,0.5648652923467768,1.0807109244421598,1.6538727378814744,-0.2948774278121947,-0.5241421531879206,1.997769825945063],\"type\":\"scatter\"}]},{\"data\":[{\"mode\":\"lines\",\"x\":[-0.40102340448701146,0.12205060136561222,-0.008717900097543696,0.12205060136561222,1.2989671145340156,0.05666635063403426,1.4297356159971715,-0.20487065229227758,1.4297356159971715,0.7105088579498139,1.2335828638024375,0.7105088579498139,0.9066616101445477,-0.7279446581449013,-0.20487065229227758,0.18743485209719019,-0.008717900097543696,-1.8394769205817265,-1.6433241683869926,-1.7087084191185706,-0.5971761566817453,0.31820335356034607,-0.40102340448701146,-1.5779399176554147,-0.07410215082912165,0.51435610575508,1.1681986130708595,-1.054865911802791,-1.316402914729103,1.5605041174603274],\"y\":[0.27283526327332636,0.7302571740792487,0.6159016963777681,0.7302571740792487,1.7594564733925742,0.6730794352285084,1.873811951094055,0.4443684798255473,1.873811951094055,1.2448568237359114,1.7022787345418338,1.2448568237359114,1.4163900402881322,-0.013053430980375147,0.4443684798255473,0.7874349129299891,0.6159016963777681,-0.9850749914429601,-0.8135417748907393,-0.8707195137414797,0.10130204672110554,0.9017903906314697,0.27283526327332636,-0.7563640360399991,0.5587239575270279,1.0733236071836905,1.6451009956910934,-0.2989421252340766,-0.527653080637038,1.9881674287955353],\"type\":\"scatter\"}]},{\"data\":[{\"mode\":\"lines\",\"x\":[-0.40102340448701146,0.12205060136561222,-0.008717900097543696,0.12205060136561222,1.2989671145340156,0.05666635063403426,1.4297356159971715,-0.20487065229227758,1.4297356159971715,0.7105088579498139,1.2335828638024375,0.7105088579498139,0.9066616101445477,-0.7279446581449013,-0.20487065229227758,0.18743485209719019,-0.008717900097543696,-1.8394769205817265,-1.6433241683869926,-1.7087084191185706,-0.5971761566817453,0.31820335356034607,-0.40102340448701146,-1.5779399176554147,-0.07410215082912165,0.51435610575508,1.1681986130708595,-1.054865911802791,-1.316402914729103,1.5605041174603274],\"y\":[0.267440915181057,0.7237659922609238,0.6096847229909571,0.7237659922609238,1.7504974156906241,0.6667253576259404,1.8645786849605908,0.438562819086007,1.8645786849605908,1.2371317039757739,1.6934567810556407,1.2371317039757739,1.4082536078807237,-0.017762257993859665,0.438562819086007,0.7808066268959071,0.6096847229909571,-0.9874530467885765,-0.8163311428836264,-0.8733717775186098,0.09631901127610709,0.8948878961658737,0.267440915181057,-0.7592905082486432,0.5526440883559738,1.0660098000708238,1.6364161464206572,-0.3029654311687764,-0.5311279697087099,1.9786599542305574],\"type\":\"scatter\"}]},{\"data\":[{\"mode\":\"lines\",\"x\":[-0.40102340448701146,0.12205060136561222,-0.008717900097543696,0.12205060136561222,1.2989671145340156,0.05666635063403426,1.4297356159971715,-0.20487065229227758,1.4297356159971715,0.7105088579498139,1.2335828638024375,0.7105088579498139,0.9066616101445477,-0.7279446581449013,-0.20487065229227758,0.18743485209719019,-0.008717900097543696,-1.8394769205817265,-1.6433241683869926,-1.7087084191185706,-0.5971761566817453,0.31820335356034607,-0.40102340448701146,-1.5779399176554147,-0.07410215082912165,0.51435610575508,1.1681986130708595,-1.054865911802791,-1.316402914729103,1.5605041174603274],\"y\":[0.26210079087166266,0.7173396369514923,0.6035299254315348,0.7173396369514923,1.741627040631109,0.6604347811915136,1.8554367521510664,0.4328153581515988,1.8554367521510664,1.2294833387913007,1.6847221848711302,1.2294833387913007,1.4001979060712366,-0.0224234879282309,0.4328153581515988,0.774244492711471,0.6035299254315348,-0.9898060358478687,-0.8190914685679326,-0.8759963243279113,0.09138622359172655,0.8880542042314283,0.26210079087166266,-0.7621866128079541,0.5466250696715562,1.0587687715113645,1.6278173291111515,-0.3069477667281243,-0.5345671897680392,1.9692464636710239],\"type\":\"scatter\"}]},{\"data\":[{\"mode\":\"lines\",\"x\":[-0.40102340448701146,0.12205060136561222,-0.008717900097543696,0.12205060136561222,1.2989671145340156,0.05666635063403426,1.4297356159971715,-0.20487065229227758,1.4297356159971715,0.7105088579498139,1.2335828638024375,0.7105088579498139,0.9066616101445477,-0.7279446581449013,-0.20487065229227758,0.18743485209719019,-0.008717900097543696,-1.8394769205817265,-1.6433241683869926,-1.7087084191185706,-0.5971761566817453,0.31820335356034607,-0.40102340448701146,-1.5779399176554147,-0.07410215082912165,0.51435610575508,1.1681986130708595,-1.054865911802791,-1.316402914729103,1.5605041174603274],\"y\":[0.25681434539772885,0.7109774607105217,0.5974366818823235,0.7109774607105217,1.7328444701643058,0.6542070712964226,1.8463852489925037,0.42712551364002616,1.8463852489925037,1.2219109654374138,1.6760740807502064,1.2219109654374138,1.392222133679711,-0.027037601672766698,0.42712551364002616,0.7677478501246209,0.5974366818823235,-0.9921342217124515,-0.8218230534701539,-0.8785934428842531,0.08650317715543154,0.881288628952819,0.25681434539772885,-0.765052664056055,0.5406662924682244,1.0515997971951163,1.6193036913361074,-0.31088954874326213,-0.5379711063996587,1.959926027820702],\"type\":\"scatter\"}]},{\"data\":[{\"mode\":\"lines\",\"x\":[-0.40102340448701146,0.12205060136561222,-0.008717900097543696,0.12205060136561222,1.2989671145340156,0.05666635063403426,1.4297356159971715,-0.20487065229227758,1.4297356159971715,0.7105088579498139,1.2335828638024375,0.7105088579498139,0.9066616101445477,-0.7279446581449013,-0.20487065229227758,0.18743485209719019,-0.008717900097543696,-1.8394769205817265,-1.6433241683869926,-1.7087084191185706,-0.5971761566817453,0.31820335356034607,-0.40102340448701146,-1.5779399176554147,-0.07410215082912165,0.51435610575508,1.1681986130708595,-1.054865911802791,-1.316402914729103,1.5605041174603274],\"y\":[0.25158103928750825,0.7046788225640123,0.5914043767448863,0.7046788225640123,1.7241488349361465,0.6480415996544493,1.8374232807552726,0.42149270801619726,1.8374232807552726,1.2144138287500794,1.6675116120265834,1.2144138287500794,1.3843254974787684,-0.03160507526030687,0.42149270801619726,0.7613160454735753,0.5914043767448863,-0.9944378647228779,-0.8245261959941889,-0.8811634189037519,0.08166937055881929,0.8745904912927013,0.25158103928750825,-0.767888973084626,0.5347671538353233,1.0445021600213904,1.6108743891170203,-0.3147911898081218,-0.5413400814463739,1.9506977265743983],\"type\":\"scatter\"}]},{\"data\":[{\"mode\":\"lines\",\"x\":[-0.40102340448701146,0.12205060136561222,-0.008717900097543696,0.12205060136561222,1.2989671145340156,0.05666635063403426,1.4297356159971715,-0.20487065229227758,1.4297356159971715,0.7105088579498139,1.2335828638024375,0.7105088579498139,0.9066616101445477,-0.7279446581449013,-0.20487065229227758,0.18743485209719019,-0.008717900097543696,-1.8394769205817265,-1.6433241683869926,-1.7087084191185706,-0.5971761566817453,0.31820335356034607,-0.40102340448701146,-1.5779399176554147,-0.07410215082912165,0.51435610575508,1.1681986130708595,-1.054865911802791,-1.316402914729103,1.5605041174603274],\"y\":[0.24640033848991022,0.6984430879398097,0.5854324005773348,0.6984430879398097,1.7155392742020834,0.6419377442585722,1.8285499615645584,0.4159163695336225,1.8285499615645584,1.2069911810709466,1.6590339305208461,1.2069911810709466,1.3765072121146589,-0.036126379916276985,0.4159163695336225,0.7549484316210471,0.5854324005773348,-0.9967172224973132,-0.8272011914536009,-0.8837065351348384,0.07688430744619801,0.8679591189835218,0.24640033848991022,-0.7706958477723637,0.5289270568960973,1.0374751500272343,1.6025285868396084,-0.318653098322464,-0.5446744730474139,1.941560648927033],\"type\":\"scatter\"}]},{\"data\":[{\"mode\":\"lines\",\"x\":[-0.40102340448701146,0.12205060136561222,-0.008717900097543696,0.12205060136561222,1.2989671145340156,0.05666635063403426,1.4297356159971715,-0.20487065229227758,1.4297356159971715,0.7105088579498139,1.2335828638024375,0.7105088579498139,0.9066616101445477,-0.7279446581449013,-0.20487065229227758,0.18743485209719019,-0.008717900097543696,-1.8394769205817265,-1.6433241683869926,-1.7087084191185706,-0.5971761566817453,0.31820335356034607,-0.40102340448701146,-1.5779399176554147,-0.07410215082912165,0.51435610575508,1.1681986130708595,-1.054865911802791,-1.316402914729103,1.5605041174603274],\"y\":[0.2412717143200438,0.6922696286036625,0.5795201500327578,0.6922696286036625,1.7070149357418045,0.6358948893182101,1.8197644143127092,0.4103959321764008,1.8197644143127092,1.1996422821727335,1.6506401964563522,1.1996422821727335,1.3687665000290905,-0.04060198210721788,0.4103959321764008,0.7486443678891148,0.5795201500327578,-0.9989725499599075,-0.8298483321035505,-0.8862230713890028,0.0721474964636869,0.8613938464600195,0.2412717143200438,-0.7734735928180981,0.5231454107473055,1.0305180643163765,1.5942654571708998,-0.32247567853447945,-0.547974635676289,1.9325138928836139],\"type\":\"scatter\"}]},{\"data\":[{\"mode\":\"lines\",\"x\":[-0.40102340448701146,0.12205060136561222,-0.008717900097543696,0.12205060136561222,1.2989671145340156,0.05666635063403426,1.4297356159971715,-0.20487065229227758,1.4297356159971715,0.7105088579498139,1.2335828638024375,0.7105088579498139,0.9066616101445477,-0.7279446581449013,-0.20487065229227758,0.18743485209719019,-0.008717900097543696,-1.8394769205817265,-1.6433241683869926,-1.7087084191185706,-0.5971761566817453,0.31820335356034607,-0.40102340448701146,-1.5779399176554147,-0.07410215082912165,0.51435610575508,1.1681986130708595,-1.054865911802791,-1.316402914729103,1.5605041174603274],\"y\":[0.23619464340530744,0.6861578225959193,0.5736670277982664,0.6861578225959193,1.6985749757747963,0.6299124251970929,1.8110657705724493,0.4049308356017869,1.8110657705724493,1.192366399185358,1.6423295783759697,1.192366399185358,1.361102591381837,-0.04503234358882502,0.4049308356017869,0.7424032199947459,0.5736670277982664,-1.0012040993688753,-0.8324679071723957,-0.8887133045712223,0.06745845120882799,0.8548940147923988,0.23619464340530744,-0.7762225097735695,0.5174216303994399,1.0236302069888783,1.586084180977143,-0.3262593305829574,-0.5512409201782635,1.9235565653701021],\"type\":\"scatter\"}]},{\"data\":[{\"mode\":\"lines\",\"x\":[-0.40102340448701146,0.12205060136561222,-0.008717900097543696,0.12205060136561222,1.2989671145340156,0.05666635063403426,1.4297356159971715,-0.20487065229227758,1.4297356159971715,0.7105088579498139,1.2335828638024375,0.7105088579498139,0.9066616101445477,-0.7279446581449013,-0.20487065229227758,0.18743485209719019,-0.008717900097543696,-1.8394769205817265,-1.6433241683869926,-1.7087084191185706,-0.5971761566817453,0.31820335356034607,-0.40102340448701146,-1.5779399176554147,-0.07410215082912165,0.51435610575508,1.1681986130708595,-1.054865911802791,-1.316402914729103,1.5605041174603274],\"y\":[0.23116860763202002,0.6801070541688576,0.5678724425346482,0.6801070541688576,1.6902185588767424,0.6239897483517529,1.8024531705109514,0.39952052508333413,1.8024531705109514,1.1851628065228,1.6341012530596375,1.1851628065228,1.353514723974114,-0.04941792145350343,0.39952052508333413,0.7362243599859624,0.5678724425346482,-1.0034121203442834,-0.8350602028929691,-0.8911775087100738,0.06281669018070601,0.8484589716201717,0.23116860763202002,-0.7789428970758646,0.5117551367175435,1.0168108890714858,1.5779839472425325,-0.33000445053902694,-0.5544736738074457,1.9146877821451609],\"type\":\"scatter\"}]},{\"data\":[{\"mode\":\"lines\",\"x\":[-0.40102340448701146,0.12205060136561222,-0.008717900097543696,0.12205060136561222,1.2989671145340156,0.05666635063403426,1.4297356159971715,-0.20487065229227758,1.4297356159971715,0.7105088579498139,1.2335828638024375,0.7105088579498139,0.9066616101445477,-0.7279446581449013,-0.20487065229227758,0.18743485209719019,-0.008717900097543696,-1.8394769205817265,-1.6433241683869926,-1.7087084191185706,-0.5971761566817453,0.31820335356034607,-0.40102340448701146,-1.5779399176554147,-0.07410215082912165,0.51435610575508,1.1681986130708595,-1.054865911802791,-1.316402914729103,1.5605041174603274],\"y\":[0.2261930940925881,0.6741167137246378,0.5621358088166254,0.6741167137246378,1.6819448578967497,0.6181262612706315,1.7939257628047622,0.3941644514546067,1.7939257628047622,1.1780307858106938,1.6259544054427435,1.1780307858106938,1.3460021431727123,-0.05375916817744297,0.3941644514546067,0.730107166178644,0.5621358088166254,-1.0055968598955487,-0.83762550253353,-0.8936159549875362,0.05822173673056952,0.8420880710866564,0.2261930940925881,-0.7816350500795237,0.5061453563626191,1.010059428448675,1.5699639529887373,-0.333711430447474,-0.557673240263499,1.9059066677127745],\"type\":\"scatter\"}]},{\"data\":[{\"mode\":\"lines\",\"x\":[-0.40102340448701146,0.12205060136561222,-0.008717900097543696,0.12205060136561222,1.2989671145340156,0.05666635063403426,1.4297356159971715,-0.20487065229227758,1.4297356159971715,0.7105088579498139,1.2335828638024375,0.7105088579498139,0.9066616101445477,-0.7279446581449013,-0.20487065229227758,0.18743485209719019,-0.008717900097543696,-1.8394769205817265,-1.6433241683869926,-1.7087084191185706,-0.5971761566817453,0.31820335356034607,-0.40102340448701146,-1.5779399176554147,-0.07410215082912165,0.51435610575508,1.1681986130708595,-1.054865911802791,-1.316402914729103,1.5605041174603274],\"y\":[0.22126759503320398,0.6681861977538788,0.5564565470737101,0.6681861977538788,1.673753053875397,0.6123213724137945,1.785482704555566,0.38886207105345705,1.785482704555566,1.1709696258146378,1.6178882285353127,1.1709696258146378,1.338564101834891,-0.0580565316672178,0.38886207105345705,0.7240510230939632,0.5564565470737101,-1.0077585624486518,-0.8401640864283986,-0.896028911768483,0.05367311901295091,0.8357806737741318,0.22126759503320398,-0.7842992610883144,0.5005917217336258,1.0033751497943848,1.5620234031952283,-0.33738065836763953,-0.560839959727977,1.8972123552357345],\"type\":\"scatter\"}]},{\"data\":[{\"mode\":\"lines\",\"x\":[-0.40102340448701146,0.12205060136561222,-0.008717900097543696,0.12205060136561222,1.2989671145340156,0.05666635063403426,1.4297356159971715,-0.20487065229227758,1.4297356159971715,0.7105088579498139,1.2335828638024375,0.7105088579498139,0.9066616101445477,-0.7279446581449013,-0.20487065229227758,0.18743485209719019,-0.008717900097543696,-1.8394769205817265,-1.6433241683869926,-1.7087084191185706,-0.5971761566817453,0.31820335356034607,-0.40102340448701146,-1.5779399176554147,-0.07410215082912165,0.51435610575508,1.1681986130708595,-1.054865911802791,-1.316402914729103,1.5605041174603274],\"y\":[0.21639160780206879,0.6623149087748453,0.5508340835316512,0.6623149087748453,1.6656423359635926,0.6065744961532482,1.7771231612067866,0.38361284566686,1.7771231612067866,1.163978622369219,1.6099019233419956,1.163978622369219,1.33119986023401,-0.0623104553059165,0.38361284566686,0.7180553213964425,0.5508340835316512,-1.0098974698730667,-0.8426762320082753,-0.8984166446298724,0.049170369937277636,0.8295361466396365,0.21639160780206879,-0.7869358193866783,0.49509367091005413,0.9967573845044277,1.5541615107203983,-0.3410125184139018,-0.5639741689002901,1.8886039864499806],\"type\":\"scatter\"}]},{\"data\":[{\"mode\":\"lines\",\"x\":[-0.40102340448701146,0.12205060136561222,-0.008717900097543696,0.12205060136561222,1.2989671145340156,0.05666635063403426,1.4297356159971715,-0.20487065229227758,1.4297356159971715,0.7105088579498139,1.2335828638024375,0.7105088579498139,0.9066616101445477,-0.7279446581449013,-0.20487065229227758,0.18743485209719019,-0.008717900097543696,-1.8394769205817265,-1.6433241683869926,-1.7087084191185706,-0.5971761566817453,0.31820335356034607,-0.40102340448701146,-1.5779399176554147,-0.07410215082912165,0.51435610575508,1.1681986130708595,-1.054865911802791,-1.316402914729103,1.5605041174603274],\"y\":[0.21156463479813603,0.656502255273244,0.545267850154467,0.656502255273244,1.6576119013422368,0.6008850527138555,1.7688463064610138,0.3784162424763015,1.7688463064610138,1.1570570783077403,1.6019946987828484,1.1570570783077403,1.3239086859859057,-0.06652137799880642,0.3784162424763015,0.7121194578326324,0.545267850154467,-1.0120138215084107,-0.8451622138302453,-0.9007794163896339,0.044713027119970605,0.8233538629514094,0.21156463479813603,-0.7895450112708569,0.4896506475950785,0.9902054706295749,1.5463774962234598,-0.34460739079574887,-0.567076201033303,1.8800807115797908],\"type\":\"scatter\"}]},{\"data\":[{\"mode\":\"lines\",\"x\":[-0.40102340448701146,0.12205060136561222,-0.008717900097543696,0.12205060136561222,1.2989671145340156,0.05666635063403426,1.4297356159971715,-0.20487065229227758,1.4297356159971715,0.7105088579498139,1.2335828638024375,0.7105088579498139,0.9066616101445477,-0.7279446581449013,-0.20487065229227758,0.18743485209719019,-0.008717900097543696,-1.8394769205817265,-1.6433241683869926,-1.7087084191185706,-0.5971761566817453,0.31820335356034607,-0.40102340448701146,-1.5779399176554147,-0.07410215082912165,0.51435610575508,1.1681986130708595,-1.054865911802791,-1.316402914729103,1.5605041174603274],\"y\":[0.2067861834203698,0.6507476516426199,0.5397572845870574,0.6507476516426199,1.6496609551426826,0.5952524681148387,1.7606513221982452,0.3732717340037136,1.7606513221982452,1.1502043033926515,1.5941657716149016,1.1502043033926515,1.316689853975995,-0.07068973421853653,0.3732717340037136,0.7062428351704012,0.5397572845870574,-1.0141078541908182,-0.8476223036074743,-0.9031174871352555,0.04030063283702601,0.8172332022259637,0.2067861834203698,-0.792127120079693,0.48426210105927614,0.9837187528093075,1.53867058808712,-0.34816565185744275,-0.5701463859685679,1.8716416892538077],\"type\":\"scatter\"}]},{\"data\":[{\"mode\":\"lines\",\"x\":[-0.40102340448701146,0.12205060136561222,-0.008717900097543696,0.12205060136561222,1.2989671145340156,0.05666635063403426,1.4297356159971715,-0.20487065229227758,1.4297356159971715,0.7105088579498139,1.2335828638024375,0.7105088579498139,0.9066616101445477,-0.7279446581449013,-0.20487065229227758,0.18743485209719019,-0.008717900097543696,-1.8394769205817265,-1.6433241683869926,-1.7087084191185706,-0.5971761566817453,0.31820335356034607,-0.40102340448701146,-1.5779399176554147,-0.07410215082912165,0.51435610575508,1.1681986130708595,-1.054865911802791,-1.316402914729103,1.5605041174603274],\"y\":[0.20205576601751263,0.6450505181253492,0.53430183009839,0.6450505181253492,1.6417887103679818,0.5896761741118697,1.7525373983949408,0.36817879805795134,1.7525373983949408,1.1434196142466655,1.5864143663545018,1.1434196142466655,1.3095426462871043,-0.07481595404988528,0.36817879805795134,0.7004248621388288,0.53430183009839,-1.016179802279038,-0.8500567702385992,-0.9054311142520789,0.03593273397707397,0.811173550165788,0.20205576601751263,-0.7946824262251199,0.47892748608491054,0.9772965822062267,1.5310400223410223,-0.3516876741172831,-0.5731850501712016,1.8632860864218999],\"type\":\"scatter\"}]},{\"data\":[{\"mode\":\"lines\",\"x\":[-0.40102340448701146,0.12205060136561222,-0.008717900097543696,0.12205060136561222,1.2989671145340156,0.05666635063403426,1.4297356159971715,-0.20487065229227758,1.4297356159971715,0.7105088579498139,1.2335828638024375,0.7105088579498139,0.9066616101445477,-0.7279446581449013,-0.20487065229227758,0.18743485209719019,-0.008717900097543696,-1.8394769205817265,-1.6433241683869926,-1.7087084191185706,-0.5971761566817453,0.31820335356034607,-0.40102340448701146,-1.5779399176554147,-0.07410215082912165,0.51435610575508,1.1681986130708595,-1.054865911802791,-1.316402914729103,1.5605041174603274],\"y\":[0.19737289983835754,0.63941028075422,0.5289009355252544,0.63941028075422,1.6339943878149108,0.5841556081397372,1.7445037330438762,0.363136917681806,1.7445037330438762,1.1367023342845655,1.5787397152004279,1.1367023342845655,1.3024663521280138,-0.07890046323405653,0.363136917681806,0.6946649533687028,0.5289009355252544,-1.0182298976802642,-0.8524658798368158,-0.9077205524512987,0.03160888199490919,0.8051742985976684,0.19737289983835754,-0.7972112072223331,0.4736462629107716,0.9709383164411168,1.523485042585945,-0.35517382630647043,-0.5761925167644019,1.855013078272842],\"type\":\"scatter\"}]},{\"data\":[{\"mode\":\"lines\",\"x\":[-0.40102340448701146,0.12205060136561222,-0.008717900097543696,0.12205060136561222,1.2989671145340156,0.05666635063403426,1.4297356159971715,-0.20487065229227758,1.4297356159971715,0.7105088579498139,1.2335828638024375,0.7105088579498139,0.9066616101445477,-0.7279446581449013,-0.20487065229227758,0.18743485209719019,-0.008717900097543696,-1.8394769205817265,-1.6433241683869926,-1.7087084191185706,-0.5971761566817453,0.31820335356034607,-0.40102340448701146,-1.5779399176554147,-0.07410215082912165,0.51435610575508,1.1681986130708595,-1.054865911802791,-1.316402914729103,1.5605041174603274],\"y\":[0.192737106982521,0.6338263712945984,0.523554055216579,0.6338263712945984,1.6262772159967724,0.5786902132555887,1.736549532074792,0.35814558109954997,1.736549532074792,1.1300517936456855,1.571141057957763,1.1300517936456855,1.2954602677627145,-0.08294368321252743,0.35814558109954997,0.688962529333608,0.523554055216579,-1.0202583698756915,-0.8548498957586627,-0.9099860537976724,0.02732863286549203,0.7992348454116274,0.192737106982521,-0.7997137377196532,0.4684178971775693,0.9646433195286563,1.516004899918753,-0.35862447340757564,-0.5791691055636145,1.846821848152811],\"type\":\"scatter\"}]},{\"data\":[{\"mode\":\"lines\",\"x\":[-0.40102340448701146,0.12205060136561222,-0.008717900097543696,0.12205060136561222,1.2989671145340156,0.05666635063403426,1.4297356159971715,-0.20487065229227758,1.4297356159971715,0.7105088579498139,1.2335828638024375,0.7105088579498139,0.9066616101445477,-0.7279446581449013,-0.20487065229227758,0.18743485209719019,-0.008717900097543696,-1.8394769205817265,-1.6433241683869926,-1.7087084191185706,-0.5971761566817453,0.31820335356034607,-0.40102340448701146,-1.5779399176554147,-0.07410215082912165,0.51435610575508,1.1681986130708595,-1.054865911802791,-1.316402914729103,1.5605041174603274],\"y\":[0.18814791435170808,0.6282982271871703,0.5182606489783047,0.6282982271871703,1.6186364310669603,0.5732794380827375,1.7286740092758257,0.3532042816650064,1.7286740092758257,1.1234673291270654,1.5636176419625274,1.1234673291270654,1.2885236964403637,-0.08694603117045574,0.3532042816650064,0.6833170162916031,0.5182606489783047,-1.0222654459458127,-0.8572090786325145,-0.9122278677369474,0.023091547038409765,0.7933545945004685,0.18814791435170808,-0.8021902895280818,0.463241859873872,0.958410961813767,1.5085988528580945,-0.36203997669261956,-0.5821151331103508,1.8387115874846915],\"type\":\"scatter\"}]},{\"data\":[{\"mode\":\"lines\",\"x\":[-0.40102340448701146,0.12205060136561222,-0.008717900097543696,0.12205060136561222,1.2989671145340156,0.05666635063403426,1.4297356159971715,-0.20487065229227758,1.4297356159971715,0.7105088579498139,1.2335828638024375,0.7105088579498139,0.9066616101445477,-0.7279446581449013,-0.20487065229227758,0.18743485209719019,-0.008717900097543696,-1.8394769205817265,-1.6433241683869926,-1.7087084191185706,-0.5971761566817453,0.31820335356034607,-0.40102340448701146,-1.5779399176554147,-0.07410215082912165,0.51435610575508,1.1681986130708595,-1.054865911802791,-1.316402914729103,1.5605041174603274],\"y\":[0.18360485360146966,0.6228252914912573,0.5130201820188104,0.6228252914912573,1.6110712767432795,0.5679227367550339,1.7208763862157264,0.34831251781014005,1.7208763862157264,1.1169482841172684,1.556168722007056,1.1169482841172684,1.2816559483259389,-0.09090792007964765,0.34831251781014005,0.6777278462274807,0.5130201820188104,-1.0242513505954463,-0.8595436863867758,-0.9144462411229994,0.018897189392799385,0.7875329556999277,0.18360485360146966,-0.8046411316505524,0.458117627282587,0.952240619908598,1.5012661672708325,-0.3654206937607648,-0.5850309127056588,1.8306814956881734],\"type\":\"scatter\"}]},{\"data\":[{\"mode\":\"lines\",\"x\":[-0.40102340448701146,0.12205060136561222,-0.008717900097543696,0.12205060136561222,1.2989671145340156,0.05666635063403426,1.4297356159971715,-0.20487065229227758,1.4297356159971715,0.7105088579498139,1.2335828638024375,0.7105088579498139,0.9066616101445477,-0.7279446581449013,-0.20487065229227758,0.18743485209719019,-0.008717900097543696,-1.8394769205817265,-1.6433241683869926,-1.7087084191185706,-0.5971761566817453,0.31820335356034607,-0.40102340448701146,-1.5779399176554147,-0.07410215082912165,0.51435610575508,1.1681986130708595,-1.054865911802791,-1.316402914729103,1.5605041174603274],\"y\":[0.17910746109344194,0.6174070128286965,0.5078321248948828,0.6174070128286965,1.6035810042330194,0.5626195688617897,1.713155892166833,0.34346979299416236,1.713155892166833,1.110494008530858,1.5487935602661125,1.110494008530858,1.2748563404315782,-0.09482975874109223,0.34346979299416236,0.6721944567956033,0.5078321248948828,-1.0262163061785081,-0.8618539742777875,-0.9166414182446945,0.014745129192721529,0.781769344729417,0.17910746109344194,-0.8070665303108808,0.45304468092797606,0.9461316766301374,1.4940061162992055,-0.36876697857562624,-0.5879167544432538,1.8227307801006467],\"type\":\"scatter\"}]},{\"data\":[{\"mode\":\"lines\",\"x\":[-0.40102340448701146,0.12205060136561222,-0.008717900097543696,0.12205060136561222,1.2989671145340156,0.05666635063403426,1.4297356159971715,-0.20487065229227758,1.4297356159971715,0.7105088579498139,1.2335828638024375,0.7105088579498139,0.9066616101445477,-0.7279446581449013,-0.20487065229227758,0.18743485209719019,-0.008717900097543696,-1.8394769205817265,-1.6433241683869926,-1.7087084191185706,-0.5971761566817453,0.31820335356034607,-0.40102340448701146,-1.5779399176554147,-0.07410215082912165,0.51435610575508,1.1681986130708595,-1.054865911802791,-1.316402914729103,1.5605041174603274],\"y\":[0.17465527784806734,0.6120428453282827,0.5026959534582288,0.6120428453282827,1.5961648721587673,0.5573693993932557,1.705511764028821,0.3386756156531481,1.705511764028821,1.104103858743525,1.5414914262237405,1.104103858743525,1.2681241965486056,-0.09871195182706727,0.3386756156531481,0.6667162912633096,0.5026959534582288,-1.028160532722525,-0.864140194917444,-0.9188136408524711,0.010634940042986596,0.7760631831333633,0.17465527784806734,-0.8094667489824173,0.4480225075232019,0.9400835209384442,1.4868179802887131,-0.3720791815022019,-0.5907729652423096,1.8148586558988749],\"type\":\"scatter\"}]},{\"data\":[{\"mode\":\"lines\",\"x\":[-0.40102340448701146,0.12205060136561222,-0.008717900097543696,0.12205060136561222,1.2989671145340156,0.05666635063403426,1.4297356159971715,-0.20487065229227758,1.4297356159971715,0.7105088579498139,1.2335828638024375,0.7105088579498139,0.9066616101445477,-0.7279446581449013,-0.20487065229227758,0.18743485209719019,-0.008717900097543696,-1.8394769205817265,-1.6433241683869926,-1.7087084191185706,-0.5971761566817453,0.31820335356034607,-0.40102340448701146,-1.5779399176554147,-0.07410215082912165,0.51435610575508,1.1681986130708595,-1.054865911802791,-1.316402914729103,1.5605041174603274],\"y\":[0.17024784949778937,0.6067322485707642,0.49761114880252055,0.6067322485707642,1.588822146484958,0.5521716986866424,1.6979432462532014,0.33392949915015496,1.6979432462532014,1.097777197527861,1.5342615966008357,1.097777197527861,1.2614588471802266,-0.10255489992281996,0.33392949915015496,0.6612927984548861,0.49761114880252055,-1.0300842479528916,-0.8664025983005258,-0.9209631481846478,0.006566199845423837,0.7704138982231298,0.17024784949778937,-0.8118420484164041,0.44305059891839865,0.9340955478754953,1.479701046716714,-0.3753576493434292,-0.5935998488799167,1.8070643460214453],\"type\":\"scatter\"}]},{\"data\":[{\"mode\":\"lines\",\"x\":[-0.40102340448701146,0.12205060136561222,-0.008717900097543696,0.12205060136561222,1.2989671145340156,0.05666635063403426,1.4297356159971715,-0.20487065229227758,1.4297356159971715,0.7105088579498139,1.2335828638024375,0.7105088579498139,0.9066616101445477,-0.7279446581449013,-0.20487065229227758,0.18743485209719019,-0.008717900097543696,-1.8394769205817265,-1.6433241683869926,-1.7087084191185706,-0.5971761566817453,0.31820335356034607,-0.40102340448701146,-1.5779399176554147,-0.07410215082912165,0.51435610575508,1.1681986130708595,-1.054865911802791,-1.316402914729103,1.5605041174603274],\"y\":[0.16588472624071826,0.6014746875343893,0.49257719721097154,0.6014746875343893,1.5815521004451492,0.5470259423726804,1.6904495907685668,0.32923096172584493,1.6904495907685668,1.0915133939897692,1.5271033552834403,1.0915133939897692,1.2548596294748957,-0.10635899956782607,0.32923096172584493,0.6559234326960982,0.49257719721097154,-1.0319876673168769,-0.8686414318317501,-0.9230901769934592,0.0025384907555917047,0.7648209230195159,0.16588472624071826,-0.8141926866700415,0.43812845204926265,0.9281671585046425,1.4726546101217313,-0.37860272537637046,-0.596397706023206,1.7993470810919847],\"type\":\"scatter\"}]},{\"data\":[{\"mode\":\"lines\",\"x\":[-0.40102340448701146,0.12205060136561222,-0.008717900097543696,0.12205060136561222,1.2989671145340156,0.05666635063403426,1.4297356159971715,-0.20487065229227758,1.4297356159971715,0.7105088579498139,1.2335828638024375,0.7105088579498139,0.9066616101445477,-0.7279446581449013,-0.20487065229227758,0.18743485209719019,-0.008717900097543696,-1.8394769205817265,-1.6433241683869926,-1.7087084191185706,-0.5971761566817453,0.31820335356034607,-0.40102340448701146,-1.5779399176554147,-0.07410215082912165,0.51435610575508,1.1681986130708595,-1.054865911802791,-1.316402914729103,1.5605041174603274],\"y\":[0.16156546279476153,0.5962696325409953,0.48759359010443687,0.5962696325409953,1.5743540144700214,0.5419316113227161,1.6830300569065797,0.3245795264495992,1.6830300569065797,1.0853118235055084,1.520015993251742,1.0853118235055084,1.248325887160346,-0.11012464329663457,0.3245795264495992,0.6506076537592745,0.48759359010443687,-1.033871004007381,-0.8708569403525435,-0.9251949615708228,-0.0014486008600760325,0.7592836961958329,0.16156546279476153,-0.8165189191342643,0.4332555688861576,0.9222977598506705,1.4656779720334627,-0.38181474938803056,-0.5991668342611476,1.7917060993431382],\"type\":\"scatter\"}]},{\"data\":[{\"mode\":\"lines\",\"x\":[-0.40102340448701146,0.12205060136561222,-0.008717900097543696,0.12205060136561222,1.2989671145340156,0.05666635063403426,1.4297356159971715,-0.20487065229227758,1.4297356159971715,0.7105088579498139,1.2335828638024375,0.7105088579498139,0.9066616101445477,-0.7279446581449013,-0.20487065229227758,0.18743485209719019,-0.008717900097543696,-1.8394769205817265,-1.6433241683869926,-1.7087084191185706,-0.5971761566817453,0.31820335356034607,-0.40102340448701146,-1.5779399176554147,-0.07410215082912165,0.51435610575508,1.1681986130708595,-1.054865911802791,-1.316402914729103,1.5605041174603274],\"y\":[0.1572896183522154,0.5911165592026371,0.48265982399003166,0.5911165592026371,1.567227176116086,0.5368881915963344,1.6756839113286917,0.3199747211711235,1.6756839113286917,1.0791718676593616,1.5129988085097834,1.0791718676593616,1.2418569704782698,-0.1138522196792982,0.3199747211711235,0.6453449268089398,0.48265982399003166,-1.0357344689864443,-0.873049366167536,-0.9272777337738389,-0.005395484466692746,0.7538016620215453,0.1572896183522154,-0.8188209985612336,0.428431456383729,0.9164867648404533,1.4587704409034805,-0.3849940577108118,-0.6019075281360227,1.784140646541297],\"type\":\"scatter\"}]},{\"data\":[{\"mode\":\"lines\",\"x\":[-0.40102340448701146,0.12205060136561222,-0.008717900097543696,0.12205060136561222,1.2989671145340156,0.05666635063403426,1.4297356159971715,-0.20487065229227758,1.4297356159971715,0.7105088579498139,1.2335828638024375,0.7105088579498139,0.9066616101445477,-0.7279446581449013,-0.20487065229227758,0.18743485209719019,-0.008717900097543696,-1.8394769205817265,-1.6433241683869926,-1.7087084191185706,-0.5971761566817453,0.31820335356034607,-0.40102340448701146,-1.5779399176554147,-0.07410215082912165,0.51435610575508,1.1681986130708595,-1.054865911802791,-1.316402914729103,1.5605041174603274],\"y\":[0.15305675653481243,0.5860149483687483,0.4777754004102644,0.5860149483687483,1.5601708799951042,0.5318951743895064,1.6684104279535883,0.3154160784725384,1.6684104279535883,1.0730929141819263,1.5060511060158621,1.0730929141819263,1.2354522361196523,-0.11754211336139753,0.3154160784725384,0.6401347223479903,0.4777754004102644,-1.0375782710085113,-0.8752189490707853,-0.9293387230500274,-0.00930256540291352,0.7483742703064743,0.15305675653481243,-0.8210991750915435,0.4236556264310224,0.9107335922442003,1.45193133203662,-0.3881409832576074,-0.6046200791745755,1.7766499759120722],\"type\":\"scatter\"}]},{\"data\":[{\"mode\":\"lines\",\"x\":[-0.40102340448701146,0.12205060136561222,-0.008717900097543696,0.12205060136561222,1.2989671145340156,0.05666635063403426,1.4297356159971715,-0.20487065229227758,1.4297356159971715,0.7105088579498139,1.2335828638024375,0.7105088579498139,0.9066616101445477,-0.7279446581449013,-0.20487065229227758,0.18743485209719019,-0.008717900097543696,-1.8394769205817265,-1.6433241683869926,-1.7087084191185706,-0.5971761566817453,0.31820335356034607,-0.40102340448701146,-1.5779399176554147,-0.07410215082912165,0.51435610575508,1.1681986130708595,-1.054865911802791,-1.316402914729103,1.5605041174603274],\"y\":[0.1488664453492211,0.5809642860738305,0.4729398258926782,0.5809642860738305,1.553184427704202,0.5269520559832543,1.6612088878853541,0.3109031356209496,1.6612088878853541,1.0670743568890162,1.4991721976136256,1.0670743568890162,1.2291110471607447,-0.12119470510365976,0.3109031356209496,0.6349765161644068,0.4729398258926782,-1.0394026166434547,-0.8773659263717262,-0.9313781564623025,-0.013170244922507401,0.7430009763455591,0.1488664453492211,-0.8233536962811501,0.41892759580210204,0.9050376666172876,1.4451599675230493,-0.3912558555565406,-0.6073047759188455,1.7692333480665066],\"type\":\"scatter\"}]},{\"data\":[{\"mode\":\"lines\",\"x\":[-0.40102340448701146,0.12205060136561222,-0.008717900097543696,0.12205060136561222,1.2989671145340156,0.05666635063403426,1.4297356159971715,-0.20487065229227758,1.4297356159971715,0.7105088579498139,1.2335828638024375,0.7105088579498139,0.9066616101445477,-0.7279446581449013,-0.20487065229227758,0.18743485209719019,-0.008717900097543696,-1.8394769205817265,-1.6433241683869926,-1.7087084191185706,-0.5971761566817453,0.31820335356034607,-0.40102340448701146,-1.5779399176554147,-0.07410215082912165,0.51435610575508,1.1681986130708595,-1.054865911802791,-1.316402914729103,1.5605041174603274],\"y\":[0.1447182571429914,0.5759640634856645,0.46815261189999624,0.5759640634856645,1.546267127756679,0.5220583376928304,1.6540785793423474,0.30643543452149385,1.6540785793423474,1.0611155956211717,1.492361401963845,1.0611155956211717,1.2228327729996742,-0.12481037182117927,0.30643543452149385,0.6298697892784987,0.46815261189999624,-1.0412077102993595,-0.8794905329208571,-0.9333962587136913,-0.016998920235510917,0.7376812408641669,0.1447182571429914,-0.825584807128023,0.41424688610716215,0.8993984182426693,1.4384556761710106,-0.3943390007853499,-0.6099619039566866,1.7618900309280157],\"type\":\"scatter\"}]},{\"data\":[{\"mode\":\"lines\",\"x\":[-0.40102340448701146,0.12205060136561222,-0.008717900097543696,0.12205060136561222,1.2989671145340156,0.05666635063403426,1.4297356159971715,-0.20487065229227758,1.4297356159971715,0.7105088579498139,1.2335828638024375,0.7105088579498139,0.9066616101445477,-0.7279446581449013,-0.20487065229227758,0.18743485209719019,-0.008717900097543696,-1.8394769205817265,-1.6433241683869926,-1.7087084191185706,-0.5971761566817453,0.31820335356034607,-0.40102340448701146,-1.5779399176554147,-0.07410215082912165,0.51435610575508,1.1681986130708595,-1.054865911802791,-1.316402914729103,1.5605041174603274],\"y\":[0.14061176856094382,0.5710137768540393,0.4634132747807655,0.5710137768540393,1.5394182955135043,0.5172135258174024,1.6470187975867783,0.3020125216708547,1.6470187975867783,1.055216036183772,1.4856180444768674,1.055216036183772,1.2166167892936826,-0.12838948662224087,0.3020125216708547,0.6248140278906763,0.4634132747807655,-1.042993754245069,-0.881593001135158,-0.9353932521717949,-0.020788984548966938,0.7324145299639502,0.14061176856094382,-0.8277927500985212,0.40961302374412856,0.893815283073861,1.4318177934402303,-0.3973907418054255,-0.6125917459519734,1.754619299660052],\"type\":\"scatter\"}]},{\"data\":[{\"mode\":\"lines\",\"x\":[-0.40102340448701146,0.12205060136561222,-0.008717900097543696,0.12205060136561222,1.2989671145340156,0.05666635063403426,1.4297356159971715,-0.20487065229227758,1.4297356159971715,0.7105088579498139,1.2335828638024375,0.7105088579498139,0.9066616101445477,-0.7279446581449013,-0.20487065229227758,0.18743485209719019,-0.008717900097543696,-1.8394769205817265,-1.6433241683869926,-1.7087084191185706,-0.5971761566817453,0.31820335356034607,-0.40102340448701146,-1.5779399176554147,-0.07410215082912165,0.51435610575508,1.1681986130708595,-1.054865911802791,-1.316402914729103,1.5605041174603274],\"y\":[0.13654656050199604,0.5661129274599932,0.45872133572049395,0.5661129274599932,1.532637253115487,0.5124171315902436,1.640028844854986,0.297633948111245,1.640028844854986,1.0493750902877401,1.4789414572457371,1.0493750902877401,1.210462477896989,-0.13193241884675222,0.297633948111245,0.6198087233297429,0.45872133572049395,-1.0447609486324962,-0.8836735610232472,-0.9373693568929969,-0.02454082710725286,0.7272003150692421,0.13654656050199604,-0.8299777651534975,0.4050255398507443,0.8882877026784911,1.4252456613759876,-0.4004113981955003,-0.6151945816744991,1.7474204365944854],\"type\":\"scatter\"}]},{\"data\":[{\"mode\":\"lines\",\"x\":[-0.40102340448701146,0.12205060136561222,-0.008717900097543696,0.12205060136561222,1.2989671145340156,0.05666635063403426,1.4297356159971715,-0.20487065229227758,1.4297356159971715,0.7105088579498139,1.2335828638024375,0.7105088579498139,0.9066616101445477,-0.7279446581449013,-0.20487065229227758,0.18743485209719019,-0.008717900097543696,-1.8394769205817265,-1.6433241683869926,-1.7087084191185706,-0.5971761566817453,0.31820335356034607,-0.40102340448701146,-1.5779399176554147,-0.07410215082912165,0.51435610575508,1.1681986130708595,-1.054865911802791,-1.316402914729103,1.5605041174603274],\"y\":[0.13252221807642345,0.5612610215655616,0.454076320693277,0.5612610215655616,1.5259233294161223,0.5076686711294193,1.633108030288407,0.2932992693848502,1.633108030288407,1.043592175490842,1.47233097897998,1.043592175490842,1.2043692267992687,-0.13543953410428788,0.2932992693848502,0.6148533720017038,0.454076320693277,-1.0465094915187063,-0.8857324402102795,-0.9393247906464219,-0.02825483323200334,0.7220380728739884,0.13252221807642345,-0.8321400897741373,0.4004839702571348,0.8828151241824151,1.4187386285438377,-0.40340128628499916,-0.6177706880295684,1.7402927311606913],\"type\":\"scatter\"}]},{\"data\":[{\"mode\":\"lines\",\"x\":[-0.40102340448701146,0.12205060136561222,-0.008717900097543696,0.12205060136561222,1.2989671145340156,0.05666635063403426,1.4297356159971715,-0.20487065229227758,1.4297356159971715,0.7105088579498139,1.2335828638024375,0.7105088579498139,0.9066616101445477,-0.7279446581449013,-0.20487065229227758,0.18743485209719019,-0.008717900097543696,-1.8394769205817265,-1.6433241683869926,-1.7087084191185706,-0.5971761566817453,0.31820335356034607,-0.40102340448701146,-1.5779399176554147,-0.07410215082912165,0.51435610575508,1.1681986130708595,-1.054865911802791,-1.316402914729103,1.5605041174603274],\"y\":[0.12853833056354852,0.5564575703640265,0.4494777604139071,0.5564575703640265,1.5192758599151022,0.5029676653889668,1.6262556698652217,0.2890080454887278,1.6262556698652217,1.0378667151395644,1.4657859549400425,1.0378667151395644,1.1983364300647437,-0.1389111943117502,0.2890080454887278,0.6099474753390863,0.4494777604139071,-1.0482395788877659,-0.8877698639625866,-0.9412597689376465,-0.03193138436163068,0.7169272852892058,0.12853833056354852,-0.8342799589875269,0.3959878554388473,0.877397000214385,1.4122960499649826,-0.4063607191870489,-0.620320339087288,1.733235479815341],\"type\":\"scatter\"}]},{\"data\":[{\"mode\":\"lines\",\"x\":[-0.40102340448701146,0.12205060136561222,-0.008717900097543696,0.12205060136561222,1.2989671145340156,0.05666635063403426,1.4297356159971715,-0.20487065229227758,1.4297356159971715,0.7105088579498139,1.2335828638024375,0.7105088579498139,0.9066616101445477,-0.7279446581449013,-0.20487065229227758,0.18743485209719019,-0.008717900097543696,-1.8394769205817265,-1.6433241683869926,-1.7087084191185706,-0.5971761566817453,0.31820335356034607,-0.40102340448701146,-1.5779399176554147,-0.07410215082912165,0.51435610575508,1.1681986130708595,-1.054865911802791,-1.316402914729103,1.5605041174603274],\"y\":[0.12459449136985618,0.5517020899306645,0.4449251902904624,0.5517020899306645,1.512694186692483,0.49831364011056345,1.6194710863326853,0.28475984083015926,1.6194710863326853,1.032198138311574,1.4593057368723823,1.032198138311574,1.192363487771877,-0.142347757730649,0.28475984083015926,0.6050905397507655,0.4449251902904624,-1.0499514046723664,-0.8897860552120634,-0.9431745050321646,-0.035570858090446855,0.7118674393909676,0.12459449136985618,-0.8363976053919625,0.39153674047036136,0.8720327888512707,1.4059172870522811,-0.40929000683115413,-0.6228438061115583,1.7262479859728872],\"type\":\"scatter\"}]},{\"data\":[{\"mode\":\"lines\",\"x\":[-0.40102340448701146,0.12205060136561222,-0.008717900097543696,0.12205060136561222,1.2989671145340156,0.05666635063403426,1.4297356159971715,-0.20487065229227758,1.4297356159971715,0.7105088579498139,1.2335828638024375,0.7105088579498139,0.9066616101445477,-0.7279446581449013,-0.20487065229227758,0.18743485209719019,-0.008717900097543696,-1.8394769205817265,-1.6433241683869926,-1.7087084191185706,-0.5971761566817453,0.31820335356034607,-0.40102340448701146,-1.5779399176554147,-0.07410215082912165,0.51435610575508,1.1681986130708595,-1.054865911802791,-1.316402914729103,1.5605041174603274],\"y\":[0.12069029798752867,0.5469941011739841,0.4404181503773702,0.5469941011739841,1.5061776583435087,0.49370612577567713,1.6127536091401224,0.28055422418244946,1.6127536091401224,1.0265858797587464,1.4528896829452016,1.0265858797587464,1.186449805953667,-0.14574957900400598,0.28055422418244946,0.6002820765722909,0.4404181503773702,-1.0516451607752235,-0.8917812345803028,-0.9450692099786099,-0.039173628207392064,0.7068580273689048,0.12069029798752867,-0.8384932591819959,0.38713017497906327,0.8667219535638255,1.3996017075468947,-0.41218945599554047,-0.6253413575887684,1.7193295599367362],\"type\":\"scatter\"}]},{\"data\":[{\"mode\":\"lines\",\"x\":[-0.40102340448701146,0.12205060136561222,-0.008717900097543696,0.12205060136561222,1.2989671145340156,0.05666635063403426,1.4297356159971715,-0.20487065229227758,1.4297356159971715,0.7105088579498139,1.2335828638024375,0.7105088579498139,0.9066616101445477,-0.7279446581449013,-0.20487065229227758,0.18743485209719019,-0.008717900097543696,-1.8394769205817265,-1.6433241683869926,-1.7087084191185706,-0.5971761566817453,0.31820335356034607,-0.40102340448701146,-1.5779399176554147,-0.07410215082912165,0.51435610575508,1.1681986130708595,-1.054865911802791,-1.316402914729103,1.5605041174603274],\"y\":[0.11682535195339783,0.5423331297874524,0.43595618532893876,0.5423331297874524,1.499725629914075,0.4891446575581956,1.6061025743725887,0.2763907686411683,1.6061025743725887,1.0210293798507637,1.4465371576848183,1.0210293798507637,1.1805947965385342,-0.14911700919288629,0.2763907686411683,0.5955216020167092,0.43595618532893876,-1.0533210370902522,-0.8937556204024817,-0.9469440926317385,-0.04274006473437253,0.7018985464752228,0.11682535195339783,-0.8405671481732249,0.38276771309968194,0.8614639631629932,1.3933486854555615,-0.4150593703391703,-0.6278132592561976,1.7124795188311024],\"type\":\"scatter\"}]},{\"data\":[{\"mode\":\"lines\",\"x\":[-0.40102340448701146,0.12205060136561222,-0.008717900097543696,0.12205060136561222,1.2989671145340156,0.05666635063403426,1.4297356159971715,-0.20487065229227758,1.4297356159971715,0.7105088579498139,1.2335828638024375,0.7105088579498139,0.9066616101445477,-0.7279446581449013,-0.20487065229227758,0.18743485209719019,-0.008717900097543696,-1.8394769205817265,-1.6433241683869926,-1.7087084191185706,-0.5971761566817453,0.31820335356034607,-0.40102340448701146,-1.5779399176554147,-0.07410215082912165,0.51435610575508,1.1681986130708595,-1.054865911802791,-1.316402914729103,1.5605041174603274],\"y\":[0.11299925880830958,0.5377187062017031,0.4315388443533547,0.5377187062017031,1.4933374628368388,0.4846287752775289,1.599517324685187,0.27226905158083214,1.599517324685187,1.015528084519271,1.4402475319126644,1.015528084519271,1.1747978772917935,-0.15245039581256142,0.27226905158083214,0.5908086371258774,0.4315388443533547,-1.0549792215235227,-0.8957094287510001,-0.9487993596751745,-0.04627053396421299,0.6969884989742257,0.11299925880830958,-0.842619497826826,0.3784489134291805,0.8562582917467483,1.3871576009884903,-0.4179000504334323,-0.6302597741301292,1.7056971865335353],\"type\":\"scatter\"}]},{\"data\":[{\"mode\":\"lines\",\"x\":[-0.40102340448701146,0.12205060136561222,-0.008717900097543696,0.12205060136561222,1.2989671145340156,0.05666635063403426,1.4297356159971715,-0.20487065229227758,1.4297356159971715,0.7105088579498139,1.2335828638024375,0.7105088579498139,0.9066616101445477,-0.7279446581449013,-0.20487065229227758,0.18743485209719019,-0.008717900097543696,-1.8394769205817265,-1.6433241683869926,-1.7087084191185706,-0.5971761566817453,0.31820335356034607,-0.40102340448701146,-1.5779399176554147,-0.07410215082912165,0.51435610575508,1.1681986130708595,-1.054865911802791,-1.316402914729103,1.5605041174603274],\"y\":[0.10921162805689583,0.5331503655372215,0.4271656811671401,0.5331503655372215,1.4870125248679542,0.4801580233521808,1.5929972092380356,0.2681886546120179,1.5929972092380356,1.010081445202588,1.4340201826829135,1.010081445202588,1.16905847175771,-0.15575008286830777,0.2681886546120179,0.5861427077222622,0.4271656811671401,-1.0566199000139997,-0.8976428734588775,-0.9506352156439184,-0.049765398498226254,0.6921273920923436,0.10921162805689583,-0.844650531273837,0.37417333898209937,0.8511044186474657,1.3810278404978729,-0.42071179379351126,-0.6326811625336741,1.6989818936081171],\"type\":\"scatter\"}]},{\"data\":[{\"mode\":\"lines\",\"x\":[-0.40102340448701146,0.12205060136561222,-0.008717900097543696,0.12205060136561222,1.2989671145340156,0.05666635063403426,1.4297356159971715,-0.20487065229227758,1.4297356159971715,0.7105088579498139,1.2335828638024375,0.7105088579498139,0.9066616101445477,-0.7279446581449013,-0.20487065229227758,0.18743485209719019,-0.008717900097543696,-1.8394769205817265,-1.6433241683869926,-1.7087084191185706,-0.5971761566817453,0.31820335356034607,-0.40102340448701146,-1.5779399176554147,-0.07410215082912165,0.51435610575508,1.1681986130708595,-1.054865911802791,-1.316402914729103,1.5605041174603274],\"y\":[0.1054620731277518,0.5286276475575026,0.42283625395006486,0.5286276475575026,1.4807501900244417,0.4757319507537837,1.5865415836318795,0.2641491635389083,1.5865415836318795,1.0046889187909722,1.4278544932207229,1.0046889187909722,1.1633760092021288,-0.15901641089084245,0.2641491635389083,0.5815233443612214,0.42283625395006486,-1.058243256554063,-0.8995561661429063,-0.9524518629466252,-0.05322501728340473,0.687314737968659,0.1054620731277518,-0.8466604693391875,0.36994055714634605,0.8460018283798156,1.374958796417004,-0.42349489490943665,-0.6350776821243123,1.6923329772393172],\"type\":\"scatter\"}]},{\"data\":[{\"mode\":\"lines\",\"x\":[-0.40102340448701146,0.12205060136561222,-0.008717900097543696,0.12205060136561222,1.2989671145340156,0.05666635063403426,1.4297356159971715,-0.20487065229227758,1.4297356159971715,0.7105088579498139,1.2335828638024375,0.7105088579498139,0.9066616101445477,-0.7279446581449013,-0.20487065229227758,0.18743485209719019,-0.008717900097543696,-1.8394769205817265,-1.6433241683869926,-1.7087084191185706,-0.5971761566817453,0.31820335356034607,-0.40102340448701146,-1.5779399176554147,-0.07410215082912165,0.51435610575508,1.1681986130708595,-1.054865911802791,-1.316402914729103,1.5605041174603274],\"y\":[0.10175021133401213,0.5241500966226769,0.4185501253005107,0.5241500966226769,1.4745498385221727,0.4713501109615938,1.5801498098443387,0.26015016831726145,1.5801498098443387,0.9993499675724248,1.4217498528610895,0.9993499675724248,1.1577499245556742,-0.16224971697140333,0.26015016831726145,0.57695008228376,0.4185501253005107,-1.059849473209816,-0.9014495162265664,-0.9542495018876497,-0.05664974564923708,0.6825500536059261,0.10175021133401213,-0.8486495305654836,0.3657501396394276,0.8409500105891754,1.3689498672000062,-0.42624964527681874,-0.6374495879211511,1.6857497811665048],\"type\":\"scatter\"}]},{\"data\":[{\"mode\":\"lines\",\"x\":[-0.40102340448701146,0.12205060136561222,-0.008717900097543696,0.12205060136561222,1.2989671145340156,0.05666635063403426,1.4297356159971715,-0.20487065229227758,1.4297356159971715,0.7105088579498139,1.2335828638024375,0.7105088579498139,0.9066616101445477,-0.7279446581449013,-0.20487065229227758,0.18743485209719019,-0.008717900097543696,-1.8394769205817265,-1.6433241683869926,-1.7087084191185706,-0.5971761566817453,0.31820335356034607,-0.40102340448701146,-1.5779399176554147,-0.07410215082912165,0.51435610575508,1.1681986130708595,-1.054865911802791,-1.316402914729103,1.5605041174603274],\"y\":[0.0980756638343237,0.5197172616435997,0.41430686219128066,0.5197172616435997,1.4684108567144705,0.46701206191744016,1.5738212561667893,0.25619126301280215,1.5738212561667893,0.9940640591790351,1.4157056569883109,0.9940640591790351,1.1521796583575135,-0.16545033479647375,0.25619126301280215,0.5724224613697592,0.41430686219128066,-1.0614387301411852,-0.9033231309627064,-0.9560283306888661,-0.06003993534415469,0.677832860822078,0.0980756638343237,-0.850617931236547,0.36160166246512115,0.8359484600005566,1.3630004572621512,-0.42897633342727115,-0.6397971323319093,1.6792316556191085],\"type\":\"scatter\"}]},{\"data\":[{\"mode\":\"lines\",\"x\":[-0.40102340448701146,0.12205060136561222,-0.008717900097543696,0.12205060136561222,1.2989671145340156,0.05666635063403426,1.4297356159971715,-0.20487065229227758,1.4297356159971715,0.7105088579498139,1.2335828638024375,0.7105088579498139,0.9066616101445477,-0.7279446581449013,-0.20487065229227758,0.18743485209719019,-0.008717900097543696,-1.8394769205817265,-1.6433241683869926,-1.7087084191185706,-0.5971761566817453,0.31820335356034607,-0.40102340448701146,-1.5779399176554147,-0.07410215082912165,0.51435610575508,1.1681986130708595,-1.054865911802791,-1.316402914729103,1.5605041174603274],\"y\":[0.09443805559421026,0.5153286960363981,0.4101060359258511,0.5153286960363981,1.4623326370313208,0.46271736598112456,1.5675552971418676,0.2522720457600307,1.5675552971418676,0.9888306665338594,1.409721306976047,0.9888306665338594,1.1466646566996799,-0.16861859468215712,0.2522720457600307,0.5679400260916716,0.4101060359258511,-1.0630112056218062,-0.9051772154559856,-0.9577885455112594,-0.06339593457161014,0.6731626862022184,0.09443805559421026,-0.8525658854007123,0.35749470587057763,0.830996676368039,1.3571099769207735,-0.4316752449585245,-0.6421205651796185,1.6727779572524146],\"type\":\"scatter\"}]},{\"data\":[{\"mode\":\"lines\",\"x\":[-0.40102340448701146,0.12205060136561222,-0.008717900097543696,0.12205060136561222,1.2989671145340156,0.05666635063403426,1.4297356159971715,-0.20487065229227758,1.4297356159971715,0.7105088579498139,1.2335828638024375,0.7105088579498139,0.9066616101445477,-0.7279446581449013,-0.20487065229227758,0.18743485209719019,-0.008717900097543696,-1.8394769205817265,-1.6433241683869926,-1.7087084191185706,-0.5971761566817453,0.31820335356034607,-0.40102340448701146,-1.5779399176554147,-0.07410215082912165,0.51435610575508,1.1681986130708595,-1.054865911802791,-1.316402914729103,1.5605041174603274],\"y\":[0.09083701534782507,0.5109839576774733,0.40594722209506123,0.5109839576774733,1.456314577919182,0.4584655898862673,1.561351313501594,0.24839211872144315,1.561351313501594,0.9836492677983276,1.4037962101279757,0.9836492677983276,1.1412043711719457,-0.17175482360820515,0.24839211872144315,0.5635023254686793,0.40594722209506123,-1.0645670760587076,-0.9070119726850894,-0.9595303404762956,-0.06671808802579299,0.6685390610510914,0.09083701534782507,-0.8544936048938836,0.35342885430385523,0.8260941644247095,1.3512778423367697,-0.43434666256423526,-0.6444201337290594,1.666388049084006],\"type\":\"scatter\"}]},{\"data\":[{\"mode\":\"lines\",\"x\":[-0.40102340448701146,0.12205060136561222,-0.008717900097543696,0.12205060136561222,1.2989671145340156,0.05666635063403426,1.4297356159971715,-0.20487065229227758,1.4297356159971715,0.7105088579498139,1.2335828638024375,0.7105088579498139,0.9066616101445477,-0.7279446581449013,-0.20487065229227758,0.18743485209719019,-0.008717900097543696,-1.8394769205817265,-1.6433241683869926,-1.7087084191185706,-0.5971761566817453,0.31820335356034607,-0.40102340448701146,-1.5779399176554147,-0.07410215082912165,0.51435610575508,1.1681986130708595,-1.054865911802791,-1.316402914729103,1.5605041174603274],\"y\":[0.08727217556008804,0.5066826088589512,0.40183000053423545,0.5066826088589512,1.4503560837813936,0.45425630469659334,1.5552086921061092,0.24455108804716175,1.5552086921061092,0.9785193463201725,1.3979297796190355,0.9785193463201725,1.1357982588072462,-0.17485934525170155,0.24455108804716175,0.5591089130213092,0.40183000053423545,-1.0661065160117857,-0.9088276035247121,-0.96125390768707,-0.07000673692698567,0.6639615213460249,0.08727217556008804,-0.8564012993623543,0.34940369637187757,0.8212404338330986,1.3455034754566775,-0.4369908660634909,-0.6466960827129228,1.6600613004308253],\"type\":\"scatter\"}]},{\"data\":[{\"mode\":\"lines\",\"x\":[-0.40102340448701146,0.12205060136561222,-0.008717900097543696,0.12205060136561222,1.2989671145340156,0.05666635063403426,1.4297356159971715,-0.20487065229227758,1.4297356159971715,0.7105088579498139,1.2335828638024375,0.7105088579498139,0.9066616101445477,-0.7279446581449013,-0.20487065229227758,0.18743485209719019,-0.008717900097543696,-1.8394769205817265,-1.6433241683869926,-1.7087084191185706,-0.5971761566817453,0.31820335356034607,-0.40102340448701146,-1.5779399176554147,-0.07410215082912165,0.51435610575508,1.1681986130708595,-1.054865911802791,-1.316402914729103,1.5605041174603274],\"y\":[0.08374317238920292,0.5024242162445787,0.39775395528073476,0.5024242162445787,1.4444565649191743,0.4500890857626567,1.5491268258830182,0.24074856383496884,1.5491268258830182,0.9734403905818765,1.3921214344372523,0.9734403905818765,1.1304457820276423,-0.177932480020407,0.24074856383496884,0.5547593467265006,0.39775395528073476,-1.0676296982130806,-0.9106243067673145,-0.9629594372492365,-0.07326221905656294,0.6594296076903445,0.08374317238920292,-0.8582891762853926,0.3454188247988128,0.8164349991361105,1.3397863039553302,-0.4396081324300168,-0.6489486543577048,1.653797086846862],\"type\":\"scatter\"}]},{\"data\":[{\"mode\":\"lines\",\"x\":[-0.40102340448701146,0.12205060136561222,-0.008717900097543696,0.12205060136561222,1.2989671145340156,0.05666635063403426,1.4297356159971715,-0.20487065229227758,1.4297356159971715,0.7105088579498139,1.2335828638024375,0.7105088579498139,0.9066616101445477,-0.7279446581449013,-0.20487065229227758,0.18743485209719019,-0.008717900097543696,-1.8394769205817265,-1.6433241683869926,-1.7087084191185706,-0.5971761566817453,0.31820335356034607,-0.40102340448701146,-1.5779399176554147,-0.07410215082912165,0.51435610575508,1.1681986130708595,-1.054865911802791,-1.316402914729103,1.5605041174603274],\"y\":[0.08024964564955112,0.4982083508260598,0.39371867453193266,0.4982083508260598,1.4386154374732045,0.44596351267899625,1.5431051137673317,0.23698416009074189,1.5431051137673317,0.9684118941496321,1.3863705993261408,0.9684118941496321,1.125146408590823,-0.18097454508576682,0.23698416009074189,0.5504531889731235,0.39371867453193266,-1.0691367935858478,-0.9124022791446571,-0.9646471172917206,-0.07648486879163963,0.6549428652672505,0.08024964564955112,-0.8601574409975936,0.34147383638486906,0.8116773797084413,1.3341257611790773,-0.4421987358210847,-0.6511780884093392,1.6475947900614587],\"type\":\"scatter\"}]},{\"data\":[{\"mode\":\"lines\",\"x\":[-0.40102340448701146,0.12205060136561222,-0.008717900097543696,0.12205060136561222,1.2989671145340156,0.05666635063403426,1.4297356159971715,-0.20487065229227758,1.4297356159971715,0.7105088579498139,1.2335828638024375,0.7105088579498139,0.9066616101445477,-0.7279446581449013,-0.20487065229227758,0.18743485209719019,-0.008717900097543696,-1.8394769205817265,-1.6433241683869926,-1.7087084191185706,-0.5971761566817453,0.31820335356034607,-0.40102340448701146,-1.5779399176554147,-0.07410215082912165,0.51435610575508,1.1681986130708595,-1.054865911802791,-1.316402914729103,1.5605041174603274],\"y\":[0.07679123877495819,0.4940345878798289,0.38972375060361125,0.4940345878798289,1.4328321233657881,0.44187916924172005,1.5371429606420057,0.23325749468928472,1.5371429606420057,0.9634333556228085,1.3806767047276791,0.9634333556228085,1.119899611537135,-0.18398585441558596,0.23325749468928472,0.5461900065179377,0.38972375060361125,-1.0706279712634361,-0.9141617153491095,-0.9663171339872185,-0.07967501713936825,0.6505008437941554,0.07679123877495819,-0.8620062967110007,0.3375683319655024,0.8069670997084819,1.32852128608957,-0.44476294760613005,-0.6533846221585655,1.6414537979182233],\"type\":\"scatter\"}]},{\"data\":[{\"mode\":\"lines\",\"x\":[-0.40102340448701146,0.12205060136561222,-0.008717900097543696,0.12205060136561222,1.2989671145340156,0.05666635063403426,1.4297356159971715,-0.20487065229227758,1.4297356159971715,0.7105088579498139,1.2335828638024375,0.7105088579498139,0.9066616101445477,-0.7279446581449013,-0.20487065229227758,0.18743485209719019,-0.008717900097543696,-1.8394769205817265,-1.6433241683869926,-1.7087084191185706,-0.5971761566817453,0.31820335356034607,-0.40102340448701146,-1.5779399176554147,-0.07410215082912165,0.51435610575508,1.1681986130708595,-1.054865911802791,-1.316402914729103,1.5605041174603274],\"y\":[0.07336759878232951,0.4899025069242547,0.3857687798887734,0.4899025069242547,1.4271060502435864,0.43783564340651404,1.5312397772790678,0.22956818933555145,1.5312397772790678,0.9585042785839206,1.3750391867258458,0.9585042785839206,1.1147048691371424,-0.18696671880637372,0.22956818933555145,0.5419693704419953,0.3857687798887734,-1.0721033986079647,-0.9159028080547427,-0.9679696715724835,-0.08283299177089243,0.6461030974774766,0.07336759878232951,-0.8638359445370023,0.33370191637103275,0.8023036880306986,1.322972323208105,-0.4473010363950769,-0.6555684904660397,1.635373504314549],\"type\":\"scatter\"}]},{\"data\":[{\"mode\":\"lines\",\"x\":[-0.40102340448701146,0.12205060136561222,-0.008717900097543696,0.12205060136561222,1.2989671145340156,0.05666635063403426,1.4297356159971715,-0.20487065229227758,1.4297356159971715,0.7105088579498139,1.2335828638024375,0.7105088579498139,0.9066616101445477,-0.7279446581449013,-0.20487065229227758,0.18743485209719019,-0.008717900097543696,-1.8394769205817265,-1.6433241683869926,-1.7087084191185706,-0.5971761566817453,0.31820335356034607,-0.40102340448701146,-1.5779399176554147,-0.07410215082912165,0.51435610575508,1.1681986130708595,-1.054865911802791,-1.316402914729103,1.5605041174603274],\"y\":[0.06997837623565095,0.48581169167727245,0.38185336281686705,0.48581169167727245,1.421436651420921,0.4338325272470698,1.5253949802813263,0.225915869526259,1.5253949802813263,0.9536241715490967,1.3694574869907181,0.9536241715490967,1.1095616648397049,-0.18991744591536253,0.225915869526259,0.5377908561074751,0.38185336281686705,-1.0735632412288083,-0.9176257479382002,-0.969604912368403,-0.08595911705495712,0.6417491849678805,0.06997837623565095,-0.8656465835079976,0.3298741983866644,0.7976866782584886,1.3174783225605156,-0.4498132680663759,-0.6577299257871869,1.6293533091417316],\"type\":\"scatter\"}]},{\"data\":[{\"mode\":\"lines\",\"x\":[-0.40102340448701146,0.12205060136561222,-0.008717900097543696,0.12205060136561222,1.2989671145340156,0.05666635063403426,1.4297356159971715,-0.20487065229227758,1.4297356159971715,0.7105088579498139,1.2335828638024375,0.7105088579498139,0.9066616101445477,-0.7279446581449013,-0.20487065229227758,0.18743485209719019,-0.008717900097543696,-1.8394769205817265,-1.6433241683869926,-1.7087084191185706,-0.5971761566817453,0.31820335356034607,-0.40102340448701146,-1.5779399176554147,-0.07410215082912165,0.51435610575508,1.1681986130708595,-1.054865911802791,-1.316402914729103,1.5605041174603274],\"y\":[0.06662322521035152,0.4817617300144389,0.37797710381341704,0.4817617300144389,1.4158233658236357,0.429869416913928,1.5196079920246575,0.22230016451188428,1.5196079920246575,0.9487925479190373,1.3639310527231245,0.9487925479190373,1.10446948722057,-0.1928383402922031,0.22230016451188428,0.5336540431149498,0.37797710381341704,-1.0750076630008887,-0.919330723699356,-0.9712230367998669,-0.08905371409118124,0.6374386693159717,0.06662322521035152,-0.8674384105988451,0.32608479071290614,0.7931156086175044,1.3120387396226136,-0.4522999057947577,-0.6598691581968015,1.6233926182256793],\"type\":\"scatter\"}]},{\"data\":[{\"mode\":\"lines\",\"x\":[-0.40102340448701146,0.12205060136561222,-0.008717900097543696,0.12205060136561222,1.2989671145340156,0.05666635063403426,1.4297356159971715,-0.20487065229227758,1.4297356159971715,0.7105088579498139,1.2335828638024375,0.7105088579498139,0.9066616101445477,-0.7279446581449013,-0.20487065229227758,0.18743485209719019,-0.008717900097543696,-1.8394769205817265,-1.6433241683869926,-1.7087084191185706,-0.5971761566817453,0.31820335356034607,-0.40102340448701146,-1.5779399176554147,-0.07410215082912165,0.51435610575508,1.1681986130708595,-1.054865911802791,-1.316402914729103,1.5605041174603274],\"y\":[0.06330180325802348,0.4777522139274063,0.37413961126006057,0.4777522139274063,1.4102656379335177,0.42594591259373343,1.5138782406008633,0.21872070725904202,1.5138782406008633,0.9440089259304619,1.3584593365998447,0.9440089259304619,1.0994278299314804,-0.1957297034103408,0.21872070725904202,0.5295585152610791,0.37413961126006057,-1.0764368260827792,-0.9210179220817605,-0.9728242234154334,-0.092117100742995,0.6331711179284247,0.06330180325802348,-0.8692116207480878,0.32233330992638776,0.7885900219294434,1.3066530352661718,-0.45476121007870496,-0.6619864154133965,1.617490843268209],\"type\":\"scatter\"}]},{\"data\":[{\"mode\":\"lines\",\"x\":[-0.40102340448701146,0.12205060136561222,-0.008717900097543696,0.12205060136561222,1.2989671145340156,0.05666635063403426,1.4297356159971715,-0.20487065229227758,1.4297356159971715,0.7105088579498139,1.2335828638024375,0.7105088579498139,0.9066616101445477,-0.7279446581449013,-0.20487065229227758,0.18743485209719019,-0.008717900097543696,-1.8394769205817265,-1.6433241683869926,-1.7087084191185706,-0.5971761566817453,0.31820335356034607,-0.40102340448701146,-1.5779399176554147,-0.07410215082912165,0.51435610575508,1.1681986130708595,-1.054865911802791,-1.316402914729103,1.5605041174603274],\"y\":[0.06001377137149766,0.47378273948281135,0.37034049745498293,0.47378273948281135,1.404762917733267,0.4220616184688971,1.5082051597610957,0.21517713441324027,1.5082051597610957,0.9392728286080393,1.3530417967193529,0.9392728286080393,1.0944361916497818,-0.19859183369807343,0.21517713441324027,0.5255038604967255,0.37034049745498293,-1.0778508909346147,-0.9226875278928722,-0.9744086489067866,-0.09514959167024495,0.628946102524554,0.06001377137149766,-0.8709664068789581,0.3186193764410687,0.7841094655662966,1.3013206757054387,-0.4571974387676444,-0.6640819228233014,1.611647401788924],\"type\":\"scatter\"}]},{\"data\":[{\"mode\":\"lines\",\"x\":[-0.40102340448701146,0.12205060136561222,-0.008717900097543696,0.12205060136561222,1.2989671145340156,0.05666635063403426,1.4297356159971715,-0.20487065229227758,1.4297356159971715,0.7105088579498139,1.2335828638024375,0.7105088579498139,0.9066616101445477,-0.7279446581449013,-0.20487065229227758,0.18743485209719019,-0.008717900097543696,-1.8394769205817265,-1.6433241683869926,-1.7087084191185706,-0.5971761566817453,0.31820335356034607,-0.40102340448701146,-1.5779399176554147,-0.07410215082912165,0.51435610575508,1.1681986130708595,-1.054865911802791,-1.316402914729103,1.5605041174603274],\"y\":[0.05675879395026856,0.46985290678157443,0.36657937857374795,0.46985290678157443,1.3993146606520126,0.4182161426776612,1.5025881888598391,0.21166908626200828,1.5025881888598391,0.9345837837167936,1.3476778965480993,0.9345837837167936,1.0894940760285332,-0.20142502656929762,0.21166908626200828,0.5214896708854877,0.36657937857374795,-1.0792500163358225,-0.9243397240240828,-0.9759764881279961,-0.09815149836147108,0.6247631990933141,0.05675879395026856,-0.8727029599201698,0.31494261446983474,0.7796734914050538,1.296041132444186,-0.45960884708886374,-0.6661559035045167,1.6058617170676657],\"type\":\"scatter\"}]},{\"data\":[{\"mode\":\"lines\",\"x\":[-0.40102340448701146,0.12205060136561222,-0.008717900097543696,0.12205060136561222,1.2989671145340156,0.05666635063403426,1.4297356159971715,-0.20487065229227758,1.4297356159971715,0.7105088579498139,1.2335828638024375,0.7105088579498139,0.9066616101445477,-0.7279446581449013,-0.20487065229227758,0.18743485209719019,-0.008717900097543696,-1.8394769205817265,-1.6433241683869926,-1.7087084191185706,-0.5971761566817453,0.31820335356034607,-0.40102340448701146,-1.5779399176554147,-0.07410215082912165,0.51435610575508,1.1681986130708595,-1.054865911802791,-1.316402914729103,1.5605041174603274],\"y\":[0.053536538766267794,0.4659623199186059,0.3628558746305214,0.4659623199186059,1.3939203275113667,0.41440909727456365,1.4970267727994513,0.2081962066983946,1.4970267727994513,0.9299413237149864,1.3423671048673245,0.9299413237149864,1.084600991647113,-0.20422957445394363,0.2081962066983946,0.5175155425626482,0.3628558746305214,-1.0806343594026622,-0.9259746914705351,-0.9775279141145776,-0.10112312916585897,0.6206219878507326,0.053536538766267794,-0.8744214688264931,0.3113026519864791,0.7752816557828595,1.290813882223282,-0.4619956876741549,-0.668208578250324,1.6001332180875358],\"type\":\"scatter\"}]}]);\n",
       "                        }).then(function(){\n",
       "                            \n",
       "var gd = document.getElementById('b35195ef-6c3f-4fa4-b03a-1397f7c99d5a');\n",
       "var x = new MutationObserver(function (mutations, observer) {{\n",
       "        var display = window.getComputedStyle(gd).display;\n",
       "        if (!display || display === 'none') {{\n",
       "            console.log([gd, 'removed!']);\n",
       "            Plotly.purge(gd);\n",
       "            observer.disconnect();\n",
       "        }}\n",
       "}});\n",
       "\n",
       "// Listen for the removal of the full notebook cells\n",
       "var notebookContainer = gd.closest('#notebook-container');\n",
       "if (notebookContainer) {{\n",
       "    x.observe(notebookContainer, {childList: true});\n",
       "}}\n",
       "\n",
       "// Listen for the clearing of the current output cell\n",
       "var outputEl = gd.closest('.output');\n",
       "if (outputEl) {{\n",
       "    x.observe(outputEl, {childList: true});\n",
       "}}\n",
       "\n",
       "                        })                };                });            </script>        </div>"
      ]
     },
     "metadata": {},
     "output_type": "display_data"
    }
   ],
   "source": [
    "fig"
   ]
  },
  {
   "cell_type": "code",
   "execution_count": 121,
   "metadata": {},
   "outputs": [],
   "source": [
    "w_ols = np.linalg.inv(X_.T @ X_) @ X_.T @ y"
   ]
  },
  {
   "cell_type": "code",
   "execution_count": 122,
   "metadata": {},
   "outputs": [],
   "source": [
    "predict_ols = X_ @ w_ols"
   ]
  },
  {
   "cell_type": "code",
   "execution_count": 123,
   "metadata": {},
   "outputs": [
    {
     "data": {
      "application/vnd.plotly.v1+json": {
       "config": {
        "plotlyServerURL": "https://plot.ly"
       },
       "data": [
        {
         "hovertemplate": "x=%{x}<br>y=%{y}<extra></extra>",
         "legendgroup": "",
         "marker": {
          "color": "#636efa",
          "symbol": "circle"
         },
         "mode": "markers",
         "name": "",
         "orientation": "v",
         "showlegend": false,
         "type": "scatter",
         "x": [
          -0.40102340448701146,
          0.12205060136561222,
          -0.008717900097543696,
          0.12205060136561222,
          1.2989671145340156,
          0.05666635063403426,
          1.4297356159971715,
          -0.20487065229227758,
          1.4297356159971715,
          0.7105088579498139,
          1.2335828638024375,
          0.7105088579498139,
          0.9066616101445477,
          -0.7279446581449013,
          -0.20487065229227758,
          0.18743485209719019,
          -0.008717900097543696,
          -1.8394769205817265,
          -1.6433241683869926,
          -1.7087084191185706,
          -0.5971761566817453,
          0.31820335356034607,
          -0.40102340448701146,
          -1.5779399176554147,
          -0.07410215082912165,
          0.51435610575508,
          1.1681986130708595,
          -1.054865911802791,
          -1.316402914729103,
          1.5605041174603274
         ],
         "xaxis": "x",
         "y": [
          0.06495065444280122,
          3.4305754755697695,
          -0.2007565682777489,
          0.10923519156289292,
          0.8620723226044517,
          -0.02361841979738215,
          1.2163486195651851,
          -0.8207400879590325,
          0.6849341741240849,
          0.5077960256437182,
          0.8620723226044517,
          0.3306578771633514,
          -0.11218749403756553,
          -1.4407236076403163,
          -0.6436019394786658,
          -0.5550328652384824,
          -0.333610179638024,
          -1.2635854591599496,
          -1.1750163849197661,
          -0.8207400879590325,
          -0.2893256425179323,
          -0.02361841979738215,
          -0.9978782364393993,
          -0.9978782364393993,
          0.7735032483642683,
          0.6849341741240849,
          0.06495065444280122,
          -0.5550328652384824,
          -0.7764555508389409,
          1.4377713051656436
         ],
         "yaxis": "y"
        },
        {
         "type": "scatter",
         "x": [
          -0.40102340448701146,
          0.12205060136561222,
          -0.008717900097543696,
          0.12205060136561222,
          1.2989671145340156,
          0.05666635063403426,
          1.4297356159971715,
          -0.20487065229227758,
          1.4297356159971715,
          0.7105088579498139,
          1.2335828638024375,
          0.7105088579498139,
          0.9066616101445477,
          -0.7279446581449013,
          -0.20487065229227758,
          0.18743485209719019,
          -0.008717900097543696,
          -1.8394769205817265,
          -1.6433241683869926,
          -1.7087084191185706,
          -0.5971761566817453,
          0.31820335356034607,
          -0.40102340448701146,
          -1.5779399176554147,
          -0.07410215082912165,
          0.51435610575508,
          1.1681986130708595,
          -1.054865911802791,
          -1.316402914729103,
          1.5605041174603274
         ],
         "y": [
          -0.26369987058587196,
          0.08025648235222206,
          -0.005732605882301453,
          0.08025648235222206,
          0.8541582764629337,
          0.037261938234960296,
          0.9401473646974573,
          -0.13471623823408674,
          0.9401473646974573,
          0.4672073794075779,
          0.811163732345672,
          0.4672073794075779,
          0.5961910117593632,
          -0.4786725911721808,
          -0.13471623823408674,
          0.12325102646948383,
          -0.005732605882301453,
          -1.2095798411656307,
          -1.0805962088138454,
          -1.123590752931107,
          -0.3926835029376572,
          0.2092401147040073,
          -0.26369987058587196,
          -1.0376016646965838,
          -0.04872714999956321,
          0.3382237470557926,
          0.7681691882284101,
          -0.6936453117584895,
          -0.8656234882275367,
          1.0261364529319805
         ]
        }
       ],
       "layout": {
        "legend": {
         "tracegroupgap": 0
        },
        "margin": {
         "t": 60
        },
        "template": {
         "data": {
          "bar": [
           {
            "error_x": {
             "color": "#2a3f5f"
            },
            "error_y": {
             "color": "#2a3f5f"
            },
            "marker": {
             "line": {
              "color": "#E5ECF6",
              "width": 0.5
             },
             "pattern": {
              "fillmode": "overlay",
              "size": 10,
              "solidity": 0.2
             }
            },
            "type": "bar"
           }
          ],
          "barpolar": [
           {
            "marker": {
             "line": {
              "color": "#E5ECF6",
              "width": 0.5
             },
             "pattern": {
              "fillmode": "overlay",
              "size": 10,
              "solidity": 0.2
             }
            },
            "type": "barpolar"
           }
          ],
          "carpet": [
           {
            "aaxis": {
             "endlinecolor": "#2a3f5f",
             "gridcolor": "white",
             "linecolor": "white",
             "minorgridcolor": "white",
             "startlinecolor": "#2a3f5f"
            },
            "baxis": {
             "endlinecolor": "#2a3f5f",
             "gridcolor": "white",
             "linecolor": "white",
             "minorgridcolor": "white",
             "startlinecolor": "#2a3f5f"
            },
            "type": "carpet"
           }
          ],
          "choropleth": [
           {
            "colorbar": {
             "outlinewidth": 0,
             "ticks": ""
            },
            "type": "choropleth"
           }
          ],
          "contour": [
           {
            "colorbar": {
             "outlinewidth": 0,
             "ticks": ""
            },
            "colorscale": [
             [
              0,
              "#0d0887"
             ],
             [
              0.1111111111111111,
              "#46039f"
             ],
             [
              0.2222222222222222,
              "#7201a8"
             ],
             [
              0.3333333333333333,
              "#9c179e"
             ],
             [
              0.4444444444444444,
              "#bd3786"
             ],
             [
              0.5555555555555556,
              "#d8576b"
             ],
             [
              0.6666666666666666,
              "#ed7953"
             ],
             [
              0.7777777777777778,
              "#fb9f3a"
             ],
             [
              0.8888888888888888,
              "#fdca26"
             ],
             [
              1,
              "#f0f921"
             ]
            ],
            "type": "contour"
           }
          ],
          "contourcarpet": [
           {
            "colorbar": {
             "outlinewidth": 0,
             "ticks": ""
            },
            "type": "contourcarpet"
           }
          ],
          "heatmap": [
           {
            "colorbar": {
             "outlinewidth": 0,
             "ticks": ""
            },
            "colorscale": [
             [
              0,
              "#0d0887"
             ],
             [
              0.1111111111111111,
              "#46039f"
             ],
             [
              0.2222222222222222,
              "#7201a8"
             ],
             [
              0.3333333333333333,
              "#9c179e"
             ],
             [
              0.4444444444444444,
              "#bd3786"
             ],
             [
              0.5555555555555556,
              "#d8576b"
             ],
             [
              0.6666666666666666,
              "#ed7953"
             ],
             [
              0.7777777777777778,
              "#fb9f3a"
             ],
             [
              0.8888888888888888,
              "#fdca26"
             ],
             [
              1,
              "#f0f921"
             ]
            ],
            "type": "heatmap"
           }
          ],
          "heatmapgl": [
           {
            "colorbar": {
             "outlinewidth": 0,
             "ticks": ""
            },
            "colorscale": [
             [
              0,
              "#0d0887"
             ],
             [
              0.1111111111111111,
              "#46039f"
             ],
             [
              0.2222222222222222,
              "#7201a8"
             ],
             [
              0.3333333333333333,
              "#9c179e"
             ],
             [
              0.4444444444444444,
              "#bd3786"
             ],
             [
              0.5555555555555556,
              "#d8576b"
             ],
             [
              0.6666666666666666,
              "#ed7953"
             ],
             [
              0.7777777777777778,
              "#fb9f3a"
             ],
             [
              0.8888888888888888,
              "#fdca26"
             ],
             [
              1,
              "#f0f921"
             ]
            ],
            "type": "heatmapgl"
           }
          ],
          "histogram": [
           {
            "marker": {
             "pattern": {
              "fillmode": "overlay",
              "size": 10,
              "solidity": 0.2
             }
            },
            "type": "histogram"
           }
          ],
          "histogram2d": [
           {
            "colorbar": {
             "outlinewidth": 0,
             "ticks": ""
            },
            "colorscale": [
             [
              0,
              "#0d0887"
             ],
             [
              0.1111111111111111,
              "#46039f"
             ],
             [
              0.2222222222222222,
              "#7201a8"
             ],
             [
              0.3333333333333333,
              "#9c179e"
             ],
             [
              0.4444444444444444,
              "#bd3786"
             ],
             [
              0.5555555555555556,
              "#d8576b"
             ],
             [
              0.6666666666666666,
              "#ed7953"
             ],
             [
              0.7777777777777778,
              "#fb9f3a"
             ],
             [
              0.8888888888888888,
              "#fdca26"
             ],
             [
              1,
              "#f0f921"
             ]
            ],
            "type": "histogram2d"
           }
          ],
          "histogram2dcontour": [
           {
            "colorbar": {
             "outlinewidth": 0,
             "ticks": ""
            },
            "colorscale": [
             [
              0,
              "#0d0887"
             ],
             [
              0.1111111111111111,
              "#46039f"
             ],
             [
              0.2222222222222222,
              "#7201a8"
             ],
             [
              0.3333333333333333,
              "#9c179e"
             ],
             [
              0.4444444444444444,
              "#bd3786"
             ],
             [
              0.5555555555555556,
              "#d8576b"
             ],
             [
              0.6666666666666666,
              "#ed7953"
             ],
             [
              0.7777777777777778,
              "#fb9f3a"
             ],
             [
              0.8888888888888888,
              "#fdca26"
             ],
             [
              1,
              "#f0f921"
             ]
            ],
            "type": "histogram2dcontour"
           }
          ],
          "mesh3d": [
           {
            "colorbar": {
             "outlinewidth": 0,
             "ticks": ""
            },
            "type": "mesh3d"
           }
          ],
          "parcoords": [
           {
            "line": {
             "colorbar": {
              "outlinewidth": 0,
              "ticks": ""
             }
            },
            "type": "parcoords"
           }
          ],
          "pie": [
           {
            "automargin": true,
            "type": "pie"
           }
          ],
          "scatter": [
           {
            "marker": {
             "colorbar": {
              "outlinewidth": 0,
              "ticks": ""
             }
            },
            "type": "scatter"
           }
          ],
          "scatter3d": [
           {
            "line": {
             "colorbar": {
              "outlinewidth": 0,
              "ticks": ""
             }
            },
            "marker": {
             "colorbar": {
              "outlinewidth": 0,
              "ticks": ""
             }
            },
            "type": "scatter3d"
           }
          ],
          "scattercarpet": [
           {
            "marker": {
             "colorbar": {
              "outlinewidth": 0,
              "ticks": ""
             }
            },
            "type": "scattercarpet"
           }
          ],
          "scattergeo": [
           {
            "marker": {
             "colorbar": {
              "outlinewidth": 0,
              "ticks": ""
             }
            },
            "type": "scattergeo"
           }
          ],
          "scattergl": [
           {
            "marker": {
             "colorbar": {
              "outlinewidth": 0,
              "ticks": ""
             }
            },
            "type": "scattergl"
           }
          ],
          "scattermapbox": [
           {
            "marker": {
             "colorbar": {
              "outlinewidth": 0,
              "ticks": ""
             }
            },
            "type": "scattermapbox"
           }
          ],
          "scatterpolar": [
           {
            "marker": {
             "colorbar": {
              "outlinewidth": 0,
              "ticks": ""
             }
            },
            "type": "scatterpolar"
           }
          ],
          "scatterpolargl": [
           {
            "marker": {
             "colorbar": {
              "outlinewidth": 0,
              "ticks": ""
             }
            },
            "type": "scatterpolargl"
           }
          ],
          "scatterternary": [
           {
            "marker": {
             "colorbar": {
              "outlinewidth": 0,
              "ticks": ""
             }
            },
            "type": "scatterternary"
           }
          ],
          "surface": [
           {
            "colorbar": {
             "outlinewidth": 0,
             "ticks": ""
            },
            "colorscale": [
             [
              0,
              "#0d0887"
             ],
             [
              0.1111111111111111,
              "#46039f"
             ],
             [
              0.2222222222222222,
              "#7201a8"
             ],
             [
              0.3333333333333333,
              "#9c179e"
             ],
             [
              0.4444444444444444,
              "#bd3786"
             ],
             [
              0.5555555555555556,
              "#d8576b"
             ],
             [
              0.6666666666666666,
              "#ed7953"
             ],
             [
              0.7777777777777778,
              "#fb9f3a"
             ],
             [
              0.8888888888888888,
              "#fdca26"
             ],
             [
              1,
              "#f0f921"
             ]
            ],
            "type": "surface"
           }
          ],
          "table": [
           {
            "cells": {
             "fill": {
              "color": "#EBF0F8"
             },
             "line": {
              "color": "white"
             }
            },
            "header": {
             "fill": {
              "color": "#C8D4E3"
             },
             "line": {
              "color": "white"
             }
            },
            "type": "table"
           }
          ]
         },
         "layout": {
          "annotationdefaults": {
           "arrowcolor": "#2a3f5f",
           "arrowhead": 0,
           "arrowwidth": 1
          },
          "autotypenumbers": "strict",
          "coloraxis": {
           "colorbar": {
            "outlinewidth": 0,
            "ticks": ""
           }
          },
          "colorscale": {
           "diverging": [
            [
             0,
             "#8e0152"
            ],
            [
             0.1,
             "#c51b7d"
            ],
            [
             0.2,
             "#de77ae"
            ],
            [
             0.3,
             "#f1b6da"
            ],
            [
             0.4,
             "#fde0ef"
            ],
            [
             0.5,
             "#f7f7f7"
            ],
            [
             0.6,
             "#e6f5d0"
            ],
            [
             0.7,
             "#b8e186"
            ],
            [
             0.8,
             "#7fbc41"
            ],
            [
             0.9,
             "#4d9221"
            ],
            [
             1,
             "#276419"
            ]
           ],
           "sequential": [
            [
             0,
             "#0d0887"
            ],
            [
             0.1111111111111111,
             "#46039f"
            ],
            [
             0.2222222222222222,
             "#7201a8"
            ],
            [
             0.3333333333333333,
             "#9c179e"
            ],
            [
             0.4444444444444444,
             "#bd3786"
            ],
            [
             0.5555555555555556,
             "#d8576b"
            ],
            [
             0.6666666666666666,
             "#ed7953"
            ],
            [
             0.7777777777777778,
             "#fb9f3a"
            ],
            [
             0.8888888888888888,
             "#fdca26"
            ],
            [
             1,
             "#f0f921"
            ]
           ],
           "sequentialminus": [
            [
             0,
             "#0d0887"
            ],
            [
             0.1111111111111111,
             "#46039f"
            ],
            [
             0.2222222222222222,
             "#7201a8"
            ],
            [
             0.3333333333333333,
             "#9c179e"
            ],
            [
             0.4444444444444444,
             "#bd3786"
            ],
            [
             0.5555555555555556,
             "#d8576b"
            ],
            [
             0.6666666666666666,
             "#ed7953"
            ],
            [
             0.7777777777777778,
             "#fb9f3a"
            ],
            [
             0.8888888888888888,
             "#fdca26"
            ],
            [
             1,
             "#f0f921"
            ]
           ]
          },
          "colorway": [
           "#636efa",
           "#EF553B",
           "#00cc96",
           "#ab63fa",
           "#FFA15A",
           "#19d3f3",
           "#FF6692",
           "#B6E880",
           "#FF97FF",
           "#FECB52"
          ],
          "font": {
           "color": "#2a3f5f"
          },
          "geo": {
           "bgcolor": "white",
           "lakecolor": "white",
           "landcolor": "#E5ECF6",
           "showlakes": true,
           "showland": true,
           "subunitcolor": "white"
          },
          "hoverlabel": {
           "align": "left"
          },
          "hovermode": "closest",
          "mapbox": {
           "style": "light"
          },
          "paper_bgcolor": "white",
          "plot_bgcolor": "#E5ECF6",
          "polar": {
           "angularaxis": {
            "gridcolor": "white",
            "linecolor": "white",
            "ticks": ""
           },
           "bgcolor": "#E5ECF6",
           "radialaxis": {
            "gridcolor": "white",
            "linecolor": "white",
            "ticks": ""
           }
          },
          "scene": {
           "xaxis": {
            "backgroundcolor": "#E5ECF6",
            "gridcolor": "white",
            "gridwidth": 2,
            "linecolor": "white",
            "showbackground": true,
            "ticks": "",
            "zerolinecolor": "white"
           },
           "yaxis": {
            "backgroundcolor": "#E5ECF6",
            "gridcolor": "white",
            "gridwidth": 2,
            "linecolor": "white",
            "showbackground": true,
            "ticks": "",
            "zerolinecolor": "white"
           },
           "zaxis": {
            "backgroundcolor": "#E5ECF6",
            "gridcolor": "white",
            "gridwidth": 2,
            "linecolor": "white",
            "showbackground": true,
            "ticks": "",
            "zerolinecolor": "white"
           }
          },
          "shapedefaults": {
           "line": {
            "color": "#2a3f5f"
           }
          },
          "ternary": {
           "aaxis": {
            "gridcolor": "white",
            "linecolor": "white",
            "ticks": ""
           },
           "baxis": {
            "gridcolor": "white",
            "linecolor": "white",
            "ticks": ""
           },
           "bgcolor": "#E5ECF6",
           "caxis": {
            "gridcolor": "white",
            "linecolor": "white",
            "ticks": ""
           }
          },
          "title": {
           "x": 0.05
          },
          "xaxis": {
           "automargin": true,
           "gridcolor": "white",
           "linecolor": "white",
           "ticks": "",
           "title": {
            "standoff": 15
           },
           "zerolinecolor": "white",
           "zerolinewidth": 2
          },
          "yaxis": {
           "automargin": true,
           "gridcolor": "white",
           "linecolor": "white",
           "ticks": "",
           "title": {
            "standoff": 15
           },
           "zerolinecolor": "white",
           "zerolinewidth": 2
          }
         }
        },
        "xaxis": {
         "anchor": "y",
         "domain": [
          0,
          1
         ],
         "title": {
          "text": "x"
         }
        },
        "yaxis": {
         "anchor": "x",
         "domain": [
          0,
          1
         ],
         "title": {
          "text": "y"
         }
        }
       }
      },
      "text/html": [
       "<div>                            <div id=\"8afcb05f-a1d0-4017-b421-5ea8c9c6a761\" class=\"plotly-graph-div\" style=\"height:525px; width:100%;\"></div>            <script type=\"text/javascript\">                require([\"plotly\"], function(Plotly) {                    window.PLOTLYENV=window.PLOTLYENV || {};                                    if (document.getElementById(\"8afcb05f-a1d0-4017-b421-5ea8c9c6a761\")) {                    Plotly.newPlot(                        \"8afcb05f-a1d0-4017-b421-5ea8c9c6a761\",                        [{\"hovertemplate\":\"x=%{x}<br>y=%{y}<extra></extra>\",\"legendgroup\":\"\",\"marker\":{\"color\":\"#636efa\",\"symbol\":\"circle\"},\"mode\":\"markers\",\"name\":\"\",\"orientation\":\"v\",\"showlegend\":false,\"x\":[-0.40102340448701146,0.12205060136561222,-0.008717900097543696,0.12205060136561222,1.2989671145340156,0.05666635063403426,1.4297356159971715,-0.20487065229227758,1.4297356159971715,0.7105088579498139,1.2335828638024375,0.7105088579498139,0.9066616101445477,-0.7279446581449013,-0.20487065229227758,0.18743485209719019,-0.008717900097543696,-1.8394769205817265,-1.6433241683869926,-1.7087084191185706,-0.5971761566817453,0.31820335356034607,-0.40102340448701146,-1.5779399176554147,-0.07410215082912165,0.51435610575508,1.1681986130708595,-1.054865911802791,-1.316402914729103,1.5605041174603274],\"xaxis\":\"x\",\"y\":[0.06495065444280122,3.4305754755697695,-0.2007565682777489,0.10923519156289292,0.8620723226044517,-0.02361841979738215,1.2163486195651851,-0.8207400879590325,0.6849341741240849,0.5077960256437182,0.8620723226044517,0.3306578771633514,-0.11218749403756553,-1.4407236076403163,-0.6436019394786658,-0.5550328652384824,-0.333610179638024,-1.2635854591599496,-1.1750163849197661,-0.8207400879590325,-0.2893256425179323,-0.02361841979738215,-0.9978782364393993,-0.9978782364393993,0.7735032483642683,0.6849341741240849,0.06495065444280122,-0.5550328652384824,-0.7764555508389409,1.4377713051656436],\"yaxis\":\"y\",\"type\":\"scatter\"},{\"x\":[-0.40102340448701146,0.12205060136561222,-0.008717900097543696,0.12205060136561222,1.2989671145340156,0.05666635063403426,1.4297356159971715,-0.20487065229227758,1.4297356159971715,0.7105088579498139,1.2335828638024375,0.7105088579498139,0.9066616101445477,-0.7279446581449013,-0.20487065229227758,0.18743485209719019,-0.008717900097543696,-1.8394769205817265,-1.6433241683869926,-1.7087084191185706,-0.5971761566817453,0.31820335356034607,-0.40102340448701146,-1.5779399176554147,-0.07410215082912165,0.51435610575508,1.1681986130708595,-1.054865911802791,-1.316402914729103,1.5605041174603274],\"y\":[-0.26369987058587196,0.08025648235222206,-0.005732605882301453,0.08025648235222206,0.8541582764629337,0.037261938234960296,0.9401473646974573,-0.13471623823408674,0.9401473646974573,0.4672073794075779,0.811163732345672,0.4672073794075779,0.5961910117593632,-0.4786725911721808,-0.13471623823408674,0.12325102646948383,-0.005732605882301453,-1.2095798411656307,-1.0805962088138454,-1.123590752931107,-0.3926835029376572,0.2092401147040073,-0.26369987058587196,-1.0376016646965838,-0.04872714999956321,0.3382237470557926,0.7681691882284101,-0.6936453117584895,-0.8656234882275367,1.0261364529319805],\"type\":\"scatter\"}],                        {\"template\":{\"data\":{\"bar\":[{\"error_x\":{\"color\":\"#2a3f5f\"},\"error_y\":{\"color\":\"#2a3f5f\"},\"marker\":{\"line\":{\"color\":\"#E5ECF6\",\"width\":0.5},\"pattern\":{\"fillmode\":\"overlay\",\"size\":10,\"solidity\":0.2}},\"type\":\"bar\"}],\"barpolar\":[{\"marker\":{\"line\":{\"color\":\"#E5ECF6\",\"width\":0.5},\"pattern\":{\"fillmode\":\"overlay\",\"size\":10,\"solidity\":0.2}},\"type\":\"barpolar\"}],\"carpet\":[{\"aaxis\":{\"endlinecolor\":\"#2a3f5f\",\"gridcolor\":\"white\",\"linecolor\":\"white\",\"minorgridcolor\":\"white\",\"startlinecolor\":\"#2a3f5f\"},\"baxis\":{\"endlinecolor\":\"#2a3f5f\",\"gridcolor\":\"white\",\"linecolor\":\"white\",\"minorgridcolor\":\"white\",\"startlinecolor\":\"#2a3f5f\"},\"type\":\"carpet\"}],\"choropleth\":[{\"colorbar\":{\"outlinewidth\":0,\"ticks\":\"\"},\"type\":\"choropleth\"}],\"contour\":[{\"colorbar\":{\"outlinewidth\":0,\"ticks\":\"\"},\"colorscale\":[[0.0,\"#0d0887\"],[0.1111111111111111,\"#46039f\"],[0.2222222222222222,\"#7201a8\"],[0.3333333333333333,\"#9c179e\"],[0.4444444444444444,\"#bd3786\"],[0.5555555555555556,\"#d8576b\"],[0.6666666666666666,\"#ed7953\"],[0.7777777777777778,\"#fb9f3a\"],[0.8888888888888888,\"#fdca26\"],[1.0,\"#f0f921\"]],\"type\":\"contour\"}],\"contourcarpet\":[{\"colorbar\":{\"outlinewidth\":0,\"ticks\":\"\"},\"type\":\"contourcarpet\"}],\"heatmap\":[{\"colorbar\":{\"outlinewidth\":0,\"ticks\":\"\"},\"colorscale\":[[0.0,\"#0d0887\"],[0.1111111111111111,\"#46039f\"],[0.2222222222222222,\"#7201a8\"],[0.3333333333333333,\"#9c179e\"],[0.4444444444444444,\"#bd3786\"],[0.5555555555555556,\"#d8576b\"],[0.6666666666666666,\"#ed7953\"],[0.7777777777777778,\"#fb9f3a\"],[0.8888888888888888,\"#fdca26\"],[1.0,\"#f0f921\"]],\"type\":\"heatmap\"}],\"heatmapgl\":[{\"colorbar\":{\"outlinewidth\":0,\"ticks\":\"\"},\"colorscale\":[[0.0,\"#0d0887\"],[0.1111111111111111,\"#46039f\"],[0.2222222222222222,\"#7201a8\"],[0.3333333333333333,\"#9c179e\"],[0.4444444444444444,\"#bd3786\"],[0.5555555555555556,\"#d8576b\"],[0.6666666666666666,\"#ed7953\"],[0.7777777777777778,\"#fb9f3a\"],[0.8888888888888888,\"#fdca26\"],[1.0,\"#f0f921\"]],\"type\":\"heatmapgl\"}],\"histogram\":[{\"marker\":{\"pattern\":{\"fillmode\":\"overlay\",\"size\":10,\"solidity\":0.2}},\"type\":\"histogram\"}],\"histogram2d\":[{\"colorbar\":{\"outlinewidth\":0,\"ticks\":\"\"},\"colorscale\":[[0.0,\"#0d0887\"],[0.1111111111111111,\"#46039f\"],[0.2222222222222222,\"#7201a8\"],[0.3333333333333333,\"#9c179e\"],[0.4444444444444444,\"#bd3786\"],[0.5555555555555556,\"#d8576b\"],[0.6666666666666666,\"#ed7953\"],[0.7777777777777778,\"#fb9f3a\"],[0.8888888888888888,\"#fdca26\"],[1.0,\"#f0f921\"]],\"type\":\"histogram2d\"}],\"histogram2dcontour\":[{\"colorbar\":{\"outlinewidth\":0,\"ticks\":\"\"},\"colorscale\":[[0.0,\"#0d0887\"],[0.1111111111111111,\"#46039f\"],[0.2222222222222222,\"#7201a8\"],[0.3333333333333333,\"#9c179e\"],[0.4444444444444444,\"#bd3786\"],[0.5555555555555556,\"#d8576b\"],[0.6666666666666666,\"#ed7953\"],[0.7777777777777778,\"#fb9f3a\"],[0.8888888888888888,\"#fdca26\"],[1.0,\"#f0f921\"]],\"type\":\"histogram2dcontour\"}],\"mesh3d\":[{\"colorbar\":{\"outlinewidth\":0,\"ticks\":\"\"},\"type\":\"mesh3d\"}],\"parcoords\":[{\"line\":{\"colorbar\":{\"outlinewidth\":0,\"ticks\":\"\"}},\"type\":\"parcoords\"}],\"pie\":[{\"automargin\":true,\"type\":\"pie\"}],\"scatter\":[{\"marker\":{\"colorbar\":{\"outlinewidth\":0,\"ticks\":\"\"}},\"type\":\"scatter\"}],\"scatter3d\":[{\"line\":{\"colorbar\":{\"outlinewidth\":0,\"ticks\":\"\"}},\"marker\":{\"colorbar\":{\"outlinewidth\":0,\"ticks\":\"\"}},\"type\":\"scatter3d\"}],\"scattercarpet\":[{\"marker\":{\"colorbar\":{\"outlinewidth\":0,\"ticks\":\"\"}},\"type\":\"scattercarpet\"}],\"scattergeo\":[{\"marker\":{\"colorbar\":{\"outlinewidth\":0,\"ticks\":\"\"}},\"type\":\"scattergeo\"}],\"scattergl\":[{\"marker\":{\"colorbar\":{\"outlinewidth\":0,\"ticks\":\"\"}},\"type\":\"scattergl\"}],\"scattermapbox\":[{\"marker\":{\"colorbar\":{\"outlinewidth\":0,\"ticks\":\"\"}},\"type\":\"scattermapbox\"}],\"scatterpolar\":[{\"marker\":{\"colorbar\":{\"outlinewidth\":0,\"ticks\":\"\"}},\"type\":\"scatterpolar\"}],\"scatterpolargl\":[{\"marker\":{\"colorbar\":{\"outlinewidth\":0,\"ticks\":\"\"}},\"type\":\"scatterpolargl\"}],\"scatterternary\":[{\"marker\":{\"colorbar\":{\"outlinewidth\":0,\"ticks\":\"\"}},\"type\":\"scatterternary\"}],\"surface\":[{\"colorbar\":{\"outlinewidth\":0,\"ticks\":\"\"},\"colorscale\":[[0.0,\"#0d0887\"],[0.1111111111111111,\"#46039f\"],[0.2222222222222222,\"#7201a8\"],[0.3333333333333333,\"#9c179e\"],[0.4444444444444444,\"#bd3786\"],[0.5555555555555556,\"#d8576b\"],[0.6666666666666666,\"#ed7953\"],[0.7777777777777778,\"#fb9f3a\"],[0.8888888888888888,\"#fdca26\"],[1.0,\"#f0f921\"]],\"type\":\"surface\"}],\"table\":[{\"cells\":{\"fill\":{\"color\":\"#EBF0F8\"},\"line\":{\"color\":\"white\"}},\"header\":{\"fill\":{\"color\":\"#C8D4E3\"},\"line\":{\"color\":\"white\"}},\"type\":\"table\"}]},\"layout\":{\"annotationdefaults\":{\"arrowcolor\":\"#2a3f5f\",\"arrowhead\":0,\"arrowwidth\":1},\"autotypenumbers\":\"strict\",\"coloraxis\":{\"colorbar\":{\"outlinewidth\":0,\"ticks\":\"\"}},\"colorscale\":{\"diverging\":[[0,\"#8e0152\"],[0.1,\"#c51b7d\"],[0.2,\"#de77ae\"],[0.3,\"#f1b6da\"],[0.4,\"#fde0ef\"],[0.5,\"#f7f7f7\"],[0.6,\"#e6f5d0\"],[0.7,\"#b8e186\"],[0.8,\"#7fbc41\"],[0.9,\"#4d9221\"],[1,\"#276419\"]],\"sequential\":[[0.0,\"#0d0887\"],[0.1111111111111111,\"#46039f\"],[0.2222222222222222,\"#7201a8\"],[0.3333333333333333,\"#9c179e\"],[0.4444444444444444,\"#bd3786\"],[0.5555555555555556,\"#d8576b\"],[0.6666666666666666,\"#ed7953\"],[0.7777777777777778,\"#fb9f3a\"],[0.8888888888888888,\"#fdca26\"],[1.0,\"#f0f921\"]],\"sequentialminus\":[[0.0,\"#0d0887\"],[0.1111111111111111,\"#46039f\"],[0.2222222222222222,\"#7201a8\"],[0.3333333333333333,\"#9c179e\"],[0.4444444444444444,\"#bd3786\"],[0.5555555555555556,\"#d8576b\"],[0.6666666666666666,\"#ed7953\"],[0.7777777777777778,\"#fb9f3a\"],[0.8888888888888888,\"#fdca26\"],[1.0,\"#f0f921\"]]},\"colorway\":[\"#636efa\",\"#EF553B\",\"#00cc96\",\"#ab63fa\",\"#FFA15A\",\"#19d3f3\",\"#FF6692\",\"#B6E880\",\"#FF97FF\",\"#FECB52\"],\"font\":{\"color\":\"#2a3f5f\"},\"geo\":{\"bgcolor\":\"white\",\"lakecolor\":\"white\",\"landcolor\":\"#E5ECF6\",\"showlakes\":true,\"showland\":true,\"subunitcolor\":\"white\"},\"hoverlabel\":{\"align\":\"left\"},\"hovermode\":\"closest\",\"mapbox\":{\"style\":\"light\"},\"paper_bgcolor\":\"white\",\"plot_bgcolor\":\"#E5ECF6\",\"polar\":{\"angularaxis\":{\"gridcolor\":\"white\",\"linecolor\":\"white\",\"ticks\":\"\"},\"bgcolor\":\"#E5ECF6\",\"radialaxis\":{\"gridcolor\":\"white\",\"linecolor\":\"white\",\"ticks\":\"\"}},\"scene\":{\"xaxis\":{\"backgroundcolor\":\"#E5ECF6\",\"gridcolor\":\"white\",\"gridwidth\":2,\"linecolor\":\"white\",\"showbackground\":true,\"ticks\":\"\",\"zerolinecolor\":\"white\"},\"yaxis\":{\"backgroundcolor\":\"#E5ECF6\",\"gridcolor\":\"white\",\"gridwidth\":2,\"linecolor\":\"white\",\"showbackground\":true,\"ticks\":\"\",\"zerolinecolor\":\"white\"},\"zaxis\":{\"backgroundcolor\":\"#E5ECF6\",\"gridcolor\":\"white\",\"gridwidth\":2,\"linecolor\":\"white\",\"showbackground\":true,\"ticks\":\"\",\"zerolinecolor\":\"white\"}},\"shapedefaults\":{\"line\":{\"color\":\"#2a3f5f\"}},\"ternary\":{\"aaxis\":{\"gridcolor\":\"white\",\"linecolor\":\"white\",\"ticks\":\"\"},\"baxis\":{\"gridcolor\":\"white\",\"linecolor\":\"white\",\"ticks\":\"\"},\"bgcolor\":\"#E5ECF6\",\"caxis\":{\"gridcolor\":\"white\",\"linecolor\":\"white\",\"ticks\":\"\"}},\"title\":{\"x\":0.05},\"xaxis\":{\"automargin\":true,\"gridcolor\":\"white\",\"linecolor\":\"white\",\"ticks\":\"\",\"title\":{\"standoff\":15},\"zerolinecolor\":\"white\",\"zerolinewidth\":2},\"yaxis\":{\"automargin\":true,\"gridcolor\":\"white\",\"linecolor\":\"white\",\"ticks\":\"\",\"title\":{\"standoff\":15},\"zerolinecolor\":\"white\",\"zerolinewidth\":2}}},\"xaxis\":{\"anchor\":\"y\",\"domain\":[0.0,1.0],\"title\":{\"text\":\"x\"}},\"yaxis\":{\"anchor\":\"x\",\"domain\":[0.0,1.0],\"title\":{\"text\":\"y\"}},\"legend\":{\"tracegroupgap\":0},\"margin\":{\"t\":60}},                        {\"responsive\": true}                    ).then(function(){\n",
       "                            \n",
       "var gd = document.getElementById('8afcb05f-a1d0-4017-b421-5ea8c9c6a761');\n",
       "var x = new MutationObserver(function (mutations, observer) {{\n",
       "        var display = window.getComputedStyle(gd).display;\n",
       "        if (!display || display === 'none') {{\n",
       "            console.log([gd, 'removed!']);\n",
       "            Plotly.purge(gd);\n",
       "            observer.disconnect();\n",
       "        }}\n",
       "}});\n",
       "\n",
       "// Listen for the removal of the full notebook cells\n",
       "var notebookContainer = gd.closest('#notebook-container');\n",
       "if (notebookContainer) {{\n",
       "    x.observe(notebookContainer, {childList: true});\n",
       "}}\n",
       "\n",
       "// Listen for the clearing of the current output cell\n",
       "var outputEl = gd.closest('.output');\n",
       "if (outputEl) {{\n",
       "    x.observe(outputEl, {childList: true});\n",
       "}}\n",
       "\n",
       "                        })                };                });            </script>        </div>"
      ]
     },
     "metadata": {},
     "output_type": "display_data"
    }
   ],
   "source": [
    "fig = px.scatter(x=X[:, 0], y=y[:, 0])\n",
    "\n",
    "fig.add_trace(\n",
    "    go.Scatter(x=X[:, 0], y=predict_ols[:, 0])\n",
    ")"
   ]
  },
  {
   "cell_type": "code",
   "execution_count": null,
   "metadata": {},
   "outputs": [],
   "source": []
  }
 ],
 "metadata": {
  "kernelspec": {
   "display_name": "Python 3 (ipykernel)",
   "language": "python",
   "name": "python3"
  },
  "language_info": {
   "codemirror_mode": {
    "name": "ipython",
    "version": 3
   },
   "file_extension": ".py",
   "mimetype": "text/x-python",
   "name": "python",
   "nbconvert_exporter": "python",
   "pygments_lexer": "ipython3",
   "version": "3.10.4"
  }
 },
 "nbformat": 4,
 "nbformat_minor": 1
}